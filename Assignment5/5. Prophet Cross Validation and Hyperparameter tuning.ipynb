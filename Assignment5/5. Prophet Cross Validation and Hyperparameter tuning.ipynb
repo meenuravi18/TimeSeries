{
 "cells": [
  {
   "cell_type": "code",
   "execution_count": 1,
   "metadata": {},
   "outputs": [],
   "source": [
    "import pandas as pd\n",
    "from matplotlib.pyplot import figure\n",
    "import warnings\n",
    "warnings.filterwarnings('ignore')\n",
    "from fbprophet import Prophet\n",
    "from fbprophet.diagnostics import cross_validation\n",
    "from util_prophet import *"
   ]
  },
  {
   "cell_type": "code",
   "execution_count": 2,
   "metadata": {},
   "outputs": [
    {
     "data": {
      "text/html": [
       "<div>\n",
       "<style scoped>\n",
       "    .dataframe tbody tr th:only-of-type {\n",
       "        vertical-align: middle;\n",
       "    }\n",
       "\n",
       "    .dataframe tbody tr th {\n",
       "        vertical-align: top;\n",
       "    }\n",
       "\n",
       "    .dataframe thead th {\n",
       "        text-align: right;\n",
       "    }\n",
       "</style>\n",
       "<table border=\"1\" class=\"dataframe\">\n",
       "  <thead>\n",
       "    <tr style=\"text-align: right;\">\n",
       "      <th></th>\n",
       "      <th>ds</th>\n",
       "      <th>co2</th>\n",
       "      <th>y</th>\n",
       "    </tr>\n",
       "  </thead>\n",
       "  <tbody>\n",
       "    <tr>\n",
       "      <th>0</th>\n",
       "      <td>1958-03-15</td>\n",
       "      <td>315.700</td>\n",
       "      <td>315.700</td>\n",
       "    </tr>\n",
       "    <tr>\n",
       "      <th>1</th>\n",
       "      <td>1958-04-15</td>\n",
       "      <td>317.450</td>\n",
       "      <td>317.450</td>\n",
       "    </tr>\n",
       "    <tr>\n",
       "      <th>2</th>\n",
       "      <td>1958-05-15</td>\n",
       "      <td>317.510</td>\n",
       "      <td>317.510</td>\n",
       "    </tr>\n",
       "    <tr>\n",
       "      <th>3</th>\n",
       "      <td>1958-06-15</td>\n",
       "      <td>316.685</td>\n",
       "      <td>316.685</td>\n",
       "    </tr>\n",
       "    <tr>\n",
       "      <th>4</th>\n",
       "      <td>1958-07-15</td>\n",
       "      <td>315.860</td>\n",
       "      <td>315.860</td>\n",
       "    </tr>\n",
       "  </tbody>\n",
       "</table>\n",
       "</div>"
      ],
      "text/plain": [
       "           ds      co2        y\n",
       "0  1958-03-15  315.700  315.700\n",
       "1  1958-04-15  317.450  317.450\n",
       "2  1958-05-15  317.510  317.510\n",
       "3  1958-06-15  316.685  316.685\n",
       "4  1958-07-15  315.860  315.860"
      ]
     },
     "execution_count": 2,
     "metadata": {},
     "output_type": "execute_result"
    }
   ],
   "source": [
    "df = pd.read_csv('hw5_data_co2.csv')\n",
    "df['y'] = df['co2']\n",
    "df.head()\n"
   ]
  },
  {
   "cell_type": "code",
   "execution_count": 3,
   "metadata": {},
   "outputs": [],
   "source": [
    "train = df.iloc[:int(len(df)*0.8)]\n",
    "test = df.iloc[int(len(df)*0.8):]"
   ]
  },
  {
   "cell_type": "code",
   "execution_count": 4,
   "metadata": {},
   "outputs": [
    {
     "name": "stderr",
     "output_type": "stream",
     "text": [
      "INFO:fbprophet:Disabling weekly seasonality. Run prophet with weekly_seasonality=True to override this.\n",
      "INFO:fbprophet:Disabling daily seasonality. Run prophet with daily_seasonality=True to override this.\n"
     ]
    },
    {
     "data": {
      "text/plain": [
       "<fbprophet.forecaster.Prophet at 0x24b74ad2fc8>"
      ]
     },
     "execution_count": 4,
     "metadata": {},
     "output_type": "execute_result"
    }
   ],
   "source": [
    "model = Prophet()\n",
    "model.fit(train)"
   ]
  },
  {
   "cell_type": "code",
   "execution_count": 5,
   "metadata": {},
   "outputs": [
    {
     "data": {
      "text/html": [
       "<div>\n",
       "<style scoped>\n",
       "    .dataframe tbody tr th:only-of-type {\n",
       "        vertical-align: middle;\n",
       "    }\n",
       "\n",
       "    .dataframe tbody tr th {\n",
       "        vertical-align: top;\n",
       "    }\n",
       "\n",
       "    .dataframe thead th {\n",
       "        text-align: right;\n",
       "    }\n",
       "</style>\n",
       "<table border=\"1\" class=\"dataframe\">\n",
       "  <thead>\n",
       "    <tr style=\"text-align: right;\">\n",
       "      <th></th>\n",
       "      <th>ds</th>\n",
       "      <th>co2</th>\n",
       "      <th>y</th>\n",
       "    </tr>\n",
       "  </thead>\n",
       "  <tbody>\n",
       "    <tr>\n",
       "      <th>0</th>\n",
       "      <td>1958-03-15</td>\n",
       "      <td>315.700</td>\n",
       "      <td>315.700</td>\n",
       "    </tr>\n",
       "    <tr>\n",
       "      <th>1</th>\n",
       "      <td>1958-04-15</td>\n",
       "      <td>317.450</td>\n",
       "      <td>317.450</td>\n",
       "    </tr>\n",
       "    <tr>\n",
       "      <th>2</th>\n",
       "      <td>1958-05-15</td>\n",
       "      <td>317.510</td>\n",
       "      <td>317.510</td>\n",
       "    </tr>\n",
       "    <tr>\n",
       "      <th>3</th>\n",
       "      <td>1958-06-15</td>\n",
       "      <td>316.685</td>\n",
       "      <td>316.685</td>\n",
       "    </tr>\n",
       "    <tr>\n",
       "      <th>4</th>\n",
       "      <td>1958-07-15</td>\n",
       "      <td>315.860</td>\n",
       "      <td>315.860</td>\n",
       "    </tr>\n",
       "    <tr>\n",
       "      <th>...</th>\n",
       "      <td>...</td>\n",
       "      <td>...</td>\n",
       "      <td>...</td>\n",
       "    </tr>\n",
       "    <tr>\n",
       "      <th>583</th>\n",
       "      <td>2006-10-15</td>\n",
       "      <td>379.060</td>\n",
       "      <td>379.060</td>\n",
       "    </tr>\n",
       "    <tr>\n",
       "      <th>584</th>\n",
       "      <td>2006-11-15</td>\n",
       "      <td>380.140</td>\n",
       "      <td>380.140</td>\n",
       "    </tr>\n",
       "    <tr>\n",
       "      <th>585</th>\n",
       "      <td>2006-12-15</td>\n",
       "      <td>381.660</td>\n",
       "      <td>381.660</td>\n",
       "    </tr>\n",
       "    <tr>\n",
       "      <th>586</th>\n",
       "      <td>2007-01-15</td>\n",
       "      <td>382.580</td>\n",
       "      <td>382.580</td>\n",
       "    </tr>\n",
       "    <tr>\n",
       "      <th>587</th>\n",
       "      <td>2007-02-15</td>\n",
       "      <td>383.710</td>\n",
       "      <td>383.710</td>\n",
       "    </tr>\n",
       "  </tbody>\n",
       "</table>\n",
       "<p>588 rows × 3 columns</p>\n",
       "</div>"
      ],
      "text/plain": [
       "             ds      co2        y\n",
       "0    1958-03-15  315.700  315.700\n",
       "1    1958-04-15  317.450  317.450\n",
       "2    1958-05-15  317.510  317.510\n",
       "3    1958-06-15  316.685  316.685\n",
       "4    1958-07-15  315.860  315.860\n",
       "..          ...      ...      ...\n",
       "583  2006-10-15  379.060  379.060\n",
       "584  2006-11-15  380.140  380.140\n",
       "585  2006-12-15  381.660  381.660\n",
       "586  2007-01-15  382.580  382.580\n",
       "587  2007-02-15  383.710  383.710\n",
       "\n",
       "[588 rows x 3 columns]"
      ]
     },
     "execution_count": 5,
     "metadata": {},
     "output_type": "execute_result"
    }
   ],
   "source": [
    "train"
   ]
  },
  {
   "cell_type": "markdown",
   "metadata": {},
   "source": [
    "## Arguments for cross_validation\n",
    " - horizon: forecast horizon\n",
    " - initial: initial training period\n",
    " - period: spacing between cutoff dates"
   ]
  },
  {
   "cell_type": "code",
   "execution_count": 6,
   "metadata": {},
   "outputs": [
    {
     "name": "stderr",
     "output_type": "stream",
     "text": [
      "INFO:fbprophet:Making 10 forecasts with cutoffs between 1961-02-26 00:00:00 and 2006-02-15 00:00:00\n"
     ]
    },
    {
     "data": {
      "application/vnd.jupyter.widget-view+json": {
       "model_id": "5c37a1fef9254415af479b47186f9539",
       "version_major": 2,
       "version_minor": 0
      },
      "text/plain": [
       "  0%|          | 0/10 [00:00<?, ?it/s]"
      ]
     },
     "metadata": {},
     "output_type": "display_data"
    }
   ],
   "source": [
    "df_cv = cross_validation(model, initial='730 days', period='1825 days', horizon = '365 days')"
   ]
  },
  {
   "cell_type": "code",
   "execution_count": 7,
   "metadata": {},
   "outputs": [
    {
     "data": {
      "text/html": [
       "<div>\n",
       "<style scoped>\n",
       "    .dataframe tbody tr th:only-of-type {\n",
       "        vertical-align: middle;\n",
       "    }\n",
       "\n",
       "    .dataframe tbody tr th {\n",
       "        vertical-align: top;\n",
       "    }\n",
       "\n",
       "    .dataframe thead th {\n",
       "        text-align: right;\n",
       "    }\n",
       "</style>\n",
       "<table border=\"1\" class=\"dataframe\">\n",
       "  <thead>\n",
       "    <tr style=\"text-align: right;\">\n",
       "      <th></th>\n",
       "      <th>ds</th>\n",
       "      <th>yhat</th>\n",
       "      <th>yhat_lower</th>\n",
       "      <th>yhat_upper</th>\n",
       "      <th>y</th>\n",
       "      <th>cutoff</th>\n",
       "    </tr>\n",
       "  </thead>\n",
       "  <tbody>\n",
       "    <tr>\n",
       "      <th>0</th>\n",
       "      <td>1961-03-15</td>\n",
       "      <td>316.976720</td>\n",
       "      <td>316.669512</td>\n",
       "      <td>317.298964</td>\n",
       "      <td>318.54</td>\n",
       "      <td>1961-02-26</td>\n",
       "    </tr>\n",
       "    <tr>\n",
       "      <th>1</th>\n",
       "      <td>1961-04-15</td>\n",
       "      <td>318.091097</td>\n",
       "      <td>316.787238</td>\n",
       "      <td>319.558145</td>\n",
       "      <td>319.48</td>\n",
       "      <td>1961-02-26</td>\n",
       "    </tr>\n",
       "    <tr>\n",
       "      <th>2</th>\n",
       "      <td>1961-05-15</td>\n",
       "      <td>318.288040</td>\n",
       "      <td>315.756816</td>\n",
       "      <td>321.062696</td>\n",
       "      <td>320.58</td>\n",
       "      <td>1961-02-26</td>\n",
       "    </tr>\n",
       "    <tr>\n",
       "      <th>3</th>\n",
       "      <td>1961-06-15</td>\n",
       "      <td>317.346157</td>\n",
       "      <td>312.898589</td>\n",
       "      <td>321.826686</td>\n",
       "      <td>319.77</td>\n",
       "      <td>1961-02-26</td>\n",
       "    </tr>\n",
       "    <tr>\n",
       "      <th>4</th>\n",
       "      <td>1961-07-15</td>\n",
       "      <td>315.637509</td>\n",
       "      <td>309.171475</td>\n",
       "      <td>322.177156</td>\n",
       "      <td>318.57</td>\n",
       "      <td>1961-02-26</td>\n",
       "    </tr>\n",
       "    <tr>\n",
       "      <th>5</th>\n",
       "      <td>1961-08-15</td>\n",
       "      <td>313.390152</td>\n",
       "      <td>304.524548</td>\n",
       "      <td>322.116095</td>\n",
       "      <td>316.79</td>\n",
       "      <td>1961-02-26</td>\n",
       "    </tr>\n",
       "    <tr>\n",
       "      <th>6</th>\n",
       "      <td>1961-09-15</td>\n",
       "      <td>311.349017</td>\n",
       "      <td>299.938004</td>\n",
       "      <td>322.288606</td>\n",
       "      <td>314.99</td>\n",
       "      <td>1961-02-26</td>\n",
       "    </tr>\n",
       "    <tr>\n",
       "      <th>7</th>\n",
       "      <td>1961-10-15</td>\n",
       "      <td>311.725439</td>\n",
       "      <td>297.743151</td>\n",
       "      <td>325.068179</td>\n",
       "      <td>315.31</td>\n",
       "      <td>1961-02-26</td>\n",
       "    </tr>\n",
       "    <tr>\n",
       "      <th>8</th>\n",
       "      <td>1961-11-15</td>\n",
       "      <td>312.882048</td>\n",
       "      <td>296.112138</td>\n",
       "      <td>328.999864</td>\n",
       "      <td>316.10</td>\n",
       "      <td>1961-02-26</td>\n",
       "    </tr>\n",
       "    <tr>\n",
       "      <th>9</th>\n",
       "      <td>1961-12-15</td>\n",
       "      <td>313.812666</td>\n",
       "      <td>294.217253</td>\n",
       "      <td>332.767476</td>\n",
       "      <td>317.01</td>\n",
       "      <td>1961-02-26</td>\n",
       "    </tr>\n",
       "    <tr>\n",
       "      <th>10</th>\n",
       "      <td>1962-01-15</td>\n",
       "      <td>314.322514</td>\n",
       "      <td>291.717483</td>\n",
       "      <td>336.411175</td>\n",
       "      <td>317.94</td>\n",
       "      <td>1961-02-26</td>\n",
       "    </tr>\n",
       "    <tr>\n",
       "      <th>11</th>\n",
       "      <td>1962-02-15</td>\n",
       "      <td>314.892471</td>\n",
       "      <td>289.002459</td>\n",
       "      <td>339.902863</td>\n",
       "      <td>318.55</td>\n",
       "      <td>1961-02-26</td>\n",
       "    </tr>\n",
       "    <tr>\n",
       "      <th>12</th>\n",
       "      <td>1966-03-15</td>\n",
       "      <td>321.680383</td>\n",
       "      <td>321.415465</td>\n",
       "      <td>321.954604</td>\n",
       "      <td>322.39</td>\n",
       "      <td>1966-02-25</td>\n",
       "    </tr>\n",
       "    <tr>\n",
       "      <th>13</th>\n",
       "      <td>1966-04-15</td>\n",
       "      <td>322.943501</td>\n",
       "      <td>322.650867</td>\n",
       "      <td>323.237518</td>\n",
       "      <td>323.70</td>\n",
       "      <td>1966-02-25</td>\n",
       "    </tr>\n",
       "    <tr>\n",
       "      <th>14</th>\n",
       "      <td>1966-05-15</td>\n",
       "      <td>323.527390</td>\n",
       "      <td>323.200635</td>\n",
       "      <td>323.851187</td>\n",
       "      <td>324.08</td>\n",
       "      <td>1966-02-25</td>\n",
       "    </tr>\n",
       "  </tbody>\n",
       "</table>\n",
       "</div>"
      ],
      "text/plain": [
       "           ds        yhat  yhat_lower  yhat_upper       y     cutoff\n",
       "0  1961-03-15  316.976720  316.669512  317.298964  318.54 1961-02-26\n",
       "1  1961-04-15  318.091097  316.787238  319.558145  319.48 1961-02-26\n",
       "2  1961-05-15  318.288040  315.756816  321.062696  320.58 1961-02-26\n",
       "3  1961-06-15  317.346157  312.898589  321.826686  319.77 1961-02-26\n",
       "4  1961-07-15  315.637509  309.171475  322.177156  318.57 1961-02-26\n",
       "5  1961-08-15  313.390152  304.524548  322.116095  316.79 1961-02-26\n",
       "6  1961-09-15  311.349017  299.938004  322.288606  314.99 1961-02-26\n",
       "7  1961-10-15  311.725439  297.743151  325.068179  315.31 1961-02-26\n",
       "8  1961-11-15  312.882048  296.112138  328.999864  316.10 1961-02-26\n",
       "9  1961-12-15  313.812666  294.217253  332.767476  317.01 1961-02-26\n",
       "10 1962-01-15  314.322514  291.717483  336.411175  317.94 1961-02-26\n",
       "11 1962-02-15  314.892471  289.002459  339.902863  318.55 1961-02-26\n",
       "12 1966-03-15  321.680383  321.415465  321.954604  322.39 1966-02-25\n",
       "13 1966-04-15  322.943501  322.650867  323.237518  323.70 1966-02-25\n",
       "14 1966-05-15  323.527390  323.200635  323.851187  324.08 1966-02-25"
      ]
     },
     "execution_count": 7,
     "metadata": {},
     "output_type": "execute_result"
    }
   ],
   "source": [
    "df_cv.head(15)"
   ]
  },
  {
   "cell_type": "markdown",
   "metadata": {},
   "source": [
    "## Specifying our own cutoffs"
   ]
  },
  {
   "cell_type": "code",
   "execution_count": 8,
   "metadata": {},
   "outputs": [
    {
     "data": {
      "application/vnd.jupyter.widget-view+json": {
       "model_id": "9b0fa822fbac4e369f42097afc9d7320",
       "version_major": 2,
       "version_minor": 0
      },
      "text/plain": [
       "  0%|          | 0/3 [00:00<?, ?it/s]"
      ]
     },
     "metadata": {},
     "output_type": "display_data"
    }
   ],
   "source": [
    "cutoffs = pd.to_datetime(['1975-02-15', '1985-02-15', '1995-02-15'])\n",
    "df_cv2 = cross_validation(model, cutoffs=cutoffs, horizon='365 days')"
   ]
  },
  {
   "cell_type": "code",
   "execution_count": 9,
   "metadata": {},
   "outputs": [
    {
     "data": {
      "text/plain": [
       "DatetimeIndex(['1975-02-15', '1985-02-15', '1995-02-15'], dtype='datetime64[ns]', freq=None)"
      ]
     },
     "execution_count": 9,
     "metadata": {},
     "output_type": "execute_result"
    }
   ],
   "source": [
    "cutoffs"
   ]
  },
  {
   "cell_type": "code",
   "execution_count": 10,
   "metadata": {},
   "outputs": [
    {
     "data": {
      "text/html": [
       "<div>\n",
       "<style scoped>\n",
       "    .dataframe tbody tr th:only-of-type {\n",
       "        vertical-align: middle;\n",
       "    }\n",
       "\n",
       "    .dataframe tbody tr th {\n",
       "        vertical-align: top;\n",
       "    }\n",
       "\n",
       "    .dataframe thead th {\n",
       "        text-align: right;\n",
       "    }\n",
       "</style>\n",
       "<table border=\"1\" class=\"dataframe\">\n",
       "  <thead>\n",
       "    <tr style=\"text-align: right;\">\n",
       "      <th></th>\n",
       "      <th>ds</th>\n",
       "      <th>co2</th>\n",
       "      <th>y</th>\n",
       "    </tr>\n",
       "  </thead>\n",
       "  <tbody>\n",
       "    <tr>\n",
       "      <th>0</th>\n",
       "      <td>1958-03-15</td>\n",
       "      <td>315.700</td>\n",
       "      <td>315.700</td>\n",
       "    </tr>\n",
       "    <tr>\n",
       "      <th>1</th>\n",
       "      <td>1958-04-15</td>\n",
       "      <td>317.450</td>\n",
       "      <td>317.450</td>\n",
       "    </tr>\n",
       "    <tr>\n",
       "      <th>2</th>\n",
       "      <td>1958-05-15</td>\n",
       "      <td>317.510</td>\n",
       "      <td>317.510</td>\n",
       "    </tr>\n",
       "    <tr>\n",
       "      <th>3</th>\n",
       "      <td>1958-06-15</td>\n",
       "      <td>316.685</td>\n",
       "      <td>316.685</td>\n",
       "    </tr>\n",
       "    <tr>\n",
       "      <th>4</th>\n",
       "      <td>1958-07-15</td>\n",
       "      <td>315.860</td>\n",
       "      <td>315.860</td>\n",
       "    </tr>\n",
       "    <tr>\n",
       "      <th>...</th>\n",
       "      <td>...</td>\n",
       "      <td>...</td>\n",
       "      <td>...</td>\n",
       "    </tr>\n",
       "    <tr>\n",
       "      <th>583</th>\n",
       "      <td>2006-10-15</td>\n",
       "      <td>379.060</td>\n",
       "      <td>379.060</td>\n",
       "    </tr>\n",
       "    <tr>\n",
       "      <th>584</th>\n",
       "      <td>2006-11-15</td>\n",
       "      <td>380.140</td>\n",
       "      <td>380.140</td>\n",
       "    </tr>\n",
       "    <tr>\n",
       "      <th>585</th>\n",
       "      <td>2006-12-15</td>\n",
       "      <td>381.660</td>\n",
       "      <td>381.660</td>\n",
       "    </tr>\n",
       "    <tr>\n",
       "      <th>586</th>\n",
       "      <td>2007-01-15</td>\n",
       "      <td>382.580</td>\n",
       "      <td>382.580</td>\n",
       "    </tr>\n",
       "    <tr>\n",
       "      <th>587</th>\n",
       "      <td>2007-02-15</td>\n",
       "      <td>383.710</td>\n",
       "      <td>383.710</td>\n",
       "    </tr>\n",
       "  </tbody>\n",
       "</table>\n",
       "<p>588 rows × 3 columns</p>\n",
       "</div>"
      ],
      "text/plain": [
       "             ds      co2        y\n",
       "0    1958-03-15  315.700  315.700\n",
       "1    1958-04-15  317.450  317.450\n",
       "2    1958-05-15  317.510  317.510\n",
       "3    1958-06-15  316.685  316.685\n",
       "4    1958-07-15  315.860  315.860\n",
       "..          ...      ...      ...\n",
       "583  2006-10-15  379.060  379.060\n",
       "584  2006-11-15  380.140  380.140\n",
       "585  2006-12-15  381.660  381.660\n",
       "586  2007-01-15  382.580  382.580\n",
       "587  2007-02-15  383.710  383.710\n",
       "\n",
       "[588 rows x 3 columns]"
      ]
     },
     "execution_count": 10,
     "metadata": {},
     "output_type": "execute_result"
    }
   ],
   "source": [
    "train"
   ]
  },
  {
   "cell_type": "code",
   "execution_count": 11,
   "metadata": {},
   "outputs": [
    {
     "data": {
      "text/html": [
       "<div>\n",
       "<style scoped>\n",
       "    .dataframe tbody tr th:only-of-type {\n",
       "        vertical-align: middle;\n",
       "    }\n",
       "\n",
       "    .dataframe tbody tr th {\n",
       "        vertical-align: top;\n",
       "    }\n",
       "\n",
       "    .dataframe thead th {\n",
       "        text-align: right;\n",
       "    }\n",
       "</style>\n",
       "<table border=\"1\" class=\"dataframe\">\n",
       "  <thead>\n",
       "    <tr style=\"text-align: right;\">\n",
       "      <th></th>\n",
       "      <th>ds</th>\n",
       "      <th>yhat</th>\n",
       "      <th>yhat_lower</th>\n",
       "      <th>yhat_upper</th>\n",
       "      <th>y</th>\n",
       "      <th>cutoff</th>\n",
       "    </tr>\n",
       "  </thead>\n",
       "  <tbody>\n",
       "    <tr>\n",
       "      <th>10</th>\n",
       "      <td>1976-01-15</td>\n",
       "      <td>332.444366</td>\n",
       "      <td>331.851625</td>\n",
       "      <td>332.966295</td>\n",
       "      <td>331.75</td>\n",
       "      <td>1975-02-15</td>\n",
       "    </tr>\n",
       "    <tr>\n",
       "      <th>11</th>\n",
       "      <td>1976-02-15</td>\n",
       "      <td>333.104887</td>\n",
       "      <td>332.500771</td>\n",
       "      <td>333.654063</td>\n",
       "      <td>332.56</td>\n",
       "      <td>1975-02-15</td>\n",
       "    </tr>\n",
       "    <tr>\n",
       "      <th>12</th>\n",
       "      <td>1985-03-15</td>\n",
       "      <td>346.624748</td>\n",
       "      <td>346.250876</td>\n",
       "      <td>347.017107</td>\n",
       "      <td>347.42</td>\n",
       "      <td>1985-02-15</td>\n",
       "    </tr>\n",
       "    <tr>\n",
       "      <th>13</th>\n",
       "      <td>1985-04-15</td>\n",
       "      <td>347.845945</td>\n",
       "      <td>347.475443</td>\n",
       "      <td>348.245370</td>\n",
       "      <td>348.35</td>\n",
       "      <td>1985-02-15</td>\n",
       "    </tr>\n",
       "    <tr>\n",
       "      <th>14</th>\n",
       "      <td>1985-05-15</td>\n",
       "      <td>348.416119</td>\n",
       "      <td>348.034232</td>\n",
       "      <td>348.782485</td>\n",
       "      <td>348.93</td>\n",
       "      <td>1985-02-15</td>\n",
       "    </tr>\n",
       "  </tbody>\n",
       "</table>\n",
       "</div>"
      ],
      "text/plain": [
       "           ds        yhat  yhat_lower  yhat_upper       y     cutoff\n",
       "10 1976-01-15  332.444366  331.851625  332.966295  331.75 1975-02-15\n",
       "11 1976-02-15  333.104887  332.500771  333.654063  332.56 1975-02-15\n",
       "12 1985-03-15  346.624748  346.250876  347.017107  347.42 1985-02-15\n",
       "13 1985-04-15  347.845945  347.475443  348.245370  348.35 1985-02-15\n",
       "14 1985-05-15  348.416119  348.034232  348.782485  348.93 1985-02-15"
      ]
     },
     "execution_count": 11,
     "metadata": {},
     "output_type": "execute_result"
    }
   ],
   "source": [
    "df_cv2[10:15]"
   ]
  },
  {
   "cell_type": "markdown",
   "metadata": {},
   "source": [
    "## Performance metrics"
   ]
  },
  {
   "cell_type": "code",
   "execution_count": 12,
   "metadata": {},
   "outputs": [
    {
     "data": {
      "text/html": [
       "<div>\n",
       "<style scoped>\n",
       "    .dataframe tbody tr th:only-of-type {\n",
       "        vertical-align: middle;\n",
       "    }\n",
       "\n",
       "    .dataframe tbody tr th {\n",
       "        vertical-align: top;\n",
       "    }\n",
       "\n",
       "    .dataframe thead th {\n",
       "        text-align: right;\n",
       "    }\n",
       "</style>\n",
       "<table border=\"1\" class=\"dataframe\">\n",
       "  <thead>\n",
       "    <tr style=\"text-align: right;\">\n",
       "      <th></th>\n",
       "      <th>horizon</th>\n",
       "      <th>mse</th>\n",
       "      <th>rmse</th>\n",
       "      <th>mae</th>\n",
       "      <th>mape</th>\n",
       "      <th>mdape</th>\n",
       "      <th>coverage</th>\n",
       "    </tr>\n",
       "  </thead>\n",
       "  <tbody>\n",
       "    <tr>\n",
       "      <th>0</th>\n",
       "      <td>49 days</td>\n",
       "      <td>0.697655</td>\n",
       "      <td>0.835257</td>\n",
       "      <td>0.693255</td>\n",
       "      <td>0.002062</td>\n",
       "      <td>0.001738</td>\n",
       "      <td>0.333333</td>\n",
       "    </tr>\n",
       "    <tr>\n",
       "      <th>1</th>\n",
       "      <td>50 days</td>\n",
       "      <td>0.644365</td>\n",
       "      <td>0.802723</td>\n",
       "      <td>0.674921</td>\n",
       "      <td>0.001995</td>\n",
       "      <td>0.001738</td>\n",
       "      <td>0.333333</td>\n",
       "    </tr>\n",
       "    <tr>\n",
       "      <th>2</th>\n",
       "      <td>52 days</td>\n",
       "      <td>0.602899</td>\n",
       "      <td>0.776465</td>\n",
       "      <td>0.622223</td>\n",
       "      <td>0.001831</td>\n",
       "      <td>0.001436</td>\n",
       "      <td>0.416667</td>\n",
       "    </tr>\n",
       "    <tr>\n",
       "      <th>3</th>\n",
       "      <td>53 days</td>\n",
       "      <td>0.583569</td>\n",
       "      <td>0.763917</td>\n",
       "      <td>0.599147</td>\n",
       "      <td>0.001757</td>\n",
       "      <td>0.001109</td>\n",
       "      <td>0.500000</td>\n",
       "    </tr>\n",
       "    <tr>\n",
       "      <th>4</th>\n",
       "      <td>54 days</td>\n",
       "      <td>0.584849</td>\n",
       "      <td>0.764754</td>\n",
       "      <td>0.602020</td>\n",
       "      <td>0.001763</td>\n",
       "      <td>0.001109</td>\n",
       "      <td>0.500000</td>\n",
       "    </tr>\n",
       "  </tbody>\n",
       "</table>\n",
       "</div>"
      ],
      "text/plain": [
       "  horizon       mse      rmse       mae      mape     mdape  coverage\n",
       "0 49 days  0.697655  0.835257  0.693255  0.002062  0.001738  0.333333\n",
       "1 50 days  0.644365  0.802723  0.674921  0.001995  0.001738  0.333333\n",
       "2 52 days  0.602899  0.776465  0.622223  0.001831  0.001436  0.416667\n",
       "3 53 days  0.583569  0.763917  0.599147  0.001757  0.001109  0.500000\n",
       "4 54 days  0.584849  0.764754  0.602020  0.001763  0.001109  0.500000"
      ]
     },
     "execution_count": 12,
     "metadata": {},
     "output_type": "execute_result"
    }
   ],
   "source": [
    "from fbprophet.diagnostics import performance_metrics\n",
    "df_p = performance_metrics(df_cv)\n",
    "df_p.head()"
   ]
  },
  {
   "cell_type": "markdown",
   "metadata": {},
   "source": [
    "## Visualizing the performance"
   ]
  },
  {
   "cell_type": "code",
   "execution_count": 13,
   "metadata": {},
   "outputs": [
    {
     "data": {
      "image/png": "[encoded data removed]",
      "text/plain": [
       "<Figure size 720x432 with 1 Axes>"
      ]
     },
     "metadata": {},
     "output_type": "display_data"
    }
   ],
   "source": [
    "from fbprophet.plot import plot_cross_validation_metric\n",
    "fig = plot_cross_validation_metric(df_cv, metric='mape')"
   ]
  },
  {
   "cell_type": "markdown",
   "metadata": {},
   "source": [
    "## Hyperparameter tuning"
   ]
  },
  {
   "cell_type": "code",
   "execution_count": 14,
   "metadata": {},
   "outputs": [
    {
     "name": "stderr",
     "output_type": "stream",
     "text": [
      "INFO:fbprophet:Disabling weekly seasonality. Run prophet with weekly_seasonality=True to override this.\n",
      "INFO:fbprophet:Disabling daily seasonality. Run prophet with daily_seasonality=True to override this.\n",
      "INFO:fbprophet:Applying in parallel with <concurrent.futures.process.ProcessPoolExecutor object at 0x0000024B78437548>\n",
      "INFO:fbprophet:Disabling weekly seasonality. Run prophet with weekly_seasonality=True to override this.\n",
      "INFO:fbprophet:Disabling daily seasonality. Run prophet with daily_seasonality=True to override this.\n",
      "INFO:fbprophet:Applying in parallel with <concurrent.futures.process.ProcessPoolExecutor object at 0x0000024B781DE9C8>\n",
      "INFO:fbprophet:Disabling weekly seasonality. Run prophet with weekly_seasonality=True to override this.\n",
      "INFO:fbprophet:Disabling daily seasonality. Run prophet with daily_seasonality=True to override this.\n",
      "INFO:fbprophet:Applying in parallel with <concurrent.futures.process.ProcessPoolExecutor object at 0x0000024B776A86C8>\n",
      "INFO:fbprophet:Disabling weekly seasonality. Run prophet with weekly_seasonality=True to override this.\n",
      "INFO:fbprophet:Disabling daily seasonality. Run prophet with daily_seasonality=True to override this.\n",
      "INFO:fbprophet:Applying in parallel with <concurrent.futures.process.ProcessPoolExecutor object at 0x0000024B781C2F48>\n",
      "INFO:fbprophet:Disabling weekly seasonality. Run prophet with weekly_seasonality=True to override this.\n",
      "INFO:fbprophet:Disabling daily seasonality. Run prophet with daily_seasonality=True to override this.\n",
      "INFO:fbprophet:Applying in parallel with <concurrent.futures.process.ProcessPoolExecutor object at 0x0000024B78248108>\n",
      "INFO:fbprophet:Disabling weekly seasonality. Run prophet with weekly_seasonality=True to override this.\n",
      "INFO:fbprophet:Disabling daily seasonality. Run prophet with daily_seasonality=True to override this.\n",
      "INFO:fbprophet:Applying in parallel with <concurrent.futures.process.ProcessPoolExecutor object at 0x0000024B7829E848>\n",
      "INFO:fbprophet:Disabling weekly seasonality. Run prophet with weekly_seasonality=True to override this.\n",
      "INFO:fbprophet:Disabling daily seasonality. Run prophet with daily_seasonality=True to override this.\n",
      "INFO:fbprophet:Applying in parallel with <concurrent.futures.process.ProcessPoolExecutor object at 0x0000024B781BAB08>\n",
      "INFO:fbprophet:Disabling weekly seasonality. Run prophet with weekly_seasonality=True to override this.\n",
      "INFO:fbprophet:Disabling daily seasonality. Run prophet with daily_seasonality=True to override this.\n",
      "INFO:fbprophet:Applying in parallel with <concurrent.futures.process.ProcessPoolExecutor object at 0x0000024B781B4D48>\n",
      "INFO:fbprophet:Disabling weekly seasonality. Run prophet with weekly_seasonality=True to override this.\n",
      "INFO:fbprophet:Disabling daily seasonality. Run prophet with daily_seasonality=True to override this.\n",
      "INFO:fbprophet:Applying in parallel with <concurrent.futures.process.ProcessPoolExecutor object at 0x0000024B781CC348>\n",
      "INFO:fbprophet:Disabling weekly seasonality. Run prophet with weekly_seasonality=True to override this.\n",
      "INFO:fbprophet:Disabling daily seasonality. Run prophet with daily_seasonality=True to override this.\n",
      "INFO:fbprophet:Applying in parallel with <concurrent.futures.process.ProcessPoolExecutor object at 0x0000024B777496C8>\n",
      "INFO:fbprophet:Disabling weekly seasonality. Run prophet with weekly_seasonality=True to override this.\n",
      "INFO:fbprophet:Disabling daily seasonality. Run prophet with daily_seasonality=True to override this.\n",
      "INFO:fbprophet:Applying in parallel with <concurrent.futures.process.ProcessPoolExecutor object at 0x0000024B77749788>\n",
      "INFO:fbprophet:Disabling weekly seasonality. Run prophet with weekly_seasonality=True to override this.\n",
      "INFO:fbprophet:Disabling daily seasonality. Run prophet with daily_seasonality=True to override this.\n",
      "INFO:fbprophet:Applying in parallel with <concurrent.futures.process.ProcessPoolExecutor object at 0x0000024B77757908>\n",
      "INFO:fbprophet:Disabling weekly seasonality. Run prophet with weekly_seasonality=True to override this.\n",
      "INFO:fbprophet:Disabling daily seasonality. Run prophet with daily_seasonality=True to override this.\n",
      "INFO:fbprophet:Applying in parallel with <concurrent.futures.process.ProcessPoolExecutor object at 0x0000024B77751D88>\n",
      "INFO:fbprophet:Disabling weekly seasonality. Run prophet with weekly_seasonality=True to override this.\n",
      "INFO:fbprophet:Disabling daily seasonality. Run prophet with daily_seasonality=True to override this.\n",
      "INFO:fbprophet:Applying in parallel with <concurrent.futures.process.ProcessPoolExecutor object at 0x0000024B7768D088>\n",
      "INFO:fbprophet:Disabling weekly seasonality. Run prophet with weekly_seasonality=True to override this.\n",
      "INFO:fbprophet:Disabling daily seasonality. Run prophet with daily_seasonality=True to override this.\n",
      "INFO:fbprophet:Applying in parallel with <concurrent.futures.process.ProcessPoolExecutor object at 0x0000024B74849708>\n",
      "INFO:fbprophet:Disabling weekly seasonality. Run prophet with weekly_seasonality=True to override this.\n",
      "INFO:fbprophet:Disabling daily seasonality. Run prophet with daily_seasonality=True to override this.\n",
      "INFO:fbprophet:Applying in parallel with <concurrent.futures.process.ProcessPoolExecutor object at 0x0000024B78649F08>\n"
     ]
    },
    {
     "name": "stdout",
     "output_type": "stream",
     "text": [
      "    changepoint_prior_scale  seasonality_prior_scale      rmse\n",
      "0                     0.001                     0.01  0.485409\n",
      "1                     0.001                     0.10  0.479369\n",
      "2                     0.001                     1.00  0.488284\n",
      "3                     0.001                    10.00  0.476243\n",
      "4                     0.010                     0.01  0.605262\n",
      "5                     0.010                     0.10  0.605991\n",
      "6                     0.010                     1.00  0.610605\n",
      "7                     0.010                    10.00  0.613293\n",
      "8                     0.100                     0.01  0.659943\n",
      "9                     0.100                     0.10  0.661852\n",
      "10                    0.100                     1.00  0.661895\n",
      "11                    0.100                    10.00  0.661165\n",
      "12                    0.500                     0.01  0.674675\n",
      "13                    0.500                     0.10  0.674643\n",
      "14                    0.500                     1.00  0.675201\n",
      "15                    0.500                    10.00  0.673386\n"
     ]
    }
   ],
   "source": [
    "import itertools\n",
    "import numpy as np\n",
    "import pandas as pd\n",
    "\n",
    "param_grid = {  \n",
    "    'changepoint_prior_scale': [0.001, 0.01, 0.1, 0.5],\n",
    "    'seasonality_prior_scale': [0.01, 0.1, 1.0, 10.0],\n",
    "}\n",
    "\n",
    "# Generate all combinations of parameters\n",
    "all_params = [dict(zip(param_grid.keys(), v)) for v in itertools.product(*param_grid.values())]\n",
    "rmses = []  # Store the RMSEs for each params here\n",
    "\n",
    "# Use cross validation to evaluate all parameters\n",
    "for params in all_params:\n",
    "    m = Prophet(**params).fit(df)  # Fit model with given params\n",
    "    df_cv = cross_validation(m, cutoffs=cutoffs, horizon='30 days', parallel=\"processes\")\n",
    "    df_p = performance_metrics(df_cv, rolling_window=1)\n",
    "    rmses.append(df_p['rmse'].values[0])\n",
    "\n",
    "# Find the best parameters\n",
    "tuning_results = pd.DataFrame(all_params)\n",
    "tuning_results['rmse'] = rmses\n",
    "print(tuning_results)"
   ]
  },
  {
   "cell_type": "markdown",
   "metadata": {},
   "source": [
    "### Parameters that can be tuned\n",
    "\n",
    " - **changepoint_prior_scale** - This is the most impactful parameter. It determines how much the trend changes at the changepoints, the flexibility of the trend. If this value is too small, the trend will be underfit and if it is too large, the trend will be overfit. Suggested tuning range [0.001, 0.5]<br>\n",
    " \n",
    " \n",
    " - **seasonality_prior_scale** - controls the flexibility of the seasonality. A large value allows the seasonality to fit large fluctuation, a small value shrinks the magnitude of the seasonality. Default is 10, which is no regularization. Suggested tuning range [0.01,10]<br>\n",
    " \n",
    " \n",
    " - **holidays_prior_scale** - controls the flexibility to fit holiday effects. Default is 10, which is no regularization. Suggested tuning range is [0.01,10]<br>\n",
    " \n",
    " \n",
    " - **seasonality mode** - additive vs multiplicative. You should be able to tell by looking at the plot, nonetheless it is tuneable.\n",
    " \n",
    "### Parameters that you might tune\n",
    "\n",
    "- **changepoint_range** - at what point in the trend do you stop changepoints. Default 0.80. In a fully automated setting, it would be beneficial to be less conservative. It may be difficult to generalize using cross validation, since you would only be varying the very end of the training set"
   ]
  },
  {
   "cell_type": "code",
   "execution_count": 15,
   "metadata": {},
   "outputs": [
    {
     "name": "stderr",
     "output_type": "stream",
     "text": [
      "INFO:fbprophet:Disabling weekly seasonality. Run prophet with weekly_seasonality=True to override this.\n",
      "INFO:fbprophet:Disabling daily seasonality. Run prophet with daily_seasonality=True to override this.\n"
     ]
    }
   ],
   "source": [
    "modeltuned = Prophet(changepoint_prior_scale=0.001, seasonality_prior_scale=10.0)\n",
    "modeltuned.fit(train)\n",
    "future_data = modeltuned.make_future_dataframe(periods=len(test), freq='m')\n",
    "forecast_data = modeltuned.predict(future_data)"
   ]
  },
  {
   "cell_type": "code",
   "execution_count": 16,
   "metadata": {},
   "outputs": [
    {
     "data": {
      "image/png": "[encoded data removed]",
      "text/plain": [
       "<Figure size 720x432 with 1 Axes>"
      ]
     },
     "metadata": {},
     "output_type": "display_data"
    }
   ],
   "source": [
    "p = modeltuned.plot(forecast_data)\n",
    "plt.show()"
   ]
  },
  {
   "cell_type": "code",
   "execution_count": 17,
   "metadata": {},
   "outputs": [
    {
     "data": {
      "text/html": [
       "<div>\n",
       "<style scoped>\n",
       "    .dataframe tbody tr th:only-of-type {\n",
       "        vertical-align: middle;\n",
       "    }\n",
       "\n",
       "    .dataframe tbody tr th {\n",
       "        vertical-align: top;\n",
       "    }\n",
       "\n",
       "    .dataframe thead th {\n",
       "        text-align: right;\n",
       "    }\n",
       "</style>\n",
       "<table border=\"1\" class=\"dataframe\">\n",
       "  <thead>\n",
       "    <tr style=\"text-align: right;\">\n",
       "      <th></th>\n",
       "      <th>ds</th>\n",
       "      <th>trend</th>\n",
       "      <th>yhat_lower</th>\n",
       "      <th>yhat_upper</th>\n",
       "      <th>yhat</th>\n",
       "    </tr>\n",
       "  </thead>\n",
       "  <tbody>\n",
       "    <tr>\n",
       "      <th>730</th>\n",
       "      <td>2018-12-31</td>\n",
       "      <td>404.879241</td>\n",
       "      <td>403.322767</td>\n",
       "      <td>406.532858</td>\n",
       "      <td>404.834123</td>\n",
       "    </tr>\n",
       "    <tr>\n",
       "      <th>731</th>\n",
       "      <td>2019-01-31</td>\n",
       "      <td>405.039830</td>\n",
       "      <td>402.956684</td>\n",
       "      <td>406.194056</td>\n",
       "      <td>404.524133</td>\n",
       "    </tr>\n",
       "    <tr>\n",
       "      <th>732</th>\n",
       "      <td>2019-02-28</td>\n",
       "      <td>405.184879</td>\n",
       "      <td>403.719160</td>\n",
       "      <td>406.896498</td>\n",
       "      <td>405.199871</td>\n",
       "    </tr>\n",
       "    <tr>\n",
       "      <th>733</th>\n",
       "      <td>2019-03-31</td>\n",
       "      <td>405.345469</td>\n",
       "      <td>407.055143</td>\n",
       "      <td>410.201145</td>\n",
       "      <td>408.544748</td>\n",
       "    </tr>\n",
       "    <tr>\n",
       "      <th>734</th>\n",
       "      <td>2019-04-30</td>\n",
       "      <td>405.500878</td>\n",
       "      <td>407.542887</td>\n",
       "      <td>410.875401</td>\n",
       "      <td>409.172349</td>\n",
       "    </tr>\n",
       "  </tbody>\n",
       "</table>\n",
       "</div>"
      ],
      "text/plain": [
       "            ds       trend  yhat_lower  yhat_upper        yhat\n",
       "730 2018-12-31  404.879241  403.322767  406.532858  404.834123\n",
       "731 2019-01-31  405.039830  402.956684  406.194056  404.524133\n",
       "732 2019-02-28  405.184879  403.719160  406.896498  405.199871\n",
       "733 2019-03-31  405.345469  407.055143  410.201145  408.544748\n",
       "734 2019-04-30  405.500878  407.542887  410.875401  409.172349"
      ]
     },
     "execution_count": 17,
     "metadata": {},
     "output_type": "execute_result"
    }
   ],
   "source": [
    "forecast_data[['ds','trend','yhat_lower','yhat_upper','yhat']].tail()"
   ]
  },
  {
   "cell_type": "code",
   "execution_count": 30,
   "metadata": {},
   "outputs": [
    {
     "data": {
      "text/plain": [
       "1      0.096591\n",
       "2      0.561688\n",
       "3      0.779965\n",
       "4      0.124154\n",
       "5     -0.944735\n",
       "         ...   \n",
       "546   -0.136079\n",
       "547   -0.234280\n",
       "548   -0.181524\n",
       "549   -0.195275\n",
       "550   -0.197404\n",
       "Length: 550, dtype: float64"
      ]
     },
     "execution_count": 30,
     "metadata": {},
     "output_type": "execute_result"
    }
   ],
   "source": [
    "residuals = forecast_data['yhat'][:551] - df['y'][:551]\n",
    "residuals=residuals[1:]\n",
    "residuals"
   ]
  },
  {
   "cell_type": "code",
   "execution_count": 31,
   "metadata": {},
   "outputs": [
    {
     "data": {
      "image/png": "[encoded data removed]",
      "text/plain": [
       "<Figure size 432x288 with 1 Axes>"
      ]
     },
     "metadata": {
      "needs_background": "light"
     },
     "output_type": "display_data"
    }
   ],
   "source": [
    "from statsmodels.graphics.tsaplots import plot_acf, plot_pacf\n",
    "plot_acf(residuals, lags=48)\n",
    "plt.show()"
   ]
  },
  {
   "cell_type": "code",
   "execution_count": 32,
   "metadata": {},
   "outputs": [
    {
     "name": "stderr",
     "output_type": "stream",
     "text": [
      "INFO:fbprophet:Disabling weekly seasonality. Run prophet with weekly_seasonality=True to override this.\n",
      "INFO:fbprophet:Disabling daily seasonality. Run prophet with daily_seasonality=True to override this.\n"
     ]
    }
   ],
   "source": [
    "modeltuned2 = Prophet(changepoint_prior_scale=0.5, seasonality_prior_scale=10)\n",
    "modeltuned2.fit(train)\n",
    "future_data2 = modeltuned2.make_future_dataframe(periods=len(test), freq='m')\n",
    "forecast_data2 = modeltuned2.predict(future_data2)"
   ]
  },
  {
   "cell_type": "code",
   "execution_count": 33,
   "metadata": {},
   "outputs": [
    {
     "data": {
      "image/png": "[encoded data removed]",
      "text/plain": [
       "<Figure size 720x432 with 1 Axes>"
      ]
     },
     "metadata": {},
     "output_type": "display_data"
    }
   ],
   "source": [
    "p = modeltuned2.plot(forecast_data2)\n",
    "plt.show()"
   ]
  },
  {
   "cell_type": "code",
   "execution_count": 34,
   "metadata": {},
   "outputs": [
    {
     "data": {
      "text/html": [
       "<div>\n",
       "<style scoped>\n",
       "    .dataframe tbody tr th:only-of-type {\n",
       "        vertical-align: middle;\n",
       "    }\n",
       "\n",
       "    .dataframe tbody tr th {\n",
       "        vertical-align: top;\n",
       "    }\n",
       "\n",
       "    .dataframe thead th {\n",
       "        text-align: right;\n",
       "    }\n",
       "</style>\n",
       "<table border=\"1\" class=\"dataframe\">\n",
       "  <thead>\n",
       "    <tr style=\"text-align: right;\">\n",
       "      <th></th>\n",
       "      <th>ds</th>\n",
       "      <th>trend</th>\n",
       "      <th>yhat_lower</th>\n",
       "      <th>yhat_upper</th>\n",
       "      <th>yhat</th>\n",
       "    </tr>\n",
       "  </thead>\n",
       "  <tbody>\n",
       "    <tr>\n",
       "      <th>730</th>\n",
       "      <td>2018-12-31</td>\n",
       "      <td>405.553650</td>\n",
       "      <td>390.249413</td>\n",
       "      <td>419.639238</td>\n",
       "      <td>405.619816</td>\n",
       "    </tr>\n",
       "    <tr>\n",
       "      <th>731</th>\n",
       "      <td>2019-01-31</td>\n",
       "      <td>405.717688</td>\n",
       "      <td>390.057396</td>\n",
       "      <td>419.552554</td>\n",
       "      <td>405.339836</td>\n",
       "    </tr>\n",
       "    <tr>\n",
       "      <th>732</th>\n",
       "      <td>2019-02-28</td>\n",
       "      <td>405.865852</td>\n",
       "      <td>390.218582</td>\n",
       "      <td>419.855515</td>\n",
       "      <td>405.706321</td>\n",
       "    </tr>\n",
       "    <tr>\n",
       "      <th>733</th>\n",
       "      <td>2019-03-31</td>\n",
       "      <td>406.029889</td>\n",
       "      <td>393.441280</td>\n",
       "      <td>423.795192</td>\n",
       "      <td>409.149994</td>\n",
       "    </tr>\n",
       "    <tr>\n",
       "      <th>734</th>\n",
       "      <td>2019-04-30</td>\n",
       "      <td>406.188636</td>\n",
       "      <td>394.040829</td>\n",
       "      <td>424.881700</td>\n",
       "      <td>409.955713</td>\n",
       "    </tr>\n",
       "  </tbody>\n",
       "</table>\n",
       "</div>"
      ],
      "text/plain": [
       "            ds       trend  yhat_lower  yhat_upper        yhat\n",
       "730 2018-12-31  405.553650  390.249413  419.639238  405.619816\n",
       "731 2019-01-31  405.717688  390.057396  419.552554  405.339836\n",
       "732 2019-02-28  405.865852  390.218582  419.855515  405.706321\n",
       "733 2019-03-31  406.029889  393.441280  423.795192  409.149994\n",
       "734 2019-04-30  406.188636  394.040829  424.881700  409.955713"
      ]
     },
     "execution_count": 34,
     "metadata": {},
     "output_type": "execute_result"
    }
   ],
   "source": [
    "forecast_data2[['ds','trend','yhat_lower','yhat_upper','yhat']].tail()"
   ]
  },
  {
   "cell_type": "code",
   "execution_count": 35,
   "metadata": {},
   "outputs": [
    {
     "data": {
      "text/plain": [
       "1      0.003582\n",
       "2      0.483968\n",
       "3      0.715184\n",
       "4      0.071976\n",
       "5     -0.984703\n",
       "         ...   \n",
       "546   -0.093994\n",
       "547   -0.187810\n",
       "548   -0.135335\n",
       "549   -0.144266\n",
       "550   -0.135764\n",
       "Length: 550, dtype: float64"
      ]
     },
     "execution_count": 35,
     "metadata": {},
     "output_type": "execute_result"
    }
   ],
   "source": [
    "residuals = forecast_data2['yhat'][:551] - df['y'][:551]\n",
    "residuals=residuals[1:]\n",
    "residuals"
   ]
  },
  {
   "cell_type": "code",
   "execution_count": 36,
   "metadata": {},
   "outputs": [
    {
     "data": {
      "image/png": "[encoded data removed]",
      "text/plain": [
       "<Figure size 432x288 with 1 Axes>"
      ]
     },
     "metadata": {
      "needs_background": "light"
     },
     "output_type": "display_data"
    }
   ],
   "source": [
    "from statsmodels.graphics.tsaplots import plot_acf, plot_pacf\n",
    "plot_acf(residuals, lags=48)\n",
    "plt.show()"
   ]
  }
 ],
 "metadata": {
  "kernelspec": {
   "display_name": "Python 3",
   "language": "python",
   "name": "python3"
  },
  "language_info": {
   "codemirror_mode": {
    "name": "ipython",
    "version": 3
   },
   "file_extension": ".py",
   "mimetype": "text/x-python",
   "name": "python",
   "nbconvert_exporter": "python",
   "pygments_lexer": "ipython3",
   "version": "3.7.10"
  }
 },
 "nbformat": 4,
 "nbformat_minor": 4
}
