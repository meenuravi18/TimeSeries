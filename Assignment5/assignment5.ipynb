{
 "cells": [
  {
   "cell_type": "markdown",
   "id": "1fe37649",
   "metadata": {},
   "source": [
    "## Assignment 5 \n",
    "### May 3 2021\n",
    "### Meenu Ravi"
   ]
  },
  {
   "cell_type": "markdown",
   "id": "60fc15e4",
   "metadata": {},
   "source": [
    "### Part 1. 10 pts - Exploratory Data Analysis"
   ]
  },
  {
   "cell_type": "code",
   "execution_count": 1,
   "id": "fb979173",
   "metadata": {},
   "outputs": [],
   "source": [
    "import pandas as pd\n",
    "import numpy as np\n",
    "import seaborn as sns\n",
    "import matplotlib.pyplot as plt\n",
    "from statsmodels.graphics.tsaplots import plot_acf, plot_pacf\n",
    "from sktime.forecasting.all import temporal_train_test_split\n",
    "from statsmodels.tsa.stattools import kpss, adfuller\n",
    "import warnings\n",
    "from sklearn.metrics import mean_squared_error, mean_absolute_error \n",
    "import math\n",
    "warnings.filterwarnings('ignore')"
   ]
  },
  {
   "cell_type": "markdown",
   "id": "9455ff44",
   "metadata": {},
   "source": [
    "#### A. 5 pts Merge the data sets together, should have 735 rows of data"
   ]
  },
  {
   "cell_type": "code",
   "execution_count": 2,
   "id": "2851bc44",
   "metadata": {},
   "outputs": [],
   "source": [
    "co2= pd.read_csv(\"hw5_data_co2.csv\")\n",
    "temp= pd.read_csv(\"hw5_data_temp.csv\")\n"
   ]
  },
  {
   "cell_type": "code",
   "execution_count": 3,
   "id": "092030eb",
   "metadata": {},
   "outputs": [],
   "source": [
    "co2['ds'] =co2['ds'].astype('datetime64[ns]').dt.strftime('%Y-%m')\n"
   ]
  },
  {
   "cell_type": "code",
   "execution_count": 4,
   "id": "3645afc0",
   "metadata": {},
   "outputs": [],
   "source": [
    "temp['ds'] =temp['ds'].astype('datetime64[ns]').dt.strftime('%Y-%m')\n"
   ]
  },
  {
   "cell_type": "code",
   "execution_count": 5,
   "id": "943cd471",
   "metadata": {},
   "outputs": [
    {
     "data": {
      "text/html": [
       "<div>\n",
       "<style scoped>\n",
       "    .dataframe tbody tr th:only-of-type {\n",
       "        vertical-align: middle;\n",
       "    }\n",
       "\n",
       "    .dataframe tbody tr th {\n",
       "        vertical-align: top;\n",
       "    }\n",
       "\n",
       "    .dataframe thead th {\n",
       "        text-align: right;\n",
       "    }\n",
       "</style>\n",
       "<table border=\"1\" class=\"dataframe\">\n",
       "  <thead>\n",
       "    <tr style=\"text-align: right;\">\n",
       "      <th></th>\n",
       "      <th>co2</th>\n",
       "      <th>temp</th>\n",
       "    </tr>\n",
       "    <tr>\n",
       "      <th>ds</th>\n",
       "      <th></th>\n",
       "      <th></th>\n",
       "    </tr>\n",
       "  </thead>\n",
       "  <tbody>\n",
       "    <tr>\n",
       "      <th>1958-03</th>\n",
       "      <td>315.700</td>\n",
       "      <td>57.38</td>\n",
       "    </tr>\n",
       "    <tr>\n",
       "      <th>1958-04</th>\n",
       "      <td>317.450</td>\n",
       "      <td>57.29</td>\n",
       "    </tr>\n",
       "    <tr>\n",
       "      <th>1958-05</th>\n",
       "      <td>317.510</td>\n",
       "      <td>57.32</td>\n",
       "    </tr>\n",
       "    <tr>\n",
       "      <th>1958-06</th>\n",
       "      <td>316.685</td>\n",
       "      <td>57.02</td>\n",
       "    </tr>\n",
       "    <tr>\n",
       "      <th>1958-07</th>\n",
       "      <td>315.860</td>\n",
       "      <td>57.27</td>\n",
       "    </tr>\n",
       "    <tr>\n",
       "      <th>...</th>\n",
       "      <td>...</td>\n",
       "      <td>...</td>\n",
       "    </tr>\n",
       "    <tr>\n",
       "      <th>2019-01</th>\n",
       "      <td>410.920</td>\n",
       "      <td>58.29</td>\n",
       "    </tr>\n",
       "    <tr>\n",
       "      <th>2019-02</th>\n",
       "      <td>411.660</td>\n",
       "      <td>58.37</td>\n",
       "    </tr>\n",
       "    <tr>\n",
       "      <th>2019-03</th>\n",
       "      <td>412.000</td>\n",
       "      <td>58.59</td>\n",
       "    </tr>\n",
       "    <tr>\n",
       "      <th>2019-04</th>\n",
       "      <td>413.510</td>\n",
       "      <td>58.50</td>\n",
       "    </tr>\n",
       "    <tr>\n",
       "      <th>2019-05</th>\n",
       "      <td>414.830</td>\n",
       "      <td>58.50</td>\n",
       "    </tr>\n",
       "  </tbody>\n",
       "</table>\n",
       "<p>735 rows × 2 columns</p>\n",
       "</div>"
      ],
      "text/plain": [
       "             co2   temp\n",
       "ds                     \n",
       "1958-03  315.700  57.38\n",
       "1958-04  317.450  57.29\n",
       "1958-05  317.510  57.32\n",
       "1958-06  316.685  57.02\n",
       "1958-07  315.860  57.27\n",
       "...          ...    ...\n",
       "2019-01  410.920  58.29\n",
       "2019-02  411.660  58.37\n",
       "2019-03  412.000  58.59\n",
       "2019-04  413.510  58.50\n",
       "2019-05  414.830  58.50\n",
       "\n",
       "[735 rows x 2 columns]"
      ]
     },
     "execution_count": 5,
     "metadata": {},
     "output_type": "execute_result"
    }
   ],
   "source": [
    "data = co2.merge(temp, on=\"ds\", how = 'outer')\n",
    "data.dropna(inplace=True)\n",
    "data = data.groupby('ds').last()\n",
    "data"
   ]
  },
  {
   "cell_type": "markdown",
   "id": "f3182401",
   "metadata": {},
   "source": [
    "#### B. 5 pts Complete a quantitative and qualitative data exploration. Include a verbal summary of your EDA."
   ]
  },
  {
   "cell_type": "code",
   "execution_count": 6,
   "id": "a1c4c665",
   "metadata": {},
   "outputs": [
    {
     "data": {
      "text/plain": [
       "(735, 2)"
      ]
     },
     "execution_count": 6,
     "metadata": {},
     "output_type": "execute_result"
    }
   ],
   "source": [
    "data.shape"
   ]
  },
  {
   "cell_type": "code",
   "execution_count": 7,
   "id": "2cf3c8a0",
   "metadata": {},
   "outputs": [
    {
     "data": {
      "text/plain": [
       "0.0"
      ]
     },
     "execution_count": 7,
     "metadata": {},
     "output_type": "execute_result"
    }
   ],
   "source": [
    "missing_values=data['co2'].isna().sum()\n",
    "full=len(data)\n",
    "percent=(missing_values/full)*100\n",
    "percent"
   ]
  },
  {
   "cell_type": "code",
   "execution_count": 8,
   "id": "6086fd55",
   "metadata": {},
   "outputs": [
    {
     "data": {
      "text/plain": [
       "0.0"
      ]
     },
     "execution_count": 8,
     "metadata": {},
     "output_type": "execute_result"
    }
   ],
   "source": [
    "missing_values=data['temp'].isna().sum()\n",
    "full=len(data)\n",
    "percent=(missing_values/full)*100\n",
    "percent"
   ]
  },
  {
   "cell_type": "code",
   "execution_count": 9,
   "id": "37d08d97",
   "metadata": {},
   "outputs": [
    {
     "data": {
      "text/html": [
       "<div>\n",
       "<style scoped>\n",
       "    .dataframe tbody tr th:only-of-type {\n",
       "        vertical-align: middle;\n",
       "    }\n",
       "\n",
       "    .dataframe tbody tr th {\n",
       "        vertical-align: top;\n",
       "    }\n",
       "\n",
       "    .dataframe thead th {\n",
       "        text-align: right;\n",
       "    }\n",
       "</style>\n",
       "<table border=\"1\" class=\"dataframe\">\n",
       "  <thead>\n",
       "    <tr style=\"text-align: right;\">\n",
       "      <th></th>\n",
       "      <th>co2</th>\n",
       "      <th>temp</th>\n",
       "    </tr>\n",
       "  </thead>\n",
       "  <tbody>\n",
       "    <tr>\n",
       "      <th>count</th>\n",
       "      <td>735.000000</td>\n",
       "      <td>735.000000</td>\n",
       "    </tr>\n",
       "    <tr>\n",
       "      <th>mean</th>\n",
       "      <td>354.210673</td>\n",
       "      <td>57.603293</td>\n",
       "    </tr>\n",
       "    <tr>\n",
       "      <th>std</th>\n",
       "      <td>27.922811</td>\n",
       "      <td>0.397159</td>\n",
       "    </tr>\n",
       "    <tr>\n",
       "      <th>min</th>\n",
       "      <td>313.200000</td>\n",
       "      <td>56.730000</td>\n",
       "    </tr>\n",
       "    <tr>\n",
       "      <th>25%</th>\n",
       "      <td>328.785000</td>\n",
       "      <td>57.280000</td>\n",
       "    </tr>\n",
       "    <tr>\n",
       "      <th>50%</th>\n",
       "      <td>351.340000</td>\n",
       "      <td>57.590000</td>\n",
       "    </tr>\n",
       "    <tr>\n",
       "      <th>75%</th>\n",
       "      <td>376.515000</td>\n",
       "      <td>57.915000</td>\n",
       "    </tr>\n",
       "    <tr>\n",
       "      <th>max</th>\n",
       "      <td>414.830000</td>\n",
       "      <td>58.840000</td>\n",
       "    </tr>\n",
       "  </tbody>\n",
       "</table>\n",
       "</div>"
      ],
      "text/plain": [
       "              co2        temp\n",
       "count  735.000000  735.000000\n",
       "mean   354.210673   57.603293\n",
       "std     27.922811    0.397159\n",
       "min    313.200000   56.730000\n",
       "25%    328.785000   57.280000\n",
       "50%    351.340000   57.590000\n",
       "75%    376.515000   57.915000\n",
       "max    414.830000   58.840000"
      ]
     },
     "execution_count": 9,
     "metadata": {},
     "output_type": "execute_result"
    }
   ],
   "source": [
    "data.describe()"
   ]
  },
  {
   "cell_type": "code",
   "execution_count": 10,
   "id": "fd747a86",
   "metadata": {},
   "outputs": [
    {
     "data": {
      "text/plain": [
       "co2     float64\n",
       "temp    float64\n",
       "dtype: object"
      ]
     },
     "execution_count": 10,
     "metadata": {},
     "output_type": "execute_result"
    }
   ],
   "source": [
    "data.dtypes"
   ]
  },
  {
   "cell_type": "code",
   "execution_count": 11,
   "id": "3420723f",
   "metadata": {},
   "outputs": [
    {
     "name": "stdout",
     "output_type": "stream",
     "text": [
      "Duplicate rows:  (0, 2)\n"
     ]
    }
   ],
   "source": [
    "duplicate_rows = data[data.duplicated()]\n",
    "print(\"Duplicate rows: \", duplicate_rows.shape)"
   ]
  },
  {
   "cell_type": "code",
   "execution_count": 12,
   "id": "7106a347",
   "metadata": {},
   "outputs": [
    {
     "name": "stdout",
     "output_type": "stream",
     "text": [
      "(array([], dtype=int64),)\n"
     ]
    },
    {
     "data": {
      "image/png": "[encoded data removed]",
      "text/plain": [
       "<Figure size 432x288 with 1 Axes>"
      ]
     },
     "metadata": {
      "needs_background": "light"
     },
     "output_type": "display_data"
    }
   ],
   "source": [
    "sns.boxplot(x=data['co2'])\n",
    "print(np.where(data['co2']>data['co2'].quantile(0.75) + (1.5 * (data['co2'].quantile(0.75)-\n",
    "                                                                  data['co2'].quantile(0.25)))))"
   ]
  },
  {
   "cell_type": "code",
   "execution_count": 13,
   "id": "ce511f7d",
   "metadata": {},
   "outputs": [
    {
     "name": "stdout",
     "output_type": "stream",
     "text": [
      "(array([], dtype=int64),)\n"
     ]
    },
    {
     "data": {
      "image/png": "[encoded data removed]",
      "text/plain": [
       "<Figure size 432x288 with 1 Axes>"
      ]
     },
     "metadata": {
      "needs_background": "light"
     },
     "output_type": "display_data"
    }
   ],
   "source": [
    "sns.boxplot(x=data['temp'])\n",
    "print(np.where(data['temp']>data['temp'].quantile(0.75) + (1.5 * (data['temp'].quantile(0.75)-\n",
    "                                                                  data['temp'].quantile(0.25)))))"
   ]
  },
  {
   "cell_type": "code",
   "execution_count": 14,
   "id": "a4dec53c",
   "metadata": {},
   "outputs": [
    {
     "data": {
      "text/plain": [
       "<AxesSubplot:xlabel='ds'>"
      ]
     },
     "execution_count": 14,
     "metadata": {},
     "output_type": "execute_result"
    },
    {
     "data": {
      "image/png": "[encoded data removed]",
      "text/plain": [
       "<Figure size 432x288 with 1 Axes>"
      ]
     },
     "metadata": {
      "needs_background": "light"
     },
     "output_type": "display_data"
    }
   ],
   "source": [
    "data['co2'].plot()\n"
   ]
  },
  {
   "cell_type": "code",
   "execution_count": 15,
   "id": "6a59ad00",
   "metadata": {},
   "outputs": [
    {
     "data": {
      "text/plain": [
       "<AxesSubplot:xlabel='ds'>"
      ]
     },
     "execution_count": 15,
     "metadata": {},
     "output_type": "execute_result"
    },
    {
     "data": {
      "image/png": "[encoded data removed]",
      "text/plain": [
       "<Figure size 432x288 with 1 Axes>"
      ]
     },
     "metadata": {
      "needs_background": "light"
     },
     "output_type": "display_data"
    }
   ],
   "source": [
    "data['temp'].plot()"
   ]
  },
  {
   "cell_type": "code",
   "execution_count": 16,
   "id": "2283a6e1",
   "metadata": {},
   "outputs": [
    {
     "data": {
      "image/png": "[encoded data removed]",
      "text/plain": [
       "<Figure size 432x288 with 1 Axes>"
      ]
     },
     "metadata": {
      "needs_background": "light"
     },
     "output_type": "display_data"
    },
    {
     "data": {
      "image/png": "[encoded data removed]",
      "text/plain": [
       "<Figure size 432x288 with 1 Axes>"
      ]
     },
     "metadata": {
      "needs_background": "light"
     },
     "output_type": "display_data"
    }
   ],
   "source": [
    "p=plot_acf(data['co2'], lags=40,title='Autocorrelation Plot')\n",
    "p = plot_pacf(data['co2'],lags=50,  title='Partial Autocorrelation Plot')"
   ]
  },
  {
   "cell_type": "code",
   "execution_count": 17,
   "id": "8e69be1b",
   "metadata": {},
   "outputs": [
    {
     "data": {
      "image/png": "[encoded data removed]",
      "text/plain": [
       "<Figure size 432x288 with 1 Axes>"
      ]
     },
     "metadata": {
      "needs_background": "light"
     },
     "output_type": "display_data"
    },
    {
     "data": {
      "image/png": "[encoded data removed]",
      "text/plain": [
       "<Figure size 432x288 with 1 Axes>"
      ]
     },
     "metadata": {
      "needs_background": "light"
     },
     "output_type": "display_data"
    }
   ],
   "source": [
    "p=plot_acf(data['temp'], lags=40,title='Autocorrelation Plot')\n",
    "p = plot_pacf(data['temp'],lags=50,  title='Partial Autocorrelation Plot')"
   ]
  },
  {
   "cell_type": "code",
   "execution_count": 18,
   "id": "3a763ab6",
   "metadata": {},
   "outputs": [],
   "source": [
    "def adf_kpss_test(timeseries,trend='c'):\n",
    "    #Perform Dickey-Fuller test:\n",
    "    df_results=[]\n",
    "    kpss_results=[]\n",
    "    print ('Results of Dickey-Fuller Test:')\n",
    "    dftest = adfuller(timeseries, autolag='AIC')\n",
    "    dfoutput = pd.Series(dftest[0:4], index=['Test Statistic','p-value','#Lags Used','Number of Observations Used'])\n",
    "    for key,value in dftest[4].items():\n",
    "       dfoutput['Critical Value (%s)'%key] = value\n",
    "    print (dfoutput)\n",
    "    print(\"---------------\")\n",
    "    print ('Results of KPSS Test:')\n",
    "    kpsstest = kpss(timeseries, regression=trend)\n",
    "    kpss_output = pd.Series(kpsstest[0:3], index=['Test Statistic','p-value','Lags Used'])\n",
    "    for key,value in kpsstest[3].items():\n",
    "        kpss_output['Critical Value (%s)'%key] = value\n",
    "    print (kpss_output)\n",
    "    for i in dfoutput:\n",
    "        i=round(i,6)\n",
    "        df_results.append(i)\n",
    "    for i in kpss_output:\n",
    "        i=round(i,6)\n",
    "        kpss_results.append(i)\n",
    "    return (df_results,kpss_results)"
   ]
  },
  {
   "cell_type": "code",
   "execution_count": 19,
   "id": "5065e72c",
   "metadata": {},
   "outputs": [
    {
     "name": "stdout",
     "output_type": "stream",
     "text": [
      "Results of Dickey-Fuller Test:\n",
      "Test Statistic                   5.242612\n",
      "p-value                          1.000000\n",
      "#Lags Used                      20.000000\n",
      "Number of Observations Used    714.000000\n",
      "Critical Value (1%)             -3.439542\n",
      "Critical Value (5%)             -2.865596\n",
      "Critical Value (10%)            -2.568930\n",
      "dtype: float64\n",
      "---------------\n",
      "Results of KPSS Test:\n",
      "Test Statistic            3.55359\n",
      "p-value                   0.01000\n",
      "Lags Used                20.00000\n",
      "Critical Value (10%)      0.34700\n",
      "Critical Value (5%)       0.46300\n",
      "Critical Value (2.5%)     0.57400\n",
      "Critical Value (1%)       0.73900\n",
      "dtype: float64\n",
      "stationarity from ad_fuller test: False\n",
      "stationarity from KPSS test: False\n"
     ]
    }
   ],
   "source": [
    "alpha = 0.05\n",
    "ad_fuller_results,kpss_test_results = adf_kpss_test(data['co2'], trend='c')\n",
    "ad_fuller_results\n",
    "ad_fuller_pval = ad_fuller_results[1]\n",
    "ad_fuller_bool = ad_fuller_pval <= alpha\n",
    "\n",
    "print(f'stationarity from ad_fuller test: {ad_fuller_bool}')\n",
    "\n",
    "kpss_pval = kpss_test_results[1]\n",
    "kpss_test_bool = kpss_pval >= alpha\n",
    "\n",
    "print(f'stationarity from KPSS test: {kpss_test_bool}')"
   ]
  },
  {
   "cell_type": "code",
   "execution_count": 20,
   "id": "577bae3a",
   "metadata": {},
   "outputs": [
    {
     "name": "stdout",
     "output_type": "stream",
     "text": [
      "Results of Dickey-Fuller Test:\n",
      "Test Statistic                  -1.120522\n",
      "p-value                          0.706819\n",
      "#Lags Used                      10.000000\n",
      "Number of Observations Used    724.000000\n",
      "Critical Value (1%)             -3.439414\n",
      "Critical Value (5%)             -2.865540\n",
      "Critical Value (10%)            -2.568900\n",
      "dtype: float64\n",
      "---------------\n",
      "Results of KPSS Test:\n",
      "Test Statistic            3.347826\n",
      "p-value                   0.010000\n",
      "Lags Used                20.000000\n",
      "Critical Value (10%)      0.347000\n",
      "Critical Value (5%)       0.463000\n",
      "Critical Value (2.5%)     0.574000\n",
      "Critical Value (1%)       0.739000\n",
      "dtype: float64\n",
      "stationarity from ad_fuller test: False\n",
      "stationarity from KPSS test: False\n"
     ]
    }
   ],
   "source": [
    "alpha = 0.05\n",
    "ad_fuller_results,kpss_test_results = adf_kpss_test(data['temp'], trend='c')\n",
    "ad_fuller_results\n",
    "ad_fuller_pval = ad_fuller_results[1]\n",
    "ad_fuller_bool = ad_fuller_pval <= alpha\n",
    "\n",
    "print(f'stationarity from ad_fuller test: {ad_fuller_bool}')\n",
    "\n",
    "kpss_pval = kpss_test_results[1]\n",
    "kpss_test_bool = kpss_pval >= alpha\n",
    "\n",
    "print(f'stationarity from KPSS test: {kpss_test_bool}')"
   ]
  },
  {
   "cell_type": "markdown",
   "id": "4cdfc8d8",
   "metadata": {},
   "source": [
    "I performed qualitative and quantitative EDA on this data. I started by just looking at the dimensions and seeing the data types present in this dataset. I saw that the first column was dates and the second column was the co2 level stored as floats and the third column was the temperature also stored as a float. The co2 levels ranged from  to 313 to 414. The temperature ranged from 56 to 58 degrees. By looking at the various statistics, I understood a little bit more about the data. In the total 735 rows, I found that there were no missing values or duplicates in either of the columns. Next, I plotted the co2 levels and found that from 1958 to 2019, the co2 increases seasonally. Next, when I plotted the temperature, I saw there was no seasonality but there was also no stationarity because in the plot, I see the variance is not stable and the mean is not stable. In the ACF and PACF plots for each, I saw that the co2 levels had a monthly seasonality because there were spikes at the 12, 24, 36... In the temperature, I saw there was a degree of autocorrelation because there were significant spikes in the ACF and PACF plots. I still performed the adf and kpss tests to ensure my prediction. The ADF and KPSS tests concluded that both co2 and temperature were not stationary."
   ]
  },
  {
   "cell_type": "markdown",
   "id": "2a6bba60",
   "metadata": {},
   "source": [
    "### Part 2. 35 pts – ARIMA with external regressors"
   ]
  },
  {
   "cell_type": "markdown",
   "id": "c6e423c6",
   "metadata": {},
   "source": [
    "#### A. 7 pts Split into train test. Determine the transformation, seasonal differencing & non seasonal differencing orders if required. Include the following: plot of differenced data, ADF results, kpss results, ACF/PACF plots."
   ]
  },
  {
   "cell_type": "markdown",
   "id": "13c2332e",
   "metadata": {},
   "source": [
    "Converting to proper format and setting frequency"
   ]
  },
  {
   "cell_type": "code",
   "execution_count": 21,
   "id": "b272eb78",
   "metadata": {},
   "outputs": [
    {
     "data": {
      "text/plain": [
       "1958-03    57.38\n",
       "1958-04    57.29\n",
       "1958-05    57.32\n",
       "1958-06    57.02\n",
       "1958-07    57.27\n",
       "           ...  \n",
       "2019-01    58.29\n",
       "2019-02    58.37\n",
       "2019-03    58.59\n",
       "2019-04    58.50\n",
       "2019-05    58.50\n",
       "Freq: M, Name: temp, Length: 735, dtype: float64"
      ]
     },
     "execution_count": 21,
     "metadata": {},
     "output_type": "execute_result"
    }
   ],
   "source": [
    "data_series=data['temp']\n",
    "data_series.index=pd.core.indexes.period.PeriodIndex(data.index.tolist(),freq='m')\n",
    "data_series"
   ]
  },
  {
   "cell_type": "code",
   "execution_count": 22,
   "id": "c1809723",
   "metadata": {},
   "outputs": [
    {
     "data": {
      "image/png": "[encoded data removed]",
      "text/plain": [
       "<Figure size 432x288 with 1 Axes>"
      ]
     },
     "metadata": {
      "needs_background": "light"
     },
     "output_type": "display_data"
    }
   ],
   "source": [
    "sns.distplot(data_series)\n",
    "plt.show()"
   ]
  },
  {
   "cell_type": "markdown",
   "id": "00649bee",
   "metadata": {},
   "source": [
    "Here, I saw that the temperature dataseries almost has a normal distribution. Therefore, I felt that we did not need to do a box cox transformation. I went stright to splitting the data and using differencing."
   ]
  },
  {
   "cell_type": "code",
   "execution_count": 23,
   "id": "18babcca",
   "metadata": {},
   "outputs": [],
   "source": [
    "y_train, y_test = temporal_train_test_split(data_series)"
   ]
  },
  {
   "cell_type": "code",
   "execution_count": 24,
   "id": "583d8381",
   "metadata": {},
   "outputs": [
    {
     "data": {
      "text/plain": [
       "1958-04   -0.09\n",
       "1958-05    0.03\n",
       "1958-06   -0.30\n",
       "1958-07    0.25\n",
       "1958-08   -0.17\n",
       "           ... \n",
       "2003-09   -0.03\n",
       "2003-10    0.03\n",
       "2003-11   -0.21\n",
       "2003-12    0.22\n",
       "2004-01   -0.14\n",
       "Freq: M, Name: temp, Length: 550, dtype: float64"
      ]
     },
     "execution_count": 24,
     "metadata": {},
     "output_type": "execute_result"
    }
   ],
   "source": [
    "y_train_nonseas_diff = y_train.diff().dropna()\n",
    "y_train_nonseas_diff"
   ]
  },
  {
   "cell_type": "code",
   "execution_count": 25,
   "id": "ecf5f86f",
   "metadata": {},
   "outputs": [
    {
     "data": {
      "text/plain": [
       "<AxesSubplot:>"
      ]
     },
     "execution_count": 25,
     "metadata": {},
     "output_type": "execute_result"
    },
    {
     "data": {
      "image/png": "[encoded data removed]",
      "text/plain": [
       "<Figure size 432x288 with 1 Axes>"
      ]
     },
     "metadata": {
      "needs_background": "light"
     },
     "output_type": "display_data"
    }
   ],
   "source": [
    "y_train_nonseas_diff.plot()"
   ]
  },
  {
   "cell_type": "code",
   "execution_count": 26,
   "id": "c47878d9",
   "metadata": {},
   "outputs": [
    {
     "name": "stdout",
     "output_type": "stream",
     "text": [
      "Results of Dickey-Fuller Test:\n",
      "Test Statistic                -1.215938e+01\n",
      "p-value                        1.505895e-22\n",
      "#Lags Used                     6.000000e+00\n",
      "Number of Observations Used    5.430000e+02\n",
      "Critical Value (1%)           -3.442450e+00\n",
      "Critical Value (5%)           -2.866877e+00\n",
      "Critical Value (10%)          -2.569613e+00\n",
      "dtype: float64\n",
      "---------------\n",
      "Results of KPSS Test:\n",
      "Test Statistic            0.049108\n",
      "p-value                   0.100000\n",
      "Lags Used                19.000000\n",
      "Critical Value (10%)      0.347000\n",
      "Critical Value (5%)       0.463000\n",
      "Critical Value (2.5%)     0.574000\n",
      "Critical Value (1%)       0.739000\n",
      "dtype: float64\n",
      "stationarity from ad_fuller test: True\n",
      "stationarity from KPSS test: True\n"
     ]
    }
   ],
   "source": [
    "alpha = 0.05\n",
    "ad_fuller_results,kpss_test_results = adf_kpss_test(y_train_nonseas_diff, trend='c')\n",
    "ad_fuller_results\n",
    "ad_fuller_pval = ad_fuller_results[1]\n",
    "ad_fuller_bool = ad_fuller_pval <= alpha\n",
    "\n",
    "print(f'stationarity from ad_fuller test: {ad_fuller_bool}')\n",
    "\n",
    "kpss_pval = kpss_test_results[1]\n",
    "kpss_test_bool = kpss_pval >= alpha\n",
    "\n",
    "print(f'stationarity from KPSS test: {kpss_test_bool}')"
   ]
  },
  {
   "cell_type": "markdown",
   "id": "b34a2274",
   "metadata": {},
   "source": [
    "The plot of the differenced data looks to be stationary. I do not see a varying mean or variance. I moved forward and performed the adf and kpss tests and found that indeed the data was stationary once being differenced."
   ]
  },
  {
   "cell_type": "code",
   "execution_count": 27,
   "id": "12bde416",
   "metadata": {},
   "outputs": [
    {
     "data": {
      "image/png": "[encoded data removed]",
      "text/plain": [
       "<Figure size 432x288 with 1 Axes>"
      ]
     },
     "metadata": {
      "needs_background": "light"
     },
     "output_type": "display_data"
    },
    {
     "data": {
      "image/png": "[encoded data removed]",
      "text/plain": [
       "<Figure size 432x288 with 1 Axes>"
      ]
     },
     "metadata": {
      "needs_background": "light"
     },
     "output_type": "display_data"
    }
   ],
   "source": [
    "p = plot_acf(y_train_nonseas_diff, title='Autocorrelation Plot')\n",
    "p = plot_pacf(y_train_nonseas_diff, title='Partial Autocorrelation Plot')"
   ]
  },
  {
   "cell_type": "markdown",
   "id": "c6f7b985",
   "metadata": {},
   "source": [
    "Above are the acf and pacf plots. I decided to keep the lag at 0 because it helps me confirm that at lag 0, the data correlates with itself and therefore shows 1."
   ]
  },
  {
   "cell_type": "markdown",
   "id": "220a16e0",
   "metadata": {},
   "source": [
    "#### B. 7 pts Fit a SARIMA or ARIMA model based on your examinations. Examine the residuals. Include the following: plot, histogram, ACF, Ljung Box results. Check if auto arima gives you a different order. If this is a better model, examine the residuals of this model."
   ]
  },
  {
   "cell_type": "markdown",
   "id": "67695491",
   "metadata": {},
   "source": [
    "I chose to use 3,1,1 as the order. After analyzing the acf and pacf plots from above, I saw that in the acf plot, it decays after lag 1. So for the MA component, I used 1. When I examined the pacf plot, I saw that the significant lags wer 1,2,and 3 and then it tapers off. I kept the spike at lag 0.\n",
    "The autocorrelation at lag 0 that is the large spike. It is 1.0, so we know that a time series is 100% correlated with itself.  If we take 2 copies of the same time series, which is same as lag=0, we should see 100% correlation.\n",
    "I used this method from the ta session."
   ]
  },
  {
   "cell_type": "code",
   "execution_count": 28,
   "id": "3924bf9c",
   "metadata": {},
   "outputs": [
    {
     "ename": "NameError",
     "evalue": "name 'sm' is not defined",
     "output_type": "error",
     "traceback": [
      "\u001b[1;31m---------------------------------------------------------------------------\u001b[0m",
      "\u001b[1;31mNameError\u001b[0m                                 Traceback (most recent call last)",
      "\u001b[1;32m<ipython-input-28-bfe7a20ae4e9>\u001b[0m in \u001b[0;36m<module>\u001b[1;34m\u001b[0m\n\u001b[1;32m----> 1\u001b[1;33m \u001b[0marima_model\u001b[0m \u001b[1;33m=\u001b[0m \u001b[0msm\u001b[0m\u001b[1;33m.\u001b[0m\u001b[0mtsa\u001b[0m\u001b[1;33m.\u001b[0m\u001b[0mstatespace\u001b[0m\u001b[1;33m.\u001b[0m\u001b[0mSARIMAX\u001b[0m\u001b[1;33m(\u001b[0m\u001b[0mendog\u001b[0m\u001b[1;33m=\u001b[0m\u001b[0my_train\u001b[0m\u001b[1;33m,\u001b[0m\u001b[0morder\u001b[0m\u001b[1;33m=\u001b[0m\u001b[1;33m(\u001b[0m\u001b[1;36m3\u001b[0m\u001b[1;33m,\u001b[0m\u001b[1;36m1\u001b[0m\u001b[1;33m,\u001b[0m\u001b[1;36m1\u001b[0m\u001b[1;33m)\u001b[0m\u001b[1;33m)\u001b[0m\u001b[1;33m\u001b[0m\u001b[1;33m\u001b[0m\u001b[0m\n\u001b[0m\u001b[0;32m      2\u001b[0m \u001b[0marima_fit\u001b[0m \u001b[1;33m=\u001b[0m \u001b[0marima_model\u001b[0m\u001b[1;33m.\u001b[0m\u001b[0mfit\u001b[0m\u001b[1;33m(\u001b[0m\u001b[1;33m)\u001b[0m\u001b[1;33m\u001b[0m\u001b[1;33m\u001b[0m\u001b[0m\n\u001b[0;32m      3\u001b[0m \u001b[0mprint\u001b[0m\u001b[1;33m(\u001b[0m\u001b[0marima_fit\u001b[0m\u001b[1;33m.\u001b[0m\u001b[0msummary\u001b[0m\u001b[1;33m(\u001b[0m\u001b[1;33m)\u001b[0m\u001b[1;33m)\u001b[0m\u001b[1;33m\u001b[0m\u001b[1;33m\u001b[0m\u001b[0m\n",
      "\u001b[1;31mNameError\u001b[0m: name 'sm' is not defined"
     ]
    }
   ],
   "source": [
    "arima_model = sm.tsa.statespace.SARIMAX(endog=y_train,order=(3,1,1))\n",
    "arima_fit = arima_model.fit()\n",
    "print(arima_fit.summary())"
   ]
  },
  {
   "cell_type": "code",
   "execution_count": null,
   "id": "1e81eed5",
   "metadata": {},
   "outputs": [],
   "source": [
    "resid = arima_fit.resid\n",
    "resid=resid[1:]\n",
    "resid.plot()\n",
    "plt.show()"
   ]
  },
  {
   "cell_type": "code",
   "execution_count": null,
   "id": "86d9695a",
   "metadata": {},
   "outputs": [],
   "source": [
    "resid.hist()"
   ]
  },
  {
   "cell_type": "code",
   "execution_count": null,
   "id": "b853fa6a",
   "metadata": {},
   "outputs": [],
   "source": [
    "plot_acf(resid, lags=48)\n",
    "plt.show()"
   ]
  },
  {
   "cell_type": "code",
   "execution_count": null,
   "id": "05c559db",
   "metadata": {},
   "outputs": [],
   "source": [
    "sm.stats.acorr_ljungbox(resid, lags=[10], return_df=True, boxpierce=True)"
   ]
  },
  {
   "cell_type": "markdown",
   "id": "bd8524b5",
   "metadata": {},
   "source": [
    "Now, I will fit an auto arima and see if it gives a better result."
   ]
  },
  {
   "cell_type": "code",
   "execution_count": null,
   "id": "80b40fe0",
   "metadata": {},
   "outputs": [],
   "source": [
    "from pmdarima import auto_arima\n",
    "am=auto_arima(y_train, seasonal=False,start_p=0,d=1,start_q=0,\n",
    "          suppress_warnings=True)\n",
    "am.fit(y_train)"
   ]
  },
  {
   "cell_type": "code",
   "execution_count": null,
   "id": "93429c43",
   "metadata": {},
   "outputs": [],
   "source": [
    "am.summary()"
   ]
  },
  {
   "cell_type": "code",
   "execution_count": null,
   "id": "ff33a8ed",
   "metadata": {},
   "outputs": [],
   "source": [
    "residuals=pd.Series(am.resid())\n",
    "residuals=residuals[1:]"
   ]
  },
  {
   "cell_type": "code",
   "execution_count": null,
   "id": "3d355037",
   "metadata": {},
   "outputs": [],
   "source": [
    "residuals.plot()"
   ]
  },
  {
   "cell_type": "code",
   "execution_count": null,
   "id": "f0328739",
   "metadata": {},
   "outputs": [],
   "source": [
    "residuals.hist()"
   ]
  },
  {
   "cell_type": "code",
   "execution_count": null,
   "id": "a3df4377",
   "metadata": {},
   "outputs": [],
   "source": [
    "plot_acf(residuals, lags=48)\n",
    "plt.show()"
   ]
  },
  {
   "cell_type": "code",
   "execution_count": null,
   "id": "fc14cc83",
   "metadata": {},
   "outputs": [],
   "source": [
    "sm.stats.acorr_ljungbox(residuals, lags=[15], return_df=True, boxpierce=True)"
   ]
  },
  {
   "cell_type": "markdown",
   "id": "18dd9d14",
   "metadata": {},
   "source": [
    "To validate our models, we can look the model residuals. The residuals are the difference between the actual data and the predicted value from the (s)arima model. Based on the visuals above, they are performing as residuals should. \n",
    "\n",
    "Plot (Model 1)\n",
    "\n",
    "The plot of the residuals look like white noise. This way, I can be sure that none of the signal has escaped my model fit and has ended up in the residuals by mistake. \n",
    "\n",
    "Plot (Model 2)\n",
    "\n",
    "Here also, the plot of the residuals look like white noise. This way, I can be sure that none of the signal has escaped my model fit and has ended up in the residuals by mistake.\n",
    "\n",
    "Histogram (Model 1)\n",
    "\n",
    "The residuals should also be normally distributed. My histagram shows a normally distributed model. You can see the mean is centered around 0. A normally distributed residuals describes the actual distribution of the random errors in actuality reasonably well. \n",
    "\n",
    "Histogram (Model 2)\n",
    "\n",
    "Here also, the residuals should also be normally distributed. The two histogram above are very similar with only a slight difference. My histagram shows a normally distributed model. You can see the mean is centered around 0. A normally distributed residuals describes the actual distribution of the random errors in actuality reasonably well.\n",
    "\n",
    "ACF (Model 1)\n",
    "The residuals should not show a trend or autocorrelation, because then we have failed to capture it in our model instead. The residuals should be stationary. In the ACF plot, I can see there isn't much autocorrelation. For ACF the AC at lag 0 that is the only large spike. It is 1.0, so we know that a time series is 100% correlated with itself. If we take 2 copies of the same time series, which is same as lag=0, we see 100% correlation.\n",
    "\n",
    "ACF (Model 2)\n",
    "The residuals should not show a trend or autocorrelation, because then we have failed to capture it in our model instead. The residuals should be stationary. In the ACF plot, I can see there isn't took much autocorrelation. There is however, a spike at the lag 1. This shows there is slight autocorrelation there. The only large spike here, is again at lag 0. This makes sense because at lag 0, the series is autocorrelated with itself.\n",
    "\n",
    "Ljung Box (Model 1)\n",
    "\n",
    "I also performed the Ljung box test (portmanteau). The p-value of the test is 0.43, which is well above 0.05. A significant p-value in this test rejects the null hypothesis that the time series isn't autocorrelated. But since the pvalue is insignificant, we can accept the null hypothesis and confirm that the model does show a lack of fit and there is no autocorrelation and thus is a good model.\n",
    "\n",
    "Ljung Box (Model 2)\n",
    "\n",
    "Here, the p-value of the test is 0.35, which is also well above 0.05. A significant p-value in this test rejects the null hypothesis that the time series isn't autocorrelated. But since the pvalue is insignificant, we can accept the null hypothesis and confirm that the model does show a lack of fit and there is no autocorrelation and thus is a good model."
   ]
  },
  {
   "cell_type": "markdown",
   "id": "96e55b72",
   "metadata": {},
   "source": [
    "#### C. 7 pts Using your best model, predict the test set. Include the following: MAE, MSE, MAPE, sMAPE, MASE. Can use prebuilt functions or calculate by hand."
   ]
  },
  {
   "cell_type": "markdown",
   "id": "23e59e5c",
   "metadata": {},
   "source": [
    "My best model from above was the autoarima one with the order of 2,1,1. This one had a lower aic score: -597 as compared to my arima model which had an aic score of -594. Also, examining the residuals, I saw that the two models were very similar."
   ]
  },
  {
   "cell_type": "code",
   "execution_count": null,
   "id": "fbf90d1f",
   "metadata": {},
   "outputs": [],
   "source": [
    "y_pred = pd.DataFrame(am.predict(n_periods = len(y_test)),index=y_test.index)\n",
    "y_pred.columns = ['temp']"
   ]
  },
  {
   "cell_type": "code",
   "execution_count": null,
   "id": "74307dde",
   "metadata": {},
   "outputs": [],
   "source": [
    "y_pred_series=y_pred['temp']\n",
    "y_pred_series.index=pd.core.indexes.period.PeriodIndex(y_test.index.tolist(),freq='m')\n",
    "y_pred_series"
   ]
  },
  {
   "cell_type": "code",
   "execution_count": null,
   "id": "5d1d1690",
   "metadata": {},
   "outputs": [],
   "source": [
    "y_train.plot()\n",
    "y_test.plot(color = 'grey')\n",
    "y_pred_series.plot(color='red')"
   ]
  },
  {
   "cell_type": "code",
   "execution_count": null,
   "id": "ed648a4c",
   "metadata": {},
   "outputs": [],
   "source": [
    "def MASE(training_series, testing_series, prediction_series):\n",
    "   \n",
    "    n = training_series.shape[0]\n",
    "    d = np.abs(  np.diff( training_series) ).sum()/(n-1)\n",
    "    \n",
    "    errors = np.abs(testing_series - prediction_series )\n",
    "    return errors.mean()/d\n"
   ]
  },
  {
   "cell_type": "code",
   "execution_count": null,
   "id": "e4978ae6",
   "metadata": {},
   "outputs": [],
   "source": [
    "mae = mean_absolute_error(y_test, y_pred_series)\n",
    "mse = mean_squared_error(y_test, y_pred_series)\n",
    "rmse = math.sqrt(mse)\n",
    "smape = smape_loss(y_test, y_pred_series)\n",
    "mape = mape_loss(y_test, y_pred_series)\n",
    "mase= MASE(y_train, y_test, y_pred_series)"
   ]
  },
  {
   "cell_type": "code",
   "execution_count": null,
   "id": "e0b4fb6a",
   "metadata": {},
   "outputs": [],
   "source": [
    "print(f'Mean Squared Error: {mse}')\n",
    "print(f'Root Mean Squared Error: {rmse}')\n",
    "print(f'Mean Absolute Error: {mae}')\n",
    "print(f'SMAPE: {smape}')\n",
    "print(f'MAPE: {mape}')\n",
    "print(f'MASE: {mase}')"
   ]
  },
  {
   "cell_type": "markdown",
   "id": "764f1393",
   "metadata": {},
   "source": [
    "#### D. 7 pts Refit your best model by adding co2 as an external regressor. Examine the residuals of this model."
   ]
  },
  {
   "cell_type": "code",
   "execution_count": null,
   "id": "dd1534ff",
   "metadata": {},
   "outputs": [],
   "source": [
    "import numpy as np\n",
    "import pandas as pd\n",
    "from scipy.stats import norm\n",
    "import statsmodels.api as sm\n",
    "import matplotlib.pyplot as plt\n",
    "from datetime import datetime\n",
    "import requests\n",
    "from io import BytesIO"
   ]
  },
  {
   "cell_type": "code",
   "execution_count": null,
   "id": "be13f928",
   "metadata": {},
   "outputs": [],
   "source": [
    "y_train, y_test = temporal_train_test_split(data)"
   ]
  },
  {
   "cell_type": "code",
   "execution_count": null,
   "id": "fcacaaf1",
   "metadata": {},
   "outputs": [],
   "source": [
    "endog = y_train['temp']\n",
    "exog = y_train['co2']"
   ]
  },
  {
   "cell_type": "code",
   "execution_count": null,
   "id": "dae911f6",
   "metadata": {},
   "outputs": [],
   "source": [
    "endog.index.name='ds'\n",
    "endog.index=pd.core.indexes.period.PeriodIndex(y_train.index.tolist(),freq='m')\n",
    "endog.index"
   ]
  },
  {
   "cell_type": "code",
   "execution_count": null,
   "id": "6dce04e6",
   "metadata": {},
   "outputs": [],
   "source": [
    "exog.index=pd.core.indexes.period.PeriodIndex(y_train.index.tolist(),freq='m')\n",
    "\n",
    "exog.index"
   ]
  },
  {
   "cell_type": "code",
   "execution_count": null,
   "id": "37715e99",
   "metadata": {},
   "outputs": [],
   "source": [
    "mod = sm.tsa.statespace.SARIMAX(endog, exog, order=(2,1,1))\n",
    "exreg = mod.fit(disp=False)\n",
    "print(exreg.summary())"
   ]
  },
  {
   "cell_type": "code",
   "execution_count": null,
   "id": "23cff885",
   "metadata": {},
   "outputs": [],
   "source": [
    "residuals=exreg.resid\n",
    "residuals=residuals[1:]\n",
    "residuals"
   ]
  },
  {
   "cell_type": "code",
   "execution_count": null,
   "id": "1ee4bbba",
   "metadata": {},
   "outputs": [],
   "source": [
    "residuals.plot()\n",
    "plt.show()"
   ]
  },
  {
   "cell_type": "code",
   "execution_count": null,
   "id": "e12f9f2a",
   "metadata": {},
   "outputs": [],
   "source": [
    "residuals.hist()"
   ]
  },
  {
   "cell_type": "code",
   "execution_count": null,
   "id": "a5fadcd0",
   "metadata": {},
   "outputs": [],
   "source": [
    "plot_acf(residuals, lags=48)\n",
    "plt.show()"
   ]
  },
  {
   "cell_type": "code",
   "execution_count": null,
   "id": "f89d7ece",
   "metadata": {},
   "outputs": [],
   "source": [
    "sm.stats.acorr_ljungbox(residuals, lags=[10], return_df=True, boxpierce=True)"
   ]
  },
  {
   "cell_type": "markdown",
   "id": "43286fea",
   "metadata": {},
   "source": [
    "To validate our models, we can look the model residuals. The residuals are the difference between the actual data and the predicted value from the auto arima model. Based on the visuals above, they are performing as residuals should. \n",
    "\n",
    "Plot \n",
    "\n",
    "The plot of the residuals look like white noise. This way, I can be sure that none of the signal has escaped my model fit and has ended up in the residuals by mistake. It also looks pretty stationary.\n",
    "\n",
    "Histogram \n",
    "\n",
    "The residuals should also be normally distributed. My histagram shows a normally distributed model. You can see the mean is centered around 0. A normally distributed residuals describes the actual distribution of the random errors in actuality reasonably well. I also like this histogram because it has a pretty symmetrical bell curve shape.\n",
    "\n",
    "ACF \n",
    "\n",
    "The residuals should not show a trend or autocorrelation, because then we have failed to capture it in our model instead. The residuals should be stationary. In the ACF plot, I can see there isn't much autocorrelation. For ACF the AC at lag 0 that is the only large spike. It is 1.0, so we know that a time series is 100% correlated with itself. If we take 2 copies of the same time series, which is same as lag=0, we see 100% correlation.\n",
    "\n",
    "Ljung Box\n",
    "\n",
    "I also performed the Ljung box test (portmanteau). The p-value of the test is 0.077, which is above 0.05. A significant p-value in this test rejects the null hypothesis that the time series isn't autocorrelated. But since the pvalue is insignificant, we can accept the null hypothesis and confirm that the model does show a lack of fit and there is no autocorrelation and thus is a good model.\n"
   ]
  },
  {
   "cell_type": "markdown",
   "id": "4cd47afe",
   "metadata": {},
   "source": [
    "#### E. 7 pts Predict the test set. Include the following: MAE, MSE, MAPE, sMAPE, MASE. Can use prebuilt functions or calculate by hand."
   ]
  },
  {
   "cell_type": "code",
   "execution_count": null,
   "id": "99d2dc20",
   "metadata": {},
   "outputs": [],
   "source": [
    "predictions = exreg.predict(start = '2004-02', end = '2019-05',exog=y_test['co2'], dynamic= True)\n",
    "predictions"
   ]
  },
  {
   "cell_type": "code",
   "execution_count": null,
   "id": "482772db",
   "metadata": {},
   "outputs": [],
   "source": [
    "y_train_temp=y_train['temp']\n",
    "y_train_temp.index=pd.core.indexes.period.PeriodIndex(y_train['temp'].index.tolist(),freq='m')\n"
   ]
  },
  {
   "cell_type": "code",
   "execution_count": null,
   "id": "0316d3bb",
   "metadata": {},
   "outputs": [],
   "source": [
    "y_test_temp=y_test['temp']\n",
    "y_test_temp.index=pd.core.indexes.period.PeriodIndex(y_test['temp'].index.tolist(),freq='m')\n"
   ]
  },
  {
   "cell_type": "code",
   "execution_count": null,
   "id": "c1c4c160",
   "metadata": {},
   "outputs": [],
   "source": [
    "y_train_temp.plot()\n",
    "y_test_temp.plot(color = 'grey')\n",
    "predictions.plot(color='red')"
   ]
  },
  {
   "cell_type": "code",
   "execution_count": null,
   "id": "c159f722",
   "metadata": {},
   "outputs": [],
   "source": [
    "def MASE(training_series, testing_series, prediction_series):\n",
    "   \n",
    "    n = training_series.shape[0]\n",
    "    d = np.abs(  np.diff( training_series) ).sum()/(n-1)\n",
    "    \n",
    "    errors = np.abs(testing_series - prediction_series )\n",
    "    return errors.mean()/d\n"
   ]
  },
  {
   "cell_type": "code",
   "execution_count": null,
   "id": "edcd851f",
   "metadata": {},
   "outputs": [],
   "source": [
    "mae = mean_absolute_error(y_test_temp, predictions)\n",
    "mse = mean_squared_error(y_test_temp, predictions)\n",
    "rmse = math.sqrt(mse)\n",
    "smape = smape_loss(y_test_temp, predictions)\n",
    "mape = mape_loss(y_test_temp, predictions)\n",
    "mase= MASE(y_train_temp, y_test_temp, predictions)"
   ]
  },
  {
   "cell_type": "code",
   "execution_count": null,
   "id": "ef4b8c2a",
   "metadata": {},
   "outputs": [],
   "source": [
    "print(f'Mean Squared Error: {mse}')\n",
    "print(f'Root Mean Squared Error: {rmse}')\n",
    "print(f'Mean Absolute Error: {mae}')\n",
    "print(f'SMAPE: {smape}')\n",
    "print(f'MAPE: {mape}')\n",
    "print(f'MASE: {mase}')"
   ]
  },
  {
   "cell_type": "markdown",
   "id": "c705d2ee",
   "metadata": {},
   "source": [
    "### Part 3. 35 pts – Prophet with additional regressors"
   ]
  },
  {
   "cell_type": "markdown",
   "id": "9141fb24",
   "metadata": {},
   "source": [
    "#### A. 10 pts Using the same train test split as part 2, fit a prophet model to your NON-differenced training set. Examine the residuals. Using the predicted values and y train, calculate the following: MAE, MSE, MAPE, sMAPE, MASE. Can use prebuilt functions or calculate by hand.\n"
   ]
  },
  {
   "cell_type": "code",
   "execution_count": null,
   "id": "79b4a799",
   "metadata": {},
   "outputs": [],
   "source": [
    "import pystan\n",
    "import copy\n",
    "import matplotlib.pyplot as plt\n",
    "\n",
    "import pandas as pd\n",
    "from util_prophet import *\n",
    "from fbprophet import Prophet"
   ]
  },
  {
   "cell_type": "code",
   "execution_count": null,
   "id": "62a75144",
   "metadata": {},
   "outputs": [],
   "source": [
    "data_temp=data['temp']\n",
    "data_temp"
   ]
  },
  {
   "cell_type": "code",
   "execution_count": null,
   "id": "7fa639c8",
   "metadata": {},
   "outputs": [],
   "source": [
    "y_train, y_test = temporal_train_test_split(data_temp)"
   ]
  },
  {
   "cell_type": "code",
   "execution_count": null,
   "id": "710469fb",
   "metadata": {},
   "outputs": [],
   "source": [
    "y_train = y_train.reset_index()\n",
    "y_test = y_test.reset_index()\n",
    "y_train = y_train.rename(columns={'temp': 'y','index':'ds'})\n",
    "y_test = y_test.rename(columns={'temp': 'y','index':'ds'})"
   ]
  },
  {
   "cell_type": "code",
   "execution_count": null,
   "id": "144a06ed",
   "metadata": {},
   "outputs": [],
   "source": [
    "y_train['ds'] = y_train['ds'].dt.to_timestamp('s')\n",
    "y_test['ds'] = y_test['ds'].dt.to_timestamp('s')"
   ]
  },
  {
   "cell_type": "code",
   "execution_count": null,
   "id": "d269caf7",
   "metadata": {},
   "outputs": [],
   "source": [
    "model = Prophet()\n",
    "model.fit(y_train)"
   ]
  },
  {
   "cell_type": "code",
   "execution_count": null,
   "id": "c237be5b",
   "metadata": {},
   "outputs": [],
   "source": [
    "future_data = model.make_future_dataframe(periods=len(y_test), freq='m')"
   ]
  },
  {
   "cell_type": "code",
   "execution_count": null,
   "id": "f4523fe9",
   "metadata": {},
   "outputs": [],
   "source": [
    "forecast_data = model.predict(future_data)\n",
    "forecast_data.iloc[0:3]"
   ]
  },
  {
   "cell_type": "code",
   "execution_count": null,
   "id": "088fbdb8",
   "metadata": {},
   "outputs": [],
   "source": [
    "p = model.plot(forecast_data)"
   ]
  },
  {
   "cell_type": "code",
   "execution_count": null,
   "id": "00e4da9c",
   "metadata": {},
   "outputs": [],
   "source": [
    "p = model.plot(forecast_data)\n",
    "plt.scatter(pd.to_datetime(y_test['ds']),pd.to_numeric(y_test['y']), color='r', marker='.')\n",
    "plt.show()"
   ]
  },
  {
   "cell_type": "code",
   "execution_count": null,
   "id": "0120e291",
   "metadata": {},
   "outputs": [],
   "source": [
    "residuals =  y_train['y']-forecast_data['yhat'][:551] \n",
    "residuals=residuals[1:]\n",
    "residuals"
   ]
  },
  {
   "cell_type": "code",
   "execution_count": null,
   "id": "680b91ee",
   "metadata": {},
   "outputs": [],
   "source": [
    "residuals.plot()"
   ]
  },
  {
   "cell_type": "code",
   "execution_count": null,
   "id": "91cc3ac8",
   "metadata": {},
   "outputs": [],
   "source": [
    "residuals.hist()"
   ]
  },
  {
   "cell_type": "code",
   "execution_count": null,
   "id": "949844c4",
   "metadata": {},
   "outputs": [],
   "source": [
    "plot_acf(residuals, lags=48)\n",
    "plt.show()"
   ]
  },
  {
   "cell_type": "code",
   "execution_count": null,
   "id": "4eca39da",
   "metadata": {},
   "outputs": [],
   "source": [
    "sm.stats.acorr_ljungbox(residuals, lags=[15], return_df=True, boxpierce=True)"
   ]
  },
  {
   "cell_type": "markdown",
   "id": "75f0c916",
   "metadata": {},
   "source": [
    "To validate our models, we can look the model residuals. The residuals are the difference between the actual data and the predicted value from the auto arima model. Based on the visuals above, they are performing as residuals should. \n",
    "\n",
    "Plot \n",
    "\n",
    "The plot of the residuals look like white noise. This way, I can be sure that none of the signal has escaped my model fit and has ended up in the residuals by mistake. It also looks pretty stationary, except I do see one or two outlier points.\n",
    "\n",
    "Histogram \n",
    "\n",
    "The residuals should also be normally distributed. My histagram shows a normally distributed model. You can see the mean is centered around 0. A normally distributed residuals describes the actual distribution of the random errors in actuality reasonably well. I also like this histogram because it has a pretty symmetrical bell curve shape.\n",
    "\n",
    "ACF \n",
    "\n",
    "The residuals should not show a trend or autocorrelation, because then we have failed to capture it in our model instead. The residuals should be stationary. In the ACF plot, I can see there isn't much autocorrelation towards the end, but at lags 9 through 19, I see autocorrelation. For ACF the AC at lag 0 there is a large spike. It is 1.0, so we know that a time series is 100% correlated with itself. If we take 2 copies of the same time series, which is same as lag=0, we see 100% correlation. But, for the other lags: lags 9-19, there is negative autcorrelation her. So, the forecasts will predict lower values following outcomes that were higher than expected, and higher values following outcomes that were lower than expected. I thought about why there could be auto correlation here. May be there needs to be some change points? Let's play around with this in the next part\n",
    "\n",
    "Ljung Box\n",
    "\n",
    "I also performed the Ljung box test (portmanteau). The p-value of the test is close to 0, which is less than 0.05. A significant p-value in this test rejects the null hypothesis that the time series isn't autocorrelated. Since the pvalue is significant, we can reject the null hypothesis and confirm that the model does not show a lack of fit and there is autocorrelation and thus is not a good model."
   ]
  },
  {
   "cell_type": "markdown",
   "id": "d88e5e0c",
   "metadata": {},
   "source": [
    "Now, I do the error metrics on the TRAINING set"
   ]
  },
  {
   "cell_type": "code",
   "execution_count": null,
   "id": "10405c9f",
   "metadata": {},
   "outputs": [],
   "source": [
    "y_pred=forecast_data['yhat'][:551]\n",
    "y_pred"
   ]
  },
  {
   "cell_type": "code",
   "execution_count": null,
   "id": "ad89807f",
   "metadata": {},
   "outputs": [],
   "source": [
    "def MASE(training_series, testing_series, prediction_series):\n",
    "      \n",
    "    n = training_series.shape[0]\n",
    "    d = np.abs(  np.diff( training_series) ).sum()/(n-1)\n",
    "    \n",
    "    errors = np.abs(testing_series - prediction_series )\n",
    "    return errors.mean()/d"
   ]
  },
  {
   "cell_type": "code",
   "execution_count": null,
   "id": "68ac688d",
   "metadata": {},
   "outputs": [],
   "source": [
    "mae = mean_absolute_error(y_train['y'], y_pred)\n",
    "mse = mean_squared_error(y_train['y'], y_pred)\n",
    "rmse = math.sqrt(mse)\n",
    "smape = smape_loss(y_train['y'], y_pred)\n",
    "mape = mape_loss(y_train['y'], y_pred)\n",
    "mase= mae/MASE(y_train['y'], y_train['y'], y_pred)\n"
   ]
  },
  {
   "cell_type": "code",
   "execution_count": null,
   "id": "16de4550",
   "metadata": {},
   "outputs": [],
   "source": [
    "print(f'Mean Squared Error: {mse}')\n",
    "print(f'Root Mean Squared Error: {rmse}')\n",
    "print(f'Mean Absolute Error: {mae}')\n",
    "print(f'SMAPE: {smape}')\n",
    "print(f'MAPE: {mape}')\n",
    "print(f'MASE: {mase}')"
   ]
  },
  {
   "cell_type": "markdown",
   "id": "87a413d8",
   "metadata": {},
   "source": [
    "#### B. 10 pts Adjust seasonality, changepoint priors or other methods to see if you can create a better fit model. Examine the residuals. Using the predicted values and y train, calculate the following: MAE, MSE, MAPE, sMAPE, MASE. Can use prebuilt functions or calculate by hand.\n"
   ]
  },
  {
   "cell_type": "code",
   "execution_count": null,
   "id": "16d7e0e9",
   "metadata": {},
   "outputs": [],
   "source": [
    "from fbprophet.diagnostics import cross_validation\n",
    "import itertools\n",
    "import numpy as np\n",
    "import pandas as pd"
   ]
  },
  {
   "cell_type": "code",
   "execution_count": null,
   "id": "268de4a3",
   "metadata": {},
   "outputs": [],
   "source": [
    "y_train['ds']= pd.to_datetime(y_train['ds'])\n"
   ]
  },
  {
   "cell_type": "code",
   "execution_count": null,
   "id": "b8464c7a",
   "metadata": {},
   "outputs": [],
   "source": [
    "cutoffs = pd.to_datetime([ '1975-02-01', '1985-02-01','1995-02-01'])\n",
    "\n",
    "param_grid = {  \n",
    "    'changepoint_prior_scale': [0.001, 0.01, 0.1,0.5 ],\n",
    "    'seasonality_prior_scale': [0.01, 0.1, 1.0,10.0],\n",
    "}\n",
    "\n",
    "# Generate all combinations of parameters\n",
    "all_params = [dict(zip(param_grid.keys(), v)) for v in itertools.product(*param_grid.values())]\n",
    "rmses = []  # Store the RMSEs for each params here\n",
    "\n",
    "# Use cross validation to evaluate all parameters\n",
    "for params in all_params:\n",
    "    m = Prophet(**params).fit(y_train)  # Fit model with given params\n",
    "    df_cv = cross_validation(m, cutoffs=cutoffs, horizon='30 days', parallel=\"processes\")\n",
    "    df_p = performance_metrics(df_cv, rolling_window=1)\n",
    "    rmses.append(df_p['rmse'].values[0])\n",
    "\n",
    "# Find the best parameters\n",
    "tuning_results = pd.DataFrame(all_params)\n",
    "tuning_results['rmse'] = rmses\n",
    "print(tuning_results)"
   ]
  },
  {
   "cell_type": "markdown",
   "id": "1c57e4c2",
   "metadata": {},
   "source": [
    "I used hyper parameter tuning and tried different combinations of change point prior and seasonality priors and found the combination that had the lowest rmse. In this, I found that the lowest rmse of 0.048836 resulted from a model where the changepoint prior was 0.01 and the seasonality prior was 0.1"
   ]
  },
  {
   "cell_type": "code",
   "execution_count": null,
   "id": "0693669f",
   "metadata": {},
   "outputs": [],
   "source": [
    "modeltuned = Prophet(changepoint_prior_scale=0.01, seasonality_prior_scale=0.1,yearly_seasonality=False)\n",
    "# modeltuned.add_seasonality(\n",
    "#         name='yearly', period =1, fourier_order=5)\n",
    "modeltuned.fit(y_train)\n",
    "future_data = modeltuned.make_future_dataframe(periods=len(y_test), freq='m')\n",
    "forecast_data = modeltuned.predict(future_data)\n",
    "forecast_data[:3]"
   ]
  },
  {
   "cell_type": "code",
   "execution_count": null,
   "id": "b08dea91",
   "metadata": {},
   "outputs": [],
   "source": [
    "p = modeltuned.plot(forecast_data)\n",
    "plt.show()"
   ]
  },
  {
   "cell_type": "code",
   "execution_count": null,
   "id": "dfa52505",
   "metadata": {},
   "outputs": [],
   "source": [
    "residuals = y_train['y']-forecast_data['yhat'][:551] \n",
    "residuals=residuals[1:]\n",
    "residuals"
   ]
  },
  {
   "cell_type": "code",
   "execution_count": null,
   "id": "eca39ca7",
   "metadata": {},
   "outputs": [],
   "source": [
    "residuals.plot()"
   ]
  },
  {
   "cell_type": "code",
   "execution_count": null,
   "id": "db32cd5a",
   "metadata": {},
   "outputs": [],
   "source": [
    "residuals.hist()"
   ]
  },
  {
   "cell_type": "code",
   "execution_count": null,
   "id": "c7346ab5",
   "metadata": {},
   "outputs": [],
   "source": [
    "plot_acf(residuals, lags=48)\n",
    "plt.show()"
   ]
  },
  {
   "cell_type": "code",
   "execution_count": null,
   "id": "fc90df40",
   "metadata": {},
   "outputs": [],
   "source": [
    "sm.stats.acorr_ljungbox(residuals, lags=[15], return_df=True, boxpierce=True)"
   ]
  },
  {
   "cell_type": "markdown",
   "id": "0f5d18f9",
   "metadata": {},
   "source": [
    "To validate our models, we can look the model residuals. The residuals are the difference between the actual data and the predicted value from the auto arima model. Based on the visuals above, they are performing as residuals should. \n",
    "\n",
    "Plot \n",
    "\n",
    "The plot of the residuals look like white noise. This way, I can be sure that none of the signal has escaped my model fit and has ended up in the residuals by mistake. It also looks pretty stationary, except I do see one or two outlier points.\n",
    "\n",
    "Histogram \n",
    "\n",
    "The residuals should also be normally distributed. My histagram shows a normally distributed model. You can see the mean is centered around 0. A normally distributed residuals describes the actual distribution of the random errors in actuality reasonably well. I also like this histogram because it has a pretty symmetrical bell curve shape.\n",
    "\n",
    "ACF \n",
    "\n",
    "The residuals should not show a trend or autocorrelation, because then we have failed to capture it in our model instead. The residuals should be stationary. In the ACF plot, I can see there isn't much autocorrelation towards the end, but at lags 1 through 6, I see autocorrelation. For ACF the AC at lag 0 there is a large spike. It is 1.0, so we know that a time series is 100% correlated with itself. If we take 2 copies of the same time series, which is same as lag=0, we see 100% correlation. But, for the other lags: lags 1-6, there is positive autcorrelation here. \n",
    "\n",
    "Ljung Box\n",
    "\n",
    "I also performed the Ljung box test (portmanteau). The p-value of the test is close to 0, which is less than 0.05. A significant p-value in this test rejects the null hypothesis that the time series isn't autocorrelated. Since the pvalue is significant, we can reject the null hypothesis and confirm that the model does not show a lack of fit and there is autocorrelation and thus is not a good model."
   ]
  },
  {
   "cell_type": "code",
   "execution_count": null,
   "id": "9203c023",
   "metadata": {},
   "outputs": [],
   "source": [
    "y_pred=forecast_data['yhat'][:551]"
   ]
  },
  {
   "cell_type": "code",
   "execution_count": null,
   "id": "3c270708",
   "metadata": {},
   "outputs": [],
   "source": [
    "def MASE(training_series, testing_series, prediction_series):\n",
    "   \n",
    "    n = training_series.shape[0]\n",
    "    d = np.abs(  np.diff( training_series) ).sum()/(n-1)\n",
    "    \n",
    "    errors = np.abs(testing_series - prediction_series )\n",
    "    return errors.mean()/d"
   ]
  },
  {
   "cell_type": "code",
   "execution_count": null,
   "id": "41391eaa",
   "metadata": {},
   "outputs": [],
   "source": [
    "mae = mean_absolute_error(y_train['y'], y_pred)\n",
    "mse = mean_squared_error(y_train['y'], y_pred)\n",
    "rmse = math.sqrt(mse)\n",
    "smape = smape_loss(y_train['y'], y_pred)\n",
    "mape = mape_loss(y_train['y'], y_pred)\n",
    "mase= MASE(y_train['y'], y_train['y'], y_pred)"
   ]
  },
  {
   "cell_type": "code",
   "execution_count": null,
   "id": "36d5ada4",
   "metadata": {},
   "outputs": [],
   "source": [
    "print(f'Mean Squared Error: {mse}')\n",
    "print(f'Root Mean Squared Error: {rmse}')\n",
    "print(f'Mean Absolute Error: {mae}')\n",
    "print(f'SMAPE: {smape}')\n",
    "print(f'MAPE: {mape}')\n",
    "print(f'MASE: {mase}')"
   ]
  },
  {
   "cell_type": "code",
   "execution_count": null,
   "id": "2f9ffa74",
   "metadata": {},
   "outputs": [],
   "source": [
    "###########################"
   ]
  },
  {
   "cell_type": "markdown",
   "id": "cb9c78bc",
   "metadata": {},
   "source": [
    "Here, I try another paprameter option to see if I see any change or improvements. I removed the seasonality prior scale."
   ]
  },
  {
   "cell_type": "code",
   "execution_count": null,
   "id": "e97847e3",
   "metadata": {},
   "outputs": [],
   "source": [
    "modeltuned = Prophet(changepoint_prior_scale=0.01,yearly_seasonality=False)\n",
    "\n",
    "modeltuned.fit(y_train)\n",
    "future_data = modeltuned.make_future_dataframe(periods=len(y_test), freq='m')\n",
    "forecast_data = modeltuned.predict(future_data)\n",
    "forecast_data[:3]"
   ]
  },
  {
   "cell_type": "code",
   "execution_count": null,
   "id": "cff2dcfd",
   "metadata": {},
   "outputs": [],
   "source": [
    "residuals = y_train['y']-forecast_data['yhat'][:551] \n",
    "residuals=residuals[1:]\n",
    "residuals"
   ]
  },
  {
   "cell_type": "code",
   "execution_count": null,
   "id": "61343f29",
   "metadata": {},
   "outputs": [],
   "source": [
    "plot_acf(residuals, lags=48)\n",
    "plt.show()"
   ]
  },
  {
   "cell_type": "code",
   "execution_count": null,
   "id": "15e3fe95",
   "metadata": {},
   "outputs": [],
   "source": [
    "y_pred=forecast_data['yhat'][:551]"
   ]
  },
  {
   "cell_type": "code",
   "execution_count": null,
   "id": "eab1d00e",
   "metadata": {},
   "outputs": [],
   "source": [
    "def MASE(training_series, testing_series, prediction_series):\n",
    "   \n",
    "    n = training_series.shape[0]\n",
    "    d = np.abs(  np.diff( training_series) ).sum()/(n-1)\n",
    "    \n",
    "    errors = np.abs(testing_series - prediction_series )\n",
    "    return errors.mean()/d"
   ]
  },
  {
   "cell_type": "code",
   "execution_count": null,
   "id": "0c6dbbe1",
   "metadata": {},
   "outputs": [],
   "source": [
    "mae = mean_absolute_error(y_train['y'], y_pred)\n",
    "mse = mean_squared_error(y_train['y'], y_pred)\n",
    "rmse = math.sqrt(mse)\n",
    "smape = smape_loss(y_train['y'], y_pred)\n",
    "mape = mape_loss(y_train['y'], y_pred)\n",
    "mase= MASE(y_train['y'], y_train['y'], y_pred)"
   ]
  },
  {
   "cell_type": "code",
   "execution_count": null,
   "id": "83b67da0",
   "metadata": {},
   "outputs": [],
   "source": [
    "print(f'Mean Squared Error: {mse}')\n",
    "print(f'Root Mean Squared Error: {rmse}')\n",
    "print(f'Mean Absolute Error: {mae}')\n",
    "print(f'SMAPE: {smape}')\n",
    "print(f'MAPE: {mape}')\n",
    "print(f'MASE: {mase}')"
   ]
  },
  {
   "cell_type": "markdown",
   "id": "e8535147",
   "metadata": {},
   "source": [
    "#### C. 10 pts Using your best prophet model, include co2 as an external regressor. Predict the test set. Include the following: MAE, MSE, MAPE, sMAPE, MASE. Can use prebuilt functions or calculate by hand.\n"
   ]
  },
  {
   "cell_type": "code",
   "execution_count": null,
   "id": "001bd872",
   "metadata": {},
   "outputs": [],
   "source": [
    "y_train, y_test = temporal_train_test_split(data_temp)\n",
    "y_train = y_train.reset_index()\n",
    "y_test = y_test.reset_index()\n",
    "y_train = y_train.rename(columns={'temp': 'y','index':'ds'})\n",
    "y_test = y_test.rename(columns={'temp': 'y','index':'ds'})\n",
    "y_train['ds'] = y_train['ds'].dt.to_timestamp('s')\n",
    "y_test['ds'] = y_test['ds'].dt.to_timestamp('s')"
   ]
  },
  {
   "cell_type": "code",
   "execution_count": null,
   "id": "5d92b136",
   "metadata": {},
   "outputs": [],
   "source": [
    "y_train['co2']=data['co2'][:551].values\n",
    "y_test['co2']=data['co2'][551:].values\n"
   ]
  },
  {
   "cell_type": "code",
   "execution_count": null,
   "id": "04027bf9",
   "metadata": {},
   "outputs": [],
   "source": [
    "modeltuned = Prophet(changepoint_prior_scale=0.001, seasonality_prior_scale=0.01,yearly_seasonality=False)\n",
    "modeltuned.add_regressor('co2')\n",
    "modeltuned.fit(y_train)"
   ]
  },
  {
   "cell_type": "code",
   "execution_count": null,
   "id": "33a53849",
   "metadata": {},
   "outputs": [],
   "source": [
    "future_data = modeltuned.make_future_dataframe(periods=len(y_test), freq='m')\n",
    "forecast_data = model.predict(future_data)"
   ]
  },
  {
   "cell_type": "code",
   "execution_count": null,
   "id": "c0b07e1a",
   "metadata": {},
   "outputs": [],
   "source": [
    "p = model.plot(forecast_data)"
   ]
  },
  {
   "cell_type": "code",
   "execution_count": null,
   "id": "2c38a6fc",
   "metadata": {
    "scrolled": true
   },
   "outputs": [],
   "source": [
    "p = model.plot(forecast_data)\n",
    "plt.scatter(pd.to_datetime(y_test['ds']),pd.to_numeric(y_test['y']), color='r', marker='.')\n",
    "plt.show()"
   ]
  },
  {
   "cell_type": "code",
   "execution_count": null,
   "id": "46fb80c5",
   "metadata": {},
   "outputs": [],
   "source": [
    "residuals = forecast_data['yhat'][:551] - y_train['y']\n",
    "residuals=residuals[1:]\n",
    "residuals"
   ]
  },
  {
   "cell_type": "code",
   "execution_count": null,
   "id": "e4a5eb6d",
   "metadata": {},
   "outputs": [],
   "source": [
    "residuals.plot()"
   ]
  },
  {
   "cell_type": "code",
   "execution_count": null,
   "id": "5912ed7f",
   "metadata": {},
   "outputs": [],
   "source": [
    "residuals.hist()"
   ]
  },
  {
   "cell_type": "code",
   "execution_count": null,
   "id": "53aed2a0",
   "metadata": {},
   "outputs": [],
   "source": [
    "plot_acf(residuals, lags=48)\n",
    "plt.show()"
   ]
  },
  {
   "cell_type": "code",
   "execution_count": null,
   "id": "264785f0",
   "metadata": {},
   "outputs": [],
   "source": [
    "sm.stats.acorr_ljungbox(residuals, lags=[15], return_df=True, boxpierce=True)"
   ]
  },
  {
   "cell_type": "markdown",
   "id": "22e20ca4",
   "metadata": {},
   "source": [
    "To validate our models, we can look the model residuals. The residuals are the difference between the actual data and the predicted value from the auto arima model. Based on the visuals above, they are performing as residuals should. \n",
    "\n",
    "Plot \n",
    "\n",
    "The plot of the residuals look like white noise. This way, I can be sure that none of the signal has escaped my model fit and has ended up in the residuals by mistake. It also looks pretty stationary, except I do see one or two outlier points.\n",
    "\n",
    "Histogram \n",
    "\n",
    "The residuals should also be normally distributed. My histagram shows a normally distributed model. You can see the mean is centered around 0. A normally distributed residuals describes the actual distribution of the random errors in actuality reasonably well. I also like this histogram because it has a pretty symmetrical bell curve shape.\n",
    "\n",
    "ACF \n",
    "\n",
    "The residuals should not show a trend or autocorrelation, because then we have failed to capture it in our model instead. The residuals should be stationary. In the ACF plot, I can see there isn't much autocorrelation towards the end, but at lags 9 through 19, I see autocorrelation. For ACF the AC at lag 0 there is a large spike. It is 1.0, so we know that a time series is 100% correlated with itself. If we take 2 copies of the same time series, which is same as lag=0, we see 100% correlation. But, for the other lags: lags 9-19, there is negative autcorrelation here. It will be good to look into this more and see if I can do any differencing before hand. \n",
    "\n",
    "Ljung Box\n",
    "\n",
    "I also performed the Ljung box test (portmanteau). The p-value of the test is close to 0, which is less than 0.05. A significant p-value in this test rejects the null hypothesis that the time series isn't autocorrelated. Since the pvalue is significant, we can reject the null hypothesis and confirm that the model does not show a lack of fit and there is autocorrelation and thus is not a good model."
   ]
  },
  {
   "cell_type": "markdown",
   "id": "f00f9714",
   "metadata": {},
   "source": [
    "Predicting on TEST set"
   ]
  },
  {
   "cell_type": "code",
   "execution_count": null,
   "id": "1a395a3d",
   "metadata": {},
   "outputs": [],
   "source": [
    "y_pred=forecast_data['yhat'][551:]"
   ]
  },
  {
   "cell_type": "code",
   "execution_count": null,
   "id": "6d2901dc",
   "metadata": {},
   "outputs": [],
   "source": [
    "y_pred=y_pred.reset_index()\n",
    "y_pred=y_pred.yhat"
   ]
  },
  {
   "cell_type": "code",
   "execution_count": null,
   "id": "42b8e895",
   "metadata": {},
   "outputs": [],
   "source": [
    "y_pred"
   ]
  },
  {
   "cell_type": "code",
   "execution_count": null,
   "id": "8b80758a",
   "metadata": {},
   "outputs": [],
   "source": [
    "def MASE(training_series, testing_series, prediction_series):\n",
    "   \n",
    "    n = training_series.shape[0]\n",
    "    d = np.abs(  np.diff( training_series) ).sum()/(n-1)\n",
    "    \n",
    "    errors = np.abs(testing_series - prediction_series )\n",
    "    return errors.mean()/d"
   ]
  },
  {
   "cell_type": "code",
   "execution_count": null,
   "id": "ca9049b0",
   "metadata": {},
   "outputs": [],
   "source": [
    "mae = mean_absolute_error(y_test['y'], y_pred)\n",
    "mse = mean_squared_error(y_test['y'], y_pred)\n",
    "rmse = math.sqrt(mse)\n",
    "smape = smape_loss(y_test['y'], y_pred)\n",
    "mape = mape_loss(y_test['y'], y_pred)\n",
    "mase= MASE(y_train['y'], y_test['y'], y_pred)"
   ]
  },
  {
   "cell_type": "code",
   "execution_count": null,
   "id": "23c45825",
   "metadata": {},
   "outputs": [],
   "source": [
    "print(f'Mean Squared Error: {mse}')\n",
    "print(f'Root Mean Squared Error: {rmse}')\n",
    "print(f'Mean Absolute Error: {mae}')\n",
    "print(f'SMAPE: {smape}')\n",
    "print(f'MAPE: {mape}')\n",
    "print(f'MASE: {mase}')"
   ]
  },
  {
   "cell_type": "markdown",
   "id": "9b4597ba",
   "metadata": {},
   "source": [
    "#### D. 5 pts Give a summary of your modeling in prophet. What improved the model, what made the fit worse. Give your reasonings why this would happen given the patterns in the data."
   ]
  },
  {
   "cell_type": "markdown",
   "id": "5a183fe6",
   "metadata": {},
   "source": [
    "First, I ran a simple prophet model without much hypertuning or parameters. This gave me a model with somewhat okay error metrics. I wanted to play around with some of the hyperparameter some more. I used a forloop and ran through a combination of various parameters and chose the one with the lowest rmse score. Therefore, I decided to look into the following:"
   ]
  },
  {
   "cell_type": "markdown",
   "id": "5aca1b1c",
   "metadata": {},
   "source": [
    "changepoint_prior_scale\n",
    "\n",
    "Prophet model allow you set set change points. Instead of manually setting my change points, I decided to use a change point scale. I decided to do this because I want the model to automatically choose and I wanted to just tell it how strongly I wanted the model to set the change points. Each changepoint is an opportunity for the underlying curve to change its slope.\n",
    "\n",
    "I saw that smaller prior scales result in fewer changepoints and less flexible curves. When I increased this scale, I didn;t see too much of a difference but I did notice that the errors slightly increased. Therefore, I settled with a changepoint prior scale of 0.001. This is pretty (less) flexible. "
   ]
  },
  {
   "cell_type": "markdown",
   "id": "ed6f14cf",
   "metadata": {},
   "source": [
    "seasonality_prior_scale\n",
    "\n",
    "For the seasonality prior scale, there wasn't any seasonality in the data for temperature. However, I still decided to include this metric and set it to 0.01. I wanted to see if this would have any affect. I also tried to remove this metric and try once more. However, I saw that it gave me the exact same residuals and error metrics. Therefore, I decided to continue with the external regressor using this."
   ]
  },
  {
   "cell_type": "markdown",
   "id": "b63929e5",
   "metadata": {},
   "source": [
    "yearly_seasonality=False\n",
    "\n",
    "I set yearly seasonality to false because in my eda, I did not see much seasonality with the temperature data."
   ]
  },
  {
   "cell_type": "markdown",
   "id": "65e26098",
   "metadata": {},
   "source": [
    "Impovements\n",
    "\n",
    "- Some things that improved my model were changing the change point prior.\n",
    "\n",
    "Did not Improve\n",
    "- Change the seasonality prior did not really improve or worsen my model\n",
    "- Adding or shifting fourier order also did not and this makes sense because the temperature did not have seasonality."
   ]
  },
  {
   "cell_type": "markdown",
   "id": "42f0eaf7",
   "metadata": {},
   "source": [
    "Prophet is a procedure for forecasting time series data based on an additive model where non-linear trends are fit with various seasonalityies such as: yearly, weekly, and daily seasonality. It also takes into account the holiday effects. It works best with time series that have strong seasonal effects and several seasons of historical data. Prophet is robust to missing data and shifts in the trend, and typically handles outliers well. In this dataset, I felt that especially for predicting temperature, there wasn't seasonal historical data. FbProphet doesn't look for any such causal relationships between past and future data points. Instead, it simply tries to find the best curve to fit to the data, using a linear or logistic curve, and Fourier coefficients for the seasonal components. I didn't need to use the latter: the fourier or seasonal component becuase I saw no evidence from my eda to use such parameters. In the graphs that we observed, there was an increasng trend but not much of a seasonality. Even in the acf and pacf at the eda step, we observed that for temperature, there were significant lags that showed seasonality. For example, there weren't spikes at every 7th or 12th interval to indicate weekly or monthly seasonality respectively. Also, since it is temperature data, holidays and saturation don't need to be involved in the prophet model or taken into account. Therefore, the prophet model doesn't really make sense to use because a lot of its benefit are not needed for this particular type of data."
   ]
  },
  {
   "cell_type": "markdown",
   "id": "e0c3b90d",
   "metadata": {},
   "source": [
    "Prophet looks to fit the best curve to the historical data. Since fitting a curve to a limited data set over a specific time period, it doesn't give much insight into how it will behave outside the dataset.\n"
   ]
  },
  {
   "cell_type": "markdown",
   "id": "5a315387",
   "metadata": {},
   "source": [
    "### Part 4. 10 pts – conclusion\n"
   ]
  },
  {
   "cell_type": "markdown",
   "id": "145564d0",
   "metadata": {},
   "source": [
    "\n",
    "#### A. 5 pts Which was the best model according to your error metrics?\n"
   ]
  },
  {
   "cell_type": "markdown",
   "id": "259d2208",
   "metadata": {},
   "source": [
    "Error metrics from autoarima model (2e)\n",
    "\n",
    "- Mean Squared Error: 0.03522246690530079\n",
    "\n",
    "- Root Mean Squared Error: 0.18767649534584982\n",
    "\n",
    "- Mean Absolute Error: 0.1453903511764194\n",
    "\n",
    "- SMAPE: 0.00250264837914994\n",
    "\n",
    "- MAPE: 0.0025048279491150737\n",
    "\n",
    "- MASE: 1.1390981929776447\n",
    "\n",
    "Error metrics from prophet model (3c)\n",
    "\n",
    "- Mean Squared Error: 0.06419199330503615\n",
    "- Root Mean Squared Error: 0.25336138874152897\n",
    "- Mean Absolute Error: 0.20872390431525784\n",
    "- SMAPE: 0.003589937275188862\n",
    "- MAPE: 0.003598280970285912\n",
    "- MASE: 1.6353012446352106"
   ]
  },
  {
   "cell_type": "markdown",
   "id": "f49907a4",
   "metadata": {},
   "source": [
    "Mean Squared Error\n",
    "\n",
    "According to the mean squared error, which tells you how close a regression line is to a set of points, the auto arima is better. It has a MSE of 0.035, while the prophet model has a mean squared error of 0.064. The smaller the means squared error, the closer you are to finding the line of best fit. The auto arima is smaller and therefore had predictions that are closer to the actual."
   ]
  },
  {
   "cell_type": "markdown",
   "id": "777b1ea8",
   "metadata": {},
   "source": [
    "Mean absolute error\n",
    "\n",
    "MAE measures the average magnitude of the errors in a set of predictions, without considering their direction. On an average, I will mis-predict a day’s temperature degree by 0.14 if I use the auto arima model. If I use the prophet model, on average, I will mis predict a day's temperature by 0.20. Whether I will predict more or less, is not obvious from the MAE. However, it is vital that the MAE be low as possible. In this case, the auto arima is a better model because it's MAE is lower.\n",
    "\n"
   ]
  },
  {
   "cell_type": "markdown",
   "id": "d3ae9c1a",
   "metadata": {},
   "source": [
    "SMAPE\n",
    "\n",
    "SMAPE is an accuracy measure based on percentage (or relative) errors. We want smape to be as low as possible. The auto arima model has a smape of 0.002 and the prophet model has a smape of 0.003. SMAPE by itself gives us no indication of what forecast error we should be achieving, or whether our forecasting process is efficient and adding value to our analysis. But, with the other metrics, we can use it as a supporting metric to analyse our model."
   ]
  },
  {
   "cell_type": "markdown",
   "id": "c59b1488",
   "metadata": {},
   "source": [
    "MAPE\n",
    "\n",
    "Since MAPE is a measure of error, high numbers are bad and low numbers are good. It looks at how close the predicted values are to actual values. The auto arima model has a mape of 0.002 and the prophet model has a mape of 0.003. Therefore, the auto arima model is a little bit better."
   ]
  },
  {
   "cell_type": "markdown",
   "id": "8306a23f",
   "metadata": {},
   "source": [
    "MASE\n",
    "\n",
    "MASE is a scale-free error metric that gives each error as a ratio compared to a baseline’s average error. We wold like the MASE is be low as possible. The auto arima has a MASE of 1.13 while the prophet model has a MASE of 1.6. Therefore, the auto arima model is better. The forecasting method yields in-sample absolute errors that are 1.13 times as large as those of a naive random walk model for the auto arima model."
   ]
  },
  {
   "cell_type": "markdown",
   "id": "78779455",
   "metadata": {},
   "source": [
    "Since all the error metric show that the auto arima model is better because they are lower for the the auto arima model than for the prophet model, we can conclude that we can choose the auto arima model for analysing this time series data."
   ]
  },
  {
   "cell_type": "markdown",
   "id": "b6e2f618",
   "metadata": {},
   "source": [
    "#### B. 5 pts If you had this data for 100 locations (different pairs of time series), how would you approach modeling this data?"
   ]
  },
  {
   "cell_type": "markdown",
   "id": "3af3cfc8",
   "metadata": {},
   "source": [
    "The data presented, let's say is for one location. We are looking at the interaction and effect of co2 and temperature at location A. Like this, if there are 100 locations, each with its own set of co2 and temperature data, we would have 100 time series models or plots. Each one of the 100 will have its own seasonality (if possible), its own differencing techniques (if possible). So, to do 100 approaches and aggregate one upon another is too time consuming. One possible fix for this maybe to do a simulation. You can have python iterature though the 100 datasets, perform adf, kpss tests, and do an auto arima or auto sarima fit and predict, and compare. However, this maybe too computationally intensive. Especially if the datset for certain locations is too large. For this, a possible fix might be to do parallel computing or use distributed systems so that the simulation can run simultaneously."
   ]
  },
  {
   "cell_type": "markdown",
   "id": "4923ab0e",
   "metadata": {},
   "source": [
    "One other approach is if certain locations might have similar trends, we can combine them with a relationship. We can use a  network structure to model the time series and generate forecasts, allowing individual time series to be forecast individually, but preserving the relationships within the network. The network can be like a tree structure, where each node represents each location. A connection between each node can hold a weight that shows how strongly the two locations are correlated. The weights can be updated based on the time series of each node. You can forecast at the base- for each individual locations and  then aggregate at subsequent levels defined by your tree structure. This can be useful because there are algorithms that are efficient such as tree search algorithm, top down aggregations, heap sorting and more than can used. Instead of fitting one large multivariate model as a combination of all the locations or doing 100 separate time series forecasting, you can use  multiple models at different nodes in your tree, which are then aggregated using an efficient algorithm."
   ]
  },
  {
   "cell_type": "markdown",
   "id": "3703f4e5",
   "metadata": {},
   "source": [
    "By grouping similar time series together in the tree structure, you can better see and use the correlations between them to find patterns like seasonal patterns."
   ]
  }
 ],
 "metadata": {
  "kernelspec": {
   "display_name": "Python 3",
   "language": "python",
   "name": "python3"
  },
  "language_info": {
   "codemirror_mode": {
    "name": "ipython",
    "version": 3
   },
   "file_extension": ".py",
   "mimetype": "text/x-python",
   "name": "python",
   "nbconvert_exporter": "python",
   "pygments_lexer": "ipython3",
   "version": "3.7.10"
  }
 },
 "nbformat": 4,
 "nbformat_minor": 5
}
