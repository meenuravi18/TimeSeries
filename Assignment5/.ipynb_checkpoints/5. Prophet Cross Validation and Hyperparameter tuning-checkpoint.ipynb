{
 "cells": [
  {
   "cell_type": "code",
   "execution_count": 53,
   "metadata": {},
   "outputs": [],
   "source": [
    "import pandas as pd\n",
    "from matplotlib.pyplot import figure\n",
    "import warnings\n",
    "warnings.filterwarnings('ignore')\n",
    "from fbprophet import Prophet\n",
    "from fbprophet.diagnostics import cross_validation\n",
    "from util_prophet import *"
   ]
  },
  {
   "cell_type": "code",
   "execution_count": 54,
   "metadata": {},
   "outputs": [
    {
     "data": {
      "text/html": [
       "<div>\n",
       "<style scoped>\n",
       "    .dataframe tbody tr th:only-of-type {\n",
       "        vertical-align: middle;\n",
       "    }\n",
       "\n",
       "    .dataframe tbody tr th {\n",
       "        vertical-align: top;\n",
       "    }\n",
       "\n",
       "    .dataframe thead th {\n",
       "        text-align: right;\n",
       "    }\n",
       "</style>\n",
       "<table border=\"1\" class=\"dataframe\">\n",
       "  <thead>\n",
       "    <tr style=\"text-align: right;\">\n",
       "      <th></th>\n",
       "      <th>ds</th>\n",
       "      <th>co2</th>\n",
       "      <th>y</th>\n",
       "    </tr>\n",
       "  </thead>\n",
       "  <tbody>\n",
       "    <tr>\n",
       "      <th>0</th>\n",
       "      <td>1958-03-15</td>\n",
       "      <td>315.700</td>\n",
       "      <td>315.700</td>\n",
       "    </tr>\n",
       "    <tr>\n",
       "      <th>1</th>\n",
       "      <td>1958-04-15</td>\n",
       "      <td>317.450</td>\n",
       "      <td>317.450</td>\n",
       "    </tr>\n",
       "    <tr>\n",
       "      <th>2</th>\n",
       "      <td>1958-05-15</td>\n",
       "      <td>317.510</td>\n",
       "      <td>317.510</td>\n",
       "    </tr>\n",
       "    <tr>\n",
       "      <th>3</th>\n",
       "      <td>1958-06-15</td>\n",
       "      <td>316.685</td>\n",
       "      <td>316.685</td>\n",
       "    </tr>\n",
       "    <tr>\n",
       "      <th>4</th>\n",
       "      <td>1958-07-15</td>\n",
       "      <td>315.860</td>\n",
       "      <td>315.860</td>\n",
       "    </tr>\n",
       "  </tbody>\n",
       "</table>\n",
       "</div>"
      ],
      "text/plain": [
       "           ds      co2        y\n",
       "0  1958-03-15  315.700  315.700\n",
       "1  1958-04-15  317.450  317.450\n",
       "2  1958-05-15  317.510  317.510\n",
       "3  1958-06-15  316.685  316.685\n",
       "4  1958-07-15  315.860  315.860"
      ]
     },
     "execution_count": 54,
     "metadata": {},
     "output_type": "execute_result"
    }
   ],
   "source": [
    "df = pd.read_csv('./data/co2.csv')\n",
    "df['y'] = df['co2']\n",
    "df.head()\n"
   ]
  },
  {
   "cell_type": "code",
   "execution_count": 55,
   "metadata": {},
   "outputs": [],
   "source": [
    "train = df.iloc[:int(len(df)*0.8)]\n",
    "test = df.iloc[int(len(df)*0.8):]"
   ]
  },
  {
   "cell_type": "code",
   "execution_count": 56,
   "metadata": {},
   "outputs": [
    {
     "name": "stderr",
     "output_type": "stream",
     "text": [
      "INFO:fbprophet:Disabling weekly seasonality. Run prophet with weekly_seasonality=True to override this.\n",
      "INFO:fbprophet:Disabling daily seasonality. Run prophet with daily_seasonality=True to override this.\n"
     ]
    },
    {
     "data": {
      "text/plain": [
       "<fbprophet.forecaster.Prophet at 0x1f18233cb80>"
      ]
     },
     "execution_count": 56,
     "metadata": {},
     "output_type": "execute_result"
    }
   ],
   "source": [
    "model = Prophet()\n",
    "model.fit(train)"
   ]
  },
  {
   "cell_type": "markdown",
   "metadata": {},
   "source": [
    "## Arguments for cross_validation\n",
    " - horizon: forecast horizon\n",
    " - initial: initial training period\n",
    " - period: spacing between cutoff dates"
   ]
  },
  {
   "cell_type": "code",
   "execution_count": 57,
   "metadata": {},
   "outputs": [
    {
     "name": "stderr",
     "output_type": "stream",
     "text": [
      "INFO:fbprophet:Making 10 forecasts with cutoffs between 1961-02-26 00:00:00 and 2006-02-15 00:00:00\n"
     ]
    },
    {
     "data": {
      "application/vnd.jupyter.widget-view+json": {
       "model_id": "d4785b9ee1204892a6cbea6e0fe6f8a7",
       "version_major": 2,
       "version_minor": 0
      },
      "text/plain": [
       "HBox(children=(FloatProgress(value=0.0, max=10.0), HTML(value='')))"
      ]
     },
     "metadata": {},
     "output_type": "display_data"
    },
    {
     "name": "stdout",
     "output_type": "stream",
     "text": [
      "\n"
     ]
    }
   ],
   "source": [
    "df_cv = cross_validation(model, initial='730 days', period='1825 days', horizon = '365 days')"
   ]
  },
  {
   "cell_type": "code",
   "execution_count": 58,
   "metadata": {},
   "outputs": [
    {
     "data": {
      "text/html": [
       "<div>\n",
       "<style scoped>\n",
       "    .dataframe tbody tr th:only-of-type {\n",
       "        vertical-align: middle;\n",
       "    }\n",
       "\n",
       "    .dataframe tbody tr th {\n",
       "        vertical-align: top;\n",
       "    }\n",
       "\n",
       "    .dataframe thead th {\n",
       "        text-align: right;\n",
       "    }\n",
       "</style>\n",
       "<table border=\"1\" class=\"dataframe\">\n",
       "  <thead>\n",
       "    <tr style=\"text-align: right;\">\n",
       "      <th></th>\n",
       "      <th>ds</th>\n",
       "      <th>yhat</th>\n",
       "      <th>yhat_lower</th>\n",
       "      <th>yhat_upper</th>\n",
       "      <th>y</th>\n",
       "      <th>cutoff</th>\n",
       "    </tr>\n",
       "  </thead>\n",
       "  <tbody>\n",
       "    <tr>\n",
       "      <th>0</th>\n",
       "      <td>1961-03-15</td>\n",
       "      <td>316.976720</td>\n",
       "      <td>316.716135</td>\n",
       "      <td>317.244474</td>\n",
       "      <td>318.54</td>\n",
       "      <td>1961-02-26</td>\n",
       "    </tr>\n",
       "    <tr>\n",
       "      <th>1</th>\n",
       "      <td>1961-04-15</td>\n",
       "      <td>318.091097</td>\n",
       "      <td>316.774780</td>\n",
       "      <td>319.322186</td>\n",
       "      <td>319.48</td>\n",
       "      <td>1961-02-26</td>\n",
       "    </tr>\n",
       "    <tr>\n",
       "      <th>2</th>\n",
       "      <td>1961-05-15</td>\n",
       "      <td>318.288040</td>\n",
       "      <td>315.660946</td>\n",
       "      <td>320.819859</td>\n",
       "      <td>320.58</td>\n",
       "      <td>1961-02-26</td>\n",
       "    </tr>\n",
       "    <tr>\n",
       "      <th>3</th>\n",
       "      <td>1961-06-15</td>\n",
       "      <td>317.346157</td>\n",
       "      <td>313.053763</td>\n",
       "      <td>321.610096</td>\n",
       "      <td>319.77</td>\n",
       "      <td>1961-02-26</td>\n",
       "    </tr>\n",
       "    <tr>\n",
       "      <th>4</th>\n",
       "      <td>1961-07-15</td>\n",
       "      <td>315.637509</td>\n",
       "      <td>309.456413</td>\n",
       "      <td>321.878436</td>\n",
       "      <td>318.57</td>\n",
       "      <td>1961-02-26</td>\n",
       "    </tr>\n",
       "    <tr>\n",
       "      <th>5</th>\n",
       "      <td>1961-08-15</td>\n",
       "      <td>313.390152</td>\n",
       "      <td>304.833909</td>\n",
       "      <td>321.838562</td>\n",
       "      <td>316.79</td>\n",
       "      <td>1961-02-26</td>\n",
       "    </tr>\n",
       "    <tr>\n",
       "      <th>6</th>\n",
       "      <td>1961-09-15</td>\n",
       "      <td>311.349017</td>\n",
       "      <td>300.447298</td>\n",
       "      <td>322.518821</td>\n",
       "      <td>314.99</td>\n",
       "      <td>1961-02-26</td>\n",
       "    </tr>\n",
       "    <tr>\n",
       "      <th>7</th>\n",
       "      <td>1961-10-15</td>\n",
       "      <td>311.725439</td>\n",
       "      <td>298.668377</td>\n",
       "      <td>325.411537</td>\n",
       "      <td>315.31</td>\n",
       "      <td>1961-02-26</td>\n",
       "    </tr>\n",
       "    <tr>\n",
       "      <th>8</th>\n",
       "      <td>1961-11-15</td>\n",
       "      <td>312.882048</td>\n",
       "      <td>297.212972</td>\n",
       "      <td>329.254729</td>\n",
       "      <td>316.10</td>\n",
       "      <td>1961-02-26</td>\n",
       "    </tr>\n",
       "    <tr>\n",
       "      <th>9</th>\n",
       "      <td>1961-12-15</td>\n",
       "      <td>313.812666</td>\n",
       "      <td>295.217395</td>\n",
       "      <td>332.946168</td>\n",
       "      <td>317.01</td>\n",
       "      <td>1961-02-26</td>\n",
       "    </tr>\n",
       "    <tr>\n",
       "      <th>10</th>\n",
       "      <td>1962-01-15</td>\n",
       "      <td>314.322514</td>\n",
       "      <td>292.377251</td>\n",
       "      <td>336.500412</td>\n",
       "      <td>317.94</td>\n",
       "      <td>1961-02-26</td>\n",
       "    </tr>\n",
       "    <tr>\n",
       "      <th>11</th>\n",
       "      <td>1962-02-15</td>\n",
       "      <td>314.892471</td>\n",
       "      <td>289.763744</td>\n",
       "      <td>340.838893</td>\n",
       "      <td>318.55</td>\n",
       "      <td>1961-02-26</td>\n",
       "    </tr>\n",
       "    <tr>\n",
       "      <th>12</th>\n",
       "      <td>1966-03-15</td>\n",
       "      <td>321.680383</td>\n",
       "      <td>321.412754</td>\n",
       "      <td>321.952348</td>\n",
       "      <td>322.39</td>\n",
       "      <td>1966-02-25</td>\n",
       "    </tr>\n",
       "    <tr>\n",
       "      <th>13</th>\n",
       "      <td>1966-04-15</td>\n",
       "      <td>322.943501</td>\n",
       "      <td>322.643378</td>\n",
       "      <td>323.241408</td>\n",
       "      <td>323.70</td>\n",
       "      <td>1966-02-25</td>\n",
       "    </tr>\n",
       "    <tr>\n",
       "      <th>14</th>\n",
       "      <td>1966-05-15</td>\n",
       "      <td>323.527390</td>\n",
       "      <td>323.194777</td>\n",
       "      <td>323.837495</td>\n",
       "      <td>324.08</td>\n",
       "      <td>1966-02-25</td>\n",
       "    </tr>\n",
       "  </tbody>\n",
       "</table>\n",
       "</div>"
      ],
      "text/plain": [
       "           ds        yhat  yhat_lower  yhat_upper       y     cutoff\n",
       "0  1961-03-15  316.976720  316.716135  317.244474  318.54 1961-02-26\n",
       "1  1961-04-15  318.091097  316.774780  319.322186  319.48 1961-02-26\n",
       "2  1961-05-15  318.288040  315.660946  320.819859  320.58 1961-02-26\n",
       "3  1961-06-15  317.346157  313.053763  321.610096  319.77 1961-02-26\n",
       "4  1961-07-15  315.637509  309.456413  321.878436  318.57 1961-02-26\n",
       "5  1961-08-15  313.390152  304.833909  321.838562  316.79 1961-02-26\n",
       "6  1961-09-15  311.349017  300.447298  322.518821  314.99 1961-02-26\n",
       "7  1961-10-15  311.725439  298.668377  325.411537  315.31 1961-02-26\n",
       "8  1961-11-15  312.882048  297.212972  329.254729  316.10 1961-02-26\n",
       "9  1961-12-15  313.812666  295.217395  332.946168  317.01 1961-02-26\n",
       "10 1962-01-15  314.322514  292.377251  336.500412  317.94 1961-02-26\n",
       "11 1962-02-15  314.892471  289.763744  340.838893  318.55 1961-02-26\n",
       "12 1966-03-15  321.680383  321.412754  321.952348  322.39 1966-02-25\n",
       "13 1966-04-15  322.943501  322.643378  323.241408  323.70 1966-02-25\n",
       "14 1966-05-15  323.527390  323.194777  323.837495  324.08 1966-02-25"
      ]
     },
     "execution_count": 58,
     "metadata": {},
     "output_type": "execute_result"
    }
   ],
   "source": [
    "df_cv.head(15)"
   ]
  },
  {
   "cell_type": "markdown",
   "metadata": {},
   "source": [
    "## Specifying our own cutoffs"
   ]
  },
  {
   "cell_type": "code",
   "execution_count": 59,
   "metadata": {},
   "outputs": [
    {
     "data": {
      "application/vnd.jupyter.widget-view+json": {
       "model_id": "ad8a73b059e0497f9e8adfa66534b012",
       "version_major": 2,
       "version_minor": 0
      },
      "text/plain": [
       "HBox(children=(FloatProgress(value=0.0, max=3.0), HTML(value='')))"
      ]
     },
     "metadata": {},
     "output_type": "display_data"
    },
    {
     "name": "stdout",
     "output_type": "stream",
     "text": [
      "\n"
     ]
    }
   ],
   "source": [
    "cutoffs = pd.to_datetime(['1975-02-15', '1985-02-15', '1995-02-15'])\n",
    "df_cv2 = cross_validation(model, cutoffs=cutoffs, horizon='365 days')"
   ]
  },
  {
   "cell_type": "code",
   "execution_count": 60,
   "metadata": {},
   "outputs": [
    {
     "data": {
      "text/html": [
       "<div>\n",
       "<style scoped>\n",
       "    .dataframe tbody tr th:only-of-type {\n",
       "        vertical-align: middle;\n",
       "    }\n",
       "\n",
       "    .dataframe tbody tr th {\n",
       "        vertical-align: top;\n",
       "    }\n",
       "\n",
       "    .dataframe thead th {\n",
       "        text-align: right;\n",
       "    }\n",
       "</style>\n",
       "<table border=\"1\" class=\"dataframe\">\n",
       "  <thead>\n",
       "    <tr style=\"text-align: right;\">\n",
       "      <th></th>\n",
       "      <th>ds</th>\n",
       "      <th>yhat</th>\n",
       "      <th>yhat_lower</th>\n",
       "      <th>yhat_upper</th>\n",
       "      <th>y</th>\n",
       "      <th>cutoff</th>\n",
       "    </tr>\n",
       "  </thead>\n",
       "  <tbody>\n",
       "    <tr>\n",
       "      <th>10</th>\n",
       "      <td>1976-01-15</td>\n",
       "      <td>332.444366</td>\n",
       "      <td>331.955580</td>\n",
       "      <td>332.946965</td>\n",
       "      <td>331.75</td>\n",
       "      <td>1975-02-15</td>\n",
       "    </tr>\n",
       "    <tr>\n",
       "      <th>11</th>\n",
       "      <td>1976-02-15</td>\n",
       "      <td>333.104887</td>\n",
       "      <td>332.604071</td>\n",
       "      <td>333.654925</td>\n",
       "      <td>332.56</td>\n",
       "      <td>1975-02-15</td>\n",
       "    </tr>\n",
       "    <tr>\n",
       "      <th>12</th>\n",
       "      <td>1985-03-15</td>\n",
       "      <td>346.624748</td>\n",
       "      <td>346.251289</td>\n",
       "      <td>347.005187</td>\n",
       "      <td>347.42</td>\n",
       "      <td>1985-02-15</td>\n",
       "    </tr>\n",
       "    <tr>\n",
       "      <th>13</th>\n",
       "      <td>1985-04-15</td>\n",
       "      <td>347.845945</td>\n",
       "      <td>347.459695</td>\n",
       "      <td>348.207328</td>\n",
       "      <td>348.35</td>\n",
       "      <td>1985-02-15</td>\n",
       "    </tr>\n",
       "    <tr>\n",
       "      <th>14</th>\n",
       "      <td>1985-05-15</td>\n",
       "      <td>348.416119</td>\n",
       "      <td>348.016673</td>\n",
       "      <td>348.790297</td>\n",
       "      <td>348.93</td>\n",
       "      <td>1985-02-15</td>\n",
       "    </tr>\n",
       "  </tbody>\n",
       "</table>\n",
       "</div>"
      ],
      "text/plain": [
       "           ds        yhat  yhat_lower  yhat_upper       y     cutoff\n",
       "10 1976-01-15  332.444366  331.955580  332.946965  331.75 1975-02-15\n",
       "11 1976-02-15  333.104887  332.604071  333.654925  332.56 1975-02-15\n",
       "12 1985-03-15  346.624748  346.251289  347.005187  347.42 1985-02-15\n",
       "13 1985-04-15  347.845945  347.459695  348.207328  348.35 1985-02-15\n",
       "14 1985-05-15  348.416119  348.016673  348.790297  348.93 1985-02-15"
      ]
     },
     "execution_count": 60,
     "metadata": {},
     "output_type": "execute_result"
    }
   ],
   "source": [
    "df_cv2[10:15]"
   ]
  },
  {
   "cell_type": "markdown",
   "metadata": {},
   "source": [
    "## Performance metrics"
   ]
  },
  {
   "cell_type": "code",
   "execution_count": 61,
   "metadata": {},
   "outputs": [
    {
     "data": {
      "text/html": [
       "<div>\n",
       "<style scoped>\n",
       "    .dataframe tbody tr th:only-of-type {\n",
       "        vertical-align: middle;\n",
       "    }\n",
       "\n",
       "    .dataframe tbody tr th {\n",
       "        vertical-align: top;\n",
       "    }\n",
       "\n",
       "    .dataframe thead th {\n",
       "        text-align: right;\n",
       "    }\n",
       "</style>\n",
       "<table border=\"1\" class=\"dataframe\">\n",
       "  <thead>\n",
       "    <tr style=\"text-align: right;\">\n",
       "      <th></th>\n",
       "      <th>horizon</th>\n",
       "      <th>mse</th>\n",
       "      <th>rmse</th>\n",
       "      <th>mae</th>\n",
       "      <th>mape</th>\n",
       "      <th>mdape</th>\n",
       "      <th>coverage</th>\n",
       "    </tr>\n",
       "  </thead>\n",
       "  <tbody>\n",
       "    <tr>\n",
       "      <th>0</th>\n",
       "      <td>49 days</td>\n",
       "      <td>0.697655</td>\n",
       "      <td>0.835257</td>\n",
       "      <td>0.693255</td>\n",
       "      <td>0.002062</td>\n",
       "      <td>0.001738</td>\n",
       "      <td>0.250000</td>\n",
       "    </tr>\n",
       "    <tr>\n",
       "      <th>1</th>\n",
       "      <td>50 days</td>\n",
       "      <td>0.644365</td>\n",
       "      <td>0.802723</td>\n",
       "      <td>0.674921</td>\n",
       "      <td>0.001995</td>\n",
       "      <td>0.001738</td>\n",
       "      <td>0.250000</td>\n",
       "    </tr>\n",
       "    <tr>\n",
       "      <th>2</th>\n",
       "      <td>52 days</td>\n",
       "      <td>0.602899</td>\n",
       "      <td>0.776465</td>\n",
       "      <td>0.622223</td>\n",
       "      <td>0.001831</td>\n",
       "      <td>0.001436</td>\n",
       "      <td>0.333333</td>\n",
       "    </tr>\n",
       "    <tr>\n",
       "      <th>3</th>\n",
       "      <td>53 days</td>\n",
       "      <td>0.583569</td>\n",
       "      <td>0.763917</td>\n",
       "      <td>0.599147</td>\n",
       "      <td>0.001757</td>\n",
       "      <td>0.001109</td>\n",
       "      <td>0.416667</td>\n",
       "    </tr>\n",
       "    <tr>\n",
       "      <th>4</th>\n",
       "      <td>54 days</td>\n",
       "      <td>0.584849</td>\n",
       "      <td>0.764754</td>\n",
       "      <td>0.602020</td>\n",
       "      <td>0.001763</td>\n",
       "      <td>0.001109</td>\n",
       "      <td>0.416667</td>\n",
       "    </tr>\n",
       "  </tbody>\n",
       "</table>\n",
       "</div>"
      ],
      "text/plain": [
       "  horizon       mse      rmse       mae      mape     mdape  coverage\n",
       "0 49 days  0.697655  0.835257  0.693255  0.002062  0.001738  0.250000\n",
       "1 50 days  0.644365  0.802723  0.674921  0.001995  0.001738  0.250000\n",
       "2 52 days  0.602899  0.776465  0.622223  0.001831  0.001436  0.333333\n",
       "3 53 days  0.583569  0.763917  0.599147  0.001757  0.001109  0.416667\n",
       "4 54 days  0.584849  0.764754  0.602020  0.001763  0.001109  0.416667"
      ]
     },
     "execution_count": 61,
     "metadata": {},
     "output_type": "execute_result"
    }
   ],
   "source": [
    "from fbprophet.diagnostics import performance_metrics\n",
    "df_p = performance_metrics(df_cv)\n",
    "df_p.head()"
   ]
  },
  {
   "cell_type": "markdown",
   "metadata": {},
   "source": [
    "## Visualizing the performance"
   ]
  },
  {
   "cell_type": "code",
   "execution_count": 62,
   "metadata": {},
   "outputs": [
    {
     "data": {
      "image/png": "[encoded data removed]",
      "text/plain": [
       "<Figure size 720x432 with 1 Axes>"
      ]
     },
     "metadata": {},
     "output_type": "display_data"
    }
   ],
   "source": [
    "from fbprophet.plot import plot_cross_validation_metric\n",
    "fig = plot_cross_validation_metric(df_cv, metric='mape')"
   ]
  },
  {
   "cell_type": "markdown",
   "metadata": {},
   "source": [
    "## Hyperparameter tuning"
   ]
  },
  {
   "cell_type": "code",
   "execution_count": 63,
   "metadata": {},
   "outputs": [
    {
     "name": "stderr",
     "output_type": "stream",
     "text": [
      "INFO:fbprophet:Disabling weekly seasonality. Run prophet with weekly_seasonality=True to override this.\n",
      "INFO:fbprophet:Disabling daily seasonality. Run prophet with daily_seasonality=True to override this.\n",
      "INFO:fbprophet:Applying in parallel with <concurrent.futures.process.ProcessPoolExecutor object at 0x000001F187DCB1C0>\n",
      "INFO:fbprophet:Disabling weekly seasonality. Run prophet with weekly_seasonality=True to override this.\n",
      "INFO:fbprophet:Disabling daily seasonality. Run prophet with daily_seasonality=True to override this.\n",
      "INFO:fbprophet:Applying in parallel with <concurrent.futures.process.ProcessPoolExecutor object at 0x000001F188A0D2B0>\n",
      "INFO:fbprophet:Disabling weekly seasonality. Run prophet with weekly_seasonality=True to override this.\n",
      "INFO:fbprophet:Disabling daily seasonality. Run prophet with daily_seasonality=True to override this.\n",
      "INFO:fbprophet:Applying in parallel with <concurrent.futures.process.ProcessPoolExecutor object at 0x000001F18855C6D0>\n",
      "INFO:fbprophet:Disabling weekly seasonality. Run prophet with weekly_seasonality=True to override this.\n",
      "INFO:fbprophet:Disabling daily seasonality. Run prophet with daily_seasonality=True to override this.\n",
      "INFO:fbprophet:Applying in parallel with <concurrent.futures.process.ProcessPoolExecutor object at 0x000001F188B05B20>\n",
      "INFO:fbprophet:Disabling weekly seasonality. Run prophet with weekly_seasonality=True to override this.\n",
      "INFO:fbprophet:Disabling daily seasonality. Run prophet with daily_seasonality=True to override this.\n",
      "INFO:fbprophet:Applying in parallel with <concurrent.futures.process.ProcessPoolExecutor object at 0x000001F18855C580>\n",
      "INFO:fbprophet:Disabling weekly seasonality. Run prophet with weekly_seasonality=True to override this.\n",
      "INFO:fbprophet:Disabling daily seasonality. Run prophet with daily_seasonality=True to override this.\n",
      "INFO:fbprophet:Applying in parallel with <concurrent.futures.process.ProcessPoolExecutor object at 0x000001F1886F3310>\n",
      "INFO:fbprophet:Disabling weekly seasonality. Run prophet with weekly_seasonality=True to override this.\n",
      "INFO:fbprophet:Disabling daily seasonality. Run prophet with daily_seasonality=True to override this.\n",
      "INFO:fbprophet:Applying in parallel with <concurrent.futures.process.ProcessPoolExecutor object at 0x000001F188B058B0>\n",
      "INFO:fbprophet:Disabling weekly seasonality. Run prophet with weekly_seasonality=True to override this.\n",
      "INFO:fbprophet:Disabling daily seasonality. Run prophet with daily_seasonality=True to override this.\n",
      "INFO:fbprophet:Applying in parallel with <concurrent.futures.process.ProcessPoolExecutor object at 0x000001F188B183D0>\n",
      "INFO:fbprophet:Disabling weekly seasonality. Run prophet with weekly_seasonality=True to override this.\n",
      "INFO:fbprophet:Disabling daily seasonality. Run prophet with daily_seasonality=True to override this.\n",
      "INFO:fbprophet:Applying in parallel with <concurrent.futures.process.ProcessPoolExecutor object at 0x000001F188B05B20>\n",
      "INFO:fbprophet:Disabling weekly seasonality. Run prophet with weekly_seasonality=True to override this.\n",
      "INFO:fbprophet:Disabling daily seasonality. Run prophet with daily_seasonality=True to override this.\n",
      "INFO:fbprophet:Applying in parallel with <concurrent.futures.process.ProcessPoolExecutor object at 0x000001F188B18A00>\n",
      "INFO:fbprophet:Disabling weekly seasonality. Run prophet with weekly_seasonality=True to override this.\n",
      "INFO:fbprophet:Disabling daily seasonality. Run prophet with daily_seasonality=True to override this.\n",
      "INFO:fbprophet:Applying in parallel with <concurrent.futures.process.ProcessPoolExecutor object at 0x000001F1EFBEA2E0>\n",
      "INFO:fbprophet:Disabling weekly seasonality. Run prophet with weekly_seasonality=True to override this.\n",
      "INFO:fbprophet:Disabling daily seasonality. Run prophet with daily_seasonality=True to override this.\n",
      "INFO:fbprophet:Applying in parallel with <concurrent.futures.process.ProcessPoolExecutor object at 0x000001F188703EB0>\n",
      "INFO:fbprophet:Disabling weekly seasonality. Run prophet with weekly_seasonality=True to override this.\n",
      "INFO:fbprophet:Disabling daily seasonality. Run prophet with daily_seasonality=True to override this.\n",
      "INFO:fbprophet:Applying in parallel with <concurrent.futures.process.ProcessPoolExecutor object at 0x000001F188528AC0>\n",
      "INFO:fbprophet:Disabling weekly seasonality. Run prophet with weekly_seasonality=True to override this.\n",
      "INFO:fbprophet:Disabling daily seasonality. Run prophet with daily_seasonality=True to override this.\n",
      "INFO:fbprophet:Applying in parallel with <concurrent.futures.process.ProcessPoolExecutor object at 0x000001F187DCB1C0>\n",
      "INFO:fbprophet:Disabling weekly seasonality. Run prophet with weekly_seasonality=True to override this.\n",
      "INFO:fbprophet:Disabling daily seasonality. Run prophet with daily_seasonality=True to override this.\n",
      "INFO:fbprophet:Applying in parallel with <concurrent.futures.process.ProcessPoolExecutor object at 0x000001F188A0DC40>\n",
      "INFO:fbprophet:Disabling weekly seasonality. Run prophet with weekly_seasonality=True to override this.\n",
      "INFO:fbprophet:Disabling daily seasonality. Run prophet with daily_seasonality=True to override this.\n",
      "INFO:fbprophet:Applying in parallel with <concurrent.futures.process.ProcessPoolExecutor object at 0x000001F187DCB1C0>\n"
     ]
    },
    {
     "name": "stdout",
     "output_type": "stream",
     "text": [
      "    changepoint_prior_scale  seasonality_prior_scale      rmse\n",
      "0                     0.001                     0.01  0.485409\n",
      "1                     0.001                     0.10  0.479369\n",
      "2                     0.001                     1.00  0.488284\n",
      "3                     0.001                    10.00  0.476243\n",
      "4                     0.010                     0.01  0.605262\n",
      "5                     0.010                     0.10  0.605991\n",
      "6                     0.010                     1.00  0.610605\n",
      "7                     0.010                    10.00  0.613293\n",
      "8                     0.100                     0.01  0.659943\n",
      "9                     0.100                     0.10  0.661852\n",
      "10                    0.100                     1.00  0.661895\n",
      "11                    0.100                    10.00  0.661165\n",
      "12                    0.500                     0.01  0.674675\n",
      "13                    0.500                     0.10  0.674643\n",
      "14                    0.500                     1.00  0.675201\n",
      "15                    0.500                    10.00  0.673386\n"
     ]
    }
   ],
   "source": [
    "import itertools\n",
    "import numpy as np\n",
    "import pandas as pd\n",
    "\n",
    "param_grid = {  \n",
    "    'changepoint_prior_scale': [0.001, 0.01, 0.1, 0.5],\n",
    "    'seasonality_prior_scale': [0.01, 0.1, 1.0, 10.0],\n",
    "}\n",
    "\n",
    "# Generate all combinations of parameters\n",
    "all_params = [dict(zip(param_grid.keys(), v)) for v in itertools.product(*param_grid.values())]\n",
    "rmses = []  # Store the RMSEs for each params here\n",
    "\n",
    "# Use cross validation to evaluate all parameters\n",
    "for params in all_params:\n",
    "    m = Prophet(**params).fit(df)  # Fit model with given params\n",
    "    df_cv = cross_validation(m, cutoffs=cutoffs, horizon='30 days', parallel=\"processes\")\n",
    "    df_p = performance_metrics(df_cv, rolling_window=1)\n",
    "    rmses.append(df_p['rmse'].values[0])\n",
    "\n",
    "# Find the best parameters\n",
    "tuning_results = pd.DataFrame(all_params)\n",
    "tuning_results['rmse'] = rmses\n",
    "print(tuning_results)"
   ]
  },
  {
   "cell_type": "markdown",
   "metadata": {},
   "source": [
    "### Parameters that can be tuned\n",
    "\n",
    " - **changepoint_prior_scale** - This is the most impactful parameter. It determines how much the trend changes at the changepoints, the flexibility of the trend. If this value is too small, the trend will be underfit and if it is too large, the trend will be overfit. Suggested tuning range [0.001, 0.5]<br>\n",
    " \n",
    " \n",
    " - **seasonality_prior_scale** - controls the flexibility of the seasonality. A large value allows the seasonality to fit large fluctuation, a small value shrinks the magnitude of the seasonality. Default is 10, which is no regularization. Suggested tuning range [0.01,10]<br>\n",
    " \n",
    " \n",
    " - **holidays_prior_scale** - controls the flexibility to fit holiday effects. Default is 10, which is no regularization. Suggested tuning range is [0.01,10]<br>\n",
    " \n",
    " \n",
    " - **seasonality mode** - additive vs multiplicative. You should be able to tell by looking at the plot, nonetheless it is tuneable.\n",
    " \n",
    "### Parameters that you might tune\n",
    "\n",
    "- **changepoint_range** - at what point in the trend do you stop changepoints. Default 0.80. In a fully automated setting, it would be beneficial to be less conservative. It may be difficult to generalize using cross validation, since you would only be varying the very end of the training set"
   ]
  },
  {
   "cell_type": "code",
   "execution_count": 64,
   "metadata": {},
   "outputs": [
    {
     "name": "stderr",
     "output_type": "stream",
     "text": [
      "INFO:fbprophet:Disabling weekly seasonality. Run prophet with weekly_seasonality=True to override this.\n",
      "INFO:fbprophet:Disabling daily seasonality. Run prophet with daily_seasonality=True to override this.\n"
     ]
    }
   ],
   "source": [
    "modeltuned = Prophet(changepoint_prior_scale=0.001, seasonality_prior_scale=0.01)\n",
    "modeltuned.fit(train)\n",
    "future_data = modeltuned.make_future_dataframe(periods=len(test), freq='m')\n",
    "forecast_data = modeltuned.predict(future_data)"
   ]
  },
  {
   "cell_type": "code",
   "execution_count": 65,
   "metadata": {},
   "outputs": [
    {
     "data": {
      "image/png": "[encoded data removed]",
      "text/plain": [
       "<Figure size 720x432 with 1 Axes>"
      ]
     },
     "metadata": {},
     "output_type": "display_data"
    }
   ],
   "source": [
    "p = modeltuned.plot(forecast_data)\n",
    "plt.show()"
   ]
  },
  {
   "cell_type": "code",
   "execution_count": 66,
   "metadata": {},
   "outputs": [
    {
     "data": {
      "text/html": [
       "<div>\n",
       "<style scoped>\n",
       "    .dataframe tbody tr th:only-of-type {\n",
       "        vertical-align: middle;\n",
       "    }\n",
       "\n",
       "    .dataframe tbody tr th {\n",
       "        vertical-align: top;\n",
       "    }\n",
       "\n",
       "    .dataframe thead th {\n",
       "        text-align: right;\n",
       "    }\n",
       "</style>\n",
       "<table border=\"1\" class=\"dataframe\">\n",
       "  <thead>\n",
       "    <tr style=\"text-align: right;\">\n",
       "      <th></th>\n",
       "      <th>ds</th>\n",
       "      <th>trend</th>\n",
       "      <th>yhat_lower</th>\n",
       "      <th>yhat_upper</th>\n",
       "      <th>yhat</th>\n",
       "    </tr>\n",
       "  </thead>\n",
       "  <tbody>\n",
       "    <tr>\n",
       "      <th>730</th>\n",
       "      <td>2018-12-31</td>\n",
       "      <td>404.858418</td>\n",
       "      <td>403.196245</td>\n",
       "      <td>406.404876</td>\n",
       "      <td>404.749205</td>\n",
       "    </tr>\n",
       "    <tr>\n",
       "      <th>731</th>\n",
       "      <td>2019-01-31</td>\n",
       "      <td>405.018929</td>\n",
       "      <td>402.874358</td>\n",
       "      <td>406.191141</td>\n",
       "      <td>404.513831</td>\n",
       "    </tr>\n",
       "    <tr>\n",
       "      <th>732</th>\n",
       "      <td>2019-02-28</td>\n",
       "      <td>405.163907</td>\n",
       "      <td>403.787014</td>\n",
       "      <td>407.003698</td>\n",
       "      <td>405.330234</td>\n",
       "    </tr>\n",
       "    <tr>\n",
       "      <th>733</th>\n",
       "      <td>2019-03-31</td>\n",
       "      <td>405.324418</td>\n",
       "      <td>406.945309</td>\n",
       "      <td>410.175476</td>\n",
       "      <td>408.481564</td>\n",
       "    </tr>\n",
       "    <tr>\n",
       "      <th>734</th>\n",
       "      <td>2019-04-30</td>\n",
       "      <td>405.479752</td>\n",
       "      <td>407.387384</td>\n",
       "      <td>410.844525</td>\n",
       "      <td>409.079973</td>\n",
       "    </tr>\n",
       "  </tbody>\n",
       "</table>\n",
       "</div>"
      ],
      "text/plain": [
       "            ds       trend  yhat_lower  yhat_upper        yhat\n",
       "730 2018-12-31  404.858418  403.196245  406.404876  404.749205\n",
       "731 2019-01-31  405.018929  402.874358  406.191141  404.513831\n",
       "732 2019-02-28  405.163907  403.787014  407.003698  405.330234\n",
       "733 2019-03-31  405.324418  406.945309  410.175476  408.481564\n",
       "734 2019-04-30  405.479752  407.387384  410.844525  409.079973"
      ]
     },
     "execution_count": 66,
     "metadata": {},
     "output_type": "execute_result"
    }
   ],
   "source": [
    "forecast_data[['ds','trend','yhat_lower','yhat_upper','yhat']].tail()"
   ]
  },
  {
   "cell_type": "code",
   "execution_count": 67,
   "metadata": {},
   "outputs": [
    {
     "name": "stderr",
     "output_type": "stream",
     "text": [
      "INFO:fbprophet:Disabling weekly seasonality. Run prophet with weekly_seasonality=True to override this.\n",
      "INFO:fbprophet:Disabling daily seasonality. Run prophet with daily_seasonality=True to override this.\n"
     ]
    }
   ],
   "source": [
    "modeltuned2 = Prophet(changepoint_prior_scale=0.5, seasonality_prior_scale=10)\n",
    "modeltuned2.fit(train)\n",
    "future_data2 = modeltuned2.make_future_dataframe(periods=len(test), freq='m')\n",
    "forecast_data2 = modeltuned2.predict(future_data2)"
   ]
  },
  {
   "cell_type": "code",
   "execution_count": 68,
   "metadata": {},
   "outputs": [
    {
     "data": {
      "image/png": "[encoded data removed]",
      "text/plain": [
       "<Figure size 720x432 with 1 Axes>"
      ]
     },
     "metadata": {},
     "output_type": "display_data"
    }
   ],
   "source": [
    "p = modeltuned2.plot(forecast_data2)\n",
    "plt.show()"
   ]
  },
  {
   "cell_type": "code",
   "execution_count": 69,
   "metadata": {},
   "outputs": [
    {
     "data": {
      "text/html": [
       "<div>\n",
       "<style scoped>\n",
       "    .dataframe tbody tr th:only-of-type {\n",
       "        vertical-align: middle;\n",
       "    }\n",
       "\n",
       "    .dataframe tbody tr th {\n",
       "        vertical-align: top;\n",
       "    }\n",
       "\n",
       "    .dataframe thead th {\n",
       "        text-align: right;\n",
       "    }\n",
       "</style>\n",
       "<table border=\"1\" class=\"dataframe\">\n",
       "  <thead>\n",
       "    <tr style=\"text-align: right;\">\n",
       "      <th></th>\n",
       "      <th>ds</th>\n",
       "      <th>trend</th>\n",
       "      <th>yhat_lower</th>\n",
       "      <th>yhat_upper</th>\n",
       "      <th>yhat</th>\n",
       "    </tr>\n",
       "  </thead>\n",
       "  <tbody>\n",
       "    <tr>\n",
       "      <th>730</th>\n",
       "      <td>2018-12-31</td>\n",
       "      <td>405.553650</td>\n",
       "      <td>391.094184</td>\n",
       "      <td>419.472845</td>\n",
       "      <td>405.619816</td>\n",
       "    </tr>\n",
       "    <tr>\n",
       "      <th>731</th>\n",
       "      <td>2019-01-31</td>\n",
       "      <td>405.717688</td>\n",
       "      <td>390.641279</td>\n",
       "      <td>419.137288</td>\n",
       "      <td>405.339836</td>\n",
       "    </tr>\n",
       "    <tr>\n",
       "      <th>732</th>\n",
       "      <td>2019-02-28</td>\n",
       "      <td>405.865852</td>\n",
       "      <td>390.881355</td>\n",
       "      <td>419.689385</td>\n",
       "      <td>405.706321</td>\n",
       "    </tr>\n",
       "    <tr>\n",
       "      <th>733</th>\n",
       "      <td>2019-03-31</td>\n",
       "      <td>406.029889</td>\n",
       "      <td>394.029921</td>\n",
       "      <td>423.300827</td>\n",
       "      <td>409.149994</td>\n",
       "    </tr>\n",
       "    <tr>\n",
       "      <th>734</th>\n",
       "      <td>2019-04-30</td>\n",
       "      <td>406.188636</td>\n",
       "      <td>394.559690</td>\n",
       "      <td>424.038941</td>\n",
       "      <td>409.955713</td>\n",
       "    </tr>\n",
       "  </tbody>\n",
       "</table>\n",
       "</div>"
      ],
      "text/plain": [
       "            ds       trend  yhat_lower  yhat_upper        yhat\n",
       "730 2018-12-31  405.553650  391.094184  419.472845  405.619816\n",
       "731 2019-01-31  405.717688  390.641279  419.137288  405.339836\n",
       "732 2019-02-28  405.865852  390.881355  419.689385  405.706321\n",
       "733 2019-03-31  406.029889  394.029921  423.300827  409.149994\n",
       "734 2019-04-30  406.188636  394.559690  424.038941  409.955713"
      ]
     },
     "execution_count": 69,
     "metadata": {},
     "output_type": "execute_result"
    }
   ],
   "source": [
    "forecast_data2[['ds','trend','yhat_lower','yhat_upper','yhat']].tail()"
   ]
  },
  {
   "cell_type": "code",
   "execution_count": null,
   "metadata": {},
   "outputs": [],
   "source": []
  }
 ],
 "metadata": {
  "kernelspec": {
   "display_name": "Python 3",
   "language": "python",
   "name": "python3"
  },
  "language_info": {
   "codemirror_mode": {
    "name": "ipython",
    "version": 3
   },
   "file_extension": ".py",
   "mimetype": "text/x-python",
   "name": "python",
   "nbconvert_exporter": "python",
   "pygments_lexer": "ipython3",
   "version": "3.7.10"
  }
 },
 "nbformat": 4,
 "nbformat_minor": 4
}
