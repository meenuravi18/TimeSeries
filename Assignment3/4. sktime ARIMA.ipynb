{
 "cells": [
  {
   "cell_type": "markdown",
   "metadata": {},
   "source": [
    "# Load Dataset"
   ]
  },
  {
   "cell_type": "code",
   "execution_count": 1,
   "metadata": {
    "ExecuteTime": {
     "end_time": "2021-03-01T23:34:26.820930Z",
     "start_time": "2021-03-01T23:34:24.244785Z"
    }
   },
   "outputs": [
    {
     "data": {
      "text/plain": [
       "<AxesSubplot:title={'center':'Airline Passengers Over Time'}, xlabel='Period'>"
      ]
     },
     "execution_count": 1,
     "metadata": {},
     "output_type": "execute_result"
    },
    {
     "data": {
      "image/png": "[encoded data removed]",
      "text/plain": [
       "<Figure size 432x288 with 1 Axes>"
      ]
     },
     "metadata": {
      "needs_background": "light"
     },
     "output_type": "display_data"
    }
   ],
   "source": [
    "from sktime.datasets import load_airline\n",
    "\n",
    "y = load_airline()\n",
    "\n",
    "y.plot(title='Airline Passengers Over Time')"
   ]
  },
  {
   "cell_type": "markdown",
   "metadata": {},
   "source": [
    "# Split y into Train and Test Groups"
   ]
  },
  {
   "cell_type": "code",
   "execution_count": 2,
   "metadata": {
    "ExecuteTime": {
     "end_time": "2021-03-01T23:34:27.535019Z",
     "start_time": "2021-03-01T23:34:26.822976Z"
    }
   },
   "outputs": [],
   "source": [
    "from sktime.forecasting.all import temporal_train_test_split"
   ]
  },
  {
   "cell_type": "code",
   "execution_count": 3,
   "metadata": {
    "ExecuteTime": {
     "end_time": "2021-03-01T23:34:27.541992Z",
     "start_time": "2021-03-01T23:34:27.537978Z"
    }
   },
   "outputs": [],
   "source": [
    "y_train, y_test = temporal_train_test_split(y)"
   ]
  },
  {
   "cell_type": "code",
   "execution_count": 4,
   "metadata": {
    "ExecuteTime": {
     "end_time": "2021-03-01T23:34:27.559918Z",
     "start_time": "2021-03-01T23:34:27.544957Z"
    }
   },
   "outputs": [
    {
     "data": {
      "text/plain": [
       "(Period('1949-01', 'M'), Period('1957-12', 'M'))"
      ]
     },
     "execution_count": 4,
     "metadata": {},
     "output_type": "execute_result"
    }
   ],
   "source": [
    "y_train.index.min(), y_train.index.max()"
   ]
  },
  {
   "cell_type": "code",
   "execution_count": 5,
   "metadata": {
    "ExecuteTime": {
     "end_time": "2021-03-01T23:34:27.572884Z",
     "start_time": "2021-03-01T23:34:27.561913Z"
    }
   },
   "outputs": [
    {
     "data": {
      "text/plain": [
       "(Period('1958-01', 'M'), Period('1960-12', 'M'))"
      ]
     },
     "execution_count": 5,
     "metadata": {},
     "output_type": "execute_result"
    }
   ],
   "source": [
    "y_test.index.min(), y_test.index.max()"
   ]
  },
  {
   "cell_type": "markdown",
   "metadata": {},
   "source": [
    "# ARIMA"
   ]
  },
  {
   "cell_type": "code",
   "execution_count": 6,
   "metadata": {
    "ExecuteTime": {
     "end_time": "2021-03-01T23:34:27.580864Z",
     "start_time": "2021-03-01T23:34:27.574886Z"
    }
   },
   "outputs": [],
   "source": [
    "from sktime.forecasting.arima import ARIMA"
   ]
  },
  {
   "cell_type": "markdown",
   "metadata": {},
   "source": [
    "Add a difference with the middle parameter"
   ]
  },
  {
   "cell_type": "code",
   "execution_count": 7,
   "metadata": {
    "ExecuteTime": {
     "end_time": "2021-03-01T23:35:38.199760Z",
     "start_time": "2021-03-01T23:35:38.074892Z"
    }
   },
   "outputs": [],
   "source": [
    "arima_model = ARIMA(order=(1,1,1))\n",
    "arima_model.fit(y_train)\n",
    "fh = list(range(1, 1+len(y_test)))\n",
    "y_pred = arima_model.predict(fh=fh )"
   ]
  },
  {
   "cell_type": "markdown",
   "metadata": {},
   "source": [
    "Plot the results where blue is actual and the red is your prediction"
   ]
  },
  {
   "cell_type": "code",
   "execution_count": 13,
   "metadata": {},
   "outputs": [
    {
     "data": {
      "text/plain": [
       "Period\n",
       "1949-01    112.0\n",
       "1949-02    118.0\n",
       "1949-03    132.0\n",
       "1949-04    129.0\n",
       "1949-05    121.0\n",
       "           ...  \n",
       "1957-08    467.0\n",
       "1957-09    404.0\n",
       "1957-10    347.0\n",
       "1957-11    305.0\n",
       "1957-12    336.0\n",
       "Freq: M, Name: Number of airline passengers, Length: 108, dtype: float64"
      ]
     },
     "execution_count": 13,
     "metadata": {},
     "output_type": "execute_result"
    }
   ],
   "source": [
    "y_train\n"
   ]
  },
  {
   "cell_type": "code",
   "execution_count": 9,
   "metadata": {},
   "outputs": [
    {
     "data": {
      "text/plain": [
       "Period\n",
       "1958-01    340.0\n",
       "1958-02    318.0\n",
       "1958-03    362.0\n",
       "1958-04    348.0\n",
       "1958-05    363.0\n",
       "1958-06    435.0\n",
       "1958-07    491.0\n",
       "1958-08    505.0\n",
       "1958-09    404.0\n",
       "1958-10    359.0\n",
       "1958-11    310.0\n",
       "1958-12    337.0\n",
       "1959-01    360.0\n",
       "1959-02    342.0\n",
       "1959-03    406.0\n",
       "1959-04    396.0\n",
       "1959-05    420.0\n",
       "1959-06    472.0\n",
       "1959-07    548.0\n",
       "1959-08    559.0\n",
       "1959-09    463.0\n",
       "1959-10    407.0\n",
       "1959-11    362.0\n",
       "1959-12    405.0\n",
       "1960-01    417.0\n",
       "1960-02    391.0\n",
       "1960-03    419.0\n",
       "1960-04    461.0\n",
       "1960-05    472.0\n",
       "1960-06    535.0\n",
       "1960-07    622.0\n",
       "1960-08    606.0\n",
       "1960-09    508.0\n",
       "1960-10    461.0\n",
       "1960-11    390.0\n",
       "1960-12    432.0\n",
       "Freq: M, Name: Number of airline passengers, dtype: float64"
      ]
     },
     "execution_count": 9,
     "metadata": {},
     "output_type": "execute_result"
    }
   ],
   "source": [
    "y_test"
   ]
  },
  {
   "cell_type": "code",
   "execution_count": 10,
   "metadata": {},
   "outputs": [
    {
     "data": {
      "text/plain": [
       "1958-01    360.379434\n",
       "1958-02    351.748628\n",
       "1958-03    359.342542\n",
       "1958-04    358.961914\n",
       "1958-05    362.500819\n",
       "1958-06    364.113251\n",
       "1958-07    366.672556\n",
       "1958-08    368.766467\n",
       "1958-09    371.089122\n",
       "1958-10    373.299348\n",
       "1958-11    375.564833\n",
       "1958-12    377.803158\n",
       "1959-01    380.054833\n",
       "1959-02    382.299946\n",
       "1959-03    384.548284\n",
       "1959-04    386.795037\n",
       "1959-05    389.042569\n",
       "1959-06    391.289718\n",
       "1959-07    393.537055\n",
       "1959-08    395.784300\n",
       "1959-09    398.031591\n",
       "1959-10    400.278859\n",
       "1959-11    402.526138\n",
       "1959-12    404.773411\n",
       "1960-01    407.020688\n",
       "1960-02    409.267962\n",
       "1960-03    411.515238\n",
       "1960-04    413.762513\n",
       "1960-05    416.009789\n",
       "1960-06    418.257064\n",
       "1960-07    420.504339\n",
       "1960-08    422.751615\n",
       "1960-09    424.998890\n",
       "1960-10    427.246165\n",
       "1960-11    429.493441\n",
       "1960-12    431.740716\n",
       "Freq: M, dtype: float64"
      ]
     },
     "execution_count": 10,
     "metadata": {},
     "output_type": "execute_result"
    }
   ],
   "source": [
    "y_pred"
   ]
  },
  {
   "cell_type": "code",
   "execution_count": 8,
   "metadata": {
    "ExecuteTime": {
     "end_time": "2021-03-01T23:35:39.177019Z",
     "start_time": "2021-03-01T23:35:38.885755Z"
    }
   },
   "outputs": [
    {
     "data": {
      "text/plain": [
       "<AxesSubplot:xlabel='Period'>"
      ]
     },
     "execution_count": 8,
     "metadata": {},
     "output_type": "execute_result"
    },
    {
     "data": {
      "image/png": "[encoded data removed]",
      "text/plain": [
       "<Figure size 432x288 with 1 Axes>"
      ]
     },
     "metadata": {
      "needs_background": "light"
     },
     "output_type": "display_data"
    }
   ],
   "source": [
    "y_train.plot()\n",
    "y_pred.plot(color='red')\n",
    "y_test.plot(color = 'black')"
   ]
  },
  {
   "cell_type": "markdown",
   "metadata": {},
   "source": [
    "# Evaluate yhat"
   ]
  },
  {
   "cell_type": "code",
   "execution_count": 9,
   "metadata": {
    "ExecuteTime": {
     "end_time": "2021-03-01T23:35:39.935718Z",
     "start_time": "2021-03-01T23:35:39.931746Z"
    }
   },
   "outputs": [],
   "source": [
    "from sktime.performance_metrics.forecasting import smape_loss"
   ]
  },
  {
   "cell_type": "code",
   "execution_count": 10,
   "metadata": {
    "ExecuteTime": {
     "end_time": "2021-03-01T23:35:40.346625Z",
     "start_time": "2021-03-01T23:35:40.338654Z"
    }
   },
   "outputs": [
    {
     "data": {
      "text/plain": [
       "0.12542904291143506"
      ]
     },
     "execution_count": 10,
     "metadata": {},
     "output_type": "execute_result"
    }
   ],
   "source": [
    "smape_loss(y_test, y_pred )"
   ]
  },
  {
   "cell_type": "code",
   "execution_count": null,
   "metadata": {},
   "outputs": [],
   "source": []
  }
 ],
 "metadata": {
  "kernelspec": {
   "display_name": "Python 3",
   "language": "python",
   "name": "python3"
  },
  "language_info": {
   "codemirror_mode": {
    "name": "ipython",
    "version": 3
   },
   "file_extension": ".py",
   "mimetype": "text/x-python",
   "name": "python",
   "nbconvert_exporter": "python",
   "pygments_lexer": "ipython3",
   "version": "3.8.5"
  },
  "latex_envs": {
   "LaTeX_envs_menu_present": true,
   "autoclose": false,
   "autocomplete": true,
   "bibliofile": "biblio.bib",
   "cite_by": "apalike",
   "current_citInitial": 1,
   "eqLabelWithNumbers": true,
   "eqNumInitial": 1,
   "hotkeys": {
    "equation": "Ctrl-E",
    "itemize": "Ctrl-I"
   },
   "labels_anchors": false,
   "latex_user_defs": false,
   "report_style_numbering": false,
   "user_envs_cfg": false
  }
 },
 "nbformat": 4,
 "nbformat_minor": 2
}
