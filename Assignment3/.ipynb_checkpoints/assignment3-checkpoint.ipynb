{
 "cells": [
  {
   "cell_type": "markdown",
   "id": "intimate-institution",
   "metadata": {},
   "source": [
    "## Assignment 3\n",
    "### Meenu Ravi\n",
    "### April 21 2021\n"
   ]
  },
  {
   "cell_type": "markdown",
   "id": "objective-testimony",
   "metadata": {},
   "source": [
    "### Part 1: 30 pts – Regression Analysis"
   ]
  },
  {
   "cell_type": "markdown",
   "id": "reverse-agreement",
   "metadata": {},
   "source": [
    "#### 1) 5 pts Perform EDA (numerical, visual, descriptive)"
   ]
  },
  {
   "cell_type": "code",
   "execution_count": 810,
   "id": "eligible-discharge",
   "metadata": {},
   "outputs": [],
   "source": [
    "import pandas as pd\n",
    "import seaborn as sns\n",
    "import numpy as np\n",
    "import matplotlib.pyplot as plt\n",
    "from statsmodels.graphics.tsaplots import plot_acf, plot_pacf\n",
    "from sklearn.model_selection import train_test_split\n",
    "from sktime.forecasting.all import temporal_train_test_split\n",
    "from statsmodels.tsa.stattools import kpss, adfuller\n",
    "import warnings\n",
    "warnings.filterwarnings('ignore')"
   ]
  },
  {
   "cell_type": "code",
   "execution_count": 811,
   "id": "accurate-moses",
   "metadata": {},
   "outputs": [
    {
     "data": {
      "text/html": [
       "<div>\n",
       "<style scoped>\n",
       "    .dataframe tbody tr th:only-of-type {\n",
       "        vertical-align: middle;\n",
       "    }\n",
       "\n",
       "    .dataframe tbody tr th {\n",
       "        vertical-align: top;\n",
       "    }\n",
       "\n",
       "    .dataframe thead th {\n",
       "        text-align: right;\n",
       "    }\n",
       "</style>\n",
       "<table border=\"1\" class=\"dataframe\">\n",
       "  <thead>\n",
       "    <tr style=\"text-align: right;\">\n",
       "      <th></th>\n",
       "      <th>date</th>\n",
       "      <th>gdp</th>\n",
       "      <th>urate</th>\n",
       "    </tr>\n",
       "  </thead>\n",
       "  <tbody>\n",
       "    <tr>\n",
       "      <th>0</th>\n",
       "      <td>1/1/1948</td>\n",
       "      <td>265.742</td>\n",
       "      <td>3.4</td>\n",
       "    </tr>\n",
       "    <tr>\n",
       "      <th>1</th>\n",
       "      <td>4/1/1948</td>\n",
       "      <td>272.567</td>\n",
       "      <td>3.9</td>\n",
       "    </tr>\n",
       "    <tr>\n",
       "      <th>2</th>\n",
       "      <td>7/1/1948</td>\n",
       "      <td>279.196</td>\n",
       "      <td>3.6</td>\n",
       "    </tr>\n",
       "    <tr>\n",
       "      <th>3</th>\n",
       "      <td>10/1/1948</td>\n",
       "      <td>280.366</td>\n",
       "      <td>3.7</td>\n",
       "    </tr>\n",
       "    <tr>\n",
       "      <th>4</th>\n",
       "      <td>1/1/1949</td>\n",
       "      <td>275.034</td>\n",
       "      <td>4.3</td>\n",
       "    </tr>\n",
       "    <tr>\n",
       "      <th>...</th>\n",
       "      <td>...</td>\n",
       "      <td>...</td>\n",
       "      <td>...</td>\n",
       "    </tr>\n",
       "    <tr>\n",
       "      <th>287</th>\n",
       "      <td>10/1/2019</td>\n",
       "      <td>21747.394</td>\n",
       "      <td>3.6</td>\n",
       "    </tr>\n",
       "    <tr>\n",
       "      <th>288</th>\n",
       "      <td>1/1/2020</td>\n",
       "      <td>21561.139</td>\n",
       "      <td>3.5</td>\n",
       "    </tr>\n",
       "    <tr>\n",
       "      <th>289</th>\n",
       "      <td>4/1/2020</td>\n",
       "      <td>19520.114</td>\n",
       "      <td>14.8</td>\n",
       "    </tr>\n",
       "    <tr>\n",
       "      <th>290</th>\n",
       "      <td>7/1/2020</td>\n",
       "      <td>21170.252</td>\n",
       "      <td>10.2</td>\n",
       "    </tr>\n",
       "    <tr>\n",
       "      <th>291</th>\n",
       "      <td>10/1/2020</td>\n",
       "      <td>21494.731</td>\n",
       "      <td>6.9</td>\n",
       "    </tr>\n",
       "  </tbody>\n",
       "</table>\n",
       "<p>292 rows × 3 columns</p>\n",
       "</div>"
      ],
      "text/plain": [
       "          date        gdp  urate\n",
       "0     1/1/1948    265.742    3.4\n",
       "1     4/1/1948    272.567    3.9\n",
       "2     7/1/1948    279.196    3.6\n",
       "3    10/1/1948    280.366    3.7\n",
       "4     1/1/1949    275.034    4.3\n",
       "..         ...        ...    ...\n",
       "287  10/1/2019  21747.394    3.6\n",
       "288   1/1/2020  21561.139    3.5\n",
       "289   4/1/2020  19520.114   14.8\n",
       "290   7/1/2020  21170.252   10.2\n",
       "291  10/1/2020  21494.731    6.9\n",
       "\n",
       "[292 rows x 3 columns]"
      ]
     },
     "execution_count": 811,
     "metadata": {},
     "output_type": "execute_result"
    }
   ],
   "source": [
    "data=pd.read_csv(\"hw3_data.csv\")\n",
    "data"
   ]
  },
  {
   "cell_type": "code",
   "execution_count": 812,
   "id": "korean-director",
   "metadata": {},
   "outputs": [
    {
     "data": {
      "text/plain": [
       "date      object\n",
       "gdp      float64\n",
       "urate    float64\n",
       "dtype: object"
      ]
     },
     "execution_count": 812,
     "metadata": {},
     "output_type": "execute_result"
    }
   ],
   "source": [
    "data.dtypes"
   ]
  },
  {
   "cell_type": "code",
   "execution_count": 813,
   "id": "institutional-tennis",
   "metadata": {},
   "outputs": [
    {
     "data": {
      "text/plain": [
       "(292, 3)"
      ]
     },
     "execution_count": 813,
     "metadata": {},
     "output_type": "execute_result"
    }
   ],
   "source": [
    "data.shape"
   ]
  },
  {
   "cell_type": "code",
   "execution_count": 814,
   "id": "7e132b7b",
   "metadata": {},
   "outputs": [
    {
     "data": {
      "text/html": [
       "<div>\n",
       "<style scoped>\n",
       "    .dataframe tbody tr th:only-of-type {\n",
       "        vertical-align: middle;\n",
       "    }\n",
       "\n",
       "    .dataframe tbody tr th {\n",
       "        vertical-align: top;\n",
       "    }\n",
       "\n",
       "    .dataframe thead th {\n",
       "        text-align: right;\n",
       "    }\n",
       "</style>\n",
       "<table border=\"1\" class=\"dataframe\">\n",
       "  <thead>\n",
       "    <tr style=\"text-align: right;\">\n",
       "      <th></th>\n",
       "      <th>gdp</th>\n",
       "      <th>urate</th>\n",
       "    </tr>\n",
       "  </thead>\n",
       "  <tbody>\n",
       "    <tr>\n",
       "      <th>count</th>\n",
       "      <td>292.000000</td>\n",
       "      <td>292.00000</td>\n",
       "    </tr>\n",
       "    <tr>\n",
       "      <th>mean</th>\n",
       "      <td>6481.725808</td>\n",
       "      <td>5.77911</td>\n",
       "    </tr>\n",
       "    <tr>\n",
       "      <th>std</th>\n",
       "      <td>6487.790355</td>\n",
       "      <td>1.74368</td>\n",
       "    </tr>\n",
       "    <tr>\n",
       "      <th>min</th>\n",
       "      <td>265.742000</td>\n",
       "      <td>2.60000</td>\n",
       "    </tr>\n",
       "    <tr>\n",
       "      <th>25%</th>\n",
       "      <td>802.669250</td>\n",
       "      <td>4.50000</td>\n",
       "    </tr>\n",
       "    <tr>\n",
       "      <th>50%</th>\n",
       "      <td>4046.925500</td>\n",
       "      <td>5.60000</td>\n",
       "    </tr>\n",
       "    <tr>\n",
       "      <th>75%</th>\n",
       "      <td>11011.904000</td>\n",
       "      <td>6.82500</td>\n",
       "    </tr>\n",
       "    <tr>\n",
       "      <th>max</th>\n",
       "      <td>21747.394000</td>\n",
       "      <td>14.80000</td>\n",
       "    </tr>\n",
       "  </tbody>\n",
       "</table>\n",
       "</div>"
      ],
      "text/plain": [
       "                gdp      urate\n",
       "count    292.000000  292.00000\n",
       "mean    6481.725808    5.77911\n",
       "std     6487.790355    1.74368\n",
       "min      265.742000    2.60000\n",
       "25%      802.669250    4.50000\n",
       "50%     4046.925500    5.60000\n",
       "75%    11011.904000    6.82500\n",
       "max    21747.394000   14.80000"
      ]
     },
     "execution_count": 814,
     "metadata": {},
     "output_type": "execute_result"
    }
   ],
   "source": [
    "data.describe()"
   ]
  },
  {
   "cell_type": "code",
   "execution_count": 815,
   "id": "roman-turkey",
   "metadata": {},
   "outputs": [
    {
     "name": "stdout",
     "output_type": "stream",
     "text": [
      "Duplicate rows:  (0, 3)\n"
     ]
    }
   ],
   "source": [
    "duplicate_rows = data[data.duplicated()]\n",
    "print(\"Duplicate rows: \", duplicate_rows.shape)"
   ]
  },
  {
   "cell_type": "code",
   "execution_count": 816,
   "id": "focused-library",
   "metadata": {},
   "outputs": [
    {
     "data": {
      "text/plain": [
       "date     0\n",
       "gdp      0\n",
       "urate    0\n",
       "dtype: int64"
      ]
     },
     "execution_count": 816,
     "metadata": {},
     "output_type": "execute_result"
    }
   ],
   "source": [
    "data.isnull().sum()"
   ]
  },
  {
   "cell_type": "code",
   "execution_count": 817,
   "id": "actual-document",
   "metadata": {},
   "outputs": [
    {
     "name": "stdout",
     "output_type": "stream",
     "text": [
      "(array([], dtype=int64),)\n"
     ]
    },
    {
     "data": {
      "image/png": "[encoded data removed]",
      "text/plain": [
       "<Figure size 432x288 with 1 Axes>"
      ]
     },
     "metadata": {
      "needs_background": "light"
     },
     "output_type": "display_data"
    }
   ],
   "source": [
    "sns.boxplot(x=data['gdp'])\n",
    "print(np.where(data['gdp']>data['gdp'].quantile(0.75) + (1.5 * (data['gdp'].quantile(0.75)-\n",
    "                                                                  data['gdp'].quantile(0.25)))))"
   ]
  },
  {
   "cell_type": "code",
   "execution_count": 818,
   "id": "approximate-theorem",
   "metadata": {},
   "outputs": [
    {
     "name": "stdout",
     "output_type": "stream",
     "text": [
      "(array([139, 140, 289], dtype=int64),)\n"
     ]
    },
    {
     "data": {
      "image/png": "[encoded data removed]",
      "text/plain": [
       "<Figure size 432x288 with 1 Axes>"
      ]
     },
     "metadata": {
      "needs_background": "light"
     },
     "output_type": "display_data"
    }
   ],
   "source": [
    "sns.boxplot(x=data['urate'])\n",
    "print(np.where(data['urate']>data['urate'].quantile(0.75) + (1.5 * (data['urate'].quantile(0.75)-\n",
    "                                                                    data['urate'].quantile(0.25)))))"
   ]
  },
  {
   "cell_type": "code",
   "execution_count": 819,
   "id": "reserved-canvas",
   "metadata": {},
   "outputs": [
    {
     "data": {
      "text/html": [
       "<div>\n",
       "<style scoped>\n",
       "    .dataframe tbody tr th:only-of-type {\n",
       "        vertical-align: middle;\n",
       "    }\n",
       "\n",
       "    .dataframe tbody tr th {\n",
       "        vertical-align: top;\n",
       "    }\n",
       "\n",
       "    .dataframe thead th {\n",
       "        text-align: right;\n",
       "    }\n",
       "</style>\n",
       "<table border=\"1\" class=\"dataframe\">\n",
       "  <thead>\n",
       "    <tr style=\"text-align: right;\">\n",
       "      <th></th>\n",
       "      <th>gdp</th>\n",
       "      <th>urate</th>\n",
       "    </tr>\n",
       "  </thead>\n",
       "  <tbody>\n",
       "    <tr>\n",
       "      <th>gdp</th>\n",
       "      <td>1.00000</td>\n",
       "      <td>0.14432</td>\n",
       "    </tr>\n",
       "    <tr>\n",
       "      <th>urate</th>\n",
       "      <td>0.14432</td>\n",
       "      <td>1.00000</td>\n",
       "    </tr>\n",
       "  </tbody>\n",
       "</table>\n",
       "</div>"
      ],
      "text/plain": [
       "           gdp    urate\n",
       "gdp    1.00000  0.14432\n",
       "urate  0.14432  1.00000"
      ]
     },
     "execution_count": 819,
     "metadata": {},
     "output_type": "execute_result"
    },
    {
     "data": {
      "image/png": "[encoded data removed]",
      "text/plain": [
       "<Figure size 1440x720 with 2 Axes>"
      ]
     },
     "metadata": {
      "needs_background": "light"
     },
     "output_type": "display_data"
    }
   ],
   "source": [
    "plt.figure(figsize=(20,10))\n",
    "correlation= data.corr()\n",
    "sns.heatmap(correlation,annot=True)\n",
    "correlation"
   ]
  },
  {
   "cell_type": "code",
   "execution_count": 820,
   "id": "disabled-hanging",
   "metadata": {},
   "outputs": [
    {
     "data": {
      "text/plain": [
       "<AxesSubplot:>"
      ]
     },
     "execution_count": 820,
     "metadata": {},
     "output_type": "execute_result"
    },
    {
     "data": {
      "image/png": "[encoded data removed]",
      "text/plain": [
       "<Figure size 432x288 with 1 Axes>"
      ]
     },
     "metadata": {
      "needs_background": "light"
     },
     "output_type": "display_data"
    }
   ],
   "source": [
    "data['gdp'].plot()"
   ]
  },
  {
   "cell_type": "code",
   "execution_count": 821,
   "id": "processed-extreme",
   "metadata": {},
   "outputs": [
    {
     "data": {
      "text/plain": [
       "<AxesSubplot:>"
      ]
     },
     "execution_count": 821,
     "metadata": {},
     "output_type": "execute_result"
    },
    {
     "data": {
      "image/png": "[encoded data removed]",
      "text/plain": [
       "<Figure size 432x288 with 1 Axes>"
      ]
     },
     "metadata": {
      "needs_background": "light"
     },
     "output_type": "display_data"
    }
   ],
   "source": [
    "data['urate'].plot()"
   ]
  },
  {
   "cell_type": "code",
   "execution_count": 822,
   "id": "durable-shopper",
   "metadata": {},
   "outputs": [
    {
     "data": {
      "image/png": "[encoded data removed]",
      "text/plain": [
       "<Figure size 432x288 with 1 Axes>"
      ]
     },
     "metadata": {
      "needs_background": "light"
     },
     "output_type": "display_data"
    }
   ],
   "source": [
    "p=plot_acf(data['urate'], lags=40,title='Autocorrelation Plot')"
   ]
  },
  {
   "cell_type": "code",
   "execution_count": 888,
   "id": "f1c21734",
   "metadata": {},
   "outputs": [
    {
     "data": {
      "image/png": "[encoded data removed]",
      "text/plain": [
       "<Figure size 432x288 with 1 Axes>"
      ]
     },
     "metadata": {
      "needs_background": "light"
     },
     "output_type": "display_data"
    }
   ],
   "source": [
    "p = plot_acf(data['gdp'],lags=50,  title='Autocorrelation Plot of Residuals')"
   ]
  },
  {
   "cell_type": "code",
   "execution_count": 823,
   "id": "polyphonic-privilege",
   "metadata": {},
   "outputs": [
    {
     "data": {
      "image/png": "[encoded data removed]",
      "text/plain": [
       "<Figure size 720x432 with 1 Axes>"
      ]
     },
     "metadata": {
      "needs_background": "light"
     },
     "output_type": "display_data"
    }
   ],
   "source": [
    "#Plotting each pair of variables\n",
    "fig, ax = plt.subplots(figsize=(10,6))\n",
    "ax.scatter(data['gdp'], data['urate'])\n",
    "ax.set_xlabel('gdp')\n",
    "ax.set_ylabel('urate')\n",
    "\n",
    "plt.show()"
   ]
  },
  {
   "cell_type": "markdown",
   "id": "7cfa2c5d",
   "metadata": {},
   "source": [
    "I performed numerical EDA so that I can see the various satistics on the data set. The mean\tgdp was 6481.725808\twhile the mean urate was 5.77911. Next, I performed descriptive EDA to see how many missing columns, duplicate rows and check the correlation of gdp and urate. There were no missing values or duplicate rows. There were no outliers in gdp but there were 3 outliers in urate. When I performed visual EDA, I saw that there seemed to be a correlation between gdp and urate. As gdp rose, urate decreased."
   ]
  },
  {
   "cell_type": "markdown",
   "id": "statistical-healthcare",
   "metadata": {},
   "source": [
    "#### 2) 5 pts What is Okun’s Law? Does our dataset fit what we would expect to see? Why or why not?"
   ]
  },
  {
   "cell_type": "markdown",
   "id": "fatal-captain",
   "metadata": {},
   "source": [
    "Okun's Law describes the relationship between production output and employment. For companies and manufacturers to produce more goods, they need to hire more people. As more goods are available in the market, the demand for the good goes down. Decreased demand for goods causes a decrease in production, which then causes layoffs. Therefore, there is a relationship between cost of all the goods (gdp) and employment rate. Okun's law tells us how much of a country's GDP may be lost when the unemployment rate is above its natural rate.\n",
    "We would expect to see as unemployment decreases, gdp increases- a linear relationship. However, in the last graph of question 1, the relationship does not seem to be linear but the dataset does seem to fit what we would expect to see. It seems to increase to a point then decrease- as gdp increases, the urate does decrease and then this pattern keeps repeating. This could be because at a peak or a trough, something environmental, political, or econmical event could have occured, causing unemployment rate to increase or decrease."
   ]
  },
  {
   "cell_type": "markdown",
   "id": "turkish-election",
   "metadata": {},
   "source": [
    "#### 3) 5 pts Create a column that shows GDP change as a percentage and a column that shows UE rate as a change in percentage points. For date 4/1/1948 GDP change = 2.568, UE diff = 0.5"
   ]
  },
  {
   "cell_type": "code",
   "execution_count": 824,
   "id": "elegant-revolution",
   "metadata": {},
   "outputs": [
    {
     "data": {
      "text/html": [
       "<div>\n",
       "<style scoped>\n",
       "    .dataframe tbody tr th:only-of-type {\n",
       "        vertical-align: middle;\n",
       "    }\n",
       "\n",
       "    .dataframe tbody tr th {\n",
       "        vertical-align: top;\n",
       "    }\n",
       "\n",
       "    .dataframe thead th {\n",
       "        text-align: right;\n",
       "    }\n",
       "</style>\n",
       "<table border=\"1\" class=\"dataframe\">\n",
       "  <thead>\n",
       "    <tr style=\"text-align: right;\">\n",
       "      <th></th>\n",
       "      <th>date</th>\n",
       "      <th>gdp</th>\n",
       "      <th>urate</th>\n",
       "    </tr>\n",
       "  </thead>\n",
       "  <tbody>\n",
       "    <tr>\n",
       "      <th>0</th>\n",
       "      <td>1/1/1948</td>\n",
       "      <td>265.742</td>\n",
       "      <td>3.4</td>\n",
       "    </tr>\n",
       "    <tr>\n",
       "      <th>1</th>\n",
       "      <td>4/1/1948</td>\n",
       "      <td>272.567</td>\n",
       "      <td>3.9</td>\n",
       "    </tr>\n",
       "    <tr>\n",
       "      <th>2</th>\n",
       "      <td>7/1/1948</td>\n",
       "      <td>279.196</td>\n",
       "      <td>3.6</td>\n",
       "    </tr>\n",
       "    <tr>\n",
       "      <th>3</th>\n",
       "      <td>10/1/1948</td>\n",
       "      <td>280.366</td>\n",
       "      <td>3.7</td>\n",
       "    </tr>\n",
       "    <tr>\n",
       "      <th>4</th>\n",
       "      <td>1/1/1949</td>\n",
       "      <td>275.034</td>\n",
       "      <td>4.3</td>\n",
       "    </tr>\n",
       "    <tr>\n",
       "      <th>...</th>\n",
       "      <td>...</td>\n",
       "      <td>...</td>\n",
       "      <td>...</td>\n",
       "    </tr>\n",
       "    <tr>\n",
       "      <th>287</th>\n",
       "      <td>10/1/2019</td>\n",
       "      <td>21747.394</td>\n",
       "      <td>3.6</td>\n",
       "    </tr>\n",
       "    <tr>\n",
       "      <th>288</th>\n",
       "      <td>1/1/2020</td>\n",
       "      <td>21561.139</td>\n",
       "      <td>3.5</td>\n",
       "    </tr>\n",
       "    <tr>\n",
       "      <th>289</th>\n",
       "      <td>4/1/2020</td>\n",
       "      <td>19520.114</td>\n",
       "      <td>14.8</td>\n",
       "    </tr>\n",
       "    <tr>\n",
       "      <th>290</th>\n",
       "      <td>7/1/2020</td>\n",
       "      <td>21170.252</td>\n",
       "      <td>10.2</td>\n",
       "    </tr>\n",
       "    <tr>\n",
       "      <th>291</th>\n",
       "      <td>10/1/2020</td>\n",
       "      <td>21494.731</td>\n",
       "      <td>6.9</td>\n",
       "    </tr>\n",
       "  </tbody>\n",
       "</table>\n",
       "<p>292 rows × 3 columns</p>\n",
       "</div>"
      ],
      "text/plain": [
       "          date        gdp  urate\n",
       "0     1/1/1948    265.742    3.4\n",
       "1     4/1/1948    272.567    3.9\n",
       "2     7/1/1948    279.196    3.6\n",
       "3    10/1/1948    280.366    3.7\n",
       "4     1/1/1949    275.034    4.3\n",
       "..         ...        ...    ...\n",
       "287  10/1/2019  21747.394    3.6\n",
       "288   1/1/2020  21561.139    3.5\n",
       "289   4/1/2020  19520.114   14.8\n",
       "290   7/1/2020  21170.252   10.2\n",
       "291  10/1/2020  21494.731    6.9\n",
       "\n",
       "[292 rows x 3 columns]"
      ]
     },
     "execution_count": 824,
     "metadata": {},
     "output_type": "execute_result"
    }
   ],
   "source": [
    "data"
   ]
  },
  {
   "cell_type": "code",
   "execution_count": 825,
   "id": "metric-march",
   "metadata": {},
   "outputs": [
    {
     "data": {
      "text/html": [
       "<div>\n",
       "<style scoped>\n",
       "    .dataframe tbody tr th:only-of-type {\n",
       "        vertical-align: middle;\n",
       "    }\n",
       "\n",
       "    .dataframe tbody tr th {\n",
       "        vertical-align: top;\n",
       "    }\n",
       "\n",
       "    .dataframe thead th {\n",
       "        text-align: right;\n",
       "    }\n",
       "</style>\n",
       "<table border=\"1\" class=\"dataframe\">\n",
       "  <thead>\n",
       "    <tr style=\"text-align: right;\">\n",
       "      <th></th>\n",
       "      <th>date</th>\n",
       "      <th>gdp</th>\n",
       "      <th>urate</th>\n",
       "      <th>gdp_percent_change</th>\n",
       "      <th>urate_change</th>\n",
       "    </tr>\n",
       "  </thead>\n",
       "  <tbody>\n",
       "    <tr>\n",
       "      <th>0</th>\n",
       "      <td>1/1/1948</td>\n",
       "      <td>265.742</td>\n",
       "      <td>3.4</td>\n",
       "      <td>NaN</td>\n",
       "      <td>NaN</td>\n",
       "    </tr>\n",
       "    <tr>\n",
       "      <th>1</th>\n",
       "      <td>4/1/1948</td>\n",
       "      <td>272.567</td>\n",
       "      <td>3.9</td>\n",
       "      <td>2.568281</td>\n",
       "      <td>0.5</td>\n",
       "    </tr>\n",
       "    <tr>\n",
       "      <th>2</th>\n",
       "      <td>7/1/1948</td>\n",
       "      <td>279.196</td>\n",
       "      <td>3.6</td>\n",
       "      <td>2.432063</td>\n",
       "      <td>-0.3</td>\n",
       "    </tr>\n",
       "    <tr>\n",
       "      <th>3</th>\n",
       "      <td>10/1/1948</td>\n",
       "      <td>280.366</td>\n",
       "      <td>3.7</td>\n",
       "      <td>0.419060</td>\n",
       "      <td>0.1</td>\n",
       "    </tr>\n",
       "    <tr>\n",
       "      <th>4</th>\n",
       "      <td>1/1/1949</td>\n",
       "      <td>275.034</td>\n",
       "      <td>4.3</td>\n",
       "      <td>-1.901800</td>\n",
       "      <td>0.6</td>\n",
       "    </tr>\n",
       "    <tr>\n",
       "      <th>...</th>\n",
       "      <td>...</td>\n",
       "      <td>...</td>\n",
       "      <td>...</td>\n",
       "      <td>...</td>\n",
       "      <td>...</td>\n",
       "    </tr>\n",
       "    <tr>\n",
       "      <th>287</th>\n",
       "      <td>10/1/2019</td>\n",
       "      <td>21747.394</td>\n",
       "      <td>3.6</td>\n",
       "      <td>0.961309</td>\n",
       "      <td>0.0</td>\n",
       "    </tr>\n",
       "    <tr>\n",
       "      <th>288</th>\n",
       "      <td>1/1/2020</td>\n",
       "      <td>21561.139</td>\n",
       "      <td>3.5</td>\n",
       "      <td>-0.856447</td>\n",
       "      <td>-0.1</td>\n",
       "    </tr>\n",
       "    <tr>\n",
       "      <th>289</th>\n",
       "      <td>4/1/2020</td>\n",
       "      <td>19520.114</td>\n",
       "      <td>14.8</td>\n",
       "      <td>-9.466221</td>\n",
       "      <td>11.3</td>\n",
       "    </tr>\n",
       "    <tr>\n",
       "      <th>290</th>\n",
       "      <td>7/1/2020</td>\n",
       "      <td>21170.252</td>\n",
       "      <td>10.2</td>\n",
       "      <td>8.453526</td>\n",
       "      <td>-4.6</td>\n",
       "    </tr>\n",
       "    <tr>\n",
       "      <th>291</th>\n",
       "      <td>10/1/2020</td>\n",
       "      <td>21494.731</td>\n",
       "      <td>6.9</td>\n",
       "      <td>1.532712</td>\n",
       "      <td>-3.3</td>\n",
       "    </tr>\n",
       "  </tbody>\n",
       "</table>\n",
       "<p>292 rows × 5 columns</p>\n",
       "</div>"
      ],
      "text/plain": [
       "          date        gdp  urate  gdp_percent_change  urate_change\n",
       "0     1/1/1948    265.742    3.4                 NaN           NaN\n",
       "1     4/1/1948    272.567    3.9            2.568281           0.5\n",
       "2     7/1/1948    279.196    3.6            2.432063          -0.3\n",
       "3    10/1/1948    280.366    3.7            0.419060           0.1\n",
       "4     1/1/1949    275.034    4.3           -1.901800           0.6\n",
       "..         ...        ...    ...                 ...           ...\n",
       "287  10/1/2019  21747.394    3.6            0.961309           0.0\n",
       "288   1/1/2020  21561.139    3.5           -0.856447          -0.1\n",
       "289   4/1/2020  19520.114   14.8           -9.466221          11.3\n",
       "290   7/1/2020  21170.252   10.2            8.453526          -4.6\n",
       "291  10/1/2020  21494.731    6.9            1.532712          -3.3\n",
       "\n",
       "[292 rows x 5 columns]"
      ]
     },
     "execution_count": 825,
     "metadata": {},
     "output_type": "execute_result"
    }
   ],
   "source": [
    "data_copy=data.copy()\n",
    "data_copy['gdp_percent_change']=data['gdp'].pct_change()*100\n",
    "data_copy['urate_change']=data['urate'].diff()\n",
    "data_copy"
   ]
  },
  {
   "cell_type": "markdown",
   "id": "turned-elevation",
   "metadata": {},
   "source": [
    "#### 4) 5 pts Split into Train/test ( ) and create a scatterplot, verifying the negative relationship in Okun’s law."
   ]
  },
  {
   "cell_type": "code",
   "execution_count": 826,
   "id": "minus-truck",
   "metadata": {},
   "outputs": [],
   "source": [
    "from sklearn.model_selection import train_test_split\n",
    "from sktime.forecasting.all import temporal_train_test_split"
   ]
  },
  {
   "cell_type": "code",
   "execution_count": 827,
   "id": "77ca74bd",
   "metadata": {},
   "outputs": [
    {
     "data": {
      "text/html": [
       "<div>\n",
       "<style scoped>\n",
       "    .dataframe tbody tr th:only-of-type {\n",
       "        vertical-align: middle;\n",
       "    }\n",
       "\n",
       "    .dataframe tbody tr th {\n",
       "        vertical-align: top;\n",
       "    }\n",
       "\n",
       "    .dataframe thead th {\n",
       "        text-align: right;\n",
       "    }\n",
       "</style>\n",
       "<table border=\"1\" class=\"dataframe\">\n",
       "  <thead>\n",
       "    <tr style=\"text-align: right;\">\n",
       "      <th></th>\n",
       "      <th>date</th>\n",
       "      <th>gdp</th>\n",
       "      <th>urate</th>\n",
       "      <th>gdp_percent_change</th>\n",
       "      <th>urate_change</th>\n",
       "    </tr>\n",
       "  </thead>\n",
       "  <tbody>\n",
       "    <tr>\n",
       "      <th>1</th>\n",
       "      <td>4/1/1948</td>\n",
       "      <td>272.567</td>\n",
       "      <td>3.9</td>\n",
       "      <td>2.568281</td>\n",
       "      <td>0.5</td>\n",
       "    </tr>\n",
       "    <tr>\n",
       "      <th>2</th>\n",
       "      <td>7/1/1948</td>\n",
       "      <td>279.196</td>\n",
       "      <td>3.6</td>\n",
       "      <td>2.432063</td>\n",
       "      <td>-0.3</td>\n",
       "    </tr>\n",
       "    <tr>\n",
       "      <th>3</th>\n",
       "      <td>10/1/1948</td>\n",
       "      <td>280.366</td>\n",
       "      <td>3.7</td>\n",
       "      <td>0.419060</td>\n",
       "      <td>0.1</td>\n",
       "    </tr>\n",
       "    <tr>\n",
       "      <th>4</th>\n",
       "      <td>1/1/1949</td>\n",
       "      <td>275.034</td>\n",
       "      <td>4.3</td>\n",
       "      <td>-1.901800</td>\n",
       "      <td>0.6</td>\n",
       "    </tr>\n",
       "    <tr>\n",
       "      <th>5</th>\n",
       "      <td>4/1/1949</td>\n",
       "      <td>271.351</td>\n",
       "      <td>5.3</td>\n",
       "      <td>-1.339107</td>\n",
       "      <td>1.0</td>\n",
       "    </tr>\n",
       "    <tr>\n",
       "      <th>...</th>\n",
       "      <td>...</td>\n",
       "      <td>...</td>\n",
       "      <td>...</td>\n",
       "      <td>...</td>\n",
       "      <td>...</td>\n",
       "    </tr>\n",
       "    <tr>\n",
       "      <th>287</th>\n",
       "      <td>10/1/2019</td>\n",
       "      <td>21747.394</td>\n",
       "      <td>3.6</td>\n",
       "      <td>0.961309</td>\n",
       "      <td>0.0</td>\n",
       "    </tr>\n",
       "    <tr>\n",
       "      <th>288</th>\n",
       "      <td>1/1/2020</td>\n",
       "      <td>21561.139</td>\n",
       "      <td>3.5</td>\n",
       "      <td>-0.856447</td>\n",
       "      <td>-0.1</td>\n",
       "    </tr>\n",
       "    <tr>\n",
       "      <th>289</th>\n",
       "      <td>4/1/2020</td>\n",
       "      <td>19520.114</td>\n",
       "      <td>14.8</td>\n",
       "      <td>-9.466221</td>\n",
       "      <td>11.3</td>\n",
       "    </tr>\n",
       "    <tr>\n",
       "      <th>290</th>\n",
       "      <td>7/1/2020</td>\n",
       "      <td>21170.252</td>\n",
       "      <td>10.2</td>\n",
       "      <td>8.453526</td>\n",
       "      <td>-4.6</td>\n",
       "    </tr>\n",
       "    <tr>\n",
       "      <th>291</th>\n",
       "      <td>10/1/2020</td>\n",
       "      <td>21494.731</td>\n",
       "      <td>6.9</td>\n",
       "      <td>1.532712</td>\n",
       "      <td>-3.3</td>\n",
       "    </tr>\n",
       "  </tbody>\n",
       "</table>\n",
       "<p>291 rows × 5 columns</p>\n",
       "</div>"
      ],
      "text/plain": [
       "          date        gdp  urate  gdp_percent_change  urate_change\n",
       "1     4/1/1948    272.567    3.9            2.568281           0.5\n",
       "2     7/1/1948    279.196    3.6            2.432063          -0.3\n",
       "3    10/1/1948    280.366    3.7            0.419060           0.1\n",
       "4     1/1/1949    275.034    4.3           -1.901800           0.6\n",
       "5     4/1/1949    271.351    5.3           -1.339107           1.0\n",
       "..         ...        ...    ...                 ...           ...\n",
       "287  10/1/2019  21747.394    3.6            0.961309           0.0\n",
       "288   1/1/2020  21561.139    3.5           -0.856447          -0.1\n",
       "289   4/1/2020  19520.114   14.8           -9.466221          11.3\n",
       "290   7/1/2020  21170.252   10.2            8.453526          -4.6\n",
       "291  10/1/2020  21494.731    6.9            1.532712          -3.3\n",
       "\n",
       "[291 rows x 5 columns]"
      ]
     },
     "execution_count": 827,
     "metadata": {},
     "output_type": "execute_result"
    }
   ],
   "source": [
    "data_copy = data_copy.iloc[1:]\n",
    "data_copy"
   ]
  },
  {
   "cell_type": "code",
   "execution_count": 828,
   "id": "2b394960",
   "metadata": {},
   "outputs": [],
   "source": [
    "X=data_copy['gdp_percent_change']\n",
    "y=data_copy['urate_change']\n",
    "X = np.array(X).reshape(-1,1)\n",
    "y = np.array(y)"
   ]
  },
  {
   "cell_type": "code",
   "execution_count": 829,
   "id": "therapeutic-spell",
   "metadata": {},
   "outputs": [],
   "source": [
    "X_train, X_test, y_train, y_test = train_test_split(X,y,test_size=0.2,random_state = 0)\n",
    "y_train = y_train.reshape(-1,1)\n",
    "y_test = y_test.reshape(-1,1)"
   ]
  },
  {
   "cell_type": "code",
   "execution_count": 830,
   "id": "guilty-canyon",
   "metadata": {},
   "outputs": [
    {
     "data": {
      "image/png": "[encoded data removed]",
      "text/plain": [
       "<Figure size 432x288 with 1 Axes>"
      ]
     },
     "metadata": {
      "needs_background": "light"
     },
     "output_type": "display_data"
    }
   ],
   "source": [
    "plt.scatter(data_copy['gdp_percent_change'], data_copy['urate_change'], marker='o');\n",
    "plt.xlabel(\"gdp_percent_change\")\n",
    "plt.ylabel(\"urate_change\")\n",
    "plt.title('Original Data')\n",
    "plt.show()"
   ]
  },
  {
   "cell_type": "code",
   "execution_count": 831,
   "id": "16c70bde",
   "metadata": {},
   "outputs": [
    {
     "data": {
      "image/png": "[encoded data removed]",
      "text/plain": [
       "<Figure size 432x288 with 1 Axes>"
      ]
     },
     "metadata": {
      "needs_background": "light"
     },
     "output_type": "display_data"
    }
   ],
   "source": [
    "plt.scatter(X_train, y_train, marker='o');\n",
    "plt.xlabel(\"gdp_percent_change\")\n",
    "plt.ylabel(\"urate_change\")\n",
    "plt.title('Training Data')\n",
    "plt.show()"
   ]
  },
  {
   "cell_type": "markdown",
   "id": "a3bcd9d1",
   "metadata": {},
   "source": [
    "Here, you can see there is a more clearer representation that shows the negative relationship of gdp and urate. As the gdp percent change increases, the urate change decreases."
   ]
  },
  {
   "cell_type": "markdown",
   "id": "e0e0e578",
   "metadata": {},
   "source": [
    "#### 5) Fit a linear model on the Training set. State Okun’s law using your data e.g. interpret the coefficients."
   ]
  },
  {
   "cell_type": "code",
   "execution_count": 832,
   "id": "f2fd9939",
   "metadata": {},
   "outputs": [],
   "source": [
    "from sklearn.linear_model import LinearRegression\n",
    "from sklearn.metrics import mean_squared_error"
   ]
  },
  {
   "cell_type": "code",
   "execution_count": 833,
   "id": "8d99857f",
   "metadata": {},
   "outputs": [
    {
     "data": {
      "text/plain": [
       "LinearRegression()"
      ]
     },
     "execution_count": 833,
     "metadata": {},
     "output_type": "execute_result"
    }
   ],
   "source": [
    "model = LinearRegression()\n",
    "model.fit(X_train,y_train)"
   ]
  },
  {
   "cell_type": "code",
   "execution_count": 834,
   "id": "complimentary-rochester",
   "metadata": {},
   "outputs": [],
   "source": [
    "pred=model.predict(X_test)\n",
    "predictions = pred.reshape(-1,1)"
   ]
  },
  {
   "cell_type": "code",
   "execution_count": 835,
   "id": "paperback-proof",
   "metadata": {},
   "outputs": [
    {
     "name": "stdout",
     "output_type": "stream",
     "text": [
      "MSE :  0.15281186470481042\n",
      "RMSE :  0.390911581696949\n"
     ]
    }
   ],
   "source": [
    "print('MSE : ', mean_squared_error(y_test,predictions))\n",
    "print('RMSE : ', np.sqrt(mean_squared_error(y_test,predictions)))"
   ]
  },
  {
   "cell_type": "markdown",
   "id": "5bbf21e2",
   "metadata": {},
   "source": [
    "Okun's law formula states that the (actual gdp-potential gdp)/(potential gdp)= Okun' coefficient x (actual unemplyment rate-previous unemplyment rate)\n",
    "\n",
    "In this data, the actual gdp is the gdp in the original data. The potential gdp is increase or decrease of the predicted percent change in gdp from the actual gdp.Okun's coefficient in my data would be the percent increase by which gdp changes when unemployment falls by 1%. It is the relationship between gdp and unemployment rate. In my data, I would assume that the slope of gdp and unemployment rate may be an indication of the sign or range of the okun's coefficient. The actual unemplyment rate-previous unemplyment rate, in my data, is the change in unemployment rate column."
   ]
  },
  {
   "cell_type": "markdown",
   "id": "d65aef87",
   "metadata": {},
   "source": [
    "#### 6) 5pts How can we use this model to predict level of GDP dollars in the future? What will we need, what are the resulting limitations?"
   ]
  },
  {
   "cell_type": "markdown",
   "id": "827f5cfc",
   "metadata": {},
   "source": [
    "We can use this linear regression model to predict the level of gdp dollars in the future by looking at unemplyment rate. We can use the unemployment rate of the country at a certain time period and use this model to predict the level of gdp at that time period also. The future gdp and unemployment rate that we are trying to estimate can be added to the test set and since this linear model gives us a fairly good mean square error, we can perform this linear regression to estimate gdp.\n",
    "However, there are limitations because we should not only be considering unemplyment rate as a factor affecting gdp. We should consider other factors like laws involing hours a person can work- this has changed through time for various jobs. We should consider economic circumstances during a time. Like during covid, unemployment rate was low and this can't be predicted effectively. Maybe during a certain time, people are working harder and longer hours like new grads so at the company, they may not be hiring more people. If we had other factors like this to consider for unemployment rate, then we can predict gdp more accurately"
   ]
  },
  {
   "cell_type": "markdown",
   "id": "df21dba6",
   "metadata": {},
   "source": [
    "### Part 2: 30 pts – Box Jenkins model for GDP"
   ]
  },
  {
   "cell_type": "markdown",
   "id": "00f05db9",
   "metadata": {},
   "source": [
    "#### A) 7 pts Perform differencing or transformations until you can visually and statistically prove stationarity on training set. Summarize the changes to your time series."
   ]
  },
  {
   "cell_type": "code",
   "execution_count": 836,
   "id": "f003e13b",
   "metadata": {},
   "outputs": [],
   "source": [
    "from sktime.forecasting.arima import ARIMA\n",
    "from sktime.transformations.series import boxcox\n",
    "from sktime.performance_metrics.forecasting import smape_loss"
   ]
  },
  {
   "cell_type": "code",
   "execution_count": 837,
   "id": "79c51d4e",
   "metadata": {},
   "outputs": [],
   "source": [
    "bctransformer = boxcox.BoxCoxTransformer()\n",
    "trans_data = bctransformer.fit_transform(data['gdp'])"
   ]
  },
  {
   "cell_type": "code",
   "execution_count": 838,
   "id": "1f41a337",
   "metadata": {},
   "outputs": [],
   "source": [
    "trans_diff_data = (trans_data-trans_data.shift()).iloc[1:]\n",
    "trans_diff_data = (trans_diff_data-trans_diff_data.shift()).iloc[1:]"
   ]
  },
  {
   "cell_type": "code",
   "execution_count": 839,
   "id": "674f5780",
   "metadata": {},
   "outputs": [
    {
     "data": {
      "text/plain": [
       "<AxesSubplot:>"
      ]
     },
     "execution_count": 839,
     "metadata": {},
     "output_type": "execute_result"
    },
    {
     "data": {
      "image/png": "[encoded data removed]",
      "text/plain": [
       "<Figure size 432x288 with 1 Axes>"
      ]
     },
     "metadata": {
      "needs_background": "light"
     },
     "output_type": "display_data"
    }
   ],
   "source": [
    "trans_diff_data.plot()"
   ]
  },
  {
   "cell_type": "code",
   "execution_count": 840,
   "id": "7abe8aeb",
   "metadata": {},
   "outputs": [],
   "source": [
    "y_train, y_test = temporal_train_test_split(trans_diff_data)"
   ]
  },
  {
   "cell_type": "code",
   "execution_count": 841,
   "id": "8798361b",
   "metadata": {},
   "outputs": [
    {
     "data": {
      "text/plain": [
       "<AxesSubplot:>"
      ]
     },
     "execution_count": 841,
     "metadata": {},
     "output_type": "execute_result"
    },
    {
     "data": {
      "image/png": "[encoded data removed]",
      "text/plain": [
       "<Figure size 432x288 with 1 Axes>"
      ]
     },
     "metadata": {
      "needs_background": "light"
     },
     "output_type": "display_data"
    }
   ],
   "source": [
    "y_train.plot()"
   ]
  },
  {
   "cell_type": "markdown",
   "id": "4b423cc3",
   "metadata": {},
   "source": [
    "I was able to difference the data once to check to see stationarity. I used differencing, a transform that helps stabilize the mean of the data by removing seasonal changes, eliminating trend and seasonality. The first difference, I used shift to take the data point at the current time and subtract it with the point before. The resulting data is a set of differences between points at time t. I was not able to see stationarity because it looks like the mean and variance of the data seems to be unstable. \n",
    "Therefore, I decided to first transform the data and then difference the data once. I used box cox transformation.\n",
    "When I did the statistical ADF and KPSS test below, I saw the original data according to both these test were not stationary. After I transformed and differenced the data once and passed into this ADF and KPSS tests, the transformed and differenced data was said to be not stationary again. Therefore, I decided to difference the data once more. When I passed this second differenced data, the ADF and KPSS tests concluded true for stationarity."
   ]
  },
  {
   "cell_type": "code",
   "execution_count": 842,
   "id": "78fad2e2",
   "metadata": {},
   "outputs": [],
   "source": [
    "def adf_kpss_test(timeseries,trend='c'):\n",
    "    #Perform Dickey-Fuller test:\n",
    "    df_results=[]\n",
    "    kpss_results=[]\n",
    "    print ('Results of Dickey-Fuller Test:')\n",
    "    dftest = adfuller(timeseries, autolag='AIC')\n",
    "    dfoutput = pd.Series(dftest[0:4], index=['Test Statistic','p-value','#Lags Used','Number of Observations Used'])\n",
    "    for key,value in dftest[4].items():\n",
    "       dfoutput['Critical Value (%s)'%key] = value\n",
    "    print (dfoutput)\n",
    "    print(\"---------------\")\n",
    "    print ('Results of KPSS Test:')\n",
    "    kpsstest = kpss(timeseries, regression=trend)\n",
    "    kpss_output = pd.Series(kpsstest[0:3], index=['Test Statistic','p-value','Lags Used'])\n",
    "    for key,value in kpsstest[3].items():\n",
    "        kpss_output['Critical Value (%s)'%key] = value\n",
    "    print (kpss_output)\n",
    "    for i in dfoutput:\n",
    "        i=round(i,6)\n",
    "        df_results.append(i)\n",
    "    for i in kpss_output:\n",
    "        i=round(i,6)\n",
    "        kpss_results.append(i)\n",
    "    return (df_results,kpss_results)"
   ]
  },
  {
   "cell_type": "code",
   "execution_count": 843,
   "id": "ed5ba6fa",
   "metadata": {},
   "outputs": [
    {
     "name": "stdout",
     "output_type": "stream",
     "text": [
      "Results of Dickey-Fuller Test:\n",
      "Test Statistic                   3.522320\n",
      "p-value                          1.000000\n",
      "#Lags Used                       3.000000\n",
      "Number of Observations Used    288.000000\n",
      "Critical Value (1%)             -3.453262\n",
      "Critical Value (5%)             -2.871628\n",
      "Critical Value (10%)            -2.572146\n",
      "dtype: float64\n",
      "---------------\n",
      "Results of KPSS Test:\n",
      "Test Statistic            0.45505\n",
      "p-value                   0.01000\n",
      "Lags Used                16.00000\n",
      "Critical Value (10%)      0.11900\n",
      "Critical Value (5%)       0.14600\n",
      "Critical Value (2.5%)     0.17600\n",
      "Critical Value (1%)       0.21600\n",
      "dtype: float64\n",
      "stationarity from ad_fuller test: False\n",
      "stationarity from KPSS test: False\n"
     ]
    }
   ],
   "source": [
    "alpha = 0.05\n",
    "ad_fuller_results,kpss_test_results = adf_kpss_test(data['gdp'], trend='ct')\n",
    "ad_fuller_results\n",
    "ad_fuller_pval = ad_fuller_results[1]\n",
    "ad_fuller_bool = ad_fuller_pval <= alpha\n",
    "\n",
    "print(f'stationarity from ad_fuller test: {ad_fuller_bool}')\n",
    "\n",
    "kpss_pval = kpss_test_results[1]\n",
    "kpss_test_bool = kpss_pval >= alpha\n",
    "\n",
    "print(f'stationarity from KPSS test: {kpss_test_bool}')"
   ]
  },
  {
   "cell_type": "code",
   "execution_count": 844,
   "id": "63382b27",
   "metadata": {},
   "outputs": [
    {
     "name": "stdout",
     "output_type": "stream",
     "text": [
      "Results of Dickey-Fuller Test:\n",
      "Test Statistic                -7.360821e+00\n",
      "p-value                        9.510987e-11\n",
      "#Lags Used                     1.400000e+01\n",
      "Number of Observations Used    2.020000e+02\n",
      "Critical Value (1%)           -3.463144e+00\n",
      "Critical Value (5%)           -2.875957e+00\n",
      "Critical Value (10%)          -2.574455e+00\n",
      "dtype: float64\n",
      "---------------\n",
      "Results of KPSS Test:\n",
      "Test Statistic            0.053096\n",
      "p-value                   0.100000\n",
      "Lags Used                15.000000\n",
      "Critical Value (10%)      0.119000\n",
      "Critical Value (5%)       0.146000\n",
      "Critical Value (2.5%)     0.176000\n",
      "Critical Value (1%)       0.216000\n",
      "dtype: float64\n",
      "stationarity from ad_fuller test: True\n",
      "stationarity from KPSS test: True\n"
     ]
    }
   ],
   "source": [
    "alpha = 0.05\n",
    "ad_fuller_results,kpss_test_results = adf_kpss_test(trans_diff_data_train, trend='ct')\n",
    "ad_fuller_results\n",
    "ad_fuller_pval = ad_fuller_results[1]\n",
    "ad_fuller_bool = ad_fuller_pval <= alpha\n",
    "\n",
    "print(f'stationarity from ad_fuller test: {ad_fuller_bool}')\n",
    "\n",
    "kpss_pval = kpss_test_results[1]\n",
    "kpss_test_bool = kpss_pval >= alpha\n",
    "\n",
    "print(f'stationarity from KPSS test: {kpss_test_bool}')"
   ]
  },
  {
   "cell_type": "markdown",
   "id": "dc776aed",
   "metadata": {},
   "source": [
    "#### B) 7 pts Create and interpret ACF and PACF plots"
   ]
  },
  {
   "cell_type": "code",
   "execution_count": 845,
   "id": "b6272edc",
   "metadata": {},
   "outputs": [
    {
     "data": {
      "image/png": "[encoded data removed]",
      "text/plain": [
       "<Figure size 432x288 with 1 Axes>"
      ]
     },
     "metadata": {
      "needs_background": "light"
     },
     "output_type": "display_data"
    },
    {
     "data": {
      "image/png": "[encoded data removed]",
      "text/plain": [
       "<Figure size 432x288 with 1 Axes>"
      ]
     },
     "metadata": {
      "needs_background": "light"
     },
     "output_type": "display_data"
    }
   ],
   "source": [
    "p = plot_acf(data['gdp'],  title='Autocorrelation Plot of original GDP')\n",
    "p = plot_acf(y_train,lags=50, title='Autocorrelation Plot of differenced GDP')"
   ]
  },
  {
   "cell_type": "code",
   "execution_count": 846,
   "id": "56e9e7df",
   "metadata": {},
   "outputs": [
    {
     "data": {
      "image/png": "[encoded data removed]",
      "text/plain": [
       "<Figure size 432x288 with 1 Axes>"
      ]
     },
     "metadata": {
      "needs_background": "light"
     },
     "output_type": "display_data"
    },
    {
     "data": {
      "image/png": "[encoded data removed]",
      "text/plain": [
       "<Figure size 432x288 with 1 Axes>"
      ]
     },
     "metadata": {
      "needs_background": "light"
     },
     "output_type": "display_data"
    }
   ],
   "source": [
    "p = plot_pacf(data['gdp'],  title='Partial Autocorrelation Plot of original GDP')\n",
    "p = plot_pacf(y_train, lags=60,  title='Partial Autocorrelation Plot of differenced GDP')"
   ]
  },
  {
   "cell_type": "markdown",
   "id": "b643ccae",
   "metadata": {},
   "source": [
    "The ACF plot shows a plot of the coefficients of correlation between the gdp time series of the train set and lags of itself. The ACF for gdp show three significant lags. The autocorrelation plots can be used to  determine how many lagged values are correlated with the current value and how many terms we need to describe our data. In this case, I can use 3.\n",
    "The PACF plot is a plot of the partial correlation coefficients between the gdp time series of the training set and lags of itself. The PACF plot shows 3 main lags."
   ]
  },
  {
   "cell_type": "markdown",
   "id": "88f998bf",
   "metadata": {},
   "source": [
    "#### C) 7 pts Fit the appropriate Box Jenkins model on training set"
   ]
  },
  {
   "cell_type": "code",
   "execution_count": 847,
   "id": "cd8dabc7",
   "metadata": {},
   "outputs": [],
   "source": [
    "from sktime.forecasting.arima import ARIMA"
   ]
  },
  {
   "cell_type": "code",
   "execution_count": 848,
   "id": "408e9253",
   "metadata": {},
   "outputs": [],
   "source": [
    "arma_model = ARIMA(order=(3,0,3))"
   ]
  },
  {
   "cell_type": "code",
   "execution_count": 849,
   "id": "15112761",
   "metadata": {},
   "outputs": [
    {
     "data": {
      "text/plain": [
       "ARIMA(order=(3, 0, 3))"
      ]
     },
     "execution_count": 849,
     "metadata": {},
     "output_type": "execute_result"
    }
   ],
   "source": [
    "arma_model.fit(y_train)\n",
    "# am=arma_model.fit(y_train)\n"
   ]
  },
  {
   "cell_type": "code",
   "execution_count": 850,
   "id": "a147a438",
   "metadata": {},
   "outputs": [],
   "source": [
    "fh = list(range(1, 1+len(y_test)))"
   ]
  },
  {
   "cell_type": "code",
   "execution_count": 851,
   "id": "656678ff",
   "metadata": {},
   "outputs": [],
   "source": [
    "y_pred = arma_model.predict(fh=fh )"
   ]
  },
  {
   "cell_type": "code",
   "execution_count": 852,
   "id": "72e18f87",
   "metadata": {},
   "outputs": [
    {
     "data": {
      "text/plain": [
       "<AxesSubplot:>"
      ]
     },
     "execution_count": 852,
     "metadata": {},
     "output_type": "execute_result"
    },
    {
     "data": {
      "image/png": "[encoded data removed]",
      "text/plain": [
       "<Figure size 432x288 with 1 Axes>"
      ]
     },
     "metadata": {
      "needs_background": "light"
     },
     "output_type": "display_data"
    }
   ],
   "source": [
    "y_train.plot()\n",
    "y_test.plot(color = 'black')\n",
    "y_pred.plot(color='red')"
   ]
  },
  {
   "cell_type": "markdown",
   "id": "2202c859",
   "metadata": {},
   "source": [
    "#### D) 7pts Check residuals (scatter plot, histogram, ACF, portmanteau tests)  Give a summary of your residuals."
   ]
  },
  {
   "cell_type": "code",
   "execution_count": 853,
   "id": "869c9236",
   "metadata": {},
   "outputs": [],
   "source": [
    "from statsmodels.tsa.arima_model import ARIMA\n",
    "# doing this to get residuals since there is no corresponding library in sktime\n",
    "\n",
    "model = ARIMA(y_train, order=(3,0,3))\n",
    "model_fit = model.fit(disp=-1)\n",
    "residuals = pd.DataFrame(model_fit.resid)\n"
   ]
  },
  {
   "cell_type": "code",
   "execution_count": 854,
   "id": "74118ed6",
   "metadata": {},
   "outputs": [
    {
     "data": {
      "text/html": [
       "<div>\n",
       "<style scoped>\n",
       "    .dataframe tbody tr th:only-of-type {\n",
       "        vertical-align: middle;\n",
       "    }\n",
       "\n",
       "    .dataframe tbody tr th {\n",
       "        vertical-align: top;\n",
       "    }\n",
       "\n",
       "    .dataframe thead th {\n",
       "        text-align: right;\n",
       "    }\n",
       "</style>\n",
       "<table border=\"1\" class=\"dataframe\">\n",
       "  <thead>\n",
       "    <tr style=\"text-align: right;\">\n",
       "      <th></th>\n",
       "      <th>ind</th>\n",
       "      <th>residuals</th>\n",
       "    </tr>\n",
       "  </thead>\n",
       "  <tbody>\n",
       "    <tr>\n",
       "      <th>2</th>\n",
       "      <td>4</td>\n",
       "      <td>-0.002565</td>\n",
       "    </tr>\n",
       "    <tr>\n",
       "      <th>3</th>\n",
       "      <td>5</td>\n",
       "      <td>-0.041264</td>\n",
       "    </tr>\n",
       "    <tr>\n",
       "      <th>4</th>\n",
       "      <td>6</td>\n",
       "      <td>-0.065954</td>\n",
       "    </tr>\n",
       "    <tr>\n",
       "      <th>5</th>\n",
       "      <td>7</td>\n",
       "      <td>-0.020554</td>\n",
       "    </tr>\n",
       "    <tr>\n",
       "      <th>6</th>\n",
       "      <td>8</td>\n",
       "      <td>0.020394</td>\n",
       "    </tr>\n",
       "    <tr>\n",
       "      <th>...</th>\n",
       "      <td>...</td>\n",
       "      <td>...</td>\n",
       "    </tr>\n",
       "    <tr>\n",
       "      <th>212</th>\n",
       "      <td>214</td>\n",
       "      <td>-0.020991</td>\n",
       "    </tr>\n",
       "    <tr>\n",
       "      <th>213</th>\n",
       "      <td>215</td>\n",
       "      <td>-0.001397</td>\n",
       "    </tr>\n",
       "    <tr>\n",
       "      <th>214</th>\n",
       "      <td>216</td>\n",
       "      <td>-0.032439</td>\n",
       "    </tr>\n",
       "    <tr>\n",
       "      <th>215</th>\n",
       "      <td>217</td>\n",
       "      <td>-0.012191</td>\n",
       "    </tr>\n",
       "    <tr>\n",
       "      <th>216</th>\n",
       "      <td>218</td>\n",
       "      <td>0.013117</td>\n",
       "    </tr>\n",
       "  </tbody>\n",
       "</table>\n",
       "<p>215 rows × 2 columns</p>\n",
       "</div>"
      ],
      "text/plain": [
       "     ind  residuals\n",
       "2      4  -0.002565\n",
       "3      5  -0.041264\n",
       "4      6  -0.065954\n",
       "5      7  -0.020554\n",
       "6      8   0.020394\n",
       "..   ...        ...\n",
       "212  214  -0.020991\n",
       "213  215  -0.001397\n",
       "214  216  -0.032439\n",
       "215  217  -0.012191\n",
       "216  218   0.013117\n",
       "\n",
       "[215 rows x 2 columns]"
      ]
     },
     "execution_count": 854,
     "metadata": {},
     "output_type": "execute_result"
    }
   ],
   "source": [
    "residual = pd.DataFrame()\n",
    "residual['ind']=residuals.index\n",
    "residual['residuals']=residuals[0]\n",
    "residual=residual[2:]\n",
    "residual\n"
   ]
  },
  {
   "cell_type": "code",
   "execution_count": 855,
   "id": "9f04cf86",
   "metadata": {},
   "outputs": [
    {
     "data": {
      "image/png": "[encoded data removed]",
      "text/plain": [
       "<Figure size 432x288 with 1 Axes>"
      ]
     },
     "metadata": {
      "needs_background": "light"
     },
     "output_type": "display_data"
    }
   ],
   "source": [
    "ax1 = residual.plot.scatter(x='ind',\n",
    "                      y='residuals',\n",
    "                      c='DarkBlue')"
   ]
  },
  {
   "cell_type": "code",
   "execution_count": 856,
   "id": "c16e6178",
   "metadata": {},
   "outputs": [
    {
     "data": {
      "text/plain": [
       "array([[<AxesSubplot:title={'center':'0'}>]], dtype=object)"
      ]
     },
     "execution_count": 856,
     "metadata": {},
     "output_type": "execute_result"
    },
    {
     "data": {
      "image/png": "[encoded data removed]",
      "text/plain": [
       "<Figure size 432x288 with 1 Axes>"
      ]
     },
     "metadata": {
      "needs_background": "light"
     },
     "output_type": "display_data"
    }
   ],
   "source": [
    "residuals.hist()"
   ]
  },
  {
   "cell_type": "code",
   "execution_count": 857,
   "id": "e9683207",
   "metadata": {},
   "outputs": [
    {
     "data": {
      "image/png": "[encoded data removed]",
      "text/plain": [
       "<Figure size 432x288 with 1 Axes>"
      ]
     },
     "metadata": {
      "needs_background": "light"
     },
     "output_type": "display_data"
    }
   ],
   "source": [
    "p = plot_acf(residual['residuals'],  title='Autocorrelation Plot of Residuals')"
   ]
  },
  {
   "cell_type": "code",
   "execution_count": 858,
   "id": "e6ac00ef",
   "metadata": {},
   "outputs": [
    {
     "name": "stdout",
     "output_type": "stream",
     "text": [
      "Results of Dickey-Fuller Test:\n",
      "Test Statistic                -1.440538e+01\n",
      "p-value                        8.374691e-27\n",
      "#Lags Used                     0.000000e+00\n",
      "Number of Observations Used    2.140000e+02\n",
      "Critical Value (1%)           -3.461282e+00\n",
      "Critical Value (5%)           -2.875143e+00\n",
      "Critical Value (10%)          -2.574020e+00\n",
      "dtype: float64\n",
      "---------------\n",
      "Results of KPSS Test:\n",
      "Test Statistic            0.153703\n",
      "p-value                   0.043581\n",
      "Lags Used                15.000000\n",
      "Critical Value (10%)      0.119000\n",
      "Critical Value (5%)       0.146000\n",
      "Critical Value (2.5%)     0.176000\n",
      "Critical Value (1%)       0.216000\n",
      "dtype: float64\n",
      "stationarity from ad_fuller test: True\n",
      "stationarity from KPSS test: False\n"
     ]
    }
   ],
   "source": [
    "alpha = 0.05\n",
    "ad_fuller_results,kpss_test_results = adf_kpss_test(residual['residuals'], trend='ct')\n",
    "ad_fuller_results\n",
    "ad_fuller_pval = ad_fuller_results[1]\n",
    "ad_fuller_bool = ad_fuller_pval <= alpha\n",
    "\n",
    "print(f'stationarity from ad_fuller test: {ad_fuller_bool}')\n",
    "\n",
    "kpss_pval = kpss_test_results[1]\n",
    "kpss_test_bool = kpss_pval >= alpha\n",
    "\n",
    "print(f'stationarity from KPSS test: {kpss_test_bool}')"
   ]
  },
  {
   "cell_type": "code",
   "execution_count": 859,
   "id": "ee6d338a",
   "metadata": {},
   "outputs": [
    {
     "data": {
      "text/html": [
       "<div>\n",
       "<style scoped>\n",
       "    .dataframe tbody tr th:only-of-type {\n",
       "        vertical-align: middle;\n",
       "    }\n",
       "\n",
       "    .dataframe tbody tr th {\n",
       "        vertical-align: top;\n",
       "    }\n",
       "\n",
       "    .dataframe thead th {\n",
       "        text-align: right;\n",
       "    }\n",
       "</style>\n",
       "<table border=\"1\" class=\"dataframe\">\n",
       "  <thead>\n",
       "    <tr style=\"text-align: right;\">\n",
       "      <th></th>\n",
       "      <th>lb_stat</th>\n",
       "      <th>lb_pvalue</th>\n",
       "      <th>bp_stat</th>\n",
       "      <th>bp_pvalue</th>\n",
       "    </tr>\n",
       "  </thead>\n",
       "  <tbody>\n",
       "    <tr>\n",
       "      <th>10</th>\n",
       "      <td>15.696724</td>\n",
       "      <td>0.108649</td>\n",
       "      <td>15.019209</td>\n",
       "      <td>0.131363</td>\n",
       "    </tr>\n",
       "  </tbody>\n",
       "</table>\n",
       "</div>"
      ],
      "text/plain": [
       "      lb_stat  lb_pvalue    bp_stat  bp_pvalue\n",
       "10  15.696724   0.108649  15.019209   0.131363"
      ]
     },
     "execution_count": 859,
     "metadata": {},
     "output_type": "execute_result"
    }
   ],
   "source": [
    "\n",
    "from statsmodels.stats.diagnostic import acorr_ljungbox\n",
    "ljung = acorr_ljungbox(residual['residuals'], lags= [10],return_df=True,boxpierce=True)\n",
    "\n",
    "ljung"
   ]
  },
  {
   "cell_type": "markdown",
   "id": "84d7154b",
   "metadata": {},
   "source": [
    "To validate our model, we can look the model residuals. The residuals are the difference between the actual data and the predicted value from the arima model. Based on the visuals above, they are performing as residuals should. The scatter plot of the residuals look like white noise. This way, I can be sure that none of the signal has escaped my model fit and has ended up in the residuals by mistake. The residuals should also be normally distributed. My histagram kind of shows a normally distributed model. You can see the mean is centered around 0. A normally distributed residuals describes the actual distribution of the random errors in actuality reasonably well. The residuals should not show a trend or autocorrelation, because then we have failed to capture it in our model instead. The residuals should be stationary. In the adf and kpss tests, the residuals are shown to be stationary for adf but not for kpss test. I also performed the Ljung box test (portmanteau). The p-value of the test is 0.108649, which is more than 0.05. Therefore, we accept the null hypothesis of the test and conclude that the residuals are  autocorrelated.\n"
   ]
  },
  {
   "cell_type": "markdown",
   "id": "e44bbe8a",
   "metadata": {},
   "source": [
    "#### E) 7 pts Print model evaluation metrics MAE, MSE, MAPE, sMAPE on test set"
   ]
  },
  {
   "cell_type": "code",
   "execution_count": 860,
   "id": "9aa86530",
   "metadata": {},
   "outputs": [],
   "source": [
    "from sklearn.metrics import mean_squared_error, mean_absolute_error \n",
    "import math\n",
    "from sktime.performance_metrics.forecasting import smape_loss\n",
    "from sktime.performance_metrics.forecasting import mape_loss"
   ]
  },
  {
   "cell_type": "code",
   "execution_count": 861,
   "id": "d01238c3",
   "metadata": {},
   "outputs": [],
   "source": [
    "mae = mean_absolute_error(y_test, y_pred)\n",
    "mse = mean_squared_error(y_test, y_pred)\n",
    "rmse = math.sqrt(mse)\n",
    "smape = smape_loss(y_test, y_pred)\n",
    "mape = mape_loss(y_test, y_pred)"
   ]
  },
  {
   "cell_type": "code",
   "execution_count": 862,
   "id": "da96d182",
   "metadata": {},
   "outputs": [
    {
     "name": "stdout",
     "output_type": "stream",
     "text": [
      "Mean Squared Error: 0.007984855389578304\n",
      "Root Mean Squared Error: 0.08935801804862452\n",
      "Mean Absolute Error: 0.03245821299003179\n",
      "SMAPE: 1.9087138417038882\n",
      "MAPE: 1.0095995337709738\n"
     ]
    }
   ],
   "source": [
    "print(f'Mean Squared Error: {mse}')\n",
    "print(f'Root Mean Squared Error: {rmse}')\n",
    "print(f'Mean Absolute Error: {mae}')\n",
    "print(f'SMAPE: {smape}')\n",
    "print(f'MAPE: {mape}')"
   ]
  },
  {
   "cell_type": "markdown",
   "id": "47487592",
   "metadata": {},
   "source": [
    "### Part 3: 35 pts – Box Jenkins model for Urate"
   ]
  },
  {
   "cell_type": "markdown",
   "id": "70837b71",
   "metadata": {},
   "source": [
    "#### A) 7 pts Perform differencing or transformations until you can visually and statistically prove stationarity on training set. Summarize the changes to your time series."
   ]
  },
  {
   "cell_type": "code",
   "execution_count": 863,
   "id": "01aabe8a",
   "metadata": {},
   "outputs": [],
   "source": [
    "y_train, y_test = temporal_train_test_split(data['urate'])"
   ]
  },
  {
   "cell_type": "code",
   "execution_count": 864,
   "id": "bb99809b",
   "metadata": {},
   "outputs": [
    {
     "name": "stdout",
     "output_type": "stream",
     "text": [
      "Results of Dickey-Fuller Test:\n",
      "Test Statistic                  -3.665166\n",
      "p-value                          0.004631\n",
      "#Lags Used                       1.000000\n",
      "Number of Observations Used    217.000000\n",
      "Critical Value (1%)             -3.460849\n",
      "Critical Value (5%)             -2.874953\n",
      "Critical Value (10%)            -2.573919\n",
      "dtype: float64\n",
      "---------------\n",
      "Results of KPSS Test:\n",
      "Test Statistic            0.167970\n",
      "p-value                   0.031692\n",
      "Lags Used                15.000000\n",
      "Critical Value (10%)      0.119000\n",
      "Critical Value (5%)       0.146000\n",
      "Critical Value (2.5%)     0.176000\n",
      "Critical Value (1%)       0.216000\n",
      "dtype: float64\n",
      "stationarity from ad_fuller test: True\n",
      "stationarity from KPSS test: False\n"
     ]
    }
   ],
   "source": [
    "alpha = 0.05\n",
    "ad_fuller_results,kpss_test_results = adf_kpss_test(y_train, trend='ct')\n",
    "ad_fuller_results\n",
    "ad_fuller_pval = ad_fuller_results[1]\n",
    "ad_fuller_bool = ad_fuller_pval <= alpha\n",
    "\n",
    "print(f'stationarity from ad_fuller test: {ad_fuller_bool}')\n",
    "\n",
    "kpss_pval = kpss_test_results[1]\n",
    "kpss_test_bool = kpss_pval >= alpha\n",
    "\n",
    "print(f'stationarity from KPSS test: {kpss_test_bool}')"
   ]
  },
  {
   "cell_type": "code",
   "execution_count": 865,
   "id": "acfcb39f",
   "metadata": {},
   "outputs": [],
   "source": [
    "differenced_data_train = (y_train-y_train.shift()).iloc[1:]\n",
    "differenced_data_test = (y_test-y_test.shift()).iloc[1:]"
   ]
  },
  {
   "cell_type": "code",
   "execution_count": 866,
   "id": "008a2429",
   "metadata": {},
   "outputs": [
    {
     "data": {
      "text/plain": [
       "<AxesSubplot:>"
      ]
     },
     "execution_count": 866,
     "metadata": {},
     "output_type": "execute_result"
    },
    {
     "data": {
      "image/png": "[encoded data removed]",
      "text/plain": [
       "<Figure size 432x288 with 1 Axes>"
      ]
     },
     "metadata": {
      "needs_background": "light"
     },
     "output_type": "display_data"
    }
   ],
   "source": [
    "differenced_data_train.plot()"
   ]
  },
  {
   "cell_type": "code",
   "execution_count": 867,
   "id": "c46cdb32",
   "metadata": {},
   "outputs": [
    {
     "name": "stdout",
     "output_type": "stream",
     "text": [
      "Results of Dickey-Fuller Test:\n",
      "Test Statistic                  -5.277430\n",
      "p-value                          0.000006\n",
      "#Lags Used                       8.000000\n",
      "Number of Observations Used    209.000000\n",
      "Critical Value (1%)             -3.462032\n",
      "Critical Value (5%)             -2.875471\n",
      "Critical Value (10%)            -2.574195\n",
      "dtype: float64\n",
      "---------------\n",
      "Results of KPSS Test:\n",
      "Test Statistic            0.039285\n",
      "p-value                   0.100000\n",
      "Lags Used                15.000000\n",
      "Critical Value (10%)      0.119000\n",
      "Critical Value (5%)       0.146000\n",
      "Critical Value (2.5%)     0.176000\n",
      "Critical Value (1%)       0.216000\n",
      "dtype: float64\n",
      "stationarity from ad_fuller test: True\n",
      "stationarity from KPSS test: True\n"
     ]
    }
   ],
   "source": [
    "alpha = 0.05\n",
    "ad_fuller_results,kpss_test_results = adf_kpss_test(differenced_data_train, trend='ct')\n",
    "ad_fuller_results\n",
    "ad_fuller_pval = ad_fuller_results[1]\n",
    "ad_fuller_bool = ad_fuller_pval <= alpha\n",
    "\n",
    "print(f'stationarity from ad_fuller test: {ad_fuller_bool}')\n",
    "\n",
    "kpss_pval = kpss_test_results[1]\n",
    "kpss_test_bool = kpss_pval >= alpha\n",
    "\n",
    "print(f'stationarity from KPSS test: {kpss_test_bool}')"
   ]
  },
  {
   "cell_type": "markdown",
   "id": "2bc66f03",
   "metadata": {},
   "source": [
    "First, I checked the original train set to see if there was stationarity using the adf and kpss tests. The adf test indicated stationarity while the kpss test indicated non stationarity. This tells me that the train set series is difference stationary. I need to perform differencing and check the differenced set series for stationarity.\n",
    "I was able to difference the data once to check to see stationarity. I used differencing, a transform that helps stabilize the mean of the data by removing seasonal changes, eliminating trend and seasonality. The first difference, I used shift to take the data point at the current time and subtract it with the point before. The resulting data is a set of differences between points at time t. I was able to see stationarity because it looks like the mean and variance of the data seems to be stable. \n",
    "When I did the statistical ADF and KPSS test below, I saw the differenced data according to both these test were stationary. It concluded true for stationarity."
   ]
  },
  {
   "cell_type": "markdown",
   "id": "48e34b13",
   "metadata": {},
   "source": [
    "#### B) 7 pts Create and interpret ACF and PACF plots"
   ]
  },
  {
   "cell_type": "code",
   "execution_count": 868,
   "id": "2e700304",
   "metadata": {},
   "outputs": [
    {
     "data": {
      "image/png": "[encoded data removed]",
      "text/plain": [
       "<Figure size 432x288 with 1 Axes>"
      ]
     },
     "metadata": {
      "needs_background": "light"
     },
     "output_type": "display_data"
    },
    {
     "data": {
      "image/png": "[encoded data removed]",
      "text/plain": [
       "<Figure size 432x288 with 1 Axes>"
      ]
     },
     "metadata": {
      "needs_background": "light"
     },
     "output_type": "display_data"
    }
   ],
   "source": [
    "p = plot_acf(data['urate'],  title='Autocorrelation Plot of original urate')\n",
    "p = plot_acf(differenced_data_train,lags=50, title='Autocorrelation Plot of differenced urate')"
   ]
  },
  {
   "cell_type": "code",
   "execution_count": 869,
   "id": "2c392e85",
   "metadata": {},
   "outputs": [
    {
     "data": {
      "image/png": "[encoded data removed]",
      "text/plain": [
       "<Figure size 432x288 with 1 Axes>"
      ]
     },
     "metadata": {
      "needs_background": "light"
     },
     "output_type": "display_data"
    },
    {
     "data": {
      "image/png": "[encoded data removed]",
      "text/plain": [
       "<Figure size 432x288 with 1 Axes>"
      ]
     },
     "metadata": {
      "needs_background": "light"
     },
     "output_type": "display_data"
    }
   ],
   "source": [
    "p = plot_pacf(data['urate'],  title='Partial Autocorrelation Plot of original Urate')\n",
    "p = plot_pacf(differenced_data_train,lags=50,  title='Partial Autocorrelation Plot of differenced Urate')"
   ]
  },
  {
   "cell_type": "markdown",
   "id": "ab5e66f7",
   "metadata": {},
   "source": [
    "The ACF plot shows a plot of the coefficients of correlation between the gdp time series of the train set and lags of itself. The ACF for gdp show two significant lags. The autocorrelation plots can be used to  determine how many lagged values are correlated with the current value and how many terms we need to describe our data. In this case, I can use 2.\n",
    "The PACF plot is a plot of the partial correlation coefficients between the gdp time series of the training set and lags of itself. The PACF plot shows 2 main lags."
   ]
  },
  {
   "cell_type": "markdown",
   "id": "0b3efd86",
   "metadata": {},
   "source": [
    "#### C) 7 pts Fit the appropriate Box Jenkins model on training set"
   ]
  },
  {
   "cell_type": "code",
   "execution_count": 870,
   "id": "cf0a1275",
   "metadata": {},
   "outputs": [],
   "source": [
    "from sktime.forecasting.arima import ARIMA"
   ]
  },
  {
   "cell_type": "code",
   "execution_count": 871,
   "id": "3e19e4db",
   "metadata": {},
   "outputs": [],
   "source": [
    "arma_model = ARIMA(order=(2,1,2))"
   ]
  },
  {
   "cell_type": "code",
   "execution_count": 872,
   "id": "ce859f64",
   "metadata": {},
   "outputs": [
    {
     "data": {
      "text/plain": [
       "ARIMA(order=(2, 1, 2))"
      ]
     },
     "execution_count": 872,
     "metadata": {},
     "output_type": "execute_result"
    }
   ],
   "source": [
    "arma_model.fit(y_train)"
   ]
  },
  {
   "cell_type": "code",
   "execution_count": 873,
   "id": "bd1a8cdc",
   "metadata": {},
   "outputs": [],
   "source": [
    "fh = list(range(1, 1+len(y_test)))"
   ]
  },
  {
   "cell_type": "code",
   "execution_count": 874,
   "id": "cdc90f27",
   "metadata": {},
   "outputs": [],
   "source": [
    "y_pred = arma_model.predict(fh=fh )"
   ]
  },
  {
   "cell_type": "code",
   "execution_count": 875,
   "id": "191871d4",
   "metadata": {},
   "outputs": [
    {
     "data": {
      "text/plain": [
       "<AxesSubplot:>"
      ]
     },
     "execution_count": 875,
     "metadata": {},
     "output_type": "execute_result"
    },
    {
     "data": {
      "image/png": "[encoded data removed]",
      "text/plain": [
       "<Figure size 432x288 with 1 Axes>"
      ]
     },
     "metadata": {
      "needs_background": "light"
     },
     "output_type": "display_data"
    }
   ],
   "source": [
    "y_train.plot()\n",
    "y_test.plot(color = 'black')\n",
    "y_pred.plot(color='red')"
   ]
  },
  {
   "cell_type": "markdown",
   "id": "c7b36ce4",
   "metadata": {},
   "source": [
    "#### D) 7pts Check residuals (scatter plot, histogram, ACF, portmanteau tests)  Give a summary of your residuals."
   ]
  },
  {
   "cell_type": "code",
   "execution_count": 876,
   "id": "8c65f6a8",
   "metadata": {},
   "outputs": [],
   "source": [
    "from statsmodels.tsa.arima_model import ARIMA\n",
    "# doing this to get residuals since there is no corresponding library in sktime\n",
    "\n",
    "model = ARIMA(y_train, order=(2,1,2))\n",
    "model_fit = model.fit(disp=0)\n",
    "residuals = pd.DataFrame(model_fit.resid)"
   ]
  },
  {
   "cell_type": "code",
   "execution_count": 877,
   "id": "219bb9ff",
   "metadata": {},
   "outputs": [
    {
     "data": {
      "text/html": [
       "<div>\n",
       "<style scoped>\n",
       "    .dataframe tbody tr th:only-of-type {\n",
       "        vertical-align: middle;\n",
       "    }\n",
       "\n",
       "    .dataframe tbody tr th {\n",
       "        vertical-align: top;\n",
       "    }\n",
       "\n",
       "    .dataframe thead th {\n",
       "        text-align: right;\n",
       "    }\n",
       "</style>\n",
       "<table border=\"1\" class=\"dataframe\">\n",
       "  <thead>\n",
       "    <tr style=\"text-align: right;\">\n",
       "      <th></th>\n",
       "      <th>ind</th>\n",
       "      <th>residuals</th>\n",
       "    </tr>\n",
       "  </thead>\n",
       "  <tbody>\n",
       "    <tr>\n",
       "      <th>1</th>\n",
       "      <td>2</td>\n",
       "      <td>0.487879</td>\n",
       "    </tr>\n",
       "    <tr>\n",
       "      <th>2</th>\n",
       "      <td>3</td>\n",
       "      <td>-0.538967</td>\n",
       "    </tr>\n",
       "    <tr>\n",
       "      <th>3</th>\n",
       "      <td>4</td>\n",
       "      <td>0.239077</td>\n",
       "    </tr>\n",
       "    <tr>\n",
       "      <th>4</th>\n",
       "      <td>5</td>\n",
       "      <td>0.656759</td>\n",
       "    </tr>\n",
       "    <tr>\n",
       "      <th>5</th>\n",
       "      <td>6</td>\n",
       "      <td>0.682330</td>\n",
       "    </tr>\n",
       "    <tr>\n",
       "      <th>...</th>\n",
       "      <td>...</td>\n",
       "      <td>...</td>\n",
       "    </tr>\n",
       "    <tr>\n",
       "      <th>213</th>\n",
       "      <td>214</td>\n",
       "      <td>0.090358</td>\n",
       "    </tr>\n",
       "    <tr>\n",
       "      <th>214</th>\n",
       "      <td>215</td>\n",
       "      <td>0.085512</td>\n",
       "    </tr>\n",
       "    <tr>\n",
       "      <th>215</th>\n",
       "      <td>216</td>\n",
       "      <td>0.618555</td>\n",
       "    </tr>\n",
       "    <tr>\n",
       "      <th>216</th>\n",
       "      <td>217</td>\n",
       "      <td>0.098623</td>\n",
       "    </tr>\n",
       "    <tr>\n",
       "      <th>217</th>\n",
       "      <td>218</td>\n",
       "      <td>-0.018356</td>\n",
       "    </tr>\n",
       "  </tbody>\n",
       "</table>\n",
       "<p>217 rows × 2 columns</p>\n",
       "</div>"
      ],
      "text/plain": [
       "     ind  residuals\n",
       "1      2   0.487879\n",
       "2      3  -0.538967\n",
       "3      4   0.239077\n",
       "4      5   0.656759\n",
       "5      6   0.682330\n",
       "..   ...        ...\n",
       "213  214   0.090358\n",
       "214  215   0.085512\n",
       "215  216   0.618555\n",
       "216  217   0.098623\n",
       "217  218  -0.018356\n",
       "\n",
       "[217 rows x 2 columns]"
      ]
     },
     "execution_count": 877,
     "metadata": {},
     "output_type": "execute_result"
    }
   ],
   "source": [
    "residual = pd.DataFrame()\n",
    "residual['ind']=residuals.index\n",
    "residual['residuals']=residuals[0]\n",
    "residual=residual[1:]\n",
    "residual"
   ]
  },
  {
   "cell_type": "code",
   "execution_count": 878,
   "id": "a154a405",
   "metadata": {},
   "outputs": [
    {
     "data": {
      "image/png": "[encoded data removed]",
      "text/plain": [
       "<Figure size 432x288 with 1 Axes>"
      ]
     },
     "metadata": {
      "needs_background": "light"
     },
     "output_type": "display_data"
    }
   ],
   "source": [
    "ax1 = residual.plot.scatter(x='ind',\n",
    "                      y='residuals',\n",
    "                      c='DarkBlue')"
   ]
  },
  {
   "cell_type": "code",
   "execution_count": 879,
   "id": "34c0793c",
   "metadata": {},
   "outputs": [
    {
     "data": {
      "text/plain": [
       "<AxesSubplot:>"
      ]
     },
     "execution_count": 879,
     "metadata": {},
     "output_type": "execute_result"
    },
    {
     "data": {
      "image/png": "[encoded data removed]",
      "text/plain": [
       "<Figure size 432x288 with 1 Axes>"
      ]
     },
     "metadata": {
      "needs_background": "light"
     },
     "output_type": "display_data"
    }
   ],
   "source": [
    "residual['residuals'].hist()"
   ]
  },
  {
   "cell_type": "code",
   "execution_count": 880,
   "id": "593b9c77",
   "metadata": {},
   "outputs": [
    {
     "data": {
      "image/png": "[encoded data removed]",
      "text/plain": [
       "<Figure size 432x288 with 1 Axes>"
      ]
     },
     "metadata": {
      "needs_background": "light"
     },
     "output_type": "display_data"
    }
   ],
   "source": [
    "p = plot_acf(residual['residuals'],lags=50,  title='Autocorrelation Plot of Residuals')"
   ]
  },
  {
   "cell_type": "code",
   "execution_count": 881,
   "id": "77b73a34",
   "metadata": {},
   "outputs": [
    {
     "name": "stdout",
     "output_type": "stream",
     "text": [
      "Results of Dickey-Fuller Test:\n",
      "Test Statistic                -1.467936e+01\n",
      "p-value                        3.174181e-27\n",
      "#Lags Used                     0.000000e+00\n",
      "Number of Observations Used    2.160000e+02\n",
      "Critical Value (1%)           -3.460992e+00\n",
      "Critical Value (5%)           -2.875016e+00\n",
      "Critical Value (10%)          -2.573952e+00\n",
      "dtype: float64\n",
      "---------------\n",
      "Results of KPSS Test:\n",
      "Test Statistic            0.039228\n",
      "p-value                   0.100000\n",
      "Lags Used                15.000000\n",
      "Critical Value (10%)      0.119000\n",
      "Critical Value (5%)       0.146000\n",
      "Critical Value (2.5%)     0.176000\n",
      "Critical Value (1%)       0.216000\n",
      "dtype: float64\n",
      "stationarity from ad_fuller test: True\n",
      "stationarity from KPSS test: True\n"
     ]
    }
   ],
   "source": [
    "alpha = 0.05\n",
    "ad_fuller_results,kpss_test_results = adf_kpss_test(residual['residuals'], trend='ct')\n",
    "ad_fuller_results\n",
    "ad_fuller_pval = ad_fuller_results[1]\n",
    "ad_fuller_bool = ad_fuller_pval <= alpha\n",
    "\n",
    "print(f'stationarity from ad_fuller test: {ad_fuller_bool}')\n",
    "\n",
    "kpss_pval = kpss_test_results[1]\n",
    "kpss_test_bool = kpss_pval >= alpha\n",
    "\n",
    "print(f'stationarity from KPSS test: {kpss_test_bool}')"
   ]
  },
  {
   "cell_type": "code",
   "execution_count": 882,
   "id": "896bad67",
   "metadata": {},
   "outputs": [
    {
     "data": {
      "text/html": [
       "<div>\n",
       "<style scoped>\n",
       "    .dataframe tbody tr th:only-of-type {\n",
       "        vertical-align: middle;\n",
       "    }\n",
       "\n",
       "    .dataframe tbody tr th {\n",
       "        vertical-align: top;\n",
       "    }\n",
       "\n",
       "    .dataframe thead th {\n",
       "        text-align: right;\n",
       "    }\n",
       "</style>\n",
       "<table border=\"1\" class=\"dataframe\">\n",
       "  <thead>\n",
       "    <tr style=\"text-align: right;\">\n",
       "      <th></th>\n",
       "      <th>lb_stat</th>\n",
       "      <th>lb_pvalue</th>\n",
       "      <th>bp_stat</th>\n",
       "      <th>bp_pvalue</th>\n",
       "    </tr>\n",
       "  </thead>\n",
       "  <tbody>\n",
       "    <tr>\n",
       "      <th>10</th>\n",
       "      <td>8.186926</td>\n",
       "      <td>0.610584</td>\n",
       "      <td>7.867665</td>\n",
       "      <td>0.641761</td>\n",
       "    </tr>\n",
       "  </tbody>\n",
       "</table>\n",
       "</div>"
      ],
      "text/plain": [
       "     lb_stat  lb_pvalue   bp_stat  bp_pvalue\n",
       "10  8.186926   0.610584  7.867665   0.641761"
      ]
     },
     "execution_count": 882,
     "metadata": {},
     "output_type": "execute_result"
    }
   ],
   "source": [
    "\n",
    "from statsmodels.stats.diagnostic import acorr_ljungbox\n",
    "ljung = acorr_ljungbox(residual['residuals'], lags=[10], return_df=True,boxpierce=True)\n",
    "\n",
    "ljung"
   ]
  },
  {
   "cell_type": "markdown",
   "id": "e24a7faf",
   "metadata": {},
   "source": [
    "To validate our model, we can look the model residuals. The residuals are the difference between the actual data and the predicted value from the arima model. Based on the visuals above, they are performing as residuals should. The scatter plot of the residuals look like white noise. This way, I can be sure that none of the signal has escaped my model fit and has ended up in the residuals by mistake. The residuals should also be normally distributed. My histagram shows a normally distributed model. You can see the mean is centered around 0. A normally distributed residuals describes the actual distribution of the random errors in actuality reasonably well. The residuals should not show a trend or autocorrelation, because then we have failed to capture it in our model instead. The residuals should be stationary. In the adf and kpss tests, the residuals are shown to be stationary. I also performed the Ljung box test (portmanteau). The p-value of the test is 0.610584\t, which is more than 0.05. Therefore, we accept the null hypothesis of the test and conclude that the residuals are autocorrelated.\n"
   ]
  },
  {
   "cell_type": "markdown",
   "id": "5ddfa3ef",
   "metadata": {},
   "source": [
    "#### E) 7 pts Print model evaluation metrics MAE, MSE, MAPE, sMAPE on test set"
   ]
  },
  {
   "cell_type": "code",
   "execution_count": 883,
   "id": "a97f35b0",
   "metadata": {},
   "outputs": [],
   "source": [
    "from sklearn.metrics import mean_squared_error, mean_absolute_error \n",
    "import math\n",
    "from sktime.performance_metrics.forecasting import smape_loss\n",
    "from sktime.performance_metrics.forecasting import mape_loss\n",
    "from sklearn.metrics import mean_absolute_percentage_error\n"
   ]
  },
  {
   "cell_type": "code",
   "execution_count": 884,
   "id": "85335987",
   "metadata": {},
   "outputs": [],
   "source": [
    "mae = mean_absolute_error(y_test, y_pred)\n",
    "mse = mean_squared_error(y_test, y_pred)\n",
    "rmse = math.sqrt(usmse)\n",
    "smape = smape_loss(y_test, y_pred)\n",
    "mape = mape_loss(y_test, y_pred)"
   ]
  },
  {
   "cell_type": "code",
   "execution_count": 885,
   "id": "6fd332e0",
   "metadata": {},
   "outputs": [
    {
     "name": "stdout",
     "output_type": "stream",
     "text": [
      "Mean Squared Error: 5.2105366333256935\n",
      "Root Mean Squared Error: 2.2826599907401217\n",
      "Mean Absolute Error: 1.6297126369741217\n",
      "SMAPE: 0.2545231472307553\n",
      "MAPE: 0.23920013329273856\n"
     ]
    }
   ],
   "source": [
    "print(f'Mean Squared Error: {mse}')\n",
    "print(f'Root Mean Squared Error: {rmse}')\n",
    "print(f'Mean Absolute Error: {mae}')\n",
    "print(f'SMAPE: {smape}')\n",
    "print(f'MAPE: {mape}')"
   ]
  },
  {
   "cell_type": "markdown",
   "id": "235216c1",
   "metadata": {},
   "source": [
    "### Part 4: 10 pts – Evaluation Compare the two models’ performance using the error metrics as evidence"
   ]
  },
  {
   "cell_type": "markdown",
   "id": "451f6bcc",
   "metadata": {},
   "source": [
    "The error metrics for the gdp model are:\n",
    "Mean Squared Error: 0.007984855389578304\n",
    "\n",
    "Root Mean Squared Error: 0.08935801804862452\n",
    "\n",
    "Mean Absolute Error: 0.03245821299003179\n",
    "\n",
    "SMAPE: 1.9087138417038882\n",
    "\n",
    "MAPE: 1.0095995337709738\n",
    "\n",
    "The error metrics for the urate model are:\n",
    "Mean Squared Error: 2.1331278104073497\n",
    "\n",
    "Root Mean Squared Error: 1.4605231290217042\n",
    "\n",
    "Mean Absolute Error: 1.2553292792821438\n",
    "\n",
    "SMAPE: 0.2545231472307553\n",
    "\n",
    "MAPE: 0.23920013329273856\n",
    "\n",
    "\n",
    "\n",
    "For mean squared error, the gdp model's metrics are a lot better than that of the urate model. The smaller the means squared error, the closer you are to finding the line of best fit. In the gdp model it is 0.007. This shows this model fits the data well.\n",
    "\n",
    "The mean absolute error of the gdp model is also better than that of the urate model.On average, the predicted distance from the actual value is 0.03 in the gdp model and 1.25 in the urate model. The gdp model finds closer values to the true value. \n",
    "\n",
    "The smape of the gdp model is a not better than that of the urate model. Since MAPE tends to put a heavier effect on negative errors, smape counter that effects. The smape of the gdp is 0..25, which shows that this model is not as good as the urate model.\n",
    "\n",
    "MAPE is also an indicator that shows how good the model is. The urate actually has a better mape value. GDP has a mape of 1.009, while the urate model has a higher mape of 0.23.\n",
    "\n",
    "Overall, the gdp model is performing better because it is leading to better- lower error rates for mse but the urate model has a better mape rate.\n",
    "\n",
    "Both models on their own were good because when we analyzed the residuals, we saw that both models had residuals that appeared as white noise, that were normally distributed, and showed stationarity. For the gdp model, we were able to use the Ljung box test to show that we don't have autocorrelation in our residuals captured by the model. But in both models, the Ljung test showed that we still have autocorrelation in our residuals not captured by the model.\n",
    "\n",
    "The arima model order (3,2,3) for gdp performed very well compared the model order (2,1,2) for urate. The test for the residuals also showed this."
   ]
  }
 ],
 "metadata": {
  "kernelspec": {
   "display_name": "Python 3",
   "language": "python",
   "name": "python3"
  },
  "language_info": {
   "codemirror_mode": {
    "name": "ipython",
    "version": 3
   },
   "file_extension": ".py",
   "mimetype": "text/x-python",
   "name": "python",
   "nbconvert_exporter": "python",
   "pygments_lexer": "ipython3",
   "version": "3.8.5"
  }
 },
 "nbformat": 4,
 "nbformat_minor": 5
}
