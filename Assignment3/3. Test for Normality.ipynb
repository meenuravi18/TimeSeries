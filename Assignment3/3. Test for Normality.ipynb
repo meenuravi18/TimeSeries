{
 "cells": [
  {
   "cell_type": "code",
   "execution_count": 1,
   "metadata": {
    "ExecuteTime": {
     "end_time": "2021-03-23T02:26:48.750018Z",
     "start_time": "2021-03-23T02:26:48.021076Z"
    }
   },
   "outputs": [],
   "source": [
    "import numpy as np\n",
    "import matplotlib.pyplot as plt\n",
    "from scipy.stats import shapiro\n",
    "from scipy.stats import kstest\n",
    "from scipy.stats import jarque_bera"
   ]
  },
  {
   "cell_type": "code",
   "execution_count": 2,
   "metadata": {
    "ExecuteTime": {
     "end_time": "2021-03-23T02:26:48.757598Z",
     "start_time": "2021-03-23T02:26:48.752613Z"
    }
   },
   "outputs": [],
   "source": [
    "derived_normal_data = np.random.normal(size=1000)\n",
    "derived_gamma_data = np.random.gamma(3, size=1000)"
   ]
  },
  {
   "cell_type": "code",
   "execution_count": 3,
   "metadata": {},
   "outputs": [
    {
     "data": {
      "image/png": "[encoded data removed]",
      "text/plain": [
       "<Figure size 432x288 with 1 Axes>"
      ]
     },
     "metadata": {
      "needs_background": "light"
     },
     "output_type": "display_data"
    }
   ],
   "source": [
    "plt.hist(derived_normal_data)\n",
    "plt.title('Derived normal data')\n",
    "plt.show()"
   ]
  },
  {
   "cell_type": "code",
   "execution_count": 4,
   "metadata": {},
   "outputs": [
    {
     "data": {
      "image/png": "[encoded data removed]",
      "text/plain": [
       "<Figure size 432x288 with 1 Axes>"
      ]
     },
     "metadata": {
      "needs_background": "light"
     },
     "output_type": "display_data"
    }
   ],
   "source": [
    "plt.hist(derived_gamma_data)\n",
    "plt.title('Derived gamma data')\n",
    "plt.show()"
   ]
  },
  {
   "cell_type": "markdown",
   "metadata": {},
   "source": [
    "# Shapiro Wilk\n",
    "\n",
    "Is used to test if a random sample comes from a normal distribution. This test has more power than KS test. Arrays the sample values by size and measuing fit against means, variances and covariances. These are compared against normality. Unfortunately, the test has a bias by sample size. The larger the sample, the more likely you will get a statistically significant result. In general, this test is not as reliable with n > 2000."
   ]
  },
  {
   "cell_type": "code",
   "execution_count": 5,
   "metadata": {
    "ExecuteTime": {
     "end_time": "2021-03-23T02:26:48.775551Z",
     "start_time": "2021-03-23T02:26:48.761587Z"
    }
   },
   "outputs": [],
   "source": [
    "def test_shapiro_wilk(data, alpha=0.05):\n",
    "    stat, p = shapiro(data)\n",
    "    p = round(p,4)\n",
    "    if p > alpha:\n",
    "        print(f'shapiro: data follows normal {p}')\n",
    "    else:\n",
    "        print(f'shaprio: data not normal {p}')"
   ]
  },
  {
   "cell_type": "code",
   "execution_count": 6,
   "metadata": {
    "ExecuteTime": {
     "end_time": "2021-03-23T02:26:48.794501Z",
     "start_time": "2021-03-23T02:26:48.777544Z"
    }
   },
   "outputs": [
    {
     "name": "stdout",
     "output_type": "stream",
     "text": [
      "shapiro: data follows normal 0.0717\n",
      "shaprio: data not normal 0.0\n"
     ]
    }
   ],
   "source": [
    "test_shapiro_wilk(derived_normal_data)\n",
    "test_shapiro_wilk(derived_gamma_data)"
   ]
  },
  {
   "cell_type": "markdown",
   "metadata": {},
   "source": [
    "# Kolmogorov Smirnov\n",
    "\n",
    "More general test, but less powerful. Meaning that it correctly rejects the null hypothesis of normality less often.\n",
    "This test compares the expected cumulative distribution agains thte empirical cumulative distribution. Therefore, it is sensitive at the center of the distribution, but not the tails.\n",
    "\n",
    "<b> In general, use the SW test, then KS as a backup <b>"
   ]
  },
  {
   "cell_type": "code",
   "execution_count": 7,
   "metadata": {
    "ExecuteTime": {
     "end_time": "2021-03-23T02:26:48.807499Z",
     "start_time": "2021-03-23T02:26:48.797526Z"
    }
   },
   "outputs": [],
   "source": [
    "def test_kolmogorov_smirnov(data, alpha=0.05):\n",
    "    ks_results = kstest(data, 'norm')\n",
    "    p = ks_results.pvalue\n",
    "    p = round(p,4)\n",
    "    if p > alpha:\n",
    "        print(f'kolmogorov smirnov: data follows normal {p}')\n",
    "    else:\n",
    "        print(f'kolmogorov smirnov: data not normal {p}')"
   ]
  },
  {
   "cell_type": "code",
   "execution_count": 8,
   "metadata": {
    "ExecuteTime": {
     "end_time": "2021-03-23T02:26:48.832400Z",
     "start_time": "2021-03-23T02:26:48.811454Z"
    }
   },
   "outputs": [
    {
     "name": "stdout",
     "output_type": "stream",
     "text": [
      "kolmogorov smirnov: data follows normal 0.1381\n",
      "kolmogorov smirnov: data not normal 0.0\n"
     ]
    }
   ],
   "source": [
    "test_kolmogorov_smirnov(derived_normal_data)\n",
    "test_kolmogorov_smirnov(derived_gamma_data)"
   ]
  },
  {
   "cell_type": "markdown",
   "metadata": {},
   "source": [
    "# Jarque Bera\n",
    "\n",
    "Another test for normality, but test mathches the skewness and kurtosis of data to see if it matches a normal distribution. We do not need to know the mean or standard deviation for the data in order to run the test.\n",
    "\n",
    "A normal distribution has:\n",
    " - A skew of zero\n",
    " - A kurtosis of three\n"
   ]
  },
  {
   "cell_type": "code",
   "execution_count": 9,
   "metadata": {
    "ExecuteTime": {
     "end_time": "2021-03-23T02:26:48.846360Z",
     "start_time": "2021-03-23T02:26:48.838382Z"
    }
   },
   "outputs": [],
   "source": [
    "def test_jarque_bera(data, alpha=0.05):\n",
    "    test_stat, p = jarque_bera(data)\n",
    "    p = round(p,4)\n",
    "    if p > alpha:\n",
    "        print(f'jarque_bera: data follows normal {p}')\n",
    "    else:\n",
    "        print(f'jarque_bera: data not normal {p}')"
   ]
  },
  {
   "cell_type": "code",
   "execution_count": 10,
   "metadata": {
    "ExecuteTime": {
     "end_time": "2021-03-23T02:26:48.862320Z",
     "start_time": "2021-03-23T02:26:48.850350Z"
    }
   },
   "outputs": [
    {
     "name": "stdout",
     "output_type": "stream",
     "text": [
      "jarque_bera: data follows normal 0.2936\n",
      "jarque_bera: data not normal 0.0\n"
     ]
    }
   ],
   "source": [
    "test_jarque_bera(derived_normal_data)\n",
    "test_jarque_bera(derived_gamma_data)"
   ]
  },
  {
   "cell_type": "code",
   "execution_count": null,
   "metadata": {},
   "outputs": [],
   "source": []
  }
 ],
 "metadata": {
  "kernelspec": {
   "display_name": "Python 3",
   "language": "python",
   "name": "python3"
  },
  "language_info": {
   "codemirror_mode": {
    "name": "ipython",
    "version": 3
   },
   "file_extension": ".py",
   "mimetype": "text/x-python",
   "name": "python",
   "nbconvert_exporter": "python",
   "pygments_lexer": "ipython3",
   "version": "3.8.3"
  },
  "latex_envs": {
   "LaTeX_envs_menu_present": true,
   "autoclose": false,
   "autocomplete": true,
   "bibliofile": "biblio.bib",
   "cite_by": "apalike",
   "current_citInitial": 1,
   "eqLabelWithNumbers": true,
   "eqNumInitial": 1,
   "hotkeys": {
    "equation": "Ctrl-E",
    "itemize": "Ctrl-I"
   },
   "labels_anchors": false,
   "latex_user_defs": false,
   "report_style_numbering": false,
   "user_envs_cfg": false
  }
 },
 "nbformat": 4,
 "nbformat_minor": 2
}
