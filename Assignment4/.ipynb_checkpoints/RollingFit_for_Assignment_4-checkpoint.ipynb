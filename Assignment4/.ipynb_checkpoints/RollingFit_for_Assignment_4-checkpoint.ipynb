{
 "cells": [
  {
   "cell_type": "code",
   "execution_count": 1,
   "metadata": {
    "ExecuteTime": {
     "end_time": "2021-03-27T21:19:58.498844Z",
     "start_time": "2021-03-27T21:19:57.730374Z"
    }
   },
   "outputs": [],
   "source": [
    "import pandas as pd\n",
    "from sktime.forecasting.all import ForecastingHorizon\n",
    "import matplotlib.pyplot as plt\n",
    "import warnings\n",
    "warnings.filterwarnings( 'ignore' )"
   ]
  },
  {
   "cell_type": "markdown",
   "metadata": {},
   "source": [
    "### Load Data"
   ]
  },
  {
   "cell_type": "code",
   "execution_count": 4,
   "metadata": {
    "ExecuteTime": {
     "end_time": "2021-03-27T21:19:58.510809Z",
     "start_time": "2021-03-27T21:19:58.500831Z"
    }
   },
   "outputs": [
    {
     "data": {
      "text/html": [
       "<div>\n",
       "<style scoped>\n",
       "    .dataframe tbody tr th:only-of-type {\n",
       "        vertical-align: middle;\n",
       "    }\n",
       "\n",
       "    .dataframe tbody tr th {\n",
       "        vertical-align: top;\n",
       "    }\n",
       "\n",
       "    .dataframe thead th {\n",
       "        text-align: right;\n",
       "    }\n",
       "</style>\n",
       "<table border=\"1\" class=\"dataframe\">\n",
       "  <thead>\n",
       "    <tr style=\"text-align: right;\">\n",
       "      <th></th>\n",
       "      <th>co2</th>\n",
       "    </tr>\n",
       "    <tr>\n",
       "      <th>ds</th>\n",
       "      <th></th>\n",
       "    </tr>\n",
       "  </thead>\n",
       "  <tbody>\n",
       "    <tr>\n",
       "      <th>1958-03-15</th>\n",
       "      <td>315.700</td>\n",
       "    </tr>\n",
       "    <tr>\n",
       "      <th>1958-04-15</th>\n",
       "      <td>317.450</td>\n",
       "    </tr>\n",
       "    <tr>\n",
       "      <th>1958-05-15</th>\n",
       "      <td>317.510</td>\n",
       "    </tr>\n",
       "    <tr>\n",
       "      <th>1958-06-15</th>\n",
       "      <td>316.685</td>\n",
       "    </tr>\n",
       "    <tr>\n",
       "      <th>1958-07-15</th>\n",
       "      <td>315.860</td>\n",
       "    </tr>\n",
       "    <tr>\n",
       "      <th>...</th>\n",
       "      <td>...</td>\n",
       "    </tr>\n",
       "    <tr>\n",
       "      <th>2019-01-15</th>\n",
       "      <td>410.920</td>\n",
       "    </tr>\n",
       "    <tr>\n",
       "      <th>2019-02-15</th>\n",
       "      <td>411.660</td>\n",
       "    </tr>\n",
       "    <tr>\n",
       "      <th>2019-03-15</th>\n",
       "      <td>412.000</td>\n",
       "    </tr>\n",
       "    <tr>\n",
       "      <th>2019-04-15</th>\n",
       "      <td>413.510</td>\n",
       "    </tr>\n",
       "    <tr>\n",
       "      <th>2019-05-15</th>\n",
       "      <td>414.830</td>\n",
       "    </tr>\n",
       "  </tbody>\n",
       "</table>\n",
       "<p>735 rows × 1 columns</p>\n",
       "</div>"
      ],
      "text/plain": [
       "                co2\n",
       "ds                 \n",
       "1958-03-15  315.700\n",
       "1958-04-15  317.450\n",
       "1958-05-15  317.510\n",
       "1958-06-15  316.685\n",
       "1958-07-15  315.860\n",
       "...             ...\n",
       "2019-01-15  410.920\n",
       "2019-02-15  411.660\n",
       "2019-03-15  412.000\n",
       "2019-04-15  413.510\n",
       "2019-05-15  414.830\n",
       "\n",
       "[735 rows x 1 columns]"
      ]
     },
     "execution_count": 4,
     "metadata": {},
     "output_type": "execute_result"
    }
   ],
   "source": [
    "y =pd.read_csv('hw4_data.csv', index_col=0)\n",
    "y"
   ]
  },
  {
   "cell_type": "markdown",
   "metadata": {},
   "source": [
    "## Clean Data converting y index pd.to_datetime()\n",
    "    y.index = pd.core.indexes.period.PeriodIndex(y.index, freq='m')"
   ]
  },
  {
   "cell_type": "code",
   "execution_count": 10,
   "metadata": {
    "ExecuteTime": {
     "end_time": "2021-03-27T21:19:58.608540Z",
     "start_time": "2021-03-27T21:19:58.513796Z"
    }
   },
   "outputs": [
    {
     "data": {
      "text/html": [
       "<div>\n",
       "<style scoped>\n",
       "    .dataframe tbody tr th:only-of-type {\n",
       "        vertical-align: middle;\n",
       "    }\n",
       "\n",
       "    .dataframe tbody tr th {\n",
       "        vertical-align: top;\n",
       "    }\n",
       "\n",
       "    .dataframe thead th {\n",
       "        text-align: right;\n",
       "    }\n",
       "</style>\n",
       "<table border=\"1\" class=\"dataframe\">\n",
       "  <thead>\n",
       "    <tr style=\"text-align: right;\">\n",
       "      <th></th>\n",
       "      <th>co2</th>\n",
       "    </tr>\n",
       "    <tr>\n",
       "      <th>ds</th>\n",
       "      <th></th>\n",
       "    </tr>\n",
       "  </thead>\n",
       "  <tbody>\n",
       "    <tr>\n",
       "      <th>1958-03</th>\n",
       "      <td>315.700</td>\n",
       "    </tr>\n",
       "    <tr>\n",
       "      <th>1958-04</th>\n",
       "      <td>317.450</td>\n",
       "    </tr>\n",
       "    <tr>\n",
       "      <th>1958-05</th>\n",
       "      <td>317.510</td>\n",
       "    </tr>\n",
       "    <tr>\n",
       "      <th>1958-06</th>\n",
       "      <td>316.685</td>\n",
       "    </tr>\n",
       "    <tr>\n",
       "      <th>1958-07</th>\n",
       "      <td>315.860</td>\n",
       "    </tr>\n",
       "    <tr>\n",
       "      <th>...</th>\n",
       "      <td>...</td>\n",
       "    </tr>\n",
       "    <tr>\n",
       "      <th>2019-01</th>\n",
       "      <td>410.920</td>\n",
       "    </tr>\n",
       "    <tr>\n",
       "      <th>2019-02</th>\n",
       "      <td>411.660</td>\n",
       "    </tr>\n",
       "    <tr>\n",
       "      <th>2019-03</th>\n",
       "      <td>412.000</td>\n",
       "    </tr>\n",
       "    <tr>\n",
       "      <th>2019-04</th>\n",
       "      <td>413.510</td>\n",
       "    </tr>\n",
       "    <tr>\n",
       "      <th>2019-05</th>\n",
       "      <td>414.830</td>\n",
       "    </tr>\n",
       "  </tbody>\n",
       "</table>\n",
       "<p>735 rows × 1 columns</p>\n",
       "</div>"
      ],
      "text/plain": [
       "             co2\n",
       "ds              \n",
       "1958-03  315.700\n",
       "1958-04  317.450\n",
       "1958-05  317.510\n",
       "1958-06  316.685\n",
       "1958-07  315.860\n",
       "...          ...\n",
       "2019-01  410.920\n",
       "2019-02  411.660\n",
       "2019-03  412.000\n",
       "2019-04  413.510\n",
       "2019-05  414.830\n",
       "\n",
       "[735 rows x 1 columns]"
      ]
     },
     "execution_count": 10,
     "metadata": {},
     "output_type": "execute_result"
    }
   ],
   "source": [
    "# y.index = pd.to_datetime( y.index)\n",
    "y.index = pd.core.indexes.period.PeriodIndex(y.index, freq='m')\n",
    "y"
   ]
  },
  {
   "cell_type": "markdown",
   "metadata": {
    "ExecuteTime": {
     "end_time": "2021-03-27T15:51:51.734393Z",
     "start_time": "2021-03-27T15:51:51.722438Z"
    }
   },
   "source": [
    "### Import AutoArima"
   ]
  },
  {
   "cell_type": "code",
   "execution_count": 6,
   "metadata": {
    "ExecuteTime": {
     "end_time": "2021-03-27T21:20:00.238341Z",
     "start_time": "2021-03-27T21:19:58.610537Z"
    }
   },
   "outputs": [],
   "source": [
    "from sktime.forecasting.all import AutoARIMA\n",
    "from sktime.forecasting.arima import ARIMA\n",
    "from sktime.forecasting.base import ForecastingHorizon\n",
    "from sktime.forecasting.all import temporal_train_test_split"
   ]
  },
  {
   "cell_type": "markdown",
   "metadata": {},
   "source": [
    "## Separate Train and Test Using Temporal Train Test. Use a train_size of 5"
   ]
  },
  {
   "cell_type": "markdown",
   "metadata": {},
   "source": [
    "### Make a One Step Rolling Auto Arima"
   ]
  },
  {
   "cell_type": "code",
   "execution_count": 50,
   "metadata": {
    "ExecuteTime": {
     "end_time": "2021-03-27T21:20:00.257292Z",
     "start_time": "2021-03-27T21:20:00.241332Z"
    }
   },
   "outputs": [],
   "source": [
    "class RollingFit:\n",
    "    def __init__(self, y, train_size=551, model=AutoARIMA() ):\n",
    "        \n",
    "        self.y = y\n",
    "        self.model = model\n",
    "        \n",
    "        self.train_y, self.test_y = temporal_train_test_split(y, train_size=train_size)\n",
    "#         print(self.train_y.shape)\n",
    "        self._test_y = self.test_y\n",
    "        self.ypred_ = self.train_y\n",
    "        self.fit()\n",
    "        \n",
    "    def fit(self):\n",
    "        N = len( self.test_y )\n",
    "#         print(N)\n",
    "        for i in range(0, N):\n",
    "#             print(i)\n",
    "            self.fit_model()\n",
    "            ypred = self.predict_one()\n",
    "            self.add_to_predictions( ypred )\n",
    "            self.move_one_test_to_train()\n",
    "            self.drop_one_from_test()\n",
    "    \n",
    "    \n",
    "    def fit_model(self):\n",
    "        y = self.train_y\n",
    "        self.model.fit( y )\n",
    "        \n",
    "    def predict_one(self):\n",
    "        ypred = self.model.predict(1)\n",
    "        return ypred\n",
    "    \n",
    "    def add_to_predictions(self, ypred):\n",
    "        self.ypred_ = pd.concat([self.ypred_, ypred])\n",
    "        \n",
    "        \n",
    "    def move_one_test_to_train(self):\n",
    "        series_to_add = pd.Series( \n",
    "            self.test_y[0], \n",
    "            index = [ self.test_y.index[0] ] \n",
    "        )\n",
    "        self.train_y = pd.concat( [self.train_y, series_to_add ])    \n",
    "    \n",
    "    def drop_one_from_test(self):\n",
    "        self.test_y = self.test_y[1:]"
   ]
  },
  {
   "cell_type": "code",
   "execution_count": 51,
   "metadata": {
    "ExecuteTime": {
     "end_time": "2021-03-27T21:21:14.588407Z",
     "start_time": "2021-03-27T21:20:00.275242Z"
    }
   },
   "outputs": [],
   "source": [
    "rolling_fit_model = RollingFit(y['co2'], model=ARIMA((2,1,1), seasonal_order=(0,1,0,12) ))"
   ]
  },
  {
   "cell_type": "code",
   "execution_count": 32,
   "metadata": {},
   "outputs": [],
   "source": []
  },
  {
   "cell_type": "code",
   "execution_count": 59,
   "metadata": {},
   "outputs": [
    {
     "data": {
      "image/png": "[encoded data removed]",
      "text/plain": [
       "<Figure size 432x288 with 1 Axes>"
      ]
     },
     "metadata": {
      "needs_background": "light"
     },
     "output_type": "display_data"
    },
    {
     "data": {
      "image/png": "[encoded data removed]",
      "text/plain": [
       "<Figure size 432x288 with 1 Axes>"
      ]
     },
     "metadata": {
      "needs_background": "light"
     },
     "output_type": "display_data"
    }
   ],
   "source": [
    "rolling_fit_model.y.plot(color='red')\n",
    "plt.show()\n",
    "rolling_fit_model.ypred_.plot()\n",
    "plt.show()"
   ]
  },
  {
   "cell_type": "code",
   "execution_count": 60,
   "metadata": {},
   "outputs": [],
   "source": [
    "from sklearn.metrics import mean_squared_error, mean_absolute_error \n",
    "import math\n",
    "from sktime.performance_metrics.forecasting import smape_loss\n",
    "from sktime.performance_metrics.forecasting import mape_loss"
   ]
  },
  {
   "cell_type": "code",
   "execution_count": 66,
   "metadata": {},
   "outputs": [],
   "source": [
    "import numpy as np\n",
    "def MASE(training_series, testing_series, prediction_series):\n",
    "   \n",
    "    n = training_series.shape[0]\n",
    "    d = np.abs(  np.diff( training_series) ).sum()/(n-1)\n",
    "    \n",
    "    errors = np.abs(testing_series - prediction_series )\n",
    "    return errors.mean()/d\n"
   ]
  },
  {
   "cell_type": "code",
   "execution_count": 78,
   "metadata": {},
   "outputs": [
    {
     "data": {
      "text/plain": [
       "1958-03    315.700\n",
       "1958-04    317.450\n",
       "1958-05    317.510\n",
       "1958-06    316.685\n",
       "1958-07    315.860\n",
       "            ...   \n",
       "2019-01    410.920\n",
       "2019-02    411.660\n",
       "2019-03    412.000\n",
       "2019-04    413.510\n",
       "2019-05    414.830\n",
       "Freq: M, Length: 735, dtype: float64"
      ]
     },
     "execution_count": 78,
     "metadata": {},
     "output_type": "execute_result"
    }
   ],
   "source": [
    "rolling_fit_model.train_y"
   ]
  },
  {
   "cell_type": "code",
   "execution_count": 86,
   "metadata": {},
   "outputs": [
    {
     "data": {
      "text/plain": [
       "2004-02    377.37\n",
       "2004-03    378.39\n",
       "2004-04    380.50\n",
       "2004-05    380.62\n",
       "2004-06    379.55\n",
       "            ...  \n",
       "2019-01    410.92\n",
       "2019-02    411.66\n",
       "2019-03    412.00\n",
       "2019-04    413.51\n",
       "2019-05    414.83\n",
       "Freq: M, Length: 184, dtype: float64"
      ]
     },
     "execution_count": 86,
     "metadata": {},
     "output_type": "execute_result"
    }
   ],
   "source": [
    "y_test_set=rolling_fit_model.train_y[551:]\n",
    "y_test_set"
   ]
  },
  {
   "cell_type": "code",
   "execution_count": 87,
   "metadata": {},
   "outputs": [
    {
     "data": {
      "text/plain": [
       "2004-02    377.656167\n",
       "2004-03    377.978255\n",
       "2004-04    379.748693\n",
       "2004-05    380.918659\n",
       "2004-06    380.494389\n",
       "              ...    \n",
       "2019-01    410.617579\n",
       "2019-02    411.027984\n",
       "2019-03    412.286040\n",
       "2019-04    413.111767\n",
       "2019-05    414.247911\n",
       "Freq: M, Length: 184, dtype: float64"
      ]
     },
     "execution_count": 87,
     "metadata": {},
     "output_type": "execute_result"
    }
   ],
   "source": [
    "y_pred_set=rolling_fit_model.ypred_[551:]\n",
    "y_pred_set"
   ]
  },
  {
   "cell_type": "code",
   "execution_count": 88,
   "metadata": {},
   "outputs": [],
   "source": [
    "mae = mean_absolute_error(y_test_set, y_pred_set)\n",
    "mse = mean_squared_error(y_test_set, y_pred_set)\n",
    "rmse = math.sqrt(mse)\n",
    "smape = smape_loss(y_test_set, y_pred_set)\n",
    "mape = mape_loss(y_test_set, y_pred_set)\n",
    "mase= MASE(rolling_fit_model.train_y, y_test_set, y_pred_set)"
   ]
  },
  {
   "cell_type": "code",
   "execution_count": 89,
   "metadata": {},
   "outputs": [
    {
     "name": "stdout",
     "output_type": "stream",
     "text": [
      "Mean Squared Error: 0.22903439836117873\n",
      "Root Mean Squared Error: 0.4785753841989564\n",
      "Mean Absolute Error: 0.38529235022714625\n",
      "SMAPE: 0.0009786530684704042\n",
      "MAPE: 0.0009786126861197452\n",
      "MASE: 0.3474983535464717\n"
     ]
    }
   ],
   "source": [
    "print(f'Mean Squared Error: {mse}')\n",
    "print(f'Root Mean Squared Error: {rmse}')\n",
    "print(f'Mean Absolute Error: {mae}')\n",
    "print(f'SMAPE: {smape}')\n",
    "print(f'MAPE: {mape}')\n",
    "print(f'MASE: {mase}')"
   ]
  },
  {
   "cell_type": "code",
   "execution_count": null,
   "metadata": {},
   "outputs": [],
   "source": []
  },
  {
   "cell_type": "code",
   "execution_count": 121,
   "metadata": {},
   "outputs": [],
   "source": [
    "class RecursiveForecast:\n",
    "    def __init__(self, y, train_size=733, model=AutoARIMA() ):\n",
    "        \n",
    "        self.y = y\n",
    "        self.model = model\n",
    "        self.train_y, self.test_y = temporal_train_test_split(y, train_size=train_size)\n",
    "        self._test_y = self.test_y\n",
    "        self.ypred_ = self.train_y\n",
    "        self.fit()\n",
    "        \n",
    "    def fit(self):\n",
    "        N = len( self.test_y )\n",
    "        for i in range(0, N):\n",
    "            self.fit_model()\n",
    "            ypred = self.predict_one()\n",
    "            self.add_to_predictions( ypred )\n",
    "            self.move_one_pred_to_train(ypred)\n",
    "            print(self.train_y)\n",
    "            self.drop_one_from_test()\n",
    "    \n",
    "    \n",
    "    def fit_model(self):\n",
    "        y = self.train_y\n",
    "        self.model.fit( y )\n",
    "        \n",
    "    def predict_one(self):\n",
    "        ypred = self.model.predict(1)\n",
    "        return ypred\n",
    "    \n",
    "    def add_to_predictions(self, ypred):\n",
    "        self.ypred_ = pd.concat([self.ypred_, ypred])\n",
    "        \n",
    "        \n",
    "    def move_one_pred_to_train(self,prediction):\n",
    "        series_to_add = pd.Series( \n",
    "            prediction, \n",
    "            index = [ self.test_y.index[0] ] \n",
    "        )\n",
    "        self.train_y = pd.concat( [self.train_y, series_to_add ])    \n",
    "    \n",
    "    def drop_one_from_test(self):\n",
    "        self.test_y = self.test_y[1:]"
   ]
  },
  {
   "cell_type": "code",
   "execution_count": 122,
   "metadata": {},
   "outputs": [
    {
     "name": "stdout",
     "output_type": "stream",
     "text": [
      "1958-03    315.700000\n",
      "1958-04    317.450000\n",
      "1958-05    317.510000\n",
      "1958-06    316.685000\n",
      "1958-07    315.860000\n",
      "              ...    \n",
      "2018-12    409.230000\n",
      "2019-01    410.920000\n",
      "2019-02    411.660000\n",
      "2019-03    412.000000\n",
      "2019-04    413.111767\n",
      "Freq: M, Length: 734, dtype: float64\n",
      "1958-03    315.700000\n",
      "1958-04    317.450000\n",
      "1958-05    317.510000\n",
      "1958-06    316.685000\n",
      "1958-07    315.860000\n",
      "              ...    \n",
      "2019-01    410.920000\n",
      "2019-02    411.660000\n",
      "2019-03    412.000000\n",
      "2019-04    413.111767\n",
      "2019-05    414.015693\n",
      "Freq: M, Length: 735, dtype: float64\n"
     ]
    }
   ],
   "source": [
    "recursive_model = RecursiveForecast(y['co2'], model=ARIMA((2,1,1), seasonal_order=(0,1,0,12) ))"
   ]
  },
  {
   "cell_type": "code",
   "execution_count": 123,
   "metadata": {},
   "outputs": [
    {
     "data": {
      "text/plain": [
       "1958-03    315.700\n",
       "1958-04    317.450\n",
       "1958-05    317.510\n",
       "1958-06    316.685\n",
       "1958-07    315.860\n",
       "            ...   \n",
       "2019-01    410.920\n",
       "2019-02    411.660\n",
       "2019-03    412.000\n",
       "2019-04    413.510\n",
       "2019-05    414.830\n",
       "Freq: M, Name: co2, Length: 735, dtype: float64"
      ]
     },
     "execution_count": 123,
     "metadata": {},
     "output_type": "execute_result"
    }
   ],
   "source": [
    "original_data=pd.Series(y['co2'])\n",
    "original_data.index.name=None\n",
    "original_data"
   ]
  },
  {
   "cell_type": "code",
   "execution_count": 124,
   "metadata": {},
   "outputs": [
    {
     "data": {
      "text/plain": [
       "2019-04    413.51\n",
       "2019-05    414.83\n",
       "Freq: M, Name: co2, dtype: float64"
      ]
     },
     "execution_count": 124,
     "metadata": {},
     "output_type": "execute_result"
    }
   ],
   "source": [
    "y_test_set=original_data[733:]\n",
    "y_test_set"
   ]
  },
  {
   "cell_type": "code",
   "execution_count": 125,
   "metadata": {},
   "outputs": [
    {
     "data": {
      "text/plain": [
       "1958-03    315.700000\n",
       "1958-04    317.450000\n",
       "1958-05    317.510000\n",
       "1958-06    316.685000\n",
       "1958-07    315.860000\n",
       "              ...    \n",
       "2019-01    410.920000\n",
       "2019-02    411.660000\n",
       "2019-03    412.000000\n",
       "2019-04    413.111767\n",
       "2019-05    414.015693\n",
       "Freq: M, Length: 735, dtype: float64"
      ]
     },
     "execution_count": 125,
     "metadata": {},
     "output_type": "execute_result"
    }
   ],
   "source": [
    "recursive_model.ypred_"
   ]
  },
  {
   "cell_type": "code",
   "execution_count": 126,
   "metadata": {},
   "outputs": [
    {
     "data": {
      "text/plain": [
       "2019-04    413.111767\n",
       "2019-05    414.015693\n",
       "Freq: M, dtype: float64"
      ]
     },
     "execution_count": 126,
     "metadata": {},
     "output_type": "execute_result"
    }
   ],
   "source": [
    "y_pred_set=recursive_model.ypred_[733:]\n",
    "y_pred_set"
   ]
  },
  {
   "cell_type": "code",
   "execution_count": 127,
   "metadata": {},
   "outputs": [],
   "source": [
    "mae = mean_absolute_error(y_test_set, y_pred_set)\n",
    "mse = mean_squared_error(y_test_set, y_pred_set)\n",
    "rmse = math.sqrt(mse)\n",
    "smape = smape_loss(y_test_set, y_pred_set)\n",
    "mape = mape_loss(y_test_set, y_pred_set)\n",
    "mase= MASE(original_data, y_test_set, y_pred_set)"
   ]
  },
  {
   "cell_type": "code",
   "execution_count": 128,
   "metadata": {},
   "outputs": [
    {
     "name": "stdout",
     "output_type": "stream",
     "text": [
      "Mean Squared Error: 0.410842546030998\n",
      "Root Mean Squared Error: 0.6409700040025259\n",
      "Mean Absolute Error: 0.6062697909951282\n",
      "SMAPE: 0.0014642182358628002\n",
      "MAPE: 0.001463021977211586\n",
      "MASE: 0.5467997328562767\n"
     ]
    }
   ],
   "source": [
    "print(f'Mean Squared Error: {mse}')\n",
    "print(f'Root Mean Squared Error: {rmse}')\n",
    "print(f'Mean Absolute Error: {mae}')\n",
    "print(f'SMAPE: {smape}')\n",
    "print(f'MAPE: {mape}')\n",
    "print(f'MASE: {mase}')"
   ]
  },
  {
   "cell_type": "code",
   "execution_count": null,
   "metadata": {},
   "outputs": [],
   "source": []
  },
  {
   "cell_type": "code",
   "execution_count": null,
   "metadata": {},
   "outputs": [],
   "source": []
  }
 ],
 "metadata": {
  "kernelspec": {
   "display_name": "Python 3",
   "language": "python",
   "name": "python3"
  },
  "language_info": {
   "codemirror_mode": {
    "name": "ipython",
    "version": 3
   },
   "file_extension": ".py",
   "mimetype": "text/x-python",
   "name": "python",
   "nbconvert_exporter": "python",
   "pygments_lexer": "ipython3",
   "version": "3.8.5"
  },
  "latex_envs": {
   "LaTeX_envs_menu_present": true,
   "autoclose": false,
   "autocomplete": true,
   "bibliofile": "biblio.bib",
   "cite_by": "apalike",
   "current_citInitial": 1,
   "eqLabelWithNumbers": true,
   "eqNumInitial": 1,
   "hotkeys": {
    "equation": "Ctrl-E",
    "itemize": "Ctrl-I"
   },
   "labels_anchors": false,
   "latex_user_defs": false,
   "report_style_numbering": false,
   "user_envs_cfg": false
  }
 },
 "nbformat": 4,
 "nbformat_minor": 2
}
