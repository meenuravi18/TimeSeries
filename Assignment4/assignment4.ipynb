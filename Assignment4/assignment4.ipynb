{
 "cells": [
  {
   "cell_type": "markdown",
   "id": "caec5987",
   "metadata": {},
   "source": [
    "## Assignment 4 \n",
    "### April 28 2021\n",
    "### Meenu Ravi"
   ]
  },
  {
   "cell_type": "markdown",
   "id": "e0f895f1",
   "metadata": {},
   "source": [
    "### Part 1. 10 pts - Exploratory Data Analysis"
   ]
  },
  {
   "cell_type": "markdown",
   "id": "c9d0b0e7",
   "metadata": {},
   "source": [
    "#### 1) 10 pts Complete a quantitative and qualitative data exploration. Include a verbal summary of your EDA."
   ]
  },
  {
   "cell_type": "code",
   "execution_count": 1,
   "id": "19274755",
   "metadata": {},
   "outputs": [],
   "source": [
    "import pandas as pd\n",
    "import numpy as np\n",
    "import seaborn as sns\n",
    "import matplotlib.pyplot as plt\n",
    "from statsmodels.graphics.tsaplots import plot_acf, plot_pacf\n",
    "from sklearn.model_selection import train_test_split\n",
    "from sktime.forecasting.all import temporal_train_test_split\n",
    "from statsmodels.tsa.stattools import kpss, adfuller\n",
    "import warnings\n",
    "from pmdarima import auto_arima\n",
    "from sklearn.metrics import mean_squared_error, mean_absolute_error \n",
    "import math\n",
    "from sktime.performance_metrics.forecasting import smape_loss\n",
    "from sktime.performance_metrics.forecasting import mape_loss\n",
    "warnings.filterwarnings('ignore')"
   ]
  },
  {
   "cell_type": "code",
   "execution_count": 2,
   "id": "7e9bef5b",
   "metadata": {},
   "outputs": [
    {
     "data": {
      "text/html": [
       "<div>\n",
       "<style scoped>\n",
       "    .dataframe tbody tr th:only-of-type {\n",
       "        vertical-align: middle;\n",
       "    }\n",
       "\n",
       "    .dataframe tbody tr th {\n",
       "        vertical-align: top;\n",
       "    }\n",
       "\n",
       "    .dataframe thead th {\n",
       "        text-align: right;\n",
       "    }\n",
       "</style>\n",
       "<table border=\"1\" class=\"dataframe\">\n",
       "  <thead>\n",
       "    <tr style=\"text-align: right;\">\n",
       "      <th></th>\n",
       "      <th>ds</th>\n",
       "      <th>co2</th>\n",
       "    </tr>\n",
       "  </thead>\n",
       "  <tbody>\n",
       "    <tr>\n",
       "      <th>0</th>\n",
       "      <td>1958-03-15</td>\n",
       "      <td>315.700</td>\n",
       "    </tr>\n",
       "    <tr>\n",
       "      <th>1</th>\n",
       "      <td>1958-04-15</td>\n",
       "      <td>317.450</td>\n",
       "    </tr>\n",
       "    <tr>\n",
       "      <th>2</th>\n",
       "      <td>1958-05-15</td>\n",
       "      <td>317.510</td>\n",
       "    </tr>\n",
       "    <tr>\n",
       "      <th>3</th>\n",
       "      <td>1958-06-15</td>\n",
       "      <td>316.685</td>\n",
       "    </tr>\n",
       "    <tr>\n",
       "      <th>4</th>\n",
       "      <td>1958-07-15</td>\n",
       "      <td>315.860</td>\n",
       "    </tr>\n",
       "    <tr>\n",
       "      <th>...</th>\n",
       "      <td>...</td>\n",
       "      <td>...</td>\n",
       "    </tr>\n",
       "    <tr>\n",
       "      <th>730</th>\n",
       "      <td>2019-01-15</td>\n",
       "      <td>410.920</td>\n",
       "    </tr>\n",
       "    <tr>\n",
       "      <th>731</th>\n",
       "      <td>2019-02-15</td>\n",
       "      <td>411.660</td>\n",
       "    </tr>\n",
       "    <tr>\n",
       "      <th>732</th>\n",
       "      <td>2019-03-15</td>\n",
       "      <td>412.000</td>\n",
       "    </tr>\n",
       "    <tr>\n",
       "      <th>733</th>\n",
       "      <td>2019-04-15</td>\n",
       "      <td>413.510</td>\n",
       "    </tr>\n",
       "    <tr>\n",
       "      <th>734</th>\n",
       "      <td>2019-05-15</td>\n",
       "      <td>414.830</td>\n",
       "    </tr>\n",
       "  </tbody>\n",
       "</table>\n",
       "<p>735 rows × 2 columns</p>\n",
       "</div>"
      ],
      "text/plain": [
       "             ds      co2\n",
       "0    1958-03-15  315.700\n",
       "1    1958-04-15  317.450\n",
       "2    1958-05-15  317.510\n",
       "3    1958-06-15  316.685\n",
       "4    1958-07-15  315.860\n",
       "..          ...      ...\n",
       "730  2019-01-15  410.920\n",
       "731  2019-02-15  411.660\n",
       "732  2019-03-15  412.000\n",
       "733  2019-04-15  413.510\n",
       "734  2019-05-15  414.830\n",
       "\n",
       "[735 rows x 2 columns]"
      ]
     },
     "execution_count": 2,
     "metadata": {},
     "output_type": "execute_result"
    }
   ],
   "source": [
    "data= pd.read_csv(\"hw4_data.csv\")\n",
    "data"
   ]
  },
  {
   "cell_type": "code",
   "execution_count": 3,
   "id": "639c62b0",
   "metadata": {},
   "outputs": [
    {
     "data": {
      "text/plain": [
       "(735, 2)"
      ]
     },
     "execution_count": 3,
     "metadata": {},
     "output_type": "execute_result"
    }
   ],
   "source": [
    "data.shape"
   ]
  },
  {
   "cell_type": "code",
   "execution_count": 4,
   "id": "5a7d4175",
   "metadata": {},
   "outputs": [
    {
     "data": {
      "text/plain": [
       "0.0"
      ]
     },
     "execution_count": 4,
     "metadata": {},
     "output_type": "execute_result"
    }
   ],
   "source": [
    "missing_values=data['co2'].isna().sum()\n",
    "full=len(data)\n",
    "percent=(missing_values/full)*100\n",
    "percent"
   ]
  },
  {
   "cell_type": "code",
   "execution_count": 5,
   "id": "db4d207c",
   "metadata": {},
   "outputs": [
    {
     "data": {
      "text/html": [
       "<div>\n",
       "<style scoped>\n",
       "    .dataframe tbody tr th:only-of-type {\n",
       "        vertical-align: middle;\n",
       "    }\n",
       "\n",
       "    .dataframe tbody tr th {\n",
       "        vertical-align: top;\n",
       "    }\n",
       "\n",
       "    .dataframe thead th {\n",
       "        text-align: right;\n",
       "    }\n",
       "</style>\n",
       "<table border=\"1\" class=\"dataframe\">\n",
       "  <thead>\n",
       "    <tr style=\"text-align: right;\">\n",
       "      <th></th>\n",
       "      <th>co2</th>\n",
       "    </tr>\n",
       "  </thead>\n",
       "  <tbody>\n",
       "    <tr>\n",
       "      <th>count</th>\n",
       "      <td>735.000000</td>\n",
       "    </tr>\n",
       "    <tr>\n",
       "      <th>mean</th>\n",
       "      <td>354.210673</td>\n",
       "    </tr>\n",
       "    <tr>\n",
       "      <th>std</th>\n",
       "      <td>27.922811</td>\n",
       "    </tr>\n",
       "    <tr>\n",
       "      <th>min</th>\n",
       "      <td>313.200000</td>\n",
       "    </tr>\n",
       "    <tr>\n",
       "      <th>25%</th>\n",
       "      <td>328.785000</td>\n",
       "    </tr>\n",
       "    <tr>\n",
       "      <th>50%</th>\n",
       "      <td>351.340000</td>\n",
       "    </tr>\n",
       "    <tr>\n",
       "      <th>75%</th>\n",
       "      <td>376.515000</td>\n",
       "    </tr>\n",
       "    <tr>\n",
       "      <th>max</th>\n",
       "      <td>414.830000</td>\n",
       "    </tr>\n",
       "  </tbody>\n",
       "</table>\n",
       "</div>"
      ],
      "text/plain": [
       "              co2\n",
       "count  735.000000\n",
       "mean   354.210673\n",
       "std     27.922811\n",
       "min    313.200000\n",
       "25%    328.785000\n",
       "50%    351.340000\n",
       "75%    376.515000\n",
       "max    414.830000"
      ]
     },
     "execution_count": 5,
     "metadata": {},
     "output_type": "execute_result"
    }
   ],
   "source": [
    "data.describe()"
   ]
  },
  {
   "cell_type": "code",
   "execution_count": 6,
   "id": "121e0ca9",
   "metadata": {},
   "outputs": [
    {
     "data": {
      "text/plain": [
       "ds      object\n",
       "co2    float64\n",
       "dtype: object"
      ]
     },
     "execution_count": 6,
     "metadata": {},
     "output_type": "execute_result"
    }
   ],
   "source": [
    "data.dtypes"
   ]
  },
  {
   "cell_type": "code",
   "execution_count": 7,
   "id": "153061e2",
   "metadata": {},
   "outputs": [
    {
     "name": "stdout",
     "output_type": "stream",
     "text": [
      "Duplicate rows:  (0, 2)\n"
     ]
    }
   ],
   "source": [
    "duplicate_rows = data[data.duplicated()]\n",
    "print(\"Duplicate rows: \", duplicate_rows.shape)"
   ]
  },
  {
   "cell_type": "code",
   "execution_count": 8,
   "id": "bf7264c5",
   "metadata": {},
   "outputs": [
    {
     "name": "stdout",
     "output_type": "stream",
     "text": [
      "(array([], dtype=int64),)\n"
     ]
    },
    {
     "data": {
      "image/png": "[encoded data removed]",
      "text/plain": [
       "<Figure size 432x288 with 1 Axes>"
      ]
     },
     "metadata": {
      "needs_background": "light"
     },
     "output_type": "display_data"
    }
   ],
   "source": [
    "sns.boxplot(x=data['co2'])\n",
    "print(np.where(data['co2']>data['co2'].quantile(0.75) + (1.5 * (data['co2'].quantile(0.75)-\n",
    "                                                                  data['co2'].quantile(0.25)))))"
   ]
  },
  {
   "cell_type": "code",
   "execution_count": 9,
   "id": "d9e66d1a",
   "metadata": {},
   "outputs": [
    {
     "data": {
      "text/plain": [
       "<AxesSubplot:>"
      ]
     },
     "execution_count": 9,
     "metadata": {},
     "output_type": "execute_result"
    },
    {
     "data": {
      "image/png": "[encoded data removed]",
      "text/plain": [
       "<Figure size 432x288 with 1 Axes>"
      ]
     },
     "metadata": {
      "needs_background": "light"
     },
     "output_type": "display_data"
    }
   ],
   "source": [
    "data['co2'].plot()"
   ]
  },
  {
   "cell_type": "code",
   "execution_count": 10,
   "id": "8141debb",
   "metadata": {},
   "outputs": [
    {
     "data": {
      "image/png": "[encoded data removed]",
      "text/plain": [
       "<Figure size 432x288 with 1 Axes>"
      ]
     },
     "metadata": {
      "needs_background": "light"
     },
     "output_type": "display_data"
    }
   ],
   "source": [
    "p=plot_acf(data['co2'], lags=40,title='Autocorrelation Plot')"
   ]
  },
  {
   "cell_type": "code",
   "execution_count": 11,
   "id": "5cca4e77",
   "metadata": {},
   "outputs": [
    {
     "data": {
      "image/png": "[encoded data removed]",
      "text/plain": [
       "<Figure size 432x288 with 1 Axes>"
      ]
     },
     "metadata": {
      "needs_background": "light"
     },
     "output_type": "display_data"
    }
   ],
   "source": [
    "p = plot_pacf(data['co2'],lags=50,  title='Partial Autocorrelation Plot')"
   ]
  },
  {
   "cell_type": "code",
   "execution_count": 12,
   "id": "49521d05",
   "metadata": {},
   "outputs": [
    {
     "data": {
      "text/plain": [
       "0      1958-03-15\n",
       "1      1958-04-15\n",
       "2      1958-05-15\n",
       "3      1958-06-15\n",
       "4      1958-07-15\n",
       "          ...    \n",
       "730    2019-01-15\n",
       "731    2019-02-15\n",
       "732    2019-03-15\n",
       "733    2019-04-15\n",
       "734    2019-05-15\n",
       "Name: ds, Length: 735, dtype: object"
      ]
     },
     "execution_count": 12,
     "metadata": {},
     "output_type": "execute_result"
    }
   ],
   "source": [
    "data['ds']"
   ]
  },
  {
   "cell_type": "code",
   "execution_count": 13,
   "id": "d7b84d14",
   "metadata": {},
   "outputs": [],
   "source": [
    "def adf_kpss_test(timeseries,trend='c'):\n",
    "    #Perform Dickey-Fuller test:\n",
    "    df_results=[]\n",
    "    kpss_results=[]\n",
    "    print ('Results of Dickey-Fuller Test:')\n",
    "    dftest = adfuller(timeseries, autolag='AIC')\n",
    "    dfoutput = pd.Series(dftest[0:4], index=['Test Statistic','p-value','#Lags Used','Number of Observations Used'])\n",
    "    for key,value in dftest[4].items():\n",
    "       dfoutput['Critical Value (%s)'%key] = value\n",
    "    print (dfoutput)\n",
    "    print(\"---------------\")\n",
    "    print ('Results of KPSS Test:')\n",
    "    kpsstest = kpss(timeseries, regression=trend)\n",
    "    kpss_output = pd.Series(kpsstest[0:3], index=['Test Statistic','p-value','Lags Used'])\n",
    "    for key,value in kpsstest[3].items():\n",
    "        kpss_output['Critical Value (%s)'%key] = value\n",
    "    print (kpss_output)\n",
    "    for i in dfoutput:\n",
    "        i=round(i,6)\n",
    "        df_results.append(i)\n",
    "    for i in kpss_output:\n",
    "        i=round(i,6)\n",
    "        kpss_results.append(i)\n",
    "    return (df_results,kpss_results)"
   ]
  },
  {
   "cell_type": "code",
   "execution_count": 14,
   "id": "63490495",
   "metadata": {},
   "outputs": [
    {
     "name": "stdout",
     "output_type": "stream",
     "text": [
      "Results of Dickey-Fuller Test:\n",
      "Test Statistic                   5.242612\n",
      "p-value                          1.000000\n",
      "#Lags Used                      20.000000\n",
      "Number of Observations Used    714.000000\n",
      "Critical Value (1%)             -3.439542\n",
      "Critical Value (5%)             -2.865596\n",
      "Critical Value (10%)            -2.568930\n",
      "dtype: float64\n",
      "---------------\n",
      "Results of KPSS Test:\n",
      "Test Statistic            0.812704\n",
      "p-value                   0.010000\n",
      "Lags Used                20.000000\n",
      "Critical Value (10%)      0.119000\n",
      "Critical Value (5%)       0.146000\n",
      "Critical Value (2.5%)     0.176000\n",
      "Critical Value (1%)       0.216000\n",
      "dtype: float64\n",
      "stationarity from ad_fuller test: False\n",
      "stationarity from KPSS test: False\n"
     ]
    }
   ],
   "source": [
    "alpha = 0.05\n",
    "ad_fuller_results,kpss_test_results = adf_kpss_test(data['co2'], trend='ct')\n",
    "ad_fuller_results\n",
    "ad_fuller_pval = ad_fuller_results[1]\n",
    "ad_fuller_bool = ad_fuller_pval <= alpha\n",
    "\n",
    "print(f'stationarity from ad_fuller test: {ad_fuller_bool}')\n",
    "\n",
    "kpss_pval = kpss_test_results[1]\n",
    "kpss_test_bool = kpss_pval >= alpha\n",
    "\n",
    "print(f'stationarity from KPSS test: {kpss_test_bool}')"
   ]
  },
  {
   "cell_type": "markdown",
   "id": "8c20f90e",
   "metadata": {},
   "source": [
    "I performed qualitative and quantitative EDA on this data. I started by just looking at the dimensions and seeing the data types present in this dataset. I saw that the first column was dates and the second column was the co2 level stored as floats. The co2 levels ranged from  to 313 to 414. I found this range of 100 using the describe function to look at some statistics. In the total 735 rows, I found that there were no missing values or duplicates. Next, I plotted the co2 levels and found that from 1958 to 2019, the co2 increases seasonally. From looking at the graph, I could easily tell there was no stationarity because the mean and variance were not stable. I still performed the adf and kpss tests to ensure my prediction."
   ]
  },
  {
   "cell_type": "markdown",
   "id": "7c4381bb",
   "metadata": {},
   "source": [
    "### Part 2. 30 pts – Seasonal ARIMA – need to use statsmodels in order to examine residuals"
   ]
  },
  {
   "cell_type": "markdown",
   "id": "226ddf04",
   "metadata": {},
   "source": [
    "#### A. 6 pts Determine the seasonal differencing order, use y_train. Include the following: plot of differenced data, ADF results, kpss results"
   ]
  },
  {
   "cell_type": "code",
   "execution_count": 15,
   "id": "06eac100",
   "metadata": {},
   "outputs": [],
   "source": [
    "import pandas as pd\n",
    "import matplotlib.pyplot as plt\n",
    "import statsmodels.api as sm\n",
    "from statsmodels.tsa.stattools import kpss, adfuller\n",
    "from statsmodels.tsa.statespace import sarimax\n",
    "from statsmodels.tools.eval_measures import aicc\n",
    "from statsmodels.graphics.tsaplots import plot_acf, plot_pacf\n",
    "from sktime.datasets import load_airline\n",
    "from sktime.transformations.series import boxcox\n",
    "from sktime.forecasting.arima import ARIMA"
   ]
  },
  {
   "cell_type": "code",
   "execution_count": 16,
   "id": "81f3dbc2",
   "metadata": {},
   "outputs": [
    {
     "data": {
      "text/html": [
       "<div>\n",
       "<style scoped>\n",
       "    .dataframe tbody tr th:only-of-type {\n",
       "        vertical-align: middle;\n",
       "    }\n",
       "\n",
       "    .dataframe tbody tr th {\n",
       "        vertical-align: top;\n",
       "    }\n",
       "\n",
       "    .dataframe thead th {\n",
       "        text-align: right;\n",
       "    }\n",
       "</style>\n",
       "<table border=\"1\" class=\"dataframe\">\n",
       "  <thead>\n",
       "    <tr style=\"text-align: right;\">\n",
       "      <th></th>\n",
       "      <th>ds</th>\n",
       "      <th>co2</th>\n",
       "    </tr>\n",
       "  </thead>\n",
       "  <tbody>\n",
       "    <tr>\n",
       "      <th>0</th>\n",
       "      <td>1958-03-15</td>\n",
       "      <td>315.700</td>\n",
       "    </tr>\n",
       "    <tr>\n",
       "      <th>1</th>\n",
       "      <td>1958-04-15</td>\n",
       "      <td>317.450</td>\n",
       "    </tr>\n",
       "    <tr>\n",
       "      <th>2</th>\n",
       "      <td>1958-05-15</td>\n",
       "      <td>317.510</td>\n",
       "    </tr>\n",
       "    <tr>\n",
       "      <th>3</th>\n",
       "      <td>1958-06-15</td>\n",
       "      <td>316.685</td>\n",
       "    </tr>\n",
       "    <tr>\n",
       "      <th>4</th>\n",
       "      <td>1958-07-15</td>\n",
       "      <td>315.860</td>\n",
       "    </tr>\n",
       "    <tr>\n",
       "      <th>...</th>\n",
       "      <td>...</td>\n",
       "      <td>...</td>\n",
       "    </tr>\n",
       "    <tr>\n",
       "      <th>730</th>\n",
       "      <td>2019-01-15</td>\n",
       "      <td>410.920</td>\n",
       "    </tr>\n",
       "    <tr>\n",
       "      <th>731</th>\n",
       "      <td>2019-02-15</td>\n",
       "      <td>411.660</td>\n",
       "    </tr>\n",
       "    <tr>\n",
       "      <th>732</th>\n",
       "      <td>2019-03-15</td>\n",
       "      <td>412.000</td>\n",
       "    </tr>\n",
       "    <tr>\n",
       "      <th>733</th>\n",
       "      <td>2019-04-15</td>\n",
       "      <td>413.510</td>\n",
       "    </tr>\n",
       "    <tr>\n",
       "      <th>734</th>\n",
       "      <td>2019-05-15</td>\n",
       "      <td>414.830</td>\n",
       "    </tr>\n",
       "  </tbody>\n",
       "</table>\n",
       "<p>735 rows × 2 columns</p>\n",
       "</div>"
      ],
      "text/plain": [
       "            ds      co2\n",
       "0   1958-03-15  315.700\n",
       "1   1958-04-15  317.450\n",
       "2   1958-05-15  317.510\n",
       "3   1958-06-15  316.685\n",
       "4   1958-07-15  315.860\n",
       "..         ...      ...\n",
       "730 2019-01-15  410.920\n",
       "731 2019-02-15  411.660\n",
       "732 2019-03-15  412.000\n",
       "733 2019-04-15  413.510\n",
       "734 2019-05-15  414.830\n",
       "\n",
       "[735 rows x 2 columns]"
      ]
     },
     "execution_count": 16,
     "metadata": {},
     "output_type": "execute_result"
    }
   ],
   "source": [
    "data_monthly=data.copy()\n",
    "data_monthly['ds'] =data['ds'].astype('datetime64[ns]')\n",
    "data_monthly"
   ]
  },
  {
   "cell_type": "code",
   "execution_count": 17,
   "id": "06ec2c9c",
   "metadata": {},
   "outputs": [
    {
     "data": {
      "text/html": [
       "<div>\n",
       "<style scoped>\n",
       "    .dataframe tbody tr th:only-of-type {\n",
       "        vertical-align: middle;\n",
       "    }\n",
       "\n",
       "    .dataframe tbody tr th {\n",
       "        vertical-align: top;\n",
       "    }\n",
       "\n",
       "    .dataframe thead th {\n",
       "        text-align: right;\n",
       "    }\n",
       "</style>\n",
       "<table border=\"1\" class=\"dataframe\">\n",
       "  <thead>\n",
       "    <tr style=\"text-align: right;\">\n",
       "      <th></th>\n",
       "      <th>ds</th>\n",
       "      <th>co2</th>\n",
       "    </tr>\n",
       "  </thead>\n",
       "  <tbody>\n",
       "    <tr>\n",
       "      <th>0</th>\n",
       "      <td>1958-03</td>\n",
       "      <td>315.700</td>\n",
       "    </tr>\n",
       "    <tr>\n",
       "      <th>1</th>\n",
       "      <td>1958-04</td>\n",
       "      <td>317.450</td>\n",
       "    </tr>\n",
       "    <tr>\n",
       "      <th>2</th>\n",
       "      <td>1958-05</td>\n",
       "      <td>317.510</td>\n",
       "    </tr>\n",
       "    <tr>\n",
       "      <th>3</th>\n",
       "      <td>1958-06</td>\n",
       "      <td>316.685</td>\n",
       "    </tr>\n",
       "    <tr>\n",
       "      <th>4</th>\n",
       "      <td>1958-07</td>\n",
       "      <td>315.860</td>\n",
       "    </tr>\n",
       "    <tr>\n",
       "      <th>...</th>\n",
       "      <td>...</td>\n",
       "      <td>...</td>\n",
       "    </tr>\n",
       "    <tr>\n",
       "      <th>730</th>\n",
       "      <td>2019-01</td>\n",
       "      <td>410.920</td>\n",
       "    </tr>\n",
       "    <tr>\n",
       "      <th>731</th>\n",
       "      <td>2019-02</td>\n",
       "      <td>411.660</td>\n",
       "    </tr>\n",
       "    <tr>\n",
       "      <th>732</th>\n",
       "      <td>2019-03</td>\n",
       "      <td>412.000</td>\n",
       "    </tr>\n",
       "    <tr>\n",
       "      <th>733</th>\n",
       "      <td>2019-04</td>\n",
       "      <td>413.510</td>\n",
       "    </tr>\n",
       "    <tr>\n",
       "      <th>734</th>\n",
       "      <td>2019-05</td>\n",
       "      <td>414.830</td>\n",
       "    </tr>\n",
       "  </tbody>\n",
       "</table>\n",
       "<p>735 rows × 2 columns</p>\n",
       "</div>"
      ],
      "text/plain": [
       "          ds      co2\n",
       "0    1958-03  315.700\n",
       "1    1958-04  317.450\n",
       "2    1958-05  317.510\n",
       "3    1958-06  316.685\n",
       "4    1958-07  315.860\n",
       "..       ...      ...\n",
       "730  2019-01  410.920\n",
       "731  2019-02  411.660\n",
       "732  2019-03  412.000\n",
       "733  2019-04  413.510\n",
       "734  2019-05  414.830\n",
       "\n",
       "[735 rows x 2 columns]"
      ]
     },
     "execution_count": 17,
     "metadata": {},
     "output_type": "execute_result"
    }
   ],
   "source": [
    "data_monthly['ds'] = data_monthly['ds'].dt.strftime('%Y-%m')\n",
    "data_monthly\n",
    "# data_monthly.dtypes"
   ]
  },
  {
   "cell_type": "code",
   "execution_count": 18,
   "id": "796d8044",
   "metadata": {},
   "outputs": [
    {
     "data": {
      "text/plain": [
       "1958-03    315.700\n",
       "1958-04    317.450\n",
       "1958-05    317.510\n",
       "1958-06    316.685\n",
       "1958-07    315.860\n",
       "            ...   \n",
       "2019-01    410.920\n",
       "2019-02    411.660\n",
       "2019-03    412.000\n",
       "2019-04    413.510\n",
       "2019-05    414.830\n",
       "Freq: M, Name: co2, Length: 735, dtype: float64"
      ]
     },
     "execution_count": 18,
     "metadata": {},
     "output_type": "execute_result"
    }
   ],
   "source": [
    "data_series=data_monthly['co2']\n",
    "data_series.index=pd.core.indexes.period.PeriodIndex(data_monthly['ds'].tolist(),freq='m')\n",
    "data_series"
   ]
  },
  {
   "cell_type": "code",
   "execution_count": 22,
   "id": "275a3435",
   "metadata": {},
   "outputs": [
    {
     "data": {
      "image/png": "[encoded data removed]",
      "text/plain": [
       "<Figure size 432x288 with 1 Axes>"
      ]
     },
     "metadata": {
      "needs_background": "light"
     },
     "output_type": "display_data"
    }
   ],
   "source": [
    "sns.distplot(data_series)\n",
    "plt.show()"
   ]
  },
  {
   "cell_type": "code",
   "execution_count": 19,
   "id": "5b3589db",
   "metadata": {},
   "outputs": [
    {
     "data": {
      "text/plain": [
       "1958-03    0.489569\n",
       "1958-04    0.489569\n",
       "1958-05    0.489569\n",
       "1958-06    0.489569\n",
       "1958-07    0.489569\n",
       "             ...   \n",
       "2019-01    0.489571\n",
       "2019-02    0.489571\n",
       "2019-03    0.489571\n",
       "2019-04    0.489571\n",
       "2019-05    0.489571\n",
       "Freq: M, Length: 735, dtype: float64"
      ]
     },
     "execution_count": 19,
     "metadata": {},
     "output_type": "execute_result"
    }
   ],
   "source": [
    "bctransformer = boxcox.BoxCoxTransformer()\n",
    "data_trans = bctransformer.fit_transform(data_series)\n",
    "data_trans"
   ]
  },
  {
   "cell_type": "code",
   "execution_count": 23,
   "id": "0034e918",
   "metadata": {},
   "outputs": [
    {
     "data": {
      "image/png": "[encoded data removed]",
      "text/plain": [
       "<Figure size 432x288 with 1 Axes>"
      ]
     },
     "metadata": {
      "needs_background": "light"
     },
     "output_type": "display_data"
    }
   ],
   "source": [
    "sns.distplot(data_trans)\n",
    "plt.show()"
   ]
  },
  {
   "cell_type": "code",
   "execution_count": 20,
   "id": "a5678226",
   "metadata": {},
   "outputs": [
    {
     "data": {
      "text/plain": [
       "-2.042595516471125"
      ]
     },
     "execution_count": 20,
     "metadata": {},
     "output_type": "execute_result"
    }
   ],
   "source": [
    "bctransformer.lambda_"
   ]
  },
  {
   "cell_type": "markdown",
   "id": "e6260c4f",
   "metadata": {},
   "source": [
    "I found lamda and since it was -2 and not close to 1 I decided to keep the box cox transformation"
   ]
  },
  {
   "cell_type": "code",
   "execution_count": 21,
   "id": "d3f07fc9",
   "metadata": {},
   "outputs": [],
   "source": [
    "y_train, y_test = temporal_train_test_split(data_trans)"
   ]
  },
  {
   "cell_type": "code",
   "execution_count": 22,
   "id": "6b190bb2",
   "metadata": {},
   "outputs": [
    {
     "name": "stdout",
     "output_type": "stream",
     "text": [
      "(551,)\n",
      "(184,)\n"
     ]
    }
   ],
   "source": [
    "print(y_train.shape)\n",
    "print(y_test.shape)"
   ]
  },
  {
   "cell_type": "code",
   "execution_count": 23,
   "id": "53eee44a",
   "metadata": {},
   "outputs": [
    {
     "name": "stdout",
     "output_type": "stream",
     "text": [
      "Results of Dickey-Fuller Test:\n",
      "Test Statistic                   1.321806\n",
      "p-value                          0.996728\n",
      "#Lags Used                      13.000000\n",
      "Number of Observations Used    537.000000\n",
      "Critical Value (1%)             -3.442586\n",
      "Critical Value (5%)             -2.866937\n",
      "Critical Value (10%)            -2.569645\n",
      "dtype: float64\n",
      "---------------\n",
      "Results of KPSS Test:\n",
      "Test Statistic            0.369043\n",
      "p-value                   0.010000\n",
      "Lags Used                19.000000\n",
      "Critical Value (10%)      0.119000\n",
      "Critical Value (5%)       0.146000\n",
      "Critical Value (2.5%)     0.176000\n",
      "Critical Value (1%)       0.216000\n",
      "dtype: float64\n",
      "stationarity from ad_fuller test: False\n",
      "stationarity from KPSS test: False\n"
     ]
    }
   ],
   "source": [
    "alpha = 0.05\n",
    "ad_fuller_results,kpss_test_results = adf_kpss_test(y_train, trend='ct')\n",
    "ad_fuller_results\n",
    "ad_fuller_pval = ad_fuller_results[1]\n",
    "ad_fuller_bool = ad_fuller_pval <= alpha\n",
    "\n",
    "print(f'stationarity from ad_fuller test: {ad_fuller_bool}')\n",
    "\n",
    "kpss_pval = kpss_test_results[1]\n",
    "kpss_test_bool = kpss_pval >= alpha\n",
    "\n",
    "print(f'stationarity from KPSS test: {kpss_test_bool}')"
   ]
  },
  {
   "cell_type": "code",
   "execution_count": 24,
   "id": "5f83d613",
   "metadata": {},
   "outputs": [
    {
     "data": {
      "image/png": "[encoded data removed]",
      "text/plain": [
       "<Figure size 432x288 with 1 Axes>"
      ]
     },
     "metadata": {
      "needs_background": "light"
     },
     "output_type": "display_data"
    },
    {
     "data": {
      "image/png": "[encoded data removed]",
      "text/plain": [
       "<Figure size 432x288 with 1 Axes>"
      ]
     },
     "metadata": {
      "needs_background": "light"
     },
     "output_type": "display_data"
    }
   ],
   "source": [
    "p = plot_acf(y_train,lags=50, title='Autocorrelation Plot')\n",
    "p = plot_pacf(y_train,lags=50, title='Autocorrelation Plot')"
   ]
  },
  {
   "cell_type": "code",
   "execution_count": 25,
   "id": "3f61dc47",
   "metadata": {},
   "outputs": [
    {
     "data": {
      "text/plain": [
       "1959-03    0.950\n",
       "1959-04    0.270\n",
       "1959-05    0.780\n",
       "1959-06    1.465\n",
       "1959-07    0.680\n",
       "           ...  \n",
       "2019-01    2.870\n",
       "2019-02    3.320\n",
       "2019-03    2.750\n",
       "2019-04    3.210\n",
       "2019-05    3.530\n",
       "Freq: M, Name: co2, Length: 723, dtype: float64"
      ]
     },
     "execution_count": 25,
     "metadata": {},
     "output_type": "execute_result"
    }
   ],
   "source": [
    "y_train_seasdiff = data_series.diff(12).dropna()\n",
    "y_train_seasdiff"
   ]
  },
  {
   "cell_type": "code",
   "execution_count": 26,
   "id": "d21ea1d5",
   "metadata": {},
   "outputs": [
    {
     "data": {
      "image/png": "[encoded data removed]",
      "text/plain": [
       "<Figure size 432x288 with 1 Axes>"
      ]
     },
     "metadata": {
      "needs_background": "light"
     },
     "output_type": "display_data"
    }
   ],
   "source": [
    "y_train_seasdiff.plot()\n",
    "plt.show()"
   ]
  },
  {
   "cell_type": "code",
   "execution_count": 27,
   "id": "9b8098b2",
   "metadata": {},
   "outputs": [
    {
     "name": "stdout",
     "output_type": "stream",
     "text": [
      "Results of Dickey-Fuller Test:\n",
      "Test Statistic                  -3.694069\n",
      "p-value                          0.004197\n",
      "#Lags Used                      13.000000\n",
      "Number of Observations Used    709.000000\n",
      "Critical Value (1%)             -3.439607\n",
      "Critical Value (5%)             -2.865625\n",
      "Critical Value (10%)            -2.568945\n",
      "dtype: float64\n",
      "---------------\n",
      "Results of KPSS Test:\n",
      "Test Statistic            0.051203\n",
      "p-value                   0.100000\n",
      "Lags Used                20.000000\n",
      "Critical Value (10%)      0.119000\n",
      "Critical Value (5%)       0.146000\n",
      "Critical Value (2.5%)     0.176000\n",
      "Critical Value (1%)       0.216000\n",
      "dtype: float64\n",
      "stationarity from ad_fuller test: True\n",
      "stationarity from KPSS test: True\n"
     ]
    }
   ],
   "source": [
    "alpha = 0.05\n",
    "ad_fuller_results,kpss_test_results = adf_kpss_test(y_train_seasdiff, trend='ct')\n",
    "ad_fuller_results\n",
    "ad_fuller_pval = ad_fuller_results[1]\n",
    "ad_fuller_bool = ad_fuller_pval <= alpha\n",
    "\n",
    "print(f'stationarity from ad_fuller test: {ad_fuller_bool}')\n",
    "\n",
    "kpss_pval = kpss_test_results[1]\n",
    "kpss_test_bool = kpss_pval >= alpha\n",
    "\n",
    "print(f'stationarity from KPSS test: {kpss_test_bool}')"
   ]
  },
  {
   "cell_type": "code",
   "execution_count": 28,
   "id": "cb58f59f",
   "metadata": {},
   "outputs": [
    {
     "data": {
      "image/png": "[encoded data removed]",
      "text/plain": [
       "<Figure size 432x288 with 1 Axes>"
      ]
     },
     "metadata": {
      "needs_background": "light"
     },
     "output_type": "display_data"
    },
    {
     "data": {
      "image/png": "[encoded data removed]",
      "text/plain": [
       "<Figure size 432x288 with 1 Axes>"
      ]
     },
     "metadata": {
      "needs_background": "light"
     },
     "output_type": "display_data"
    }
   ],
   "source": [
    "p = plot_acf(y_train_seasdiff,lags=50, title='Autocorrelation Plot')\n",
    "p = plot_pacf(y_train_seasdiff,lags=50, title='Partial Autocorrelation Plot')"
   ]
  },
  {
   "cell_type": "markdown",
   "id": "042acad7",
   "metadata": {},
   "source": [
    "I decided to use 2,1,0,12 as the seasonal order"
   ]
  },
  {
   "cell_type": "markdown",
   "id": "f21c4b4f",
   "metadata": {},
   "source": [
    "#### B. 6 pts Determine the non-seasonal differencing order, use the seasonally differenced training time series. Include the following: plot of differenced data, ADF results, kpss results, ACF and PACF"
   ]
  },
  {
   "cell_type": "markdown",
   "id": "f3b55faa",
   "metadata": {},
   "source": [
    "I decided to nonseasonally difference once because our data still wasn't stationary after doing a seasonal difference"
   ]
  },
  {
   "cell_type": "code",
   "execution_count": 29,
   "id": "d27e240c",
   "metadata": {},
   "outputs": [
    {
     "data": {
      "text/plain": [
       "1959-04   -0.680\n",
       "1959-05    0.510\n",
       "1959-06    0.685\n",
       "1959-07   -0.785\n",
       "1959-08   -0.810\n",
       "           ...  \n",
       "2019-01    0.390\n",
       "2019-02    0.450\n",
       "2019-03   -0.570\n",
       "2019-04    0.460\n",
       "2019-05    0.320\n",
       "Freq: M, Name: co2, Length: 722, dtype: float64"
      ]
     },
     "execution_count": 29,
     "metadata": {},
     "output_type": "execute_result"
    }
   ],
   "source": [
    "y_train_nonseas_diff = y_train_seasdiff.diff().dropna()\n",
    "y_train_nonseas_diff"
   ]
  },
  {
   "cell_type": "code",
   "execution_count": 30,
   "id": "d513e21d",
   "metadata": {},
   "outputs": [
    {
     "data": {
      "text/plain": [
       "<AxesSubplot:>"
      ]
     },
     "execution_count": 30,
     "metadata": {},
     "output_type": "execute_result"
    },
    {
     "data": {
      "image/png": "[encoded data removed]",
      "text/plain": [
       "<Figure size 432x288 with 1 Axes>"
      ]
     },
     "metadata": {
      "needs_background": "light"
     },
     "output_type": "display_data"
    }
   ],
   "source": [
    "y_train_nonseas_diff.plot()"
   ]
  },
  {
   "cell_type": "code",
   "execution_count": 31,
   "id": "15b06e70",
   "metadata": {},
   "outputs": [
    {
     "name": "stdout",
     "output_type": "stream",
     "text": [
      "Results of Dickey-Fuller Test:\n",
      "Test Statistic                -9.575398e+00\n",
      "p-value                        2.230438e-16\n",
      "#Lags Used                     1.600000e+01\n",
      "Number of Observations Used    7.050000e+02\n",
      "Critical Value (1%)           -3.439660e+00\n",
      "Critical Value (5%)           -2.865648e+00\n",
      "Critical Value (10%)          -2.568958e+00\n",
      "dtype: float64\n",
      "---------------\n",
      "Results of KPSS Test:\n",
      "Test Statistic            0.015703\n",
      "p-value                   0.100000\n",
      "Lags Used                20.000000\n",
      "Critical Value (10%)      0.119000\n",
      "Critical Value (5%)       0.146000\n",
      "Critical Value (2.5%)     0.176000\n",
      "Critical Value (1%)       0.216000\n",
      "dtype: float64\n",
      "stationarity from ad_fuller test: True\n",
      "stationarity from KPSS test: True\n"
     ]
    }
   ],
   "source": [
    "alpha = 0.05\n",
    "ad_fuller_results,kpss_test_results = adf_kpss_test(y_train_nonseas_diff, trend='ct')\n",
    "ad_fuller_results\n",
    "ad_fuller_pval = ad_fuller_results[1]\n",
    "ad_fuller_bool = ad_fuller_pval <= alpha\n",
    "\n",
    "print(f'stationarity from ad_fuller test: {ad_fuller_bool}')\n",
    "\n",
    "kpss_pval = kpss_test_results[1]\n",
    "kpss_test_bool = kpss_pval >= alpha\n",
    "\n",
    "print(f'stationarity from KPSS test: {kpss_test_bool}')"
   ]
  },
  {
   "cell_type": "code",
   "execution_count": 32,
   "id": "05d883b8",
   "metadata": {},
   "outputs": [
    {
     "data": {
      "image/png": "[encoded data removed]",
      "text/plain": [
       "<Figure size 432x288 with 1 Axes>"
      ]
     },
     "metadata": {
      "needs_background": "light"
     },
     "output_type": "display_data"
    },
    {
     "data": {
      "image/png": "[encoded data removed]",
      "text/plain": [
       "<Figure size 432x288 with 1 Axes>"
      ]
     },
     "metadata": {
      "needs_background": "light"
     },
     "output_type": "display_data"
    }
   ],
   "source": [
    "p = plot_acf(y_train_nonseas_diff, title='Autocorrelation Plot')\n",
    "p = plot_pacf(y_train_nonseas_diff, title='Partial Autocorrelation Plot')"
   ]
  },
  {
   "cell_type": "markdown",
   "id": "122b52b5",
   "metadata": {},
   "source": [
    "I decided to use 1,1,1 as the non seasonal order"
   ]
  },
  {
   "cell_type": "markdown",
   "id": "038a4f77",
   "metadata": {},
   "source": [
    "#### C) 6 pts Fit and predict a SARIMA model using your best estimate of the SARIMA(p,d,q)(P,D,Q)m order. Return the model summary"
   ]
  },
  {
   "cell_type": "code",
   "execution_count": 33,
   "id": "b70d9752",
   "metadata": {},
   "outputs": [
    {
     "name": "stdout",
     "output_type": "stream",
     "text": [
      "                                      SARIMAX Results                                      \n",
      "===========================================================================================\n",
      "Dep. Variable:                                   y   No. Observations:                  551\n",
      "Model:             SARIMAX(1, 1, 1)x(2, 1, [], 12)   Log Likelihood                5222.000\n",
      "Date:                             Wed, 28 Apr 2021   AIC                         -10433.999\n",
      "Time:                                     08:47:43   BIC                         -10412.560\n",
      "Sample:                                 03-31-1958   HQIC                        -10425.613\n",
      "                                      - 01-31-2004                                         \n",
      "Covariance Type:                               opg                                         \n",
      "==============================================================================\n",
      "                 coef    std err          z      P>|z|      [0.025      0.975]\n",
      "------------------------------------------------------------------------------\n",
      "ar.L1         -0.0687    2.3e-20  -2.98e+18      0.000      -0.069      -0.069\n",
      "ma.L1         -0.2886   2.66e-20  -1.08e+19      0.000      -0.289      -0.289\n",
      "ar.S.L12      -0.6090   8.17e-20  -7.45e+18      0.000      -0.609      -0.609\n",
      "ar.S.L24      -0.3286   4.54e-20  -7.25e+18      0.000      -0.329      -0.329\n",
      "sigma2       4.25e-10   9.79e-11      4.341      0.000    2.33e-10    6.17e-10\n",
      "===================================================================================\n",
      "Ljung-Box (L1) (Q):                   3.59   Jarque-Bera (JB):                17.89\n",
      "Prob(Q):                              0.06   Prob(JB):                         0.00\n",
      "Heteroskedasticity (H):               0.37   Skew:                             0.07\n",
      "Prob(H) (two-sided):                  0.00   Kurtosis:                         3.88\n",
      "===================================================================================\n",
      "\n",
      "Warnings:\n",
      "[1] Covariance matrix calculated using the outer product of gradients (complex-step).\n",
      "[2] Covariance matrix is singular or near-singular, with condition number 1.06e+45. Standard errors may be unstable.\n"
     ]
    }
   ],
   "source": [
    "sarima_model = sm.tsa.statespace.SARIMAX(endog=y_train,order=(1,1,1), seasonal_order=(2, 1, 0, 12))\n",
    "sarima_fit = sarima_model.fit()\n",
    "y_pred_train=sarima_fit.forecast(steps = len(y_train))\n",
    "print(sarima_fit.summary())"
   ]
  },
  {
   "cell_type": "markdown",
   "id": "98c485a2",
   "metadata": {},
   "source": [
    "#### D) 6 pts Examine the residuals. Include the following: plot, histogram, ACF, Ljung Box results"
   ]
  },
  {
   "cell_type": "code",
   "execution_count": 34,
   "id": "9a44efe4",
   "metadata": {},
   "outputs": [
    {
     "data": {
      "image/png": "[encoded data removed]",
      "text/plain": [
       "<Figure size 432x288 with 1 Axes>"
      ]
     },
     "metadata": {
      "needs_background": "light"
     },
     "output_type": "display_data"
    }
   ],
   "source": [
    "resid = sarima_fit.resid\n",
    "resid=resid[12:]\n",
    "resid.plot()\n",
    "plt.show()"
   ]
  },
  {
   "cell_type": "markdown",
   "id": "b73ca122",
   "metadata": {},
   "source": [
    "I removed the first 12 from  the residuals because we did a seasonal differencing"
   ]
  },
  {
   "cell_type": "markdown",
   "id": "3c0fe6ae",
   "metadata": {},
   "source": [
    "I see that there is one outlier here, I removed the outlier so I could better see the residual plot:"
   ]
  },
  {
   "cell_type": "code",
   "execution_count": 35,
   "id": "6b70a9c2",
   "metadata": {},
   "outputs": [
    {
     "data": {
      "image/png": "[encoded data removed]",
      "text/plain": [
       "<Figure size 432x288 with 1 Axes>"
      ]
     },
     "metadata": {
      "needs_background": "light"
     },
     "output_type": "display_data"
    }
   ],
   "source": [
    "resid_plot=resid[13:]\n",
    "resid_plot.plot()\n",
    "plt.show()"
   ]
  },
  {
   "cell_type": "code",
   "execution_count": 36,
   "id": "c5d18707",
   "metadata": {},
   "outputs": [
    {
     "data": {
      "text/plain": [
       "<AxesSubplot:>"
      ]
     },
     "execution_count": 36,
     "metadata": {},
     "output_type": "execute_result"
    },
    {
     "data": {
      "image/png": "[encoded data removed]",
      "text/plain": [
       "<Figure size 432x288 with 1 Axes>"
      ]
     },
     "metadata": {
      "needs_background": "light"
     },
     "output_type": "display_data"
    }
   ],
   "source": [
    "resid_plot.hist()"
   ]
  },
  {
   "cell_type": "code",
   "execution_count": 37,
   "id": "e9ca8a0a",
   "metadata": {},
   "outputs": [
    {
     "data": {
      "image/png": "[encoded data removed]",
      "text/plain": [
       "<Figure size 432x288 with 1 Axes>"
      ]
     },
     "metadata": {
      "needs_background": "light"
     },
     "output_type": "display_data"
    }
   ],
   "source": [
    "plot_acf(resid_plot, lags=48)\n",
    "plt.show()"
   ]
  },
  {
   "cell_type": "code",
   "execution_count": 38,
   "id": "b256e073",
   "metadata": {},
   "outputs": [
    {
     "data": {
      "text/html": [
       "<div>\n",
       "<style scoped>\n",
       "    .dataframe tbody tr th:only-of-type {\n",
       "        vertical-align: middle;\n",
       "    }\n",
       "\n",
       "    .dataframe tbody tr th {\n",
       "        vertical-align: top;\n",
       "    }\n",
       "\n",
       "    .dataframe thead th {\n",
       "        text-align: right;\n",
       "    }\n",
       "</style>\n",
       "<table border=\"1\" class=\"dataframe\">\n",
       "  <thead>\n",
       "    <tr style=\"text-align: right;\">\n",
       "      <th></th>\n",
       "      <th>lb_stat</th>\n",
       "      <th>lb_pvalue</th>\n",
       "      <th>bp_stat</th>\n",
       "      <th>bp_pvalue</th>\n",
       "    </tr>\n",
       "  </thead>\n",
       "  <tbody>\n",
       "    <tr>\n",
       "      <th>10</th>\n",
       "      <td>18.053828</td>\n",
       "      <td>0.054062</td>\n",
       "      <td>17.813785</td>\n",
       "      <td>0.058187</td>\n",
       "    </tr>\n",
       "  </tbody>\n",
       "</table>\n",
       "</div>"
      ],
      "text/plain": [
       "      lb_stat  lb_pvalue    bp_stat  bp_pvalue\n",
       "10  18.053828   0.054062  17.813785   0.058187"
      ]
     },
     "execution_count": 38,
     "metadata": {},
     "output_type": "execute_result"
    }
   ],
   "source": [
    "sm.stats.acorr_ljungbox(resid_plot, lags=[10], return_df=True, boxpierce=True)"
   ]
  },
  {
   "cell_type": "markdown",
   "id": "dde97b91",
   "metadata": {},
   "source": [
    "To validate our model, we can look the model residuals. The residuals are the difference between the actual data and the predicted value from the sarima model. Based on the visuals above, they are performing as residuals should. \n",
    "\n",
    "Plot\n",
    "\n",
    "The plot of the residuals look like white noise. This way, I can be sure that none of the signal has escaped my model fit and has ended up in the residuals by mistake. \n",
    "\n",
    "Histogram\n",
    "\n",
    "The residuals should also be normally distributed. My histagram shows a normally distributed model. You can see the mean is centered around 0. A normally distributed residuals describes the actual distribution of the random errors in actuality reasonably well. \n",
    "\n",
    "ACF\n",
    "The residuals should not show a trend or autocorrelation, because then we have failed to capture it in our model instead. The residuals should be stationary. In the ACF plot, I can see there isn't took much autocorrelation. There is however, a spike at the lag 1. This shows there is slight autocorrelation there.\n",
    "\n",
    "Ljung Box\n",
    "\n",
    "I also performed the Ljung box test (portmanteau). The p-value of the test is 0.053, which is slightly above 0.05. Therefore, we accept the null hypothesis of the test and conclude that the residuals are slightly autocorrelated. Residuals are slight correlation and does show a slight lack of fit. Therefore, we can say that the model is not as good\n"
   ]
  },
  {
   "cell_type": "markdown",
   "id": "0d10ee88",
   "metadata": {},
   "source": [
    "#### E) 6 pts Predict the test set. Include the following: MAE, MSE, MAPE, sMAPE, MASE. Can use prebuilt functions or calculate by hand."
   ]
  },
  {
   "cell_type": "markdown",
   "id": "1441ac6a",
   "metadata": {},
   "source": [
    "Here, I reverse the boxcox transformation from the predications and the the test and train so that  we can get back to the original dataset scale and be able to compare statistics much more easily"
   ]
  },
  {
   "cell_type": "code",
   "execution_count": 39,
   "id": "bab891fb",
   "metadata": {},
   "outputs": [],
   "source": [
    "y_pred=sarima_fit.forecast(steps = len(y_test))"
   ]
  },
  {
   "cell_type": "code",
   "execution_count": 40,
   "id": "cab25e1f",
   "metadata": {},
   "outputs": [
    {
     "data": {
      "text/plain": [
       "2004-02    377.761503\n",
       "2004-03    378.290358\n",
       "2004-04    379.594640\n",
       "2004-05    380.499336\n",
       "2004-06    380.132728\n",
       "              ...    \n",
       "2019-01    414.598144\n",
       "2019-02    415.824166\n",
       "2019-03    416.502495\n",
       "2019-04    418.383691\n",
       "2019-05    419.477201\n",
       "Freq: M, Name: predicted_mean, Length: 184, dtype: float64"
      ]
     },
     "execution_count": 40,
     "metadata": {},
     "output_type": "execute_result"
    }
   ],
   "source": [
    "from scipy.special import boxcox, inv_boxcox\n",
    "y_pred_inv=inv_boxcox(y_pred, -2.042595516471125)\n",
    "y_pred_inv"
   ]
  },
  {
   "cell_type": "code",
   "execution_count": 41,
   "id": "c2610d01",
   "metadata": {},
   "outputs": [
    {
     "data": {
      "text/plain": [
       "1958-03    315.700\n",
       "1958-04    317.450\n",
       "1958-05    317.510\n",
       "1958-06    316.685\n",
       "1958-07    315.860\n",
       "            ...   \n",
       "2003-09    372.980\n",
       "2003-10    373.000\n",
       "2003-11    374.350\n",
       "2003-12    375.690\n",
       "2004-01    376.790\n",
       "Freq: M, Length: 551, dtype: float64"
      ]
     },
     "execution_count": 41,
     "metadata": {},
     "output_type": "execute_result"
    }
   ],
   "source": [
    "y_train_inv=inv_boxcox(y_train, -2.042595516471125)\n",
    "y_train_inv"
   ]
  },
  {
   "cell_type": "code",
   "execution_count": 42,
   "id": "e95a8083",
   "metadata": {},
   "outputs": [
    {
     "data": {
      "text/plain": [
       "2004-02    377.37\n",
       "2004-03    378.39\n",
       "2004-04    380.50\n",
       "2004-05    380.62\n",
       "2004-06    379.55\n",
       "            ...  \n",
       "2019-01    410.92\n",
       "2019-02    411.66\n",
       "2019-03    412.00\n",
       "2019-04    413.51\n",
       "2019-05    414.83\n",
       "Freq: M, Length: 184, dtype: float64"
      ]
     },
     "execution_count": 42,
     "metadata": {},
     "output_type": "execute_result"
    }
   ],
   "source": [
    "y_test_inv=inv_boxcox(y_test, -2.042595516471125)\n",
    "y_test_inv"
   ]
  },
  {
   "cell_type": "code",
   "execution_count": 43,
   "id": "9adc004f",
   "metadata": {},
   "outputs": [
    {
     "data": {
      "text/plain": [
       "<AxesSubplot:>"
      ]
     },
     "execution_count": 43,
     "metadata": {},
     "output_type": "execute_result"
    },
    {
     "data": {
      "image/png": "[encoded data removed]",
      "text/plain": [
       "<Figure size 432x288 with 1 Axes>"
      ]
     },
     "metadata": {
      "needs_background": "light"
     },
     "output_type": "display_data"
    }
   ],
   "source": [
    "y_train_inv.plot()\n",
    "y_pred_inv.plot(color='red')\n",
    "y_test_inv.plot(color = 'grey')"
   ]
  },
  {
   "cell_type": "code",
   "execution_count": 44,
   "id": "0bfda269",
   "metadata": {},
   "outputs": [],
   "source": [
    "def MASE(training_series, testing_series, prediction_series):\n",
    "   \n",
    "    n = training_series.shape[0]\n",
    "    d = np.abs(  np.diff( training_series) ).sum()/(n-1)\n",
    "    \n",
    "    errors = np.abs(testing_series - prediction_series )\n",
    "    return errors.mean()/d\n"
   ]
  },
  {
   "cell_type": "code",
   "execution_count": 45,
   "id": "f6393b6d",
   "metadata": {},
   "outputs": [],
   "source": [
    "mae = mean_absolute_error(y_test_inv, y_pred_inv)\n",
    "mse = mean_squared_error(y_test_inv, y_pred_inv)\n",
    "rmse = math.sqrt(mse)\n",
    "smape = smape_loss(y_test_inv, y_pred_inv)\n",
    "mape = mape_loss(y_test_inv, y_pred_inv)\n",
    "mase= MASE(y_train_inv, y_test_inv, y_pred_inv)"
   ]
  },
  {
   "cell_type": "code",
   "execution_count": 46,
   "id": "87b4d82f",
   "metadata": {},
   "outputs": [
    {
     "name": "stdout",
     "output_type": "stream",
     "text": [
      "Mean Squared Error: 6.577377785647049\n",
      "Root Mean Squared Error: 2.5646398939514\n",
      "Mean Absolute Error: 2.200328209848641\n",
      "SMAPE: 0.005501970402684087\n",
      "MAPE: 0.00552226654094742\n",
      "MASE: 2.0441893134445137\n"
     ]
    }
   ],
   "source": [
    "print(f'Mean Squared Error: {mse}')\n",
    "print(f'Root Mean Squared Error: {rmse}')\n",
    "print(f'Mean Absolute Error: {mae}')\n",
    "print(f'SMAPE: {smape}')\n",
    "print(f'MAPE: {mape}')\n",
    "print(f'MASE: {mase}')"
   ]
  },
  {
   "cell_type": "markdown",
   "id": "d13a6c8d",
   "metadata": {},
   "source": [
    "### Part 3. 30 pts – Auto ARIMA – need to use pmdarima in order to examine residuals"
   ]
  },
  {
   "cell_type": "markdown",
   "id": "cbb14a86",
   "metadata": {},
   "source": [
    "#### A. 6 pts Fit using auto_arima(), you may need to provide the differencing orders."
   ]
  },
  {
   "cell_type": "code",
   "execution_count": 47,
   "id": "13747176",
   "metadata": {},
   "outputs": [],
   "source": [
    "y_train, y_test = temporal_train_test_split(data_series)"
   ]
  },
  {
   "cell_type": "code",
   "execution_count": 48,
   "id": "7c61b631",
   "metadata": {},
   "outputs": [
    {
     "data": {
      "text/plain": [
       "ARIMA(order=(1, 1, 1), scoring_args={}, seasonal_order=(0, 1, 1, 12),\n",
       "      suppress_warnings=True)"
      ]
     },
     "execution_count": 48,
     "metadata": {},
     "output_type": "execute_result"
    }
   ],
   "source": [
    "from pmdarima import auto_arima\n",
    "am=auto_arima(y_train, seasonal=True,start_p=0,d=1,start_q=0,\n",
    "          start_P=0,m=12,\n",
    "          D=1, start_Q=0,suppress_warnings=True)\n",
    "am.fit(y_train)"
   ]
  },
  {
   "cell_type": "markdown",
   "id": "b8ff678c",
   "metadata": {},
   "source": [
    "#### B. 6 pts Return the model summary"
   ]
  },
  {
   "cell_type": "code",
   "execution_count": 49,
   "id": "7871f6f7",
   "metadata": {},
   "outputs": [
    {
     "data": {
      "text/html": [
       "<table class=\"simpletable\">\n",
       "<caption>SARIMAX Results</caption>\n",
       "<tr>\n",
       "  <th>Dep. Variable:</th>                  <td>y</td>               <th>  No. Observations:  </th>    <td>551</td>  \n",
       "</tr>\n",
       "<tr>\n",
       "  <th>Model:</th>           <td>SARIMAX(1, 1, 1)x(0, 1, 1, 12)</td> <th>  Log Likelihood     </th> <td>-111.667</td>\n",
       "</tr>\n",
       "<tr>\n",
       "  <th>Date:</th>                   <td>Wed, 28 Apr 2021</td>        <th>  AIC                </th>  <td>233.335</td>\n",
       "</tr>\n",
       "<tr>\n",
       "  <th>Time:</th>                       <td>08:49:02</td>            <th>  BIC                </th>  <td>254.774</td>\n",
       "</tr>\n",
       "<tr>\n",
       "  <th>Sample:</th>                         <td>0</td>               <th>  HQIC               </th>  <td>241.721</td>\n",
       "</tr>\n",
       "<tr>\n",
       "  <th></th>                             <td> - 551</td>             <th>                     </th>     <td> </td>   \n",
       "</tr>\n",
       "<tr>\n",
       "  <th>Covariance Type:</th>               <td>opg</td>              <th>                     </th>     <td> </td>   \n",
       "</tr>\n",
       "</table>\n",
       "<table class=\"simpletable\">\n",
       "<tr>\n",
       "      <td></td>         <th>coef</th>     <th>std err</th>      <th>z</th>      <th>P>|z|</th>  <th>[0.025</th>    <th>0.975]</th>  \n",
       "</tr>\n",
       "<tr>\n",
       "  <th>intercept</th> <td>    0.0017</td> <td>    0.001</td> <td>    1.784</td> <td> 0.074</td> <td>   -0.000</td> <td>    0.004</td>\n",
       "</tr>\n",
       "<tr>\n",
       "  <th>ar.L1</th>     <td>    0.2042</td> <td>    0.111</td> <td>    1.844</td> <td> 0.065</td> <td>   -0.013</td> <td>    0.421</td>\n",
       "</tr>\n",
       "<tr>\n",
       "  <th>ma.L1</th>     <td>   -0.5415</td> <td>    0.099</td> <td>   -5.470</td> <td> 0.000</td> <td>   -0.735</td> <td>   -0.347</td>\n",
       "</tr>\n",
       "<tr>\n",
       "  <th>ma.S.L12</th>  <td>   -0.8647</td> <td>    0.025</td> <td>  -34.889</td> <td> 0.000</td> <td>   -0.913</td> <td>   -0.816</td>\n",
       "</tr>\n",
       "<tr>\n",
       "  <th>sigma2</th>    <td>    0.0860</td> <td>    0.005</td> <td>   16.185</td> <td> 0.000</td> <td>    0.076</td> <td>    0.096</td>\n",
       "</tr>\n",
       "</table>\n",
       "<table class=\"simpletable\">\n",
       "<tr>\n",
       "  <th>Ljung-Box (L1) (Q):</th>     <td>0.04</td> <th>  Jarque-Bera (JB):  </th> <td>0.25</td> \n",
       "</tr>\n",
       "<tr>\n",
       "  <th>Prob(Q):</th>                <td>0.83</td> <th>  Prob(JB):          </th> <td>0.88</td> \n",
       "</tr>\n",
       "<tr>\n",
       "  <th>Heteroskedasticity (H):</th> <td>0.83</td> <th>  Skew:              </th> <td>-0.05</td>\n",
       "</tr>\n",
       "<tr>\n",
       "  <th>Prob(H) (two-sided):</th>    <td>0.22</td> <th>  Kurtosis:          </th> <td>2.96</td> \n",
       "</tr>\n",
       "</table><br/><br/>Warnings:<br/>[1] Covariance matrix calculated using the outer product of gradients (complex-step)."
      ],
      "text/plain": [
       "<class 'statsmodels.iolib.summary.Summary'>\n",
       "\"\"\"\n",
       "                                     SARIMAX Results                                      \n",
       "==========================================================================================\n",
       "Dep. Variable:                                  y   No. Observations:                  551\n",
       "Model:             SARIMAX(1, 1, 1)x(0, 1, 1, 12)   Log Likelihood                -111.667\n",
       "Date:                            Wed, 28 Apr 2021   AIC                            233.335\n",
       "Time:                                    08:49:02   BIC                            254.774\n",
       "Sample:                                         0   HQIC                           241.721\n",
       "                                            - 551                                         \n",
       "Covariance Type:                              opg                                         \n",
       "==============================================================================\n",
       "                 coef    std err          z      P>|z|      [0.025      0.975]\n",
       "------------------------------------------------------------------------------\n",
       "intercept      0.0017      0.001      1.784      0.074      -0.000       0.004\n",
       "ar.L1          0.2042      0.111      1.844      0.065      -0.013       0.421\n",
       "ma.L1         -0.5415      0.099     -5.470      0.000      -0.735      -0.347\n",
       "ma.S.L12      -0.8647      0.025    -34.889      0.000      -0.913      -0.816\n",
       "sigma2         0.0860      0.005     16.185      0.000       0.076       0.096\n",
       "===================================================================================\n",
       "Ljung-Box (L1) (Q):                   0.04   Jarque-Bera (JB):                 0.25\n",
       "Prob(Q):                              0.83   Prob(JB):                         0.88\n",
       "Heteroskedasticity (H):               0.83   Skew:                            -0.05\n",
       "Prob(H) (two-sided):                  0.22   Kurtosis:                         2.96\n",
       "===================================================================================\n",
       "\n",
       "Warnings:\n",
       "[1] Covariance matrix calculated using the outer product of gradients (complex-step).\n",
       "\"\"\""
      ]
     },
     "execution_count": 49,
     "metadata": {},
     "output_type": "execute_result"
    }
   ],
   "source": [
    "am.summary()"
   ]
  },
  {
   "cell_type": "markdown",
   "id": "18815530",
   "metadata": {},
   "source": [
    "#### C. 6 pts Examine the residuals. Include the following: plot, histogram, ACF, Ljung Box results"
   ]
  },
  {
   "cell_type": "code",
   "execution_count": 50,
   "id": "72a83165",
   "metadata": {},
   "outputs": [],
   "source": [
    "residuals=pd.Series(am.resid())\n",
    "residuals=residuals[12:]"
   ]
  },
  {
   "cell_type": "markdown",
   "id": "be6a1ed7",
   "metadata": {},
   "source": [
    "I remove the first 12 because we did a seasonal differencing in the auto arima function"
   ]
  },
  {
   "cell_type": "code",
   "execution_count": 51,
   "id": "9b5a6e86",
   "metadata": {},
   "outputs": [
    {
     "data": {
      "text/plain": [
       "<AxesSubplot:>"
      ]
     },
     "execution_count": 51,
     "metadata": {},
     "output_type": "execute_result"
    },
    {
     "data": {
      "image/png": "[encoded data removed]",
      "text/plain": [
       "<Figure size 432x288 with 1 Axes>"
      ]
     },
     "metadata": {
      "needs_background": "light"
     },
     "output_type": "display_data"
    }
   ],
   "source": [
    "residuals.plot()"
   ]
  },
  {
   "cell_type": "code",
   "execution_count": 52,
   "id": "fd52aef6",
   "metadata": {},
   "outputs": [
    {
     "data": {
      "image/png": "[encoded data removed]",
      "text/plain": [
       "<Figure size 432x288 with 1 Axes>"
      ]
     },
     "metadata": {
      "needs_background": "light"
     },
     "output_type": "display_data"
    }
   ],
   "source": [
    "resid_df=pd.DataFrame()\n",
    "resid_df['ind']=range(0,len(residuals))\n",
    "resid_df['co2']=residuals.values\n",
    "resid_df=resid_df[13:]\n",
    "ax1 = resid_df.plot.scatter(x='ind',\n",
    "                      y='co2',\n",
    "                      c='DarkBlue')\n"
   ]
  },
  {
   "cell_type": "markdown",
   "id": "6eb718f1",
   "metadata": {},
   "source": [
    "Here again, I tried to show the show more clearly after removing an outliers that resulted from the non seasonal differencing. To clearly show the random noise"
   ]
  },
  {
   "cell_type": "code",
   "execution_count": 53,
   "id": "39e296fc",
   "metadata": {},
   "outputs": [
    {
     "data": {
      "text/plain": [
       "<AxesSubplot:>"
      ]
     },
     "execution_count": 53,
     "metadata": {},
     "output_type": "execute_result"
    },
    {
     "data": {
      "image/png": "[encoded data removed]",
      "text/plain": [
       "<Figure size 432x288 with 1 Axes>"
      ]
     },
     "metadata": {
      "needs_background": "light"
     },
     "output_type": "display_data"
    }
   ],
   "source": [
    "resid_df['co2'].hist()"
   ]
  },
  {
   "cell_type": "code",
   "execution_count": 54,
   "id": "ce902306",
   "metadata": {},
   "outputs": [
    {
     "data": {
      "image/png": "[encoded data removed]",
      "text/plain": [
       "<Figure size 432x288 with 1 Axes>"
      ]
     },
     "metadata": {
      "needs_background": "light"
     },
     "output_type": "display_data"
    }
   ],
   "source": [
    "plot_acf(resid_df['co2'], lags=48)\n",
    "plt.show()"
   ]
  },
  {
   "cell_type": "code",
   "execution_count": 55,
   "id": "24bd6ecc",
   "metadata": {},
   "outputs": [
    {
     "data": {
      "text/html": [
       "<div>\n",
       "<style scoped>\n",
       "    .dataframe tbody tr th:only-of-type {\n",
       "        vertical-align: middle;\n",
       "    }\n",
       "\n",
       "    .dataframe tbody tr th {\n",
       "        vertical-align: top;\n",
       "    }\n",
       "\n",
       "    .dataframe thead th {\n",
       "        text-align: right;\n",
       "    }\n",
       "</style>\n",
       "<table border=\"1\" class=\"dataframe\">\n",
       "  <thead>\n",
       "    <tr style=\"text-align: right;\">\n",
       "      <th></th>\n",
       "      <th>lb_stat</th>\n",
       "      <th>lb_pvalue</th>\n",
       "      <th>bp_stat</th>\n",
       "      <th>bp_pvalue</th>\n",
       "    </tr>\n",
       "  </thead>\n",
       "  <tbody>\n",
       "    <tr>\n",
       "      <th>15</th>\n",
       "      <td>10.612407</td>\n",
       "      <td>0.779555</td>\n",
       "      <td>10.401335</td>\n",
       "      <td>0.793765</td>\n",
       "    </tr>\n",
       "  </tbody>\n",
       "</table>\n",
       "</div>"
      ],
      "text/plain": [
       "      lb_stat  lb_pvalue    bp_stat  bp_pvalue\n",
       "15  10.612407   0.779555  10.401335   0.793765"
      ]
     },
     "execution_count": 55,
     "metadata": {},
     "output_type": "execute_result"
    }
   ],
   "source": [
    "sm.stats.acorr_ljungbox(resid_df['co2'], lags=[15], return_df=True, boxpierce=True)"
   ]
  },
  {
   "cell_type": "markdown",
   "id": "5addc6e6",
   "metadata": {},
   "source": [
    "To validate our model, we can look the model residuals. The residuals are the difference between the actual data and the predicted value from the sarima model. Based on the visuals above, they are performing as residuals should. \n",
    "\n",
    "Plot\n",
    "\n",
    "The plot of the residuals look like white noise. This way, I can be sure that none of the signal has escaped my model fit and has ended up in the residuals by mistake. \n",
    "\n",
    "Histogram\n",
    "\n",
    "The residuals should also be normally distributed. My histagram shows a normally distributed model. You can see the mean is centered around 0. A normally distributed residuals describes the actual distribution of the random errors in actuality reasonably well. \n",
    "\n",
    "ACF\n",
    "The residuals should not show a trend or autocorrelation, because then we have failed to capture it in our model instead. The residuals should be stationary. In the ACF plot, I can see there isn't took much autocorrelation. There isn't any spike as we previously saw. This shows there is no slight autocorrelation there.\n",
    "\n",
    "Ljung Box\n",
    "\n",
    "I also performed the Ljung box test (portmanteau). The p-value of the test is 0.8, which is well above 0.05. Therefore, we accept the null hypothesis of the test and conclude that the residuals are not autocorrelated. Residuals are independently distributed  and does not show a lack of fit. Therefore, we can say that the model is good\n"
   ]
  },
  {
   "cell_type": "markdown",
   "id": "2d3e078a",
   "metadata": {},
   "source": [
    "#### D. 6 pts Predict the test set. Include the following: MAE, MSE, MAPE, sMAPE, MASE. Can use prebuilt functions or calculate by hand."
   ]
  },
  {
   "cell_type": "code",
   "execution_count": 56,
   "id": "7be07ebb",
   "metadata": {},
   "outputs": [],
   "source": [
    "y_pred = pd.DataFrame(am.predict(n_periods = len(y_test)),index=y_test.index)\n",
    "y_pred.columns = ['co2']"
   ]
  },
  {
   "cell_type": "code",
   "execution_count": 57,
   "id": "fd0a725f",
   "metadata": {},
   "outputs": [
    {
     "data": {
      "text/plain": [
       "2004-02    377.642455\n",
       "2004-03    378.431533\n",
       "2004-04    379.752289\n",
       "2004-05    380.352949\n",
       "2004-06    379.874370\n",
       "              ...    \n",
       "2019-01    409.162510\n",
       "2019-02    410.024225\n",
       "2019-03    410.841324\n",
       "2019-04    412.193932\n",
       "2019-05    412.827225\n",
       "Freq: M, Name: co2, Length: 184, dtype: float64"
      ]
     },
     "execution_count": 57,
     "metadata": {},
     "output_type": "execute_result"
    }
   ],
   "source": [
    "y_pred_series=y_pred['co2']\n",
    "y_pred_series.index=pd.core.indexes.period.PeriodIndex(y_test.index.tolist(),freq='m')\n",
    "y_pred_series\n"
   ]
  },
  {
   "cell_type": "code",
   "execution_count": 58,
   "id": "b9efb25d",
   "metadata": {},
   "outputs": [
    {
     "data": {
      "text/plain": [
       "<AxesSubplot:>"
      ]
     },
     "execution_count": 58,
     "metadata": {},
     "output_type": "execute_result"
    },
    {
     "data": {
      "image/png": "[encoded data removed]",
      "text/plain": [
       "<Figure size 432x288 with 1 Axes>"
      ]
     },
     "metadata": {
      "needs_background": "light"
     },
     "output_type": "display_data"
    }
   ],
   "source": [
    "y_train.plot()\n",
    "y_pred_series.plot(color='red')\n",
    "y_test.plot(color = 'grey')"
   ]
  },
  {
   "cell_type": "code",
   "execution_count": 59,
   "id": "832bea8b",
   "metadata": {},
   "outputs": [],
   "source": [
    "def MASE(training_series, testing_series, prediction_series):\n",
    "   \n",
    "    n = training_series.shape[0]\n",
    "    d = np.abs(  np.diff( training_series) ).sum()/(n-1)\n",
    "    \n",
    "    errors = np.abs(testing_series - prediction_series )\n",
    "    return errors.mean()/d\n"
   ]
  },
  {
   "cell_type": "code",
   "execution_count": 60,
   "id": "057895ca",
   "metadata": {},
   "outputs": [],
   "source": [
    "mae = mean_absolute_error(y_test, y_pred_series)\n",
    "mse = mean_squared_error(y_test, y_pred_series)\n",
    "rmse = math.sqrt(mse)\n",
    "smape = smape_loss(y_test, y_pred_series)\n",
    "mape = mape_loss(y_test, y_pred_series)\n",
    "mase= MASE(y_train, y_test, y_pred_series)\n"
   ]
  },
  {
   "cell_type": "code",
   "execution_count": 61,
   "id": "85a7606f",
   "metadata": {},
   "outputs": [
    {
     "name": "stdout",
     "output_type": "stream",
     "text": [
      "Mean Squared Error: 0.4377980527411992\n",
      "Root Mean Squared Error: 0.6616630961004242\n",
      "Mean Absolute Error: 0.49118748746161384\n",
      "SMAPE: 0.0012340085960326676\n",
      "MAPE: 0.001233170184061649\n",
      "MASE: 0.4563320182157184\n"
     ]
    }
   ],
   "source": [
    "print(f'Mean Squared Error: {mse}')\n",
    "print(f'Root Mean Squared Error: {rmse}')\n",
    "print(f'Mean Absolute Error: {mae}')\n",
    "print(f'SMAPE: {smape}')\n",
    "print(f'MAPE: {mape}')\n",
    "print(f'MASE: {mase}')"
   ]
  },
  {
   "cell_type": "markdown",
   "id": "eec36fab",
   "metadata": {},
   "source": [
    "#### E. 6 pts Summarize the difference between your SARIMA and the Auto Arima models. Compare order, performance on training data, performance on test data. Which model would you go forward with?"
   ]
  },
  {
   "cell_type": "markdown",
   "id": "c21666a1",
   "metadata": {},
   "source": [
    "Here are the error statistics from Sarima\n",
    "\n",
    "Mean Squared Error: 6.577377785647049\n",
    "\n",
    "Root Mean Squared Error: 2.5646398939514\n",
    "\n",
    "Mean Absolute Error: 2.200328209848641\n",
    "\n",
    "SMAPE: 0.005501970402684087\n",
    "\n",
    "MAPE: 0.00552226654094742\n",
    "\n",
    "MASE: 2.0441893134445137\n",
    "\n",
    "These are the results from AutoArima\n",
    "\n",
    "Mean Squared Error: 0.4377980527411992\n",
    "\n",
    "Root Mean Squared Error: 0.6616630961004242\n",
    "\n",
    "Mean Absolute Error: 0.49118748746161384\n",
    "\n",
    "SMAPE: 0.0012340085960326676\n",
    "\n",
    "MAPE: 0.001233170184061649\n",
    "\n",
    "MASE: 0.4563320182157184"
   ]
  },
  {
   "cell_type": "markdown",
   "id": "ebee715b",
   "metadata": {},
   "source": [
    "When comparing the errors, the auto arima seems to be performing much better at every statistics. \n",
    "For MSE the smaller the means squared error, the closer you are to finding the line of best fit. The auto arima model seems to be finding closer co2 levels.\n",
    "When comparing Smape, they are performing similarly but the autoarima tends to be a little bit better at finding more accurate values of co2 levels.\n"
   ]
  },
  {
   "cell_type": "markdown",
   "id": "22c43ce9",
   "metadata": {},
   "source": [
    "When we comapare the residuals both models performed well. The sarima model actually showed slight correlation when we look at the ACF plots and lb statistics. Also, when we look at the p value for the ljung box test, the autoarima model has a higher p value. This make us more confident that the residuals are independently distributed and the model does not show a lack of fit. "
   ]
  },
  {
   "cell_type": "markdown",
   "id": "d464590e",
   "metadata": {},
   "source": [
    "Finding a proper model to accurately predict and forecast the level of co2 is very important because  co2 is a main cause of global warming. Global Warming and problems associated with it are a significant and detrimental to life of plant and animals. So, to move forward, we would need a highly accurate model.\n",
    "\n",
    "In order to make accurate forecasts, our choice of model will have to take into consideration both trend and seasonality. From the analysis above, we saw that the co2 data presented to us is not stationary. The trend changes at each point in timeand the seasonality compoent causes cycles that ate increasing through time. This portion should not be included in the residuals, which capture and resemble white noise. The auto arima take into accout a seasonal and non seasonal differencing and the residual analysis ensure that none of the trend or seasonality gets captures.\n",
    "\n",
    "Since this model performs well, moving forward, we can have more confidence that our forecasts will be accurate. This is important for predicting co2 levels. If we are more accurate, we can estimate better when the co2 level will be dangerous and can prepare for this. Perhaps if we know this, we can build safe environment for animals and prepare greenhouses for plants."
   ]
  },
  {
   "cell_type": "markdown",
   "id": "b8f1f67b",
   "metadata": {},
   "source": [
    "### Part 4. 30 pts plus 20 pts extra credit – Recursive method with best model"
   ]
  },
  {
   "cell_type": "markdown",
   "id": "24afd7be",
   "metadata": {},
   "source": [
    "#### A. 10 pts Use/modify the rolling fit class to fit and predict with the best model from above. Adjust train size from the sample in RollingFit_for_Assignment4.ipynb. This probably works best w sktime implementation."
   ]
  },
  {
   "cell_type": "markdown",
   "id": "22f9a3fc",
   "metadata": {},
   "source": [
    "Moving forward with autoarima model"
   ]
  },
  {
   "cell_type": "code",
   "execution_count": 136,
   "id": "c3d05396",
   "metadata": {},
   "outputs": [],
   "source": [
    "from sktime.forecasting.all import AutoARIMA\n",
    "from sktime.forecasting.arima import ARIMA\n",
    "from sktime.forecasting.base import ForecastingHorizon\n",
    "from sktime.forecasting.all import temporal_train_test_split"
   ]
  },
  {
   "cell_type": "code",
   "execution_count": 135,
   "id": "73ddf0e4",
   "metadata": {},
   "outputs": [
    {
     "data": {
      "text/html": [
       "<div>\n",
       "<style scoped>\n",
       "    .dataframe tbody tr th:only-of-type {\n",
       "        vertical-align: middle;\n",
       "    }\n",
       "\n",
       "    .dataframe tbody tr th {\n",
       "        vertical-align: top;\n",
       "    }\n",
       "\n",
       "    .dataframe thead th {\n",
       "        text-align: right;\n",
       "    }\n",
       "</style>\n",
       "<table border=\"1\" class=\"dataframe\">\n",
       "  <thead>\n",
       "    <tr style=\"text-align: right;\">\n",
       "      <th></th>\n",
       "      <th>co2</th>\n",
       "    </tr>\n",
       "    <tr>\n",
       "      <th>ds</th>\n",
       "      <th></th>\n",
       "    </tr>\n",
       "  </thead>\n",
       "  <tbody>\n",
       "    <tr>\n",
       "      <th>1958-03</th>\n",
       "      <td>315.700</td>\n",
       "    </tr>\n",
       "    <tr>\n",
       "      <th>1958-04</th>\n",
       "      <td>317.450</td>\n",
       "    </tr>\n",
       "    <tr>\n",
       "      <th>1958-05</th>\n",
       "      <td>317.510</td>\n",
       "    </tr>\n",
       "    <tr>\n",
       "      <th>1958-06</th>\n",
       "      <td>316.685</td>\n",
       "    </tr>\n",
       "    <tr>\n",
       "      <th>1958-07</th>\n",
       "      <td>315.860</td>\n",
       "    </tr>\n",
       "    <tr>\n",
       "      <th>...</th>\n",
       "      <td>...</td>\n",
       "    </tr>\n",
       "    <tr>\n",
       "      <th>2019-01</th>\n",
       "      <td>410.920</td>\n",
       "    </tr>\n",
       "    <tr>\n",
       "      <th>2019-02</th>\n",
       "      <td>411.660</td>\n",
       "    </tr>\n",
       "    <tr>\n",
       "      <th>2019-03</th>\n",
       "      <td>412.000</td>\n",
       "    </tr>\n",
       "    <tr>\n",
       "      <th>2019-04</th>\n",
       "      <td>413.510</td>\n",
       "    </tr>\n",
       "    <tr>\n",
       "      <th>2019-05</th>\n",
       "      <td>414.830</td>\n",
       "    </tr>\n",
       "  </tbody>\n",
       "</table>\n",
       "<p>735 rows × 1 columns</p>\n",
       "</div>"
      ],
      "text/plain": [
       "             co2\n",
       "ds              \n",
       "1958-03  315.700\n",
       "1958-04  317.450\n",
       "1958-05  317.510\n",
       "1958-06  316.685\n",
       "1958-07  315.860\n",
       "...          ...\n",
       "2019-01  410.920\n",
       "2019-02  411.660\n",
       "2019-03  412.000\n",
       "2019-04  413.510\n",
       "2019-05  414.830\n",
       "\n",
       "[735 rows x 1 columns]"
      ]
     },
     "execution_count": 135,
     "metadata": {},
     "output_type": "execute_result"
    }
   ],
   "source": [
    "y =pd.read_csv('hw4_data.csv', index_col=0)\n",
    "y.index = pd.core.indexes.period.PeriodIndex(y.index, freq='m')\n",
    "y"
   ]
  },
  {
   "cell_type": "code",
   "execution_count": 137,
   "id": "8f3b5f1c",
   "metadata": {},
   "outputs": [],
   "source": [
    "class RollingFit:\n",
    "    def __init__(self, y, train_size=551, model=AutoARIMA() ):\n",
    "        \n",
    "        self.y = y\n",
    "        self.model = model\n",
    "        \n",
    "        self.train_y, self.test_y = temporal_train_test_split(y, train_size=train_size)\n",
    "#         print(self.train_y.shape)\n",
    "        self._test_y = self.test_y\n",
    "        self.ypred_ = self.train_y\n",
    "        self.fit()\n",
    "        \n",
    "    def fit(self):\n",
    "        N = len( self.test_y )\n",
    "#         print(N)\n",
    "        for i in range(0, N):\n",
    "#             print(i)\n",
    "            self.fit_model()\n",
    "            ypred = self.predict_one()\n",
    "            self.add_to_predictions( ypred )\n",
    "            self.move_one_test_to_train()\n",
    "            self.drop_one_from_test()\n",
    "    \n",
    "    \n",
    "    def fit_model(self):\n",
    "        y = self.train_y\n",
    "        self.model.fit( y )\n",
    "        \n",
    "    def predict_one(self):\n",
    "        ypred = self.model.predict(1)\n",
    "        return ypred\n",
    "    \n",
    "    def add_to_predictions(self, ypred):\n",
    "        self.ypred_ = pd.concat([self.ypred_, ypred])\n",
    "        \n",
    "        \n",
    "    def move_one_test_to_train(self):\n",
    "        series_to_add = pd.Series( \n",
    "            self.test_y[0], \n",
    "            index = [ self.test_y.index[0] ] \n",
    "        )\n",
    "        self.train_y = pd.concat( [self.train_y, series_to_add ])    \n",
    "    \n",
    "    def drop_one_from_test(self):\n",
    "        self.test_y = self.test_y[1:]"
   ]
  },
  {
   "cell_type": "code",
   "execution_count": 138,
   "id": "05c6680d",
   "metadata": {},
   "outputs": [],
   "source": [
    "rolling_fit_model = RollingFit(y['co2'], model=ARIMA((1,1,1), seasonal_order=(0,1,1,12) ))"
   ]
  },
  {
   "cell_type": "code",
   "execution_count": 139,
   "id": "52e55aea",
   "metadata": {},
   "outputs": [],
   "source": [
    "y_test_set=rolling_fit_model.train_y[551:]\n",
    "y_pred_set=rolling_fit_model.ypred_[551:]"
   ]
  },
  {
   "cell_type": "markdown",
   "id": "2d6b99e3",
   "metadata": {},
   "source": [
    "#### B. *20 pts extra credit* Create your own function or class to perform a different method of recursive forecasting. Can use any other recursive method, here is a paper for inspiration, not limitation: https://arxiv.org/pdf/1108.3259.pdf"
   ]
  },
  {
   "cell_type": "markdown",
   "id": "19d14ec6",
   "metadata": {},
   "source": [
    "The method I chose was to use first a training set and predict the next month's value of co2. Then, use that prediction as a part of the training set and train the model with the new prediction. Then take the resulting prediction and adding it to the trains et and fit the model to the new training set with the predicted values and so on.\n",
    "After reading the paper above, I saw that one possible method was to used the hybrid model of recursion and prediction so I tried this way below:"
   ]
  },
  {
   "cell_type": "code",
   "execution_count": 140,
   "id": "fd69725b",
   "metadata": {},
   "outputs": [],
   "source": [
    "class RecursiveForecast:\n",
    "    def __init__(self, y, train_size=551, model=AutoARIMA() ):\n",
    "        \n",
    "        self.y = y\n",
    "        self.model = model\n",
    "        self.train_y, self.test_y = temporal_train_test_split(y, train_size=train_size)\n",
    "        self._test_y = self.test_y\n",
    "        self.ypred_ = self.train_y\n",
    "        self.fit()\n",
    "        \n",
    "    def fit(self):\n",
    "        N = len( self.test_y )\n",
    "        for i in range(0, N):\n",
    "            self.fit_model()\n",
    "            ypred = self.predict_one()\n",
    "            self.add_to_predictions( ypred )\n",
    "            self.move_one_pred_to_train(ypred)\n",
    "#             print(self.train_y)\n",
    "            self.drop_one_from_test()\n",
    "    \n",
    "    \n",
    "    def fit_model(self):\n",
    "        y = self.train_y\n",
    "        self.model.fit( y )\n",
    "        \n",
    "    def predict_one(self):\n",
    "        ypred = self.model.predict(1)\n",
    "        return ypred\n",
    "    \n",
    "    def add_to_predictions(self, ypred):\n",
    "        self.ypred_ = pd.concat([self.ypred_, ypred])\n",
    "        \n",
    "        \n",
    "    def move_one_pred_to_train(self,prediction):\n",
    "        series_to_add = pd.Series( \n",
    "            prediction, \n",
    "            index = [ self.test_y.index[0] ] \n",
    "        )\n",
    "        self.train_y = pd.concat( [self.train_y, series_to_add ])    \n",
    "    \n",
    "    def drop_one_from_test(self):\n",
    "        self.test_y = self.test_y[1:]"
   ]
  },
  {
   "cell_type": "code",
   "execution_count": 141,
   "id": "6fecef55",
   "metadata": {},
   "outputs": [],
   "source": [
    "recursive_model = RecursiveForecast(y['co2'], model=ARIMA((1,1,1), seasonal_order=(0,1,1,12) ))"
   ]
  },
  {
   "cell_type": "code",
   "execution_count": 142,
   "id": "7fdf4a53",
   "metadata": {},
   "outputs": [],
   "source": [
    "original_data=pd.Series(y['co2'])\n",
    "original_data.index.name=None\n",
    "y_test_set2=original_data[551:]\n",
    "y_pred_set2=recursive_model.ypred_[551:]"
   ]
  },
  {
   "cell_type": "markdown",
   "id": "abc475a2",
   "metadata": {},
   "source": [
    "#### C. 10 pts Include the following: MAE, MSE, MAPE, sMAPE, MASE. Can use prebuilt functions or calculate by hand."
   ]
  },
  {
   "cell_type": "markdown",
   "id": "f4763c62",
   "metadata": {},
   "source": [
    "Rolling Method Stats"
   ]
  },
  {
   "cell_type": "code",
   "execution_count": 143,
   "id": "b04b81e5",
   "metadata": {},
   "outputs": [],
   "source": [
    "mae = mean_absolute_error(y_test_set, y_pred_set)\n",
    "mse = mean_squared_error(y_test_set, y_pred_set)\n",
    "rmse = math.sqrt(mse)\n",
    "smape = smape_loss(y_test_set, y_pred_set)\n",
    "mape = mape_loss(y_test_set, y_pred_set)\n",
    "mase= MASE(rolling_fit_model.train_y, y_test_set, y_pred_set)"
   ]
  },
  {
   "cell_type": "code",
   "execution_count": 144,
   "id": "b42a9f45",
   "metadata": {},
   "outputs": [
    {
     "name": "stdout",
     "output_type": "stream",
     "text": [
      "Mean Squared Error: 0.12701416960617812\n",
      "Root Mean Squared Error: 0.35639047350648717\n",
      "Mean Absolute Error: 0.2746876521690032\n",
      "SMAPE: 0.0006978684049097219\n",
      "MAPE: 0.0006978306470994643\n",
      "MASE: 0.24774306266916693\n"
     ]
    }
   ],
   "source": [
    "print(f'Mean Squared Error: {mse}')\n",
    "print(f'Root Mean Squared Error: {rmse}')\n",
    "print(f'Mean Absolute Error: {mae}')\n",
    "print(f'SMAPE: {smape}')\n",
    "print(f'MAPE: {mape}')\n",
    "print(f'MASE: {mase}')"
   ]
  },
  {
   "cell_type": "markdown",
   "id": "d8f624af",
   "metadata": {},
   "source": [
    "Recursive Method 2 Stats"
   ]
  },
  {
   "cell_type": "code",
   "execution_count": 145,
   "id": "92f5d626",
   "metadata": {},
   "outputs": [],
   "source": [
    "mae = mean_absolute_error(y_test_set2, y_pred_set2)\n",
    "mse = mean_squared_error(y_test_set2, y_pred_set2)\n",
    "rmse = math.sqrt(mse)\n",
    "smape = smape_loss(y_test_set2, y_pred_set2)\n",
    "mape = mape_loss(y_test_set2, y_pred_set2)\n",
    "mase= MASE(original_data, y_test_set2, y_pred_set2)"
   ]
  },
  {
   "cell_type": "code",
   "execution_count": 146,
   "id": "c16a0c3d",
   "metadata": {},
   "outputs": [
    {
     "name": "stdout",
     "output_type": "stream",
     "text": [
      "Mean Squared Error: 0.4441635088178957\n",
      "Root Mean Squared Error: 0.6664559316398164\n",
      "Mean Absolute Error: 0.4935730961434671\n",
      "SMAPE: 0.001239812725483191\n",
      "MAPE: 0.00123894712218656\n",
      "MASE: 0.44515765278904007\n"
     ]
    }
   ],
   "source": [
    "print(f'Mean Squared Error: {mse}')\n",
    "print(f'Root Mean Squared Error: {rmse}')\n",
    "print(f'Mean Absolute Error: {mae}')\n",
    "print(f'SMAPE: {smape}')\n",
    "print(f'MAPE: {mape}')\n",
    "print(f'MASE: {mase}')"
   ]
  },
  {
   "cell_type": "markdown",
   "id": "94a411f7",
   "metadata": {},
   "source": [
    "#### D. 10 pts Summarize the difference between your Recursive forecasts and your h-step ahead forecasts from SARIMA and Auto ARIMA. Explain the methodologies and the reason that you get different results. What are the advantages and disadvantages of the recursive method."
   ]
  },
  {
   "cell_type": "markdown",
   "id": "aa84e810",
   "metadata": {},
   "source": [
    "AutoArima:\n",
    "\n",
    "Mean Squared Error: 0.4377980527411992\n",
    "\n",
    "Root Mean Squared Error: 0.6616630961004242\n",
    "\n",
    "Mean Absolute Error: 0.49118748746161384\n",
    "\n",
    "SMAPE: 0.0012340085960326676\n",
    "\n",
    "MAPE: 0.001233170184061649\n",
    "\n",
    "MASE: 0.4563320182157184\n",
    "\n",
    "Rolling:\n",
    "\n",
    "Mean Squared Error: 0.12701416960617812\n",
    "\n",
    "Root Mean Squared Error: 0.35639047350648717\n",
    "\n",
    "Mean Absolute Error: 0.2746876521690032\n",
    "\n",
    "SMAPE: 0.0006978684049097219\n",
    "\n",
    "MAPE: 0.0006978306470994643\n",
    "\n",
    "MASE: 0.24774306266916693\n",
    "\n",
    "When I compare my two different recursive methods, I find that the rolling class one is performing much better than the predicted one. This makes sense because the predicted one is using predictions instead of the actual values to build the model. However, I was still surprised by how well it performed compared to the SARIMA and auto arima. The predicted recursive method(2) performed almost the same as the autarima. The error statistics are very very close to each other.\n",
    "I thought about why and found that since the recursive method is training multiple times on larger and larger training sets, it is predicting on a a smaller test set each time so it tends to be more accurate. You are considering a larger training size data each iteration.\n",
    "\n",
    "Comparing the better model from SARIMA and auto arima, we found auto arima to be better. When comparing the two recursive methods, we found the rolling method to be better.\n",
    "Now, Comaring the two better models, the rolling is still better because in all the error statistics, it performs much better.\n",
    "\n",
    "\n"
   ]
  },
  {
   "cell_type": "markdown",
   "id": "d34bc8c4",
   "metadata": {},
   "source": [
    "The methodology behind the recursive method is that you are doing a brute force method by training a separate model for each point in the future that you want to predict. You are forecasing by feeding in the prediction of the model as a new input and using this result to predict a new output. By continuing this pattern until you have no more test values, you are essentially rolling the predictions forward until your desired date or time period is reached. \n",
    "\n",
    "With the Srima and autoarima, you are predicting x amount of time steps in the future and only training the model once.\n",
    "The reason I get different results and statistics is that my training size in the recursive method increases each iteration. So the last value tends to be closer to the actual value because at the last iteration my training set is essentially the whole dataset except the last value. In the sarima and autoarima, you only training the model once so the values at the end of the dataset tend to be farther from the actual values."
   ]
  },
  {
   "cell_type": "markdown",
   "id": "10238088",
   "metadata": {},
   "source": [
    "The advantages of the recursive model is that your predictions will be closer to the actual value, this producing lower errors.\n",
    "Rolling recursive method forecasts allow the model to make adjustments by fitting the model each time along the way rather than letting the predictions be far off. It also allows you to predict more steps in the future. Also, each iteration, the forecast horizon is smaller so the variance isn't disturbed too much. In the sarima and autoarima, you will see higher variance because they use fewer observations in the training set when estimating the model and especially when the forecast horizon is larger, the variance tends to be higher. In the recursive method, it eliminates this issue.\n",
    "\n",
    "A disadvantage of this recursive methods is that you are training a model each iterating. It is okay if the dataset is smaller or medium sized. However if the dataset is large or you are trying to predict further into the future, you will be traing many many models, which will be computationally intensive and may take a longer time."
   ]
  }
 ],
 "metadata": {
  "kernelspec": {
   "display_name": "Python 3",
   "language": "python",
   "name": "python3"
  },
  "language_info": {
   "codemirror_mode": {
    "name": "ipython",
    "version": 3
   },
   "file_extension": ".py",
   "mimetype": "text/x-python",
   "name": "python",
   "nbconvert_exporter": "python",
   "pygments_lexer": "ipython3",
   "version": "3.7.10"
  }
 },
 "nbformat": 4,
 "nbformat_minor": 5
}
