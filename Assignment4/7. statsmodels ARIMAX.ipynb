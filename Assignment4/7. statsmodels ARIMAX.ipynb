{
 "cells": [
  {
   "cell_type": "code",
   "execution_count": 1,
   "metadata": {},
   "outputs": [],
   "source": [
    "import numpy as np\n",
    "import pandas as pd\n",
    "from scipy.stats import norm\n",
    "import statsmodels.api as sm\n",
    "import matplotlib.pyplot as plt\n",
    "from datetime import datetime\n",
    "import requests\n",
    "from io import BytesIO\n",
    "# Register converters to avoid warnings\n",
    "pd.plotting.register_matplotlib_converters()\n",
    "plt.rc(\"figure\", figsize=(16,8))\n",
    "plt.rc(\"font\", size=14)"
   ]
  },
  {
   "cell_type": "code",
   "execution_count": 2,
   "metadata": {},
   "outputs": [
    {
     "name": "stdout",
     "output_type": "stream",
     "text": [
      "                               SARIMAX Results                                \n",
      "==============================================================================\n",
      "Dep. Variable:                consump   No. Observations:                   92\n",
      "Model:               SARIMAX(1, 0, 1)   Log Likelihood                -340.508\n",
      "Date:                Wed, 21 Apr 2021   AIC                            691.015\n",
      "Time:                        16:53:11   BIC                            703.624\n",
      "Sample:                    01-01-1959   HQIC                           696.105\n",
      "                         - 10-01-1981                                         \n",
      "Covariance Type:                  opg                                         \n",
      "==============================================================================\n",
      "                 coef    std err          z      P>|z|      [0.025      0.975]\n",
      "------------------------------------------------------------------------------\n",
      "const        -36.0613     56.641     -0.637      0.524    -147.076      74.954\n",
      "m2             1.1220      0.036     30.825      0.000       1.051       1.193\n",
      "ar.L1          0.9348      0.041     22.717      0.000       0.854       1.015\n",
      "ma.L1          0.3091      0.089      3.488      0.000       0.135       0.483\n",
      "sigma2        93.2559     10.889      8.565      0.000      71.915     114.597\n",
      "===================================================================================\n",
      "Ljung-Box (L1) (Q):                   0.04   Jarque-Bera (JB):                23.49\n",
      "Prob(Q):                              0.84   Prob(JB):                         0.00\n",
      "Heteroskedasticity (H):              22.51   Skew:                             0.17\n",
      "Prob(H) (two-sided):                  0.00   Kurtosis:                         5.45\n",
      "===================================================================================\n",
      "\n",
      "Warnings:\n",
      "[1] Covariance matrix calculated using the outer product of gradients (complex-step).\n"
     ]
    }
   ],
   "source": [
    "friedman2 = requests.get('https://www.stata-press.com/data/r12/friedman2.dta').content\n",
    "data = pd.read_stata(BytesIO(friedman2))\n",
    "data.index = data.time\n",
    "data.index.freq = \"QS-OCT\"\n",
    "\n",
    "# Variables\n",
    "endog = data.loc['1959':'1981', 'consump']\n",
    "exog = sm.add_constant(data.loc['1959':'1981', 'm2'])\n",
    "\n",
    "# Fit the model\n",
    "mod = sm.tsa.statespace.SARIMAX(endog, exog, order=(1,0,1))\n",
    "res = mod.fit(disp=False)\n",
    "print(res.summary())"
   ]
  },
  {
   "cell_type": "code",
   "execution_count": 3,
   "metadata": {},
   "outputs": [],
   "source": [
    "data.to_csv('data_friedman.csv', index=False)"
   ]
  },
  {
   "cell_type": "code",
   "execution_count": null,
   "metadata": {},
   "outputs": [],
   "source": []
  }
 ],
 "metadata": {
  "kernelspec": {
   "display_name": "Python 3",
   "language": "python",
   "name": "python3"
  },
  "language_info": {
   "codemirror_mode": {
    "name": "ipython",
    "version": 3
   },
   "file_extension": ".py",
   "mimetype": "text/x-python",
   "name": "python",
   "nbconvert_exporter": "python",
   "pygments_lexer": "ipython3",
   "version": "3.8.5"
  }
 },
 "nbformat": 4,
 "nbformat_minor": 4
}
