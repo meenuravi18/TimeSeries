{
 "cells": [
  {
   "cell_type": "code",
   "execution_count": 4,
   "metadata": {},
   "outputs": [],
   "source": [
    "from cesium import datasets\n",
    "import matplotlib.pyplot as plt\n",
    "import numpy as np\n",
    "import pandas as pd"
   ]
  },
  {
   "cell_type": "code",
   "execution_count": 5,
   "metadata": {},
   "outputs": [
    {
     "name": "stderr",
     "output_type": "stream",
     "text": [
      "Downloading data from https://github.com/cesium-ml/cesium-data/raw/master/andrzejak/\n"
     ]
    }
   ],
   "source": [
    "eeg = datasets.fetch_andrzejak()"
   ]
  },
  {
   "cell_type": "markdown",
   "metadata": {},
   "source": [
    "This data is from an electroencephalogram (EEG) data set, details can be found in this paper:\n",
    "    <br>\n",
    "https://perma.cc/YZD5-CTJF    \n",
    "    <br>\n",
    "EEG tracks and records brain wave patterns. The results of the test show changes in brain activity that may be useful in diagnosing brain conditions.\n",
    "\n",
    "For this dataset, there are five categories of time series, all observations are equal length segments from:\n",
    " - EEG recordings of healthy people with eyes open\n",
    " - EEG recordings of healthy people with eyes closed\n",
    " - EEG recordings of epilepsy patients during seizure-free times from two non-seizure related areas of the brain\n",
    " - Another category of epilepsy patients from another area of the brain\n",
    " - EEG recording during a seizure\n",
    " \n",
    " Source: http://cesium-ml.org/docs/auto_examples/plot_EEG_Example.html#sphx-glr-auto-examples-plot-eeg-example-py\n",
    " \n",
    " We will follow these steps in the workflow:\n",
    "  - Featurize the time series\n",
    "  - Build classification models\n",
    "  - Validate with test set"
   ]
  },
  {
   "cell_type": "markdown",
   "metadata": {},
   "source": [
    "## Examine the data"
   ]
  },
  {
   "cell_type": "markdown",
   "metadata": {},
   "source": [
    "Data is stored in a dictionary"
   ]
  },
  {
   "cell_type": "code",
   "execution_count": 3,
   "metadata": {},
   "outputs": [
    {
     "data": {
      "text/plain": [
       "dict_keys(['times', 'measurements', 'classes', 'archive', 'header'])"
      ]
     },
     "execution_count": 3,
     "metadata": {},
     "output_type": "execute_result"
    }
   ],
   "source": [
    "eeg.keys()"
   ]
  },
  {
   "cell_type": "code",
   "execution_count": 4,
   "metadata": {},
   "outputs": [
    {
     "name": "stdout",
     "output_type": "stream",
     "text": [
      "[0.00000000e+00 5.76171875e-03 1.15234375e-02 ... 2.35884766e+01\n",
      " 2.35942383e+01 2.36000000e+01]\n",
      "[-66. -70. -67. ... -21. -29. -36.]\n",
      "F\n"
     ]
    }
   ],
   "source": [
    "# check out a sample of the data\n",
    "print(eeg['times'][351])\n",
    "print(eeg['measurements'][351])\n",
    "print(eeg['classes'][351])"
   ]
  },
  {
   "cell_type": "code",
   "execution_count": 5,
   "metadata": {},
   "outputs": [
    {
     "data": {
      "text/plain": [
       "array(['F', 'N', 'O', 'S', 'Z'], dtype='<U1')"
      ]
     },
     "execution_count": 5,
     "metadata": {},
     "output_type": "execute_result"
    }
   ],
   "source": [
    "# number of unique classes\n",
    "np.unique(eeg['classes'])"
   ]
  },
  {
   "cell_type": "markdown",
   "metadata": {},
   "source": [
    "Simplify the 5 classes into three: Normal, Interictal (between seizures) and Ictal (during a seizure)."
   ]
  },
  {
   "cell_type": "code",
   "execution_count": 6,
   "metadata": {},
   "outputs": [],
   "source": [
    "# Group together classes (Z, O), (N, F), (S) as normal, interictal, ictal\n",
    "eeg[\"classes\"] = eeg[\"classes\"].astype(\"U16\") #  allocate memory for longer class names\n",
    "eeg[\"classes\"][np.logical_or(eeg[\"classes\"]==\"Z\", eeg[\"classes\"]==\"O\")] = \"Normal\"\n",
    "eeg[\"classes\"][np.logical_or(eeg[\"classes\"]==\"N\", eeg[\"classes\"]==\"F\")] = \"Interictal\"\n",
    "eeg[\"classes\"][eeg[\"classes\"]==\"S\"] = \"Ictal\"\n",
    "\n"
   ]
  },
  {
   "cell_type": "markdown",
   "metadata": {},
   "source": [
    "Plot a sample of a few EEG observations with their class labels"
   ]
  },
  {
   "cell_type": "code",
   "execution_count": 7,
   "metadata": {},
   "outputs": [
    {
     "data": {
      "image/png": "[encoded data removed]",
      "text/plain": [
       "<Figure size 432x288 with 3 Axes>"
      ]
     },
     "metadata": {
      "needs_background": "light"
     },
     "output_type": "display_data"
    }
   ],
   "source": [
    "fig, ax = plt.subplots(1, len(np.unique(eeg[\"classes\"])), sharey=True)\n",
    "for label, subplot in zip(np.unique(eeg[\"classes\"]), ax):\n",
    "    i = np.where(eeg[\"classes\"] == label)[0][0]\n",
    "    subplot.plot(eeg[\"times\"][i], eeg[\"measurements\"][i])\n",
    "    subplot.set(xlabel=\"time (s)\", ylabel=\"signal\", title=label)"
   ]
  },
  {
   "cell_type": "markdown",
   "metadata": {},
   "source": [
    "## Featurize the time series"
   ]
  },
  {
   "cell_type": "markdown",
   "metadata": {},
   "source": [
    "Cesium is a library in python that can help create features on time series data. It also has a web app that allows you to explore interactively with the ML pipelines  that you build. https://github.com/cesium-ml/cesium\n",
    "\n",
    "Cesium can create a wide variety of features found here: http://cesium-ml.org/docs/feature_table.html"
   ]
  },
  {
   "cell_type": "code",
   "execution_count": 7,
   "metadata": {},
   "outputs": [],
   "source": [
    "from cesium import featurize\n",
    "\n",
    "features_to_use = [\"amplitude\", \n",
    "                   \"percent_beyond_1_std\",\n",
    "                   \"percent_close_to_median\", \n",
    "                   \"skew\",\n",
    "                   \"max_slope\"]\n",
    "fset_cesium = featurize.featurize_time_series(times = eeg[\"times\"],\n",
    "                                                values = eeg[\"measurements\"],\n",
    "                                                errors = None,\n",
    "                                                features_to_use = features_to_use,\n",
    "                                                scheduler = None)"
   ]
  },
  {
   "cell_type": "code",
   "execution_count": 8,
   "metadata": {},
   "outputs": [
    {
     "data": {
      "text/html": [
       "<div>\n",
       "<style scoped>\n",
       "    .dataframe tbody tr th:only-of-type {\n",
       "        vertical-align: middle;\n",
       "    }\n",
       "\n",
       "    .dataframe tbody tr th {\n",
       "        vertical-align: top;\n",
       "    }\n",
       "\n",
       "    .dataframe thead tr th {\n",
       "        text-align: left;\n",
       "    }\n",
       "</style>\n",
       "<table border=\"1\" class=\"dataframe\">\n",
       "  <thead>\n",
       "    <tr>\n",
       "      <th>feature</th>\n",
       "      <th>amplitude</th>\n",
       "      <th>percent_beyond_1_std</th>\n",
       "      <th>percent_close_to_median</th>\n",
       "      <th>skew</th>\n",
       "      <th>max_slope</th>\n",
       "    </tr>\n",
       "    <tr>\n",
       "      <th>channel</th>\n",
       "      <th>0</th>\n",
       "      <th>0</th>\n",
       "      <th>0</th>\n",
       "      <th>0</th>\n",
       "      <th>0</th>\n",
       "    </tr>\n",
       "  </thead>\n",
       "  <tbody>\n",
       "    <tr>\n",
       "      <th>0</th>\n",
       "      <td>143.5</td>\n",
       "      <td>0.327313</td>\n",
       "      <td>0.505004</td>\n",
       "      <td>0.032805</td>\n",
       "      <td>11107.796610</td>\n",
       "    </tr>\n",
       "    <tr>\n",
       "      <th>1</th>\n",
       "      <td>211.5</td>\n",
       "      <td>0.290212</td>\n",
       "      <td>0.640469</td>\n",
       "      <td>-0.092715</td>\n",
       "      <td>20653.559322</td>\n",
       "    </tr>\n",
       "    <tr>\n",
       "      <th>2</th>\n",
       "      <td>165.0</td>\n",
       "      <td>0.302660</td>\n",
       "      <td>0.515987</td>\n",
       "      <td>-0.004100</td>\n",
       "      <td>13537.627119</td>\n",
       "    </tr>\n",
       "    <tr>\n",
       "      <th>3</th>\n",
       "      <td>171.5</td>\n",
       "      <td>0.300952</td>\n",
       "      <td>0.541128</td>\n",
       "      <td>0.063678</td>\n",
       "      <td>17008.813559</td>\n",
       "    </tr>\n",
       "    <tr>\n",
       "      <th>4</th>\n",
       "      <td>170.0</td>\n",
       "      <td>0.305101</td>\n",
       "      <td>0.566268</td>\n",
       "      <td>0.142753</td>\n",
       "      <td>13016.949153</td>\n",
       "    </tr>\n",
       "  </tbody>\n",
       "</table>\n",
       "</div>"
      ],
      "text/plain": [
       "feature amplitude percent_beyond_1_std percent_close_to_median      skew  \\\n",
       "channel         0                    0                       0         0   \n",
       "0           143.5             0.327313                0.505004  0.032805   \n",
       "1           211.5             0.290212                0.640469 -0.092715   \n",
       "2           165.0             0.302660                0.515987 -0.004100   \n",
       "3           171.5             0.300952                0.541128  0.063678   \n",
       "4           170.0             0.305101                0.566268  0.142753   \n",
       "\n",
       "feature     max_slope  \n",
       "channel             0  \n",
       "0        11107.796610  \n",
       "1        20653.559322  \n",
       "2        13537.627119  \n",
       "3        17008.813559  \n",
       "4        13016.949153  "
      ]
     },
     "execution_count": 8,
     "metadata": {},
     "output_type": "execute_result"
    }
   ],
   "source": [
    "fset_cesium.head()"
   ]
  },
  {
   "cell_type": "markdown",
   "metadata": {},
   "source": [
    "The output of featurize_time_series is a dataframe which contains all the feature information that was created. This can be used to train an ML model. Feature names are the column names."
   ]
  },
  {
   "cell_type": "markdown",
   "metadata": {},
   "source": [
    "### Functions to build custom features\n",
    "\n",
    "Custom functions that are not built into Cesium can be passed in using the custom_funtions keyword. These custom functions should take in three arrays as inputs (times, measurements, errors), these features are recommend by Guo et al. 2012: https://www.sciencedirect.com/science/article/abs/pii/S0957417411003253?via%3Dihub"
   ]
  },
  {
   "cell_type": "code",
   "execution_count": 9,
   "metadata": {},
   "outputs": [],
   "source": [
    "import numpy as np\n",
    "import scipy.stats\n",
    "\n",
    "def mean_signal(t, m, e):\n",
    "    return np.mean(m)\n",
    "\n",
    "def std_signal(t, m, e):\n",
    "    return np.std(m)\n",
    "\n",
    "def mean_square_signal(t, m, e):\n",
    "    return np.mean(m ** 2)\n",
    "\n",
    "def abs_diffs_signal(t, m, e):\n",
    "    return np.sum(np.abs(np.diff(m)))\n",
    "\n",
    "def skew_signal(t, m, e):\n",
    "    return scipy.stats.skew(m)"
   ]
  },
  {
   "cell_type": "code",
   "execution_count": 10,
   "metadata": {},
   "outputs": [
    {
     "name": "stdout",
     "output_type": "stream",
     "text": [
      "feature       mean        std        mean2 abs_diffs      skew\n",
      "channel          0          0            0         0         0\n",
      "0        -4.132048  40.411000  1650.122773   46948.0  0.032805\n",
      "1       -52.444716  48.812668  5133.124725   61118.0 -0.092715\n",
      "2        12.705150  47.144789  2384.051989   51269.0 -0.004100\n",
      "3        -3.992433  47.072316  2231.742495   75014.0  0.063678\n",
      "4       -17.999268  44.910958  2340.967781   52873.0  0.142753\n"
     ]
    }
   ],
   "source": [
    "guo_features = {\n",
    "    \"mean\": mean_signal,\n",
    "    \"std\": std_signal,\n",
    "    \"mean2\": mean_square_signal,\n",
    "    \"abs_diffs\": abs_diffs_signal,\n",
    "    \"skew\": skew_signal\n",
    "}\n",
    "\n",
    "fset_guo = featurize.featurize_time_series(times=eeg[\"times\"], values=eeg[\"measurements\"],\n",
    "                                           errors=None,\n",
    "                                           features_to_use=list(guo_features.keys()),\n",
    "                                           custom_functions=guo_features)\n",
    "print(fset_guo.head())"
   ]
  },
  {
   "cell_type": "code",
   "execution_count": 12,
   "metadata": {},
   "outputs": [],
   "source": [
    "# Combine the two sets of features\n",
    "fullset = pd.concat([fset_cesium, fset_guo],axis =1)"
   ]
  },
  {
   "cell_type": "code",
   "execution_count": 13,
   "metadata": {},
   "outputs": [
    {
     "data": {
      "text/html": [
       "<div>\n",
       "<style scoped>\n",
       "    .dataframe tbody tr th:only-of-type {\n",
       "        vertical-align: middle;\n",
       "    }\n",
       "\n",
       "    .dataframe tbody tr th {\n",
       "        vertical-align: top;\n",
       "    }\n",
       "\n",
       "    .dataframe thead tr th {\n",
       "        text-align: left;\n",
       "    }\n",
       "</style>\n",
       "<table border=\"1\" class=\"dataframe\">\n",
       "  <thead>\n",
       "    <tr>\n",
       "      <th>feature</th>\n",
       "      <th>amplitude</th>\n",
       "      <th>percent_beyond_1_std</th>\n",
       "      <th>percent_close_to_median</th>\n",
       "      <th>skew</th>\n",
       "      <th>max_slope</th>\n",
       "      <th>mean</th>\n",
       "      <th>std</th>\n",
       "      <th>mean2</th>\n",
       "      <th>abs_diffs</th>\n",
       "      <th>skew</th>\n",
       "    </tr>\n",
       "    <tr>\n",
       "      <th>channel</th>\n",
       "      <th>0</th>\n",
       "      <th>0</th>\n",
       "      <th>0</th>\n",
       "      <th>0</th>\n",
       "      <th>0</th>\n",
       "      <th>0</th>\n",
       "      <th>0</th>\n",
       "      <th>0</th>\n",
       "      <th>0</th>\n",
       "      <th>0</th>\n",
       "    </tr>\n",
       "  </thead>\n",
       "  <tbody>\n",
       "    <tr>\n",
       "      <th>0</th>\n",
       "      <td>143.5</td>\n",
       "      <td>0.327313</td>\n",
       "      <td>0.505004</td>\n",
       "      <td>0.032805</td>\n",
       "      <td>11107.796610</td>\n",
       "      <td>-4.132048</td>\n",
       "      <td>40.411000</td>\n",
       "      <td>1650.122773</td>\n",
       "      <td>46948.0</td>\n",
       "      <td>0.032805</td>\n",
       "    </tr>\n",
       "    <tr>\n",
       "      <th>1</th>\n",
       "      <td>211.5</td>\n",
       "      <td>0.290212</td>\n",
       "      <td>0.640469</td>\n",
       "      <td>-0.092715</td>\n",
       "      <td>20653.559322</td>\n",
       "      <td>-52.444716</td>\n",
       "      <td>48.812668</td>\n",
       "      <td>5133.124725</td>\n",
       "      <td>61118.0</td>\n",
       "      <td>-0.092715</td>\n",
       "    </tr>\n",
       "    <tr>\n",
       "      <th>2</th>\n",
       "      <td>165.0</td>\n",
       "      <td>0.302660</td>\n",
       "      <td>0.515987</td>\n",
       "      <td>-0.004100</td>\n",
       "      <td>13537.627119</td>\n",
       "      <td>12.705150</td>\n",
       "      <td>47.144789</td>\n",
       "      <td>2384.051989</td>\n",
       "      <td>51269.0</td>\n",
       "      <td>-0.004100</td>\n",
       "    </tr>\n",
       "    <tr>\n",
       "      <th>3</th>\n",
       "      <td>171.5</td>\n",
       "      <td>0.300952</td>\n",
       "      <td>0.541128</td>\n",
       "      <td>0.063678</td>\n",
       "      <td>17008.813559</td>\n",
       "      <td>-3.992433</td>\n",
       "      <td>47.072316</td>\n",
       "      <td>2231.742495</td>\n",
       "      <td>75014.0</td>\n",
       "      <td>0.063678</td>\n",
       "    </tr>\n",
       "    <tr>\n",
       "      <th>4</th>\n",
       "      <td>170.0</td>\n",
       "      <td>0.305101</td>\n",
       "      <td>0.566268</td>\n",
       "      <td>0.142753</td>\n",
       "      <td>13016.949153</td>\n",
       "      <td>-17.999268</td>\n",
       "      <td>44.910958</td>\n",
       "      <td>2340.967781</td>\n",
       "      <td>52873.0</td>\n",
       "      <td>0.142753</td>\n",
       "    </tr>\n",
       "    <tr>\n",
       "      <th>...</th>\n",
       "      <td>...</td>\n",
       "      <td>...</td>\n",
       "      <td>...</td>\n",
       "      <td>...</td>\n",
       "      <td>...</td>\n",
       "      <td>...</td>\n",
       "      <td>...</td>\n",
       "      <td>...</td>\n",
       "      <td>...</td>\n",
       "      <td>...</td>\n",
       "    </tr>\n",
       "    <tr>\n",
       "      <th>495</th>\n",
       "      <td>876.5</td>\n",
       "      <td>0.368318</td>\n",
       "      <td>0.364413</td>\n",
       "      <td>-0.472757</td>\n",
       "      <td>94242.711864</td>\n",
       "      <td>12.870393</td>\n",
       "      <td>332.455418</td>\n",
       "      <td>110692.251892</td>\n",
       "      <td>251762.0</td>\n",
       "      <td>-0.472757</td>\n",
       "    </tr>\n",
       "    <tr>\n",
       "      <th>496</th>\n",
       "      <td>433.0</td>\n",
       "      <td>0.361728</td>\n",
       "      <td>0.394923</td>\n",
       "      <td>0.046880</td>\n",
       "      <td>27595.932203</td>\n",
       "      <td>7.087137</td>\n",
       "      <td>159.833074</td>\n",
       "      <td>25596.839151</td>\n",
       "      <td>163894.0</td>\n",
       "      <td>0.046880</td>\n",
       "    </tr>\n",
       "    <tr>\n",
       "      <th>497</th>\n",
       "      <td>1359.0</td>\n",
       "      <td>0.270442</td>\n",
       "      <td>0.628265</td>\n",
       "      <td>-0.468130</td>\n",
       "      <td>243156.610169</td>\n",
       "      <td>30.493532</td>\n",
       "      <td>374.077172</td>\n",
       "      <td>140863.586039</td>\n",
       "      <td>487670.0</td>\n",
       "      <td>-0.468130</td>\n",
       "    </tr>\n",
       "    <tr>\n",
       "      <th>498</th>\n",
       "      <td>1590.0</td>\n",
       "      <td>0.305589</td>\n",
       "      <td>0.489138</td>\n",
       "      <td>-0.674034</td>\n",
       "      <td>176856.949153</td>\n",
       "      <td>37.571882</td>\n",
       "      <td>505.060930</td>\n",
       "      <td>256498.188919</td>\n",
       "      <td>619580.0</td>\n",
       "      <td>-0.674034</td>\n",
       "    </tr>\n",
       "    <tr>\n",
       "      <th>499</th>\n",
       "      <td>1396.0</td>\n",
       "      <td>0.225775</td>\n",
       "      <td>0.606785</td>\n",
       "      <td>-1.347758</td>\n",
       "      <td>131037.288136</td>\n",
       "      <td>47.100073</td>\n",
       "      <td>478.484847</td>\n",
       "      <td>231166.165731</td>\n",
       "      <td>475702.0</td>\n",
       "      <td>-1.347758</td>\n",
       "    </tr>\n",
       "  </tbody>\n",
       "</table>\n",
       "<p>500 rows × 10 columns</p>\n",
       "</div>"
      ],
      "text/plain": [
       "feature amplitude percent_beyond_1_std percent_close_to_median      skew  \\\n",
       "channel         0                    0                       0         0   \n",
       "0           143.5             0.327313                0.505004  0.032805   \n",
       "1           211.5             0.290212                0.640469 -0.092715   \n",
       "2           165.0             0.302660                0.515987 -0.004100   \n",
       "3           171.5             0.300952                0.541128  0.063678   \n",
       "4           170.0             0.305101                0.566268  0.142753   \n",
       "..            ...                  ...                     ...       ...   \n",
       "495         876.5             0.368318                0.364413 -0.472757   \n",
       "496         433.0             0.361728                0.394923  0.046880   \n",
       "497        1359.0             0.270442                0.628265 -0.468130   \n",
       "498        1590.0             0.305589                0.489138 -0.674034   \n",
       "499        1396.0             0.225775                0.606785 -1.347758   \n",
       "\n",
       "feature      max_slope       mean         std          mean2 abs_diffs  \\\n",
       "channel              0          0           0              0         0   \n",
       "0         11107.796610  -4.132048   40.411000    1650.122773   46948.0   \n",
       "1         20653.559322 -52.444716   48.812668    5133.124725   61118.0   \n",
       "2         13537.627119  12.705150   47.144789    2384.051989   51269.0   \n",
       "3         17008.813559  -3.992433   47.072316    2231.742495   75014.0   \n",
       "4         13016.949153 -17.999268   44.910958    2340.967781   52873.0   \n",
       "..                 ...        ...         ...            ...       ...   \n",
       "495       94242.711864  12.870393  332.455418  110692.251892  251762.0   \n",
       "496       27595.932203   7.087137  159.833074   25596.839151  163894.0   \n",
       "497      243156.610169  30.493532  374.077172  140863.586039  487670.0   \n",
       "498      176856.949153  37.571882  505.060930  256498.188919  619580.0   \n",
       "499      131037.288136  47.100073  478.484847  231166.165731  475702.0   \n",
       "\n",
       "feature      skew  \n",
       "channel         0  \n",
       "0        0.032805  \n",
       "1       -0.092715  \n",
       "2       -0.004100  \n",
       "3        0.063678  \n",
       "4        0.142753  \n",
       "..            ...  \n",
       "495     -0.472757  \n",
       "496      0.046880  \n",
       "497     -0.468130  \n",
       "498     -0.674034  \n",
       "499     -1.347758  \n",
       "\n",
       "[500 rows x 10 columns]"
      ]
     },
     "execution_count": 13,
     "metadata": {},
     "output_type": "execute_result"
    }
   ],
   "source": [
    "fullset"
   ]
  },
  {
   "cell_type": "markdown",
   "metadata": {},
   "source": [
    "## Model building"
   ]
  },
  {
   "cell_type": "code",
   "execution_count": 15,
   "metadata": {},
   "outputs": [],
   "source": [
    "from sklearn.neighbors import KNeighborsClassifier\n",
    "from sklearn.model_selection import train_test_split\n",
    "from sklearn.ensemble import RandomForestClassifier\n",
    "# import xgboost as xgb"
   ]
  },
  {
   "cell_type": "code",
   "execution_count": 17,
   "metadata": {},
   "outputs": [
    {
     "data": {
      "text/plain": [
       "array(['Z', 'Z', 'Z', 'Z', 'Z', 'Z', 'Z', 'Z', 'Z', 'Z', 'Z', 'Z', 'Z',\n",
       "       'Z', 'Z', 'Z', 'Z', 'Z', 'Z', 'Z', 'Z', 'Z', 'Z', 'Z', 'Z', 'Z',\n",
       "       'Z', 'Z', 'Z', 'Z', 'Z', 'Z', 'Z', 'Z', 'Z', 'Z', 'Z', 'Z', 'Z',\n",
       "       'Z', 'Z', 'Z', 'Z', 'Z', 'Z', 'Z', 'Z', 'Z', 'Z', 'Z', 'Z', 'Z',\n",
       "       'Z', 'Z', 'Z', 'Z', 'Z', 'Z', 'Z', 'Z', 'Z', 'Z', 'Z', 'Z', 'Z',\n",
       "       'Z', 'Z', 'Z', 'Z', 'Z', 'Z', 'Z', 'Z', 'Z', 'Z', 'Z', 'Z', 'Z',\n",
       "       'Z', 'Z', 'Z', 'Z', 'Z', 'Z', 'Z', 'Z', 'Z', 'Z', 'Z', 'Z', 'Z',\n",
       "       'Z', 'Z', 'Z', 'Z', 'Z', 'Z', 'Z', 'Z', 'Z', 'O', 'O', 'O', 'O',\n",
       "       'O', 'O', 'O', 'O', 'O', 'O', 'O', 'O', 'O', 'O', 'O', 'O', 'O',\n",
       "       'O', 'O', 'O', 'O', 'O', 'O', 'O', 'O', 'O', 'O', 'O', 'O', 'O',\n",
       "       'O', 'O', 'O', 'O', 'O', 'O', 'O', 'O', 'O', 'O', 'O', 'O', 'O',\n",
       "       'O', 'O', 'O', 'O', 'O', 'O', 'O', 'O', 'O', 'O', 'O', 'O', 'O',\n",
       "       'O', 'O', 'O', 'O', 'O', 'O', 'O', 'O', 'O', 'O', 'O', 'O', 'O',\n",
       "       'O', 'O', 'O', 'O', 'O', 'O', 'O', 'O', 'O', 'O', 'O', 'O', 'O',\n",
       "       'O', 'O', 'O', 'O', 'O', 'O', 'O', 'O', 'O', 'O', 'O', 'O', 'O',\n",
       "       'O', 'O', 'O', 'O', 'O', 'N', 'N', 'N', 'N', 'N', 'N', 'N', 'N',\n",
       "       'N', 'N', 'N', 'N', 'N', 'N', 'N', 'N', 'N', 'N', 'N', 'N', 'N',\n",
       "       'N', 'N', 'N', 'N', 'N', 'N', 'N', 'N', 'N', 'N', 'N', 'N', 'N',\n",
       "       'N', 'N', 'N', 'N', 'N', 'N', 'N', 'N', 'N', 'N', 'N', 'N', 'N',\n",
       "       'N', 'N', 'N', 'N', 'N', 'N', 'N', 'N', 'N', 'N', 'N', 'N', 'N',\n",
       "       'N', 'N', 'N', 'N', 'N', 'N', 'N', 'N', 'N', 'N', 'N', 'N', 'N',\n",
       "       'N', 'N', 'N', 'N', 'N', 'N', 'N', 'N', 'N', 'N', 'N', 'N', 'N',\n",
       "       'N', 'N', 'N', 'N', 'N', 'N', 'N', 'N', 'N', 'N', 'N', 'N', 'N',\n",
       "       'N', 'F', 'F', 'F', 'F', 'F', 'F', 'F', 'F', 'F', 'F', 'F', 'F',\n",
       "       'F', 'F', 'F', 'F', 'F', 'F', 'F', 'F', 'F', 'F', 'F', 'F', 'F',\n",
       "       'F', 'F', 'F', 'F', 'F', 'F', 'F', 'F', 'F', 'F', 'F', 'F', 'F',\n",
       "       'F', 'F', 'F', 'F', 'F', 'F', 'F', 'F', 'F', 'F', 'F', 'F', 'F',\n",
       "       'F', 'F', 'F', 'F', 'F', 'F', 'F', 'F', 'F', 'F', 'F', 'F', 'F',\n",
       "       'F', 'F', 'F', 'F', 'F', 'F', 'F', 'F', 'F', 'F', 'F', 'F', 'F',\n",
       "       'F', 'F', 'F', 'F', 'F', 'F', 'F', 'F', 'F', 'F', 'F', 'F', 'F',\n",
       "       'F', 'F', 'F', 'F', 'F', 'F', 'F', 'F', 'F', 'F', 'S', 'S', 'S',\n",
       "       'S', 'S', 'S', 'S', 'S', 'S', 'S', 'S', 'S', 'S', 'S', 'S', 'S',\n",
       "       'S', 'S', 'S', 'S', 'S', 'S', 'S', 'S', 'S', 'S', 'S', 'S', 'S',\n",
       "       'S', 'S', 'S', 'S', 'S', 'S', 'S', 'S', 'S', 'S', 'S', 'S', 'S',\n",
       "       'S', 'S', 'S', 'S', 'S', 'S', 'S', 'S', 'S', 'S', 'S', 'S', 'S',\n",
       "       'S', 'S', 'S', 'S', 'S', 'S', 'S', 'S', 'S', 'S', 'S', 'S', 'S',\n",
       "       'S', 'S', 'S', 'S', 'S', 'S', 'S', 'S', 'S', 'S', 'S', 'S', 'S',\n",
       "       'S', 'S', 'S', 'S', 'S', 'S', 'S', 'S', 'S', 'S', 'S', 'S', 'S',\n",
       "       'S', 'S', 'S', 'S', 'S', 'S'], dtype='<U1')"
      ]
     },
     "execution_count": 17,
     "metadata": {},
     "output_type": "execute_result"
    }
   ],
   "source": [
    "eeg[\"classes\"]"
   ]
  },
  {
   "cell_type": "code",
   "execution_count": 14,
   "metadata": {},
   "outputs": [],
   "source": [
    "\n",
    "X_train, X_test, y_train, y_test = train_test_split(fullset.values, eeg[\"classes\"], random_state=21)"
   ]
  },
  {
   "cell_type": "markdown",
   "metadata": {},
   "source": [
    "### KNN "
   ]
  },
  {
   "cell_type": "code",
   "execution_count": 15,
   "metadata": {},
   "outputs": [
    {
     "data": {
      "text/plain": [
       "KNeighborsClassifier(n_neighbors=3)"
      ]
     },
     "execution_count": 15,
     "metadata": {},
     "output_type": "execute_result"
    }
   ],
   "source": [
    "model_knn = KNeighborsClassifier(3)\n",
    "model_knn.fit(X_train, y_train)\n"
   ]
  },
  {
   "cell_type": "markdown",
   "metadata": {},
   "source": [
    "### Random forest"
   ]
  },
  {
   "cell_type": "code",
   "execution_count": 16,
   "metadata": {},
   "outputs": [
    {
     "data": {
      "text/plain": [
       "RandomForestClassifier(max_depth=3, n_estimators=10, random_state=21)"
      ]
     },
     "execution_count": 16,
     "metadata": {},
     "output_type": "execute_result"
    }
   ],
   "source": [
    "\n",
    "model_rf = RandomForestClassifier(n_estimators = 10,\n",
    "                                max_depth = 3,\n",
    "                                random_state = 21)\n",
    "model_rf.fit(X_train, y_train)\n"
   ]
  },
  {
   "cell_type": "markdown",
   "metadata": {},
   "source": [
    "### XGBoost"
   ]
  },
  {
   "cell_type": "code",
   "execution_count": 17,
   "metadata": {},
   "outputs": [
    {
     "name": "stdout",
     "output_type": "stream",
     "text": [
      "[14:26:23] WARNING: C:/Users/Administrator/workspace/xgboost-win64_release_1.4.0/src/learner.cc:1095: Starting in XGBoost 1.3.0, the default evaluation metric used with the objective 'multi:softprob' was changed from 'merror' to 'mlogloss'. Explicitly set eval_metric if you'd like to restore the old behavior.\n"
     ]
    },
    {
     "name": "stderr",
     "output_type": "stream",
     "text": [
      "C:\\ProgramData\\Anaconda3\\lib\\site-packages\\xgboost\\sklearn.py:1146: UserWarning: The use of label encoder in XGBClassifier is deprecated and will be removed in a future release. To remove this warning, do the following: 1) Pass option use_label_encoder=False when constructing XGBClassifier object; and 2) Encode your labels (y) as integers starting with 0, i.e. 0, 1, 2, ..., [num_class - 1].\n",
      "  warnings.warn(label_encoder_deprecation_msg, UserWarning)\n"
     ]
    },
    {
     "data": {
      "text/plain": [
       "XGBClassifier(base_score=0.5, booster='gbtree', colsample_bylevel=1,\n",
       "              colsample_bynode=1, colsample_bytree=1, gamma=0, gpu_id=-1,\n",
       "              importance_type='gain', interaction_constraints='',\n",
       "              learning_rate=0.300000012, max_delta_step=0, max_depth=3,\n",
       "              min_child_weight=1, missing=nan, monotone_constraints='()',\n",
       "              n_estimators=10, n_jobs=8, num_parallel_tree=1,\n",
       "              objective='multi:softprob', random_state=21, reg_alpha=0,\n",
       "              reg_lambda=1, scale_pos_weight=None, subsample=1,\n",
       "              tree_method='exact', validate_parameters=1, verbosity=None)"
      ]
     },
     "execution_count": 17,
     "metadata": {},
     "output_type": "execute_result"
    }
   ],
   "source": [
    "model_xgb = xgb.XGBClassifier(n_estimators = 10,\n",
    "                                max_depth = 3,random_state = 21)\n",
    "model_xgb.fit(X_train, y_train)\n"
   ]
  },
  {
   "cell_type": "markdown",
   "metadata": {},
   "source": [
    "## Prediction"
   ]
  },
  {
   "cell_type": "code",
   "execution_count": 18,
   "metadata": {},
   "outputs": [],
   "source": [
    "from sklearn.metrics import accuracy_score\n",
    "\n",
    "preds_knn_train = model_knn.predict(X_train)\n",
    "preds_rf_train = model_rf.predict(X_train)\n",
    "preds_xgb_train = model_xgb.predict(X_train)\n",
    "\n",
    "preds_knn_test = model_knn.predict(X_test)\n",
    "preds_rf_test = model_rf.predict(X_test)\n",
    "preds_xgb_test = model_xgb.predict(X_test)"
   ]
  },
  {
   "cell_type": "code",
   "execution_count": 19,
   "metadata": {},
   "outputs": [
    {
     "name": "stdout",
     "output_type": "stream",
     "text": [
      "KNN(3) model: training accuracy=91.73%, test accuracy=91.20%\n",
      "Random Forest model: training accuracy=87.47%, test accuracy=82.40%\n",
      "XGBoost model: training accuracy=97.60%, test accuracy=96.80%\n"
     ]
    }
   ],
   "source": [
    "print(\"KNN(3) model: training accuracy={:.2%}, test accuracy={:.2%}\".format(\n",
    "          accuracy_score(preds_knn_train, y_train),\n",
    "          accuracy_score(preds_knn_test, y_test)))\n",
    "print(\"Random Forest model: training accuracy={:.2%}, test accuracy={:.2%}\".format(\n",
    "          accuracy_score(preds_rf_train, y_train),\n",
    "          accuracy_score(preds_rf_test, y_test)))\n",
    "print(\"XGBoost model: training accuracy={:.2%}, test accuracy={:.2%}\".format(\n",
    "          accuracy_score(preds_xgb_train, y_train),\n",
    "          accuracy_score(preds_xgb_test, y_test)))"
   ]
  },
  {
   "cell_type": "code",
   "execution_count": null,
   "metadata": {},
   "outputs": [],
   "source": []
  }
 ],
 "metadata": {
  "kernelspec": {
   "display_name": "Python 3",
   "language": "python",
   "name": "python3"
  },
  "language_info": {
   "codemirror_mode": {
    "name": "ipython",
    "version": 3
   },
   "file_extension": ".py",
   "mimetype": "text/x-python",
   "name": "python",
   "nbconvert_exporter": "python",
   "pygments_lexer": "ipython3",
   "version": "3.7.10"
  }
 },
 "nbformat": 4,
 "nbformat_minor": 4
}
