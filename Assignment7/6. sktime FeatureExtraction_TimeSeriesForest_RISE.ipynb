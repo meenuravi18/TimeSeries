{
 "cells": [
  {
   "cell_type": "markdown",
   "metadata": {},
   "source": [
    "# Univariate time series classification with sktime\n",
    "\n",
    "In this notebook, we will use sktime for univariate time series classification. Here, we have a single time series variable and an associated label for multiple instances. The goal is to find a classifier that can learn the relationship between time series and label and accurately predict the label of new series.\n",
    "\n",
    "When you have multiple time series variables and want to learn the relationship between them and a label, you can take a look at our [multivariate time series classification notebook](https://github.com/alan-turing-institute/sktime/blob/main/examples/03_classification_multivariate.ipynb).\n",
    "\n",
    "Source: https://www.sktime.org/en/latest/examples/02_classification_univariate.html"
   ]
  },
  {
   "cell_type": "markdown",
   "metadata": {},
   "source": [
    "### You may need to uncomment and run below"
   ]
  },
  {
   "cell_type": "code",
   "execution_count": 28,
   "metadata": {
    "ExecuteTime": {
     "end_time": "2021-05-10T00:21:08.623115Z",
     "start_time": "2021-05-10T00:21:08.619127Z"
    }
   },
   "outputs": [],
   "source": [
    "# !pip install hcrystalball\n",
    "# !pip install catch22\n",
    "# !pip install --upgrade tsfresh\n",
    "# !pip install tbats"
   ]
  },
  {
   "cell_type": "markdown",
   "metadata": {},
   "source": [
    "## Preliminaries"
   ]
  },
  {
   "cell_type": "code",
   "execution_count": 29,
   "metadata": {
    "ExecuteTime": {
     "end_time": "2021-05-10T00:21:10.976633Z",
     "start_time": "2021-05-10T00:21:08.795653Z"
    },
    "execution": {
     "iopub.execute_input": "2021-04-09T13:56:13.617146Z",
     "iopub.status.busy": "2021-04-09T13:56:13.616492Z",
     "iopub.status.idle": "2021-04-09T13:56:14.805367Z",
     "shell.execute_reply": "2021-04-09T13:56:14.805886Z"
    }
   },
   "outputs": [],
   "source": [
    "import matplotlib.pyplot as plt\n",
    "import numpy as np\n",
    "from sklearn.metrics import accuracy_score\n",
    "from sklearn.model_selection import train_test_split\n",
    "from sklearn.pipeline import Pipeline\n",
    "from sklearn.tree import DecisionTreeClassifier\n",
    "\n",
    "from sktime.classification.compose import TimeSeriesForestClassifier\n",
    "from sktime.datasets import load_arrow_head\n",
    "from sktime.utils.slope_and_trend import _slope"
   ]
  },
  {
   "cell_type": "markdown",
   "metadata": {},
   "source": [
    "## Load data\n",
    "\n",
    "In this notebook, we use the [arrow head problem](https://timeseriesclassification.com/description.php?Dataset=ArrowHead).\n",
    "\n",
    "The arrowhead dataset consists of outlines of the images of arrow heads. The classification of projectile points is an important topic in anthropology. The classes are based on shape distinctions such as the presence and location of a notch in the arrow.\n",
    "\n",
    "<img src=\"./img/arrow-heads.png\" width=\"200\" alt=\"arrow heads\">\n",
    "\n",
    "The shapes of the projectile points are converted into a sequence using the **angle-based method** as described in this [blog post](https://izbicki.me/blog/converting-images-into-time-series-for-data-mining.html) about converting images into time series for data mining.\n",
    "\n",
    "<img src=\"./img/from-shapes-to-time-series.png\" width=\"300\" alt=\"from shapes to time series\">"
   ]
  },
  {
   "cell_type": "markdown",
   "metadata": {},
   "source": [
    "### Data representation\n",
    "Throughout sktime, the expected data format is a `pd.DataFrame`, but in a slightly unusual format. A **single column** can contain not only primitives (floats, integers or strings), but also entire time series in form of a `pd.Series` or `np.array`.\n",
    "\n",
    "For more details on our choice of data container, see this [wiki entry](https://github.com/alan-turing-institute/sktime/wiki/Time-series-data-container)."
   ]
  },
  {
   "cell_type": "code",
   "execution_count": 30,
   "metadata": {
    "ExecuteTime": {
     "end_time": "2021-05-10T00:21:11.071381Z",
     "start_time": "2021-05-10T00:21:10.978627Z"
    },
    "execution": {
     "iopub.execute_input": "2021-04-09T13:56:14.809489Z",
     "iopub.status.busy": "2021-04-09T13:56:14.809007Z",
     "iopub.status.idle": "2021-04-09T13:56:14.856398Z",
     "shell.execute_reply": "2021-04-09T13:56:14.856882Z"
    }
   },
   "outputs": [
    {
     "name": "stdout",
     "output_type": "stream",
     "text": [
      "(158, 1) (158,) (53, 1) (53,)\n"
     ]
    }
   ],
   "source": [
    "# function to load the dataset\n",
    "X, y = load_arrow_head(return_X_y=True)\n",
    "# sklearns randomized TTSplit\n",
    "X_train, X_test, y_train, y_test = train_test_split(X, y)\n",
    "print(X_train.shape, y_train.shape, X_test.shape, y_test.shape)"
   ]
  },
  {
   "cell_type": "markdown",
   "metadata": {},
   "source": [
    "Again we are using non temporal train test split"
   ]
  },
  {
   "cell_type": "code",
   "execution_count": 31,
   "metadata": {
    "ExecuteTime": {
     "end_time": "2021-05-10T00:21:11.102297Z",
     "start_time": "2021-05-10T00:21:11.074371Z"
    },
    "execution": {
     "iopub.execute_input": "2021-04-09T13:56:14.861298Z",
     "iopub.status.busy": "2021-04-09T13:56:14.860843Z",
     "iopub.status.idle": "2021-04-09T13:56:14.873560Z",
     "shell.execute_reply": "2021-04-09T13:56:14.874091Z"
    }
   },
   "outputs": [
    {
     "data": {
      "text/html": [
       "<div>\n",
       "<style scoped>\n",
       "    .dataframe tbody tr th:only-of-type {\n",
       "        vertical-align: middle;\n",
       "    }\n",
       "\n",
       "    .dataframe tbody tr th {\n",
       "        vertical-align: top;\n",
       "    }\n",
       "\n",
       "    .dataframe thead th {\n",
       "        text-align: right;\n",
       "    }\n",
       "</style>\n",
       "<table border=\"1\" class=\"dataframe\">\n",
       "  <thead>\n",
       "    <tr style=\"text-align: right;\">\n",
       "      <th></th>\n",
       "      <th>dim_0</th>\n",
       "    </tr>\n",
       "  </thead>\n",
       "  <tbody>\n",
       "    <tr>\n",
       "      <th>156</th>\n",
       "      <td>0     -1.9096\n",
       "1     -1.9089\n",
       "2     -1.8936\n",
       "3   ...</td>\n",
       "    </tr>\n",
       "    <tr>\n",
       "      <th>60</th>\n",
       "      <td>0     -1.9674\n",
       "1     -1.9672\n",
       "2     -1.9512\n",
       "3   ...</td>\n",
       "    </tr>\n",
       "    <tr>\n",
       "      <th>101</th>\n",
       "      <td>0     -1.7646\n",
       "1     -1.7415\n",
       "2     -1.7190\n",
       "3   ...</td>\n",
       "    </tr>\n",
       "    <tr>\n",
       "      <th>23</th>\n",
       "      <td>0     -2.1597\n",
       "1     -2.1756\n",
       "2     -2.1656\n",
       "3   ...</td>\n",
       "    </tr>\n",
       "    <tr>\n",
       "      <th>95</th>\n",
       "      <td>0     -1.8284\n",
       "1     -1.8393\n",
       "2     -1.8025\n",
       "3   ...</td>\n",
       "    </tr>\n",
       "  </tbody>\n",
       "</table>\n",
       "</div>"
      ],
      "text/plain": [
       "                                                 dim_0\n",
       "156  0     -1.9096\n",
       "1     -1.9089\n",
       "2     -1.8936\n",
       "3   ...\n",
       "60   0     -1.9674\n",
       "1     -1.9672\n",
       "2     -1.9512\n",
       "3   ...\n",
       "101  0     -1.7646\n",
       "1     -1.7415\n",
       "2     -1.7190\n",
       "3   ...\n",
       "23   0     -2.1597\n",
       "1     -2.1756\n",
       "2     -2.1656\n",
       "3   ...\n",
       "95   0     -1.8284\n",
       "1     -1.8393\n",
       "2     -1.8025\n",
       "3   ..."
      ]
     },
     "execution_count": 31,
     "metadata": {},
     "output_type": "execute_result"
    }
   ],
   "source": [
    "# univariate time series input data\n",
    "X_train.head()"
   ]
  },
  {
   "cell_type": "code",
   "execution_count": 32,
   "metadata": {
    "ExecuteTime": {
     "end_time": "2021-05-10T00:21:11.112280Z",
     "start_time": "2021-05-10T00:21:11.105289Z"
    },
    "execution": {
     "iopub.execute_input": "2021-04-09T13:56:14.877572Z",
     "iopub.status.busy": "2021-04-09T13:56:14.877046Z",
     "iopub.status.idle": "2021-04-09T13:56:14.878941Z",
     "shell.execute_reply": "2021-04-09T13:56:14.879409Z"
    }
   },
   "outputs": [
    {
     "name": "stdout",
     "output_type": "stream",
     "text": [
      "['0' '1' '2'] [57 50 51]\n"
     ]
    }
   ],
   "source": [
    "# examine y_train counts\n",
    "labels, counts = np.unique(y_train, return_counts=True)\n",
    "print(labels, counts)"
   ]
  },
  {
   "cell_type": "code",
   "execution_count": 33,
   "metadata": {
    "ExecuteTime": {
     "end_time": "2021-05-10T00:21:11.439574Z",
     "start_time": "2021-05-10T00:21:11.116260Z"
    },
    "execution": {
     "iopub.execute_input": "2021-04-09T13:56:14.896487Z",
     "iopub.status.busy": "2021-04-09T13:56:14.896001Z",
     "iopub.status.idle": "2021-04-09T13:56:15.056287Z",
     "shell.execute_reply": "2021-04-09T13:56:15.055924Z"
    }
   },
   "outputs": [
    {
     "data": {
      "image/png": "[encoded data removed]",
      "text/plain": [
       "<Figure size 1152x288 with 1 Axes>"
      ]
     },
     "metadata": {
      "needs_background": "light"
     },
     "output_type": "display_data"
    }
   ],
   "source": [
    "# plot one observation for each label class as an example\n",
    "fig, ax = plt.subplots(1, figsize=plt.figaspect(0.25))\n",
    "for label in labels:\n",
    "    X_train.loc[y_train == label, \"dim_0\"].iloc[0].plot(ax=ax, label=f\"class {label}\")\n",
    "plt.legend()\n",
    "ax.set(title=\"Example time series\", xlabel=\"Time\");"
   ]
  },
  {
   "cell_type": "markdown",
   "metadata": {},
   "source": [
    "## Why not just use scikit-learn?\n",
    "\n",
    "We can still use scikit-learn, but using scikit-learn comes with some implicit modelling choices.\n",
    "\n",
    "### Reduction: from time-series classification to tabular classification\n",
    "\n",
    "To use scikit-learn, we have to convert the data into the required tabular format. There are different ways we can do that:\n",
    "\n",
    "#### Treating time points as separate features (tabularisation)\n",
    "Alternatively, we could bin and aggregate observations in time bins of different length."
   ]
  },
  {
   "cell_type": "code",
   "execution_count": 34,
   "metadata": {
    "ExecuteTime": {
     "end_time": "2021-05-10T00:21:11.482962Z",
     "start_time": "2021-05-10T00:21:11.441532Z"
    },
    "execution": {
     "iopub.execute_input": "2021-04-09T13:56:15.063840Z",
     "iopub.status.busy": "2021-04-09T13:56:15.063361Z",
     "iopub.status.idle": "2021-04-09T13:56:15.083428Z",
     "shell.execute_reply": "2021-04-09T13:56:15.083898Z"
    }
   },
   "outputs": [
    {
     "data": {
      "text/html": [
       "<div>\n",
       "<style scoped>\n",
       "    .dataframe tbody tr th:only-of-type {\n",
       "        vertical-align: middle;\n",
       "    }\n",
       "\n",
       "    .dataframe tbody tr th {\n",
       "        vertical-align: top;\n",
       "    }\n",
       "\n",
       "    .dataframe thead th {\n",
       "        text-align: right;\n",
       "    }\n",
       "</style>\n",
       "<table border=\"1\" class=\"dataframe\">\n",
       "  <thead>\n",
       "    <tr style=\"text-align: right;\">\n",
       "      <th></th>\n",
       "      <th>dim_0__0</th>\n",
       "      <th>dim_0__1</th>\n",
       "      <th>dim_0__2</th>\n",
       "      <th>dim_0__3</th>\n",
       "      <th>dim_0__4</th>\n",
       "      <th>dim_0__5</th>\n",
       "      <th>dim_0__6</th>\n",
       "      <th>dim_0__7</th>\n",
       "      <th>dim_0__8</th>\n",
       "      <th>dim_0__9</th>\n",
       "      <th>...</th>\n",
       "      <th>dim_0__241</th>\n",
       "      <th>dim_0__242</th>\n",
       "      <th>dim_0__243</th>\n",
       "      <th>dim_0__244</th>\n",
       "      <th>dim_0__245</th>\n",
       "      <th>dim_0__246</th>\n",
       "      <th>dim_0__247</th>\n",
       "      <th>dim_0__248</th>\n",
       "      <th>dim_0__249</th>\n",
       "      <th>dim_0__250</th>\n",
       "    </tr>\n",
       "  </thead>\n",
       "  <tbody>\n",
       "    <tr>\n",
       "      <th>156</th>\n",
       "      <td>-1.9096</td>\n",
       "      <td>-1.9089</td>\n",
       "      <td>-1.8936</td>\n",
       "      <td>-1.8819</td>\n",
       "      <td>-1.8496</td>\n",
       "      <td>-1.8146</td>\n",
       "      <td>-1.7775</td>\n",
       "      <td>-1.7361</td>\n",
       "      <td>-1.6697</td>\n",
       "      <td>-1.5965</td>\n",
       "      <td>...</td>\n",
       "      <td>-1.5373</td>\n",
       "      <td>-1.6144</td>\n",
       "      <td>-1.6508</td>\n",
       "      <td>-1.6996</td>\n",
       "      <td>-1.7402</td>\n",
       "      <td>-1.7951</td>\n",
       "      <td>-1.8455</td>\n",
       "      <td>-1.8453</td>\n",
       "      <td>-1.8787</td>\n",
       "      <td>-1.9091</td>\n",
       "    </tr>\n",
       "    <tr>\n",
       "      <th>60</th>\n",
       "      <td>-1.9674</td>\n",
       "      <td>-1.9672</td>\n",
       "      <td>-1.9512</td>\n",
       "      <td>-1.9138</td>\n",
       "      <td>-1.8754</td>\n",
       "      <td>-1.8163</td>\n",
       "      <td>-1.7921</td>\n",
       "      <td>-1.7639</td>\n",
       "      <td>-1.7257</td>\n",
       "      <td>-1.6843</td>\n",
       "      <td>...</td>\n",
       "      <td>-1.6493</td>\n",
       "      <td>-1.6650</td>\n",
       "      <td>-1.7102</td>\n",
       "      <td>-1.7297</td>\n",
       "      <td>-1.7641</td>\n",
       "      <td>-1.8069</td>\n",
       "      <td>-1.8527</td>\n",
       "      <td>-1.9121</td>\n",
       "      <td>-1.9486</td>\n",
       "      <td>-1.9507</td>\n",
       "    </tr>\n",
       "    <tr>\n",
       "      <th>101</th>\n",
       "      <td>-1.7646</td>\n",
       "      <td>-1.7415</td>\n",
       "      <td>-1.7190</td>\n",
       "      <td>-1.7129</td>\n",
       "      <td>-1.7023</td>\n",
       "      <td>-1.6918</td>\n",
       "      <td>-1.6858</td>\n",
       "      <td>-1.6503</td>\n",
       "      <td>-1.5869</td>\n",
       "      <td>-1.5185</td>\n",
       "      <td>...</td>\n",
       "      <td>-1.4938</td>\n",
       "      <td>-1.5106</td>\n",
       "      <td>-1.5516</td>\n",
       "      <td>-1.5954</td>\n",
       "      <td>-1.6723</td>\n",
       "      <td>-1.6993</td>\n",
       "      <td>-1.7086</td>\n",
       "      <td>-1.7350</td>\n",
       "      <td>-1.7603</td>\n",
       "      <td>-1.7617</td>\n",
       "    </tr>\n",
       "    <tr>\n",
       "      <th>23</th>\n",
       "      <td>-2.1597</td>\n",
       "      <td>-2.1756</td>\n",
       "      <td>-2.1656</td>\n",
       "      <td>-2.1010</td>\n",
       "      <td>-2.0227</td>\n",
       "      <td>-2.0029</td>\n",
       "      <td>-1.9155</td>\n",
       "      <td>-1.8727</td>\n",
       "      <td>-1.8772</td>\n",
       "      <td>-1.8200</td>\n",
       "      <td>...</td>\n",
       "      <td>-1.4652</td>\n",
       "      <td>-1.5956</td>\n",
       "      <td>-1.6959</td>\n",
       "      <td>-1.7689</td>\n",
       "      <td>-1.8850</td>\n",
       "      <td>-1.9688</td>\n",
       "      <td>-2.0088</td>\n",
       "      <td>-2.0832</td>\n",
       "      <td>-2.1211</td>\n",
       "      <td>-2.0965</td>\n",
       "    </tr>\n",
       "    <tr>\n",
       "      <th>95</th>\n",
       "      <td>-1.8284</td>\n",
       "      <td>-1.8393</td>\n",
       "      <td>-1.8025</td>\n",
       "      <td>-1.8020</td>\n",
       "      <td>-1.8287</td>\n",
       "      <td>-1.8259</td>\n",
       "      <td>-1.7783</td>\n",
       "      <td>-1.7323</td>\n",
       "      <td>-1.6846</td>\n",
       "      <td>-1.6698</td>\n",
       "      <td>...</td>\n",
       "      <td>-1.4939</td>\n",
       "      <td>-1.5367</td>\n",
       "      <td>-1.6354</td>\n",
       "      <td>-1.6602</td>\n",
       "      <td>-1.7071</td>\n",
       "      <td>-1.7607</td>\n",
       "      <td>-1.7717</td>\n",
       "      <td>-1.8214</td>\n",
       "      <td>-1.8265</td>\n",
       "      <td>-1.8344</td>\n",
       "    </tr>\n",
       "  </tbody>\n",
       "</table>\n",
       "<p>5 rows × 251 columns</p>\n",
       "</div>"
      ],
      "text/plain": [
       "     dim_0__0  dim_0__1  dim_0__2  dim_0__3  dim_0__4  dim_0__5  dim_0__6  \\\n",
       "156   -1.9096   -1.9089   -1.8936   -1.8819   -1.8496   -1.8146   -1.7775   \n",
       "60    -1.9674   -1.9672   -1.9512   -1.9138   -1.8754   -1.8163   -1.7921   \n",
       "101   -1.7646   -1.7415   -1.7190   -1.7129   -1.7023   -1.6918   -1.6858   \n",
       "23    -2.1597   -2.1756   -2.1656   -2.1010   -2.0227   -2.0029   -1.9155   \n",
       "95    -1.8284   -1.8393   -1.8025   -1.8020   -1.8287   -1.8259   -1.7783   \n",
       "\n",
       "     dim_0__7  dim_0__8  dim_0__9  ...  dim_0__241  dim_0__242  dim_0__243  \\\n",
       "156   -1.7361   -1.6697   -1.5965  ...     -1.5373     -1.6144     -1.6508   \n",
       "60    -1.7639   -1.7257   -1.6843  ...     -1.6493     -1.6650     -1.7102   \n",
       "101   -1.6503   -1.5869   -1.5185  ...     -1.4938     -1.5106     -1.5516   \n",
       "23    -1.8727   -1.8772   -1.8200  ...     -1.4652     -1.5956     -1.6959   \n",
       "95    -1.7323   -1.6846   -1.6698  ...     -1.4939     -1.5367     -1.6354   \n",
       "\n",
       "     dim_0__244  dim_0__245  dim_0__246  dim_0__247  dim_0__248  dim_0__249  \\\n",
       "156     -1.6996     -1.7402     -1.7951     -1.8455     -1.8453     -1.8787   \n",
       "60      -1.7297     -1.7641     -1.8069     -1.8527     -1.9121     -1.9486   \n",
       "101     -1.5954     -1.6723     -1.6993     -1.7086     -1.7350     -1.7603   \n",
       "23      -1.7689     -1.8850     -1.9688     -2.0088     -2.0832     -2.1211   \n",
       "95      -1.6602     -1.7071     -1.7607     -1.7717     -1.8214     -1.8265   \n",
       "\n",
       "     dim_0__250  \n",
       "156     -1.9091  \n",
       "60      -1.9507  \n",
       "101     -1.7617  \n",
       "23      -2.0965  \n",
       "95      -1.8344  \n",
       "\n",
       "[5 rows x 251 columns]"
      ]
     },
     "execution_count": 34,
     "metadata": {},
     "output_type": "execute_result"
    }
   ],
   "source": [
    "from sklearn.ensemble import RandomForestClassifier\n",
    "\n",
    "from sktime.utils.data_processing import from_nested_to_2d_array\n",
    "\n",
    "# use sktime processing  function\n",
    "X_train_tab = from_nested_to_2d_array(X_train)\n",
    "X_test_tab = from_nested_to_2d_array(X_test)\n",
    "\n",
    "X_train_tab.head()"
   ]
  },
  {
   "cell_type": "markdown",
   "metadata": {},
   "source": [
    "#### Get a baseline model\n",
    "DummyClassifier is a classifier that makes predictions using simple rules.\n",
    "\n",
    "This classifier is useful as a simple baseline to compare with other (real) classifiers. Do not use it for real problems.\n",
    "\n",
    "https://scikit-learn.org/stable/modules/generated/sklearn.dummy.DummyClassifier.html"
   ]
  },
  {
   "cell_type": "markdown",
   "metadata": {},
   "source": [
    "#### Accuracy using Dummy Classifier with tabularized data"
   ]
  },
  {
   "cell_type": "code",
   "execution_count": 35,
   "metadata": {
    "ExecuteTime": {
     "end_time": "2021-05-10T00:21:11.494453Z",
     "start_time": "2021-05-10T00:21:11.484926Z"
    },
    "execution": {
     "iopub.execute_input": "2021-04-09T13:56:15.088979Z",
     "iopub.status.busy": "2021-04-09T13:56:15.088443Z",
     "iopub.status.idle": "2021-04-09T13:56:15.090637Z",
     "shell.execute_reply": "2021-04-09T13:56:15.091117Z"
    }
   },
   "outputs": [
    {
     "data": {
      "text/plain": [
       "0.4528301886792453"
      ]
     },
     "execution_count": 35,
     "metadata": {},
     "output_type": "execute_result"
    }
   ],
   "source": [
    "from sklearn.dummy import DummyClassifier\n",
    "\n",
    "classifier = DummyClassifier(strategy=\"prior\")\n",
    "classifier.fit(X_train_tab, y_train)\n",
    "classifier.score(X_test_tab, y_test)"
   ]
  },
  {
   "cell_type": "markdown",
   "metadata": {},
   "source": [
    "#### Accuracy using Random Forest with tabularized data"
   ]
  },
  {
   "cell_type": "code",
   "execution_count": 36,
   "metadata": {
    "ExecuteTime": {
     "end_time": "2021-05-10T00:21:11.732815Z",
     "start_time": "2021-05-10T00:21:11.498404Z"
    },
    "execution": {
     "iopub.execute_input": "2021-04-09T13:56:15.097242Z",
     "iopub.status.busy": "2021-04-09T13:56:15.096767Z",
     "iopub.status.idle": "2021-04-09T13:56:15.289564Z",
     "shell.execute_reply": "2021-04-09T13:56:15.290043Z"
    }
   },
   "outputs": [
    {
     "data": {
      "text/plain": [
       "0.8490566037735849"
      ]
     },
     "execution_count": 36,
     "metadata": {},
     "output_type": "execute_result"
    }
   ],
   "source": [
    "# now we can apply any scikit-learn classifier\n",
    "classifier = RandomForestClassifier(n_estimators=100, random_state=21)\n",
    "classifier.fit(X_train_tab, y_train)\n",
    "y_pred = classifier.predict(X_test_tab)\n",
    "accuracy_score(y_test, y_pred)"
   ]
  },
  {
   "cell_type": "code",
   "execution_count": 37,
   "metadata": {
    "ExecuteTime": {
     "end_time": "2021-05-10T00:21:11.740758Z",
     "start_time": "2021-05-10T00:21:11.734772Z"
    },
    "execution": {
     "iopub.execute_input": "2021-04-09T13:56:15.293491Z",
     "iopub.status.busy": "2021-04-09T13:56:15.293034Z",
     "iopub.status.idle": "2021-04-09T13:56:15.456513Z",
     "shell.execute_reply": "2021-04-09T13:56:15.456992Z"
    }
   },
   "outputs": [],
   "source": [
    "from sklearn.pipeline import make_pipeline\n",
    "\n",
    "# with sktime, we can write this as a pipeline\n",
    "from sktime.transformations.panel.reduce import Tabularizer\n",
    "\n",
    "classifier = make_pipeline(Tabularizer(), RandomForestClassifier(random_state=21))\n"
   ]
  },
  {
   "cell_type": "code",
   "execution_count": 38,
   "metadata": {
    "ExecuteTime": {
     "end_time": "2021-05-10T00:21:11.771672Z",
     "start_time": "2021-05-10T00:21:11.743747Z"
    }
   },
   "outputs": [
    {
     "data": {
      "text/html": [
       "<div>\n",
       "<style scoped>\n",
       "    .dataframe tbody tr th:only-of-type {\n",
       "        vertical-align: middle;\n",
       "    }\n",
       "\n",
       "    .dataframe tbody tr th {\n",
       "        vertical-align: top;\n",
       "    }\n",
       "\n",
       "    .dataframe thead th {\n",
       "        text-align: right;\n",
       "    }\n",
       "</style>\n",
       "<table border=\"1\" class=\"dataframe\">\n",
       "  <thead>\n",
       "    <tr style=\"text-align: right;\">\n",
       "      <th></th>\n",
       "      <th>dim_0</th>\n",
       "    </tr>\n",
       "  </thead>\n",
       "  <tbody>\n",
       "    <tr>\n",
       "      <th>156</th>\n",
       "      <td>0     -1.9096\n",
       "1     -1.9089\n",
       "2     -1.8936\n",
       "3   ...</td>\n",
       "    </tr>\n",
       "    <tr>\n",
       "      <th>60</th>\n",
       "      <td>0     -1.9674\n",
       "1     -1.9672\n",
       "2     -1.9512\n",
       "3   ...</td>\n",
       "    </tr>\n",
       "    <tr>\n",
       "      <th>101</th>\n",
       "      <td>0     -1.7646\n",
       "1     -1.7415\n",
       "2     -1.7190\n",
       "3   ...</td>\n",
       "    </tr>\n",
       "    <tr>\n",
       "      <th>23</th>\n",
       "      <td>0     -2.1597\n",
       "1     -2.1756\n",
       "2     -2.1656\n",
       "3   ...</td>\n",
       "    </tr>\n",
       "    <tr>\n",
       "      <th>95</th>\n",
       "      <td>0     -1.8284\n",
       "1     -1.8393\n",
       "2     -1.8025\n",
       "3   ...</td>\n",
       "    </tr>\n",
       "  </tbody>\n",
       "</table>\n",
       "</div>"
      ],
      "text/plain": [
       "                                                 dim_0\n",
       "156  0     -1.9096\n",
       "1     -1.9089\n",
       "2     -1.8936\n",
       "3   ...\n",
       "60   0     -1.9674\n",
       "1     -1.9672\n",
       "2     -1.9512\n",
       "3   ...\n",
       "101  0     -1.7646\n",
       "1     -1.7415\n",
       "2     -1.7190\n",
       "3   ...\n",
       "23   0     -2.1597\n",
       "1     -2.1756\n",
       "2     -2.1656\n",
       "3   ...\n",
       "95   0     -1.8284\n",
       "1     -1.8393\n",
       "2     -1.8025\n",
       "3   ..."
      ]
     },
     "execution_count": 38,
     "metadata": {},
     "output_type": "execute_result"
    }
   ],
   "source": [
    "# We go back to using X train and y train\n",
    "X_train.head()"
   ]
  },
  {
   "cell_type": "markdown",
   "metadata": {},
   "source": [
    "#### Accuracy using a pipeline that incorporates Random Forest and tabularization"
   ]
  },
  {
   "cell_type": "code",
   "execution_count": 39,
   "metadata": {
    "ExecuteTime": {
     "end_time": "2021-05-10T00:21:12.045528Z",
     "start_time": "2021-05-10T00:21:11.774667Z"
    }
   },
   "outputs": [
    {
     "data": {
      "text/plain": [
       "0.8490566037735849"
      ]
     },
     "execution_count": 39,
     "metadata": {},
     "output_type": "execute_result"
    }
   ],
   "source": [
    "classifier.fit(X_train, y_train)\n",
    "classifier.score(X_test, y_test)"
   ]
  },
  {
   "cell_type": "markdown",
   "metadata": {},
   "source": [
    "What's the implicit modelling choice here?\n",
    "\n",
    "> We treat each observation as a separate feature and thus ignore they are ordered in time. A tabular algorithm **cannot** make use of the fact that features are ordered in time, i.e. if we changed the order of the features, the fitted model and predictions wouldn't change. Sometimes this works well, sometimes it doesn't.\n",
    "\n",
    "### Feature extraction\n",
    "\n",
    "Another modelling choice: we could extract features from the time series and then use the features to fit our tabular classifier. Here we use [tsfresh](https://tsfresh.readthedocs.io) for automatic feature extraction.\n",
    "\n",
    "[List](https://tsfresh.readthedocs.io/en/latest/text/list_of_features.html) of tsfresh features."
   ]
  },
  {
   "cell_type": "code",
   "execution_count": 40,
   "metadata": {
    "ExecuteTime": {
     "end_time": "2021-05-10T00:21:19.318364Z",
     "start_time": "2021-05-10T00:21:12.047522Z"
    },
    "execution": {
     "iopub.execute_input": "2021-04-09T13:56:15.460508Z",
     "iopub.status.busy": "2021-04-09T13:56:15.460053Z",
     "iopub.status.idle": "2021-04-09T13:56:16.221419Z",
     "shell.execute_reply": "2021-04-09T13:56:16.221902Z"
    }
   },
   "outputs": [
    {
     "name": "stderr",
     "output_type": "stream",
     "text": [
      "Feature Extraction: 100%|████████████████████████████████████████████████████████████████| 5/5 [00:04<00:00,  1.22it/s]\n"
     ]
    },
    {
     "data": {
      "text/html": [
       "<div>\n",
       "<style scoped>\n",
       "    .dataframe tbody tr th:only-of-type {\n",
       "        vertical-align: middle;\n",
       "    }\n",
       "\n",
       "    .dataframe tbody tr th {\n",
       "        vertical-align: top;\n",
       "    }\n",
       "\n",
       "    .dataframe thead th {\n",
       "        text-align: right;\n",
       "    }\n",
       "</style>\n",
       "<table border=\"1\" class=\"dataframe\">\n",
       "  <thead>\n",
       "    <tr style=\"text-align: right;\">\n",
       "      <th></th>\n",
       "      <th>dim_0__sum_values</th>\n",
       "      <th>dim_0__median</th>\n",
       "      <th>dim_0__mean</th>\n",
       "      <th>dim_0__length</th>\n",
       "      <th>dim_0__standard_deviation</th>\n",
       "      <th>dim_0__variance</th>\n",
       "      <th>dim_0__maximum</th>\n",
       "      <th>dim_0__minimum</th>\n",
       "    </tr>\n",
       "  </thead>\n",
       "  <tbody>\n",
       "    <tr>\n",
       "      <th>0</th>\n",
       "      <td>-0.000443</td>\n",
       "      <td>0.042103</td>\n",
       "      <td>-1.764940e-06</td>\n",
       "      <td>251.0</td>\n",
       "      <td>0.998006</td>\n",
       "      <td>0.996016</td>\n",
       "      <td>1.3932</td>\n",
       "      <td>-1.9096</td>\n",
       "    </tr>\n",
       "    <tr>\n",
       "      <th>1</th>\n",
       "      <td>0.000308</td>\n",
       "      <td>-0.012606</td>\n",
       "      <td>1.227092e-06</td>\n",
       "      <td>251.0</td>\n",
       "      <td>0.998003</td>\n",
       "      <td>0.996010</td>\n",
       "      <td>1.5382</td>\n",
       "      <td>-1.9674</td>\n",
       "    </tr>\n",
       "    <tr>\n",
       "      <th>2</th>\n",
       "      <td>-0.000141</td>\n",
       "      <td>0.032475</td>\n",
       "      <td>-5.617530e-07</td>\n",
       "      <td>251.0</td>\n",
       "      <td>0.998009</td>\n",
       "      <td>0.996022</td>\n",
       "      <td>1.5372</td>\n",
       "      <td>-1.7646</td>\n",
       "    </tr>\n",
       "    <tr>\n",
       "      <th>3</th>\n",
       "      <td>-0.000061</td>\n",
       "      <td>0.008013</td>\n",
       "      <td>-2.430279e-07</td>\n",
       "      <td>251.0</td>\n",
       "      <td>0.998005</td>\n",
       "      <td>0.996013</td>\n",
       "      <td>2.5540</td>\n",
       "      <td>-2.1756</td>\n",
       "    </tr>\n",
       "    <tr>\n",
       "      <th>4</th>\n",
       "      <td>-0.000167</td>\n",
       "      <td>0.009969</td>\n",
       "      <td>-6.653386e-07</td>\n",
       "      <td>251.0</td>\n",
       "      <td>0.998008</td>\n",
       "      <td>0.996021</td>\n",
       "      <td>1.5899</td>\n",
       "      <td>-1.8393</td>\n",
       "    </tr>\n",
       "  </tbody>\n",
       "</table>\n",
       "</div>"
      ],
      "text/plain": [
       "   dim_0__sum_values  dim_0__median   dim_0__mean  dim_0__length  \\\n",
       "0          -0.000443       0.042103 -1.764940e-06          251.0   \n",
       "1           0.000308      -0.012606  1.227092e-06          251.0   \n",
       "2          -0.000141       0.032475 -5.617530e-07          251.0   \n",
       "3          -0.000061       0.008013 -2.430279e-07          251.0   \n",
       "4          -0.000167       0.009969 -6.653386e-07          251.0   \n",
       "\n",
       "   dim_0__standard_deviation  dim_0__variance  dim_0__maximum  dim_0__minimum  \n",
       "0                   0.998006         0.996016          1.3932         -1.9096  \n",
       "1                   0.998003         0.996010          1.5382         -1.9674  \n",
       "2                   0.998009         0.996022          1.5372         -1.7646  \n",
       "3                   0.998005         0.996013          2.5540         -2.1756  \n",
       "4                   0.998008         0.996021          1.5899         -1.8393  "
      ]
     },
     "execution_count": 40,
     "metadata": {},
     "output_type": "execute_result"
    }
   ],
   "source": [
    "from sktime.transformations.panel.tsfresh import TSFreshFeatureExtractor\n",
    "\n",
    "transformer = TSFreshFeatureExtractor(default_fc_parameters=\"minimal\")\n",
    "extracted_features = transformer.fit_transform(X_train)\n",
    "extracted_features.head()"
   ]
  },
  {
   "cell_type": "markdown",
   "metadata": {},
   "source": [
    "#### Using a pipeline to extract features (TSFresh) and fit random forest (sklearn)"
   ]
  },
  {
   "cell_type": "code",
   "execution_count": 41,
   "metadata": {
    "ExecuteTime": {
     "end_time": "2021-05-10T00:21:50.430129Z",
     "start_time": "2021-05-10T00:21:19.320358Z"
    },
    "execution": {
     "iopub.execute_input": "2021-04-09T13:56:16.413529Z",
     "iopub.status.busy": "2021-04-09T13:56:16.410283Z",
     "iopub.status.idle": "2021-04-09T13:56:31.648089Z",
     "shell.execute_reply": "2021-04-09T13:56:31.648594Z"
    }
   },
   "outputs": [
    {
     "name": "stderr",
     "output_type": "stream",
     "text": [
      "Feature Extraction: 100%|████████████████████████████████████████████████████████████████| 5/5 [00:16<00:00,  3.21s/it]\n",
      "Feature Extraction: 100%|████████████████████████████████████████████████████████████████| 5/5 [00:08<00:00,  1.73s/it]\n"
     ]
    },
    {
     "data": {
      "text/plain": [
       "0.8113207547169812"
      ]
     },
     "execution_count": 41,
     "metadata": {},
     "output_type": "execute_result"
    }
   ],
   "source": [
    "classifier = make_pipeline(\n",
    "    TSFreshFeatureExtractor(show_warnings=False), RandomForestClassifier()\n",
    ")\n",
    "classifier.fit(X_train, y_train)\n",
    "classifier.score(X_test, y_test)"
   ]
  },
  {
   "cell_type": "markdown",
   "metadata": {},
   "source": [
    "What's the implicit modelling choice here?\n",
    "\n",
    "> Instead of working in the domain of the time series, we extract features from time series and choose to work in the domain of the features. Again, **sometimes this works well, sometimes it doesn't.** The main difficulty is finding discriminative features for the classification problem.\n",
    "\n",
    "\n",
    "## Time series classification with sktime\n",
    "sktime has a number of specialised time series algorithms.\n",
    "\n",
    "### Time series forest\n",
    "Time series forest is a modification of the random forest algorithm to the time series setting:\n",
    "\n",
    "1. Split the series into multiple random intervals, with random start positions and random lengths\n",
    "2. Extract features (mean, standard deviation and slope) from each interval, into a single feature vector\n",
    "3. Train a decision tree on the extracted features,\n",
    "4. Ensemble steps 1 - 3 for multiple trees\n",
    "\n",
    "New series are classified according to a majority vote of all the trees in the forest.\n",
    "\n",
    "\n",
    "For more details, take a look at the [paper](https://www.sciencedirect.com/science/article/pii/S0020025513001473).\n",
    "\n",
    "In sktime, we can write:"
   ]
  },
  {
   "cell_type": "code",
   "execution_count": 42,
   "metadata": {
    "ExecuteTime": {
     "end_time": "2021-05-10T00:21:50.437086Z",
     "start_time": "2021-05-10T00:21:50.432083Z"
    },
    "execution": {
     "iopub.execute_input": "2021-04-09T13:56:31.652983Z",
     "iopub.status.busy": "2021-04-09T13:56:31.652477Z",
     "iopub.status.idle": "2021-04-09T13:56:31.653976Z",
     "shell.execute_reply": "2021-04-09T13:56:31.654498Z"
    }
   },
   "outputs": [],
   "source": [
    "from sktime.transformations.panel.summarize import RandomIntervalFeatureExtractor\n",
    "\n",
    "steps = [\n",
    "    (\n",
    "        \"extract\",\n",
    "        RandomIntervalFeatureExtractor(\n",
    "            n_intervals=\"sqrt\", features=[np.mean, np.std, _slope]\n",
    "        ),\n",
    "    ),\n",
    "    (\"clf\", DecisionTreeClassifier()),\n",
    "]\n",
    "time_series_tree = Pipeline(steps)"
   ]
  },
  {
   "cell_type": "markdown",
   "metadata": {},
   "source": [
    "#### Accuracy of single tree using train/test\n",
    "We can directly fit and evaluate the single time series tree (which is simply a pipeline)."
   ]
  },
  {
   "cell_type": "code",
   "execution_count": 43,
   "metadata": {
    "ExecuteTime": {
     "end_time": "2021-05-10T00:21:50.492962Z",
     "start_time": "2021-05-10T00:21:50.440062Z"
    },
    "execution": {
     "iopub.execute_input": "2021-04-09T13:56:31.666361Z",
     "iopub.status.busy": "2021-04-09T13:56:31.665821Z",
     "iopub.status.idle": "2021-04-09T13:56:31.685030Z",
     "shell.execute_reply": "2021-04-09T13:56:31.685652Z"
    }
   },
   "outputs": [
    {
     "data": {
      "text/plain": [
       "0.7169811320754716"
      ]
     },
     "execution_count": 43,
     "metadata": {},
     "output_type": "execute_result"
    }
   ],
   "source": [
    "time_series_tree.fit(X_train, y_train)\n",
    "time_series_tree.score(X_test, y_test)"
   ]
  },
  {
   "cell_type": "markdown",
   "metadata": {},
   "source": [
    "For time series forest, we can simply use the single tree as the base estimator in the forest ensemble."
   ]
  },
  {
   "cell_type": "code",
   "execution_count": 44,
   "metadata": {
    "ExecuteTime": {
     "end_time": "2021-05-10T00:21:50.500899Z",
     "start_time": "2021-05-10T00:21:50.495914Z"
    }
   },
   "outputs": [],
   "source": [
    "from sktime.classification import compose"
   ]
  },
  {
   "cell_type": "code",
   "execution_count": 45,
   "metadata": {
    "ExecuteTime": {
     "end_time": "2021-05-10T00:21:50.513867Z",
     "start_time": "2021-05-10T00:21:50.502894Z"
    },
    "execution": {
     "iopub.execute_input": "2021-04-09T13:56:31.689009Z",
     "iopub.status.busy": "2021-04-09T13:56:31.688545Z",
     "iopub.status.idle": "2021-04-09T13:56:31.690015Z",
     "shell.execute_reply": "2021-04-09T13:56:31.690513Z"
    }
   },
   "outputs": [],
   "source": [
    "tsf = compose.TimeSeriesForestClassifier(\n",
    "    estimator=time_series_tree,\n",
    "    n_estimators=100,\n",
    "    criterion=\"entropy\",\n",
    "    bootstrap=True,\n",
    "    oob_score=True,\n",
    "    random_state=1,\n",
    "    n_jobs=-1,\n",
    ")"
   ]
  },
  {
   "cell_type": "markdown",
   "metadata": {},
   "source": [
    "#### Accuracy of TSF using out-of-bag score:"
   ]
  },
  {
   "cell_type": "code",
   "execution_count": 46,
   "metadata": {
    "ExecuteTime": {
     "end_time": "2021-05-10T00:21:56.854939Z",
     "start_time": "2021-05-10T00:21:50.517863Z"
    },
    "execution": {
     "iopub.execute_input": "2021-04-09T13:56:31.771580Z",
     "iopub.status.busy": "2021-04-09T13:56:31.730701Z",
     "iopub.status.idle": "2021-04-09T13:56:34.920187Z",
     "shell.execute_reply": "2021-04-09T13:56:34.920658Z"
    }
   },
   "outputs": [
    {
     "name": "stdout",
     "output_type": "stream",
     "text": [
      "0.8670886075949367\n"
     ]
    }
   ],
   "source": [
    "tsf.fit(X_train, y_train)\n",
    "\n",
    "if tsf.oob_score:\n",
    "    print(tsf.oob_score_)"
   ]
  },
  {
   "cell_type": "markdown",
   "metadata": {},
   "source": [
    "#### Accuracy of TSF using train/test"
   ]
  },
  {
   "cell_type": "code",
   "execution_count": 47,
   "metadata": {
    "ExecuteTime": {
     "end_time": "2021-05-10T00:22:00.402444Z",
     "start_time": "2021-05-10T00:21:56.856896Z"
    },
    "execution": {
     "iopub.execute_input": "2021-04-09T13:56:35.014096Z",
     "iopub.status.busy": "2021-04-09T13:56:34.969678Z",
     "iopub.status.idle": "2021-04-09T13:56:37.401947Z",
     "shell.execute_reply": "2021-04-09T13:56:37.402493Z"
    }
   },
   "outputs": [
    {
     "data": {
      "text/plain": [
       "0.7924528301886793"
      ]
     },
     "execution_count": 47,
     "metadata": {},
     "output_type": "execute_result"
    }
   ],
   "source": [
    "tsf = compose.TimeSeriesForestClassifier()\n",
    "tsf.fit(X_train, y_train)\n",
    "tsf.score(X_test, y_test)"
   ]
  },
  {
   "cell_type": "markdown",
   "metadata": {},
   "source": [
    "### Feature importance"
   ]
  },
  {
   "cell_type": "markdown",
   "metadata": {},
   "source": [
    "We can also obtain feature importances for the different features and intervals that the algorithms looked at and plot them in a feature importance graph over time."
   ]
  },
  {
   "cell_type": "code",
   "execution_count": 48,
   "metadata": {
    "ExecuteTime": {
     "end_time": "2021-05-10T00:22:00.700684Z",
     "start_time": "2021-05-10T00:22:00.404421Z"
    },
    "execution": {
     "iopub.execute_input": "2021-04-09T13:56:37.406667Z",
     "iopub.status.busy": "2021-04-09T13:56:37.406087Z",
     "iopub.status.idle": "2021-04-09T13:56:37.595233Z",
     "shell.execute_reply": "2021-04-09T13:56:37.595722Z"
    }
   },
   "outputs": [
    {
     "data": {
      "image/png": "[encoded data removed]",
      "text/plain": [
       "<Figure size 1152x288 with 1 Axes>"
      ]
     },
     "metadata": {
      "needs_background": "light"
     },
     "output_type": "display_data"
    }
   ],
   "source": [
    "fi = tsf.feature_importances_\n",
    "fig, ax = plt.subplots(1, figsize=plt.figaspect(0.25))\n",
    "fi.plot(ax=ax)\n",
    "ax.set(xlabel=\"Time\", ylabel=\"Feature importance\");"
   ]
  },
  {
   "cell_type": "markdown",
   "metadata": {},
   "source": [
    "#### More about feature importances\n",
    "\n",
    "The feature importances method is based on the example showcased in [this paper](https://arxiv.org/abs/1302.2277).\n",
    "\n",
    "In addition to the feature importances method [available in scikit-learn](https://scikit-learn.org/stable/auto_examples/ensemble/plot_forest_importances.html), our method collects the feature importances values from each estimator for their respective intervals, calculates the **sum of feature importances values** on each timepoint, and **normalises** the values first by the number of estimators and then by the number of intervals.\n",
    "\n",
    "As a result, the temporal importance curves can be plotted, as shown in the previous example.\n",
    "\n",
    "Please note that this method currently supports only one particular\n",
    "structure of the TSF, where RandomIntervalFeatureExtractor() is used in the pipeline, or simply the default TimeSeriesForestClassifier() setting. For instance, two possible approaches could be:"
   ]
  },
  {
   "cell_type": "code",
   "execution_count": 49,
   "metadata": {
    "ExecuteTime": {
     "end_time": "2021-05-10T00:22:05.841874Z",
     "start_time": "2021-05-10T00:22:00.702607Z"
    },
    "execution": {
     "iopub.execute_input": "2021-04-09T13:56:37.681446Z",
     "iopub.status.busy": "2021-04-09T13:56:37.641251Z",
     "iopub.status.idle": "2021-04-09T13:56:41.216008Z",
     "shell.execute_reply": "2021-04-09T13:56:41.216481Z"
    }
   },
   "outputs": [
    {
     "data": {
      "image/png": "[encoded data removed]",
      "text/plain": [
       "<Figure size 1152x288 with 1 Axes>"
      ]
     },
     "metadata": {
      "needs_background": "light"
     },
     "output_type": "display_data"
    },
    {
     "data": {
      "image/png": "[encoded data removed]",
      "text/plain": [
       "<Figure size 1152x288 with 1 Axes>"
      ]
     },
     "metadata": {
      "needs_background": "light"
     },
     "output_type": "display_data"
    }
   ],
   "source": [
    "# Method 1: Default time-series forest classifier \n",
    "tsf1 = compose.TimeSeriesForestClassifier()\n",
    "tsf1.fit(X_train, y_train)\n",
    "fi1 = tsf1.feature_importances_\n",
    "fig, ax = plt.subplots(1, figsize=plt.figaspect(0.25))\n",
    "fi1.plot(ax=ax)\n",
    "\n",
    "# Method 2: Pipeline\n",
    "features = [np.mean, np.std, _slope]\n",
    "steps = [\n",
    "    (\"transform\", RandomIntervalFeatureExtractor(features=features)),\n",
    "    (\"clf\", DecisionTreeClassifier()),\n",
    "]\n",
    "base_estimator = Pipeline(steps)\n",
    "tsf2 = compose.TimeSeriesForestClassifier(estimator=base_estimator)\n",
    "tsf2.fit(X_train, y_train)\n",
    "fi2 = tsf2.feature_importances_\n",
    "fig, ax = plt.subplots(1, figsize=plt.figaspect(0.25))\n",
    "fi2.plot(ax=ax);"
   ]
  },
  {
   "cell_type": "markdown",
   "metadata": {},
   "source": [
    "### RISE\n",
    "\n",
    "Another popular variant of time series forest is the so-called Random Interval Spectral Ensemble (RISE), which makes use of several series-to-series feature extraction transformers, including:\n",
    "\n",
    "* Fitted auto-regressive coefficients,\n",
    "* Estimated autocorrelation coefficients,\n",
    "* Power spectrum coefficients.\n",
    "\n",
    "This is a frequency basd classifier that differs from Time Series Forest in two ways:\n",
    "\n",
    "* Uses a single time series interval per tree\n",
    "* Uses spectral features extracted from the series, instead of summary statistics\n",
    "\n",
    "#### Spectral Analysis\n",
    "\n",
    "Spectral analysis is a technique that allows us to discover underlying periodicities. In order to perform spectral analysis, we must transform data from time domain to the frequency domain.\n",
    "The covariance of the time seires can be represented by a function known as the spectral density. Here we can use the periodogram to estimate the sepectral density"
   ]
  },
  {
   "cell_type": "markdown",
   "metadata": {},
   "source": [
    "#### The RISE algorithm\n",
    "\n",
    "1. Select random interval of a series, for the first tree, use the whole series\n",
    "2. For the same interval on each sereis, apply the series-to-series feature extraction transformers (above)\n",
    "3. Form a new training set by concatenating the extracted features\n",
    "4. Train a decision tree classifier\n",
    "5. Ensembe 1-4\n",
    "\n"
   ]
  },
  {
   "cell_type": "code",
   "execution_count": 55,
   "metadata": {
    "ExecuteTime": {
     "end_time": "2021-05-10T00:22:10.234151Z",
     "start_time": "2021-05-10T00:22:05.843873Z"
    },
    "execution": {
     "iopub.execute_input": "2021-04-09T13:56:41.220303Z",
     "iopub.status.busy": "2021-04-09T13:56:41.219844Z",
     "iopub.status.idle": "2021-04-09T13:56:44.011448Z",
     "shell.execute_reply": "2021-04-09T13:56:44.012193Z"
    }
   },
   "outputs": [
    {
     "data": {
      "text/plain": [
       "0.8113207547169812"
      ]
     },
     "execution_count": 55,
     "metadata": {},
     "output_type": "execute_result"
    }
   ],
   "source": [
    "from sktime.classification.interval_based import RandomIntervalSpectralForest\n",
    "\n",
    "rise = RandomIntervalSpectralForest(n_estimators=10, acf_lag=24)\n",
    "rise.fit(X_train, y_train)\n",
    "rise.score(X_test, y_test)"
   ]
  },
  {
   "cell_type": "code",
   "execution_count": 56,
   "metadata": {
    "ExecuteTime": {
     "end_time": "2021-05-10T00:22:10.242089Z",
     "start_time": "2021-05-10T00:22:10.238098Z"
    }
   },
   "outputs": [],
   "source": [
    "from sklearn.metrics import classification_report, confusion_matrix"
   ]
  },
  {
   "cell_type": "code",
   "execution_count": 57,
   "metadata": {
    "ExecuteTime": {
     "end_time": "2021-05-10T00:22:16.938196Z",
     "start_time": "2021-05-10T00:22:10.245081Z"
    }
   },
   "outputs": [
    {
     "name": "stdout",
     "output_type": "stream",
     "text": [
      "[[57  0  0]\n",
      " [ 0 50  0]\n",
      " [ 0  0 51]]\n",
      "              precision    recall  f1-score   support\n",
      "\n",
      "           0       1.00      1.00      1.00        57\n",
      "           1       1.00      1.00      1.00        50\n",
      "           2       1.00      1.00      1.00        51\n",
      "\n",
      "    accuracy                           1.00       158\n",
      "   macro avg       1.00      1.00      1.00       158\n",
      "weighted avg       1.00      1.00      1.00       158\n",
      "\n"
     ]
    }
   ],
   "source": [
    "print( confusion_matrix(y_train, rise.predict(X_train)) )\n",
    "print( classification_report(y_train, rise.predict(X_train)) )"
   ]
  },
  {
   "cell_type": "code",
   "execution_count": 58,
   "metadata": {
    "ExecuteTime": {
     "end_time": "2021-05-10T00:22:19.193182Z",
     "start_time": "2021-05-10T00:22:16.941202Z"
    }
   },
   "outputs": [
    {
     "name": "stdout",
     "output_type": "stream",
     "text": [
      "[[22  2  0]\n",
      " [ 4 11  0]\n",
      " [ 0  4 10]]\n",
      "              precision    recall  f1-score   support\n",
      "\n",
      "           0       0.85      0.92      0.88        24\n",
      "           1       0.65      0.73      0.69        15\n",
      "           2       1.00      0.71      0.83        14\n",
      "\n",
      "    accuracy                           0.81        53\n",
      "   macro avg       0.83      0.79      0.80        53\n",
      "weighted avg       0.83      0.81      0.81        53\n",
      "\n"
     ]
    }
   ],
   "source": [
    "print( confusion_matrix(y_test, rise.predict(X_test)) )\n",
    "print( classification_report(y_test, rise.predict(X_test)) )"
   ]
  },
  {
   "cell_type": "code",
   "execution_count": 54,
   "metadata": {
    "ExecuteTime": {
     "end_time": "2021-05-10T00:22:20.910548Z",
     "start_time": "2021-05-10T00:22:19.195231Z"
    },
    "execution": {
     "iopub.execute_input": "2021-04-09T13:56:45.070103Z",
     "iopub.status.busy": "2021-04-09T13:56:45.069641Z",
     "iopub.status.idle": "2021-04-09T13:56:45.613262Z",
     "shell.execute_reply": "2021-04-09T13:56:45.613729Z"
    }
   },
   "outputs": [
    {
     "data": {
      "text/plain": [
       "[('BOSSEnsemble', sktime.classification.dictionary_based._boss.BOSSEnsemble),\n",
       " ('ColumnEnsembleClassifier',\n",
       "  sktime.classification.compose._column_ensemble.ColumnEnsembleClassifier),\n",
       " ('ContractableBOSS',\n",
       "  sktime.classification.dictionary_based._cboss.ContractableBOSS),\n",
       " ('ElasticEnsemble',\n",
       "  sktime.classification.distance_based._elastic_ensemble.ElasticEnsemble),\n",
       " ('HIVECOTEV1', sktime.classification.hybrid._hivecote_v1.HIVECOTEV1),\n",
       " ('IndividualBOSS',\n",
       "  sktime.classification.dictionary_based._boss.IndividualBOSS),\n",
       " ('IndividualTDE', sktime.classification.dictionary_based._tde.IndividualTDE),\n",
       " ('KNeighborsTimeSeriesClassifier',\n",
       "  sktime.classification.distance_based._time_series_neighbors.KNeighborsTimeSeriesClassifier),\n",
       " ('MUSE', sktime.classification.dictionary_based._muse.MUSE),\n",
       " ('MrSEQLClassifier',\n",
       "  sktime.classification.shapelet_based.mrseql.mrseql.MrSEQLClassifier),\n",
       " ('ProximityForest',\n",
       "  sktime.classification.distance_based._proximity_forest.ProximityForest),\n",
       " ('ProximityStump',\n",
       "  sktime.classification.distance_based._proximity_forest.ProximityStump),\n",
       " ('ProximityTree',\n",
       "  sktime.classification.distance_based._proximity_forest.ProximityTree),\n",
       " ('ROCKETClassifier',\n",
       "  sktime.classification.shapelet_based._rocket_classifier.ROCKETClassifier),\n",
       " ('RandomIntervalSpectralForest',\n",
       "  sktime.classification.interval_based._rise.RandomIntervalSpectralForest),\n",
       " ('ShapeDTW', sktime.classification.distance_based._shape_dtw.ShapeDTW),\n",
       " ('ShapeletTransformClassifier',\n",
       "  sktime.classification.shapelet_based._stc.ShapeletTransformClassifier),\n",
       " ('SupervisedTimeSeriesForest',\n",
       "  sktime.classification.interval_based._stsf.SupervisedTimeSeriesForest),\n",
       " ('TemporalDictionaryEnsemble',\n",
       "  sktime.classification.dictionary_based._tde.TemporalDictionaryEnsemble),\n",
       " ('TimeSeriesForest',\n",
       "  sktime.classification.interval_based._tsf.TimeSeriesForest),\n",
       " ('TimeSeriesForestClassifier',\n",
       "  sktime.classification.compose._ensemble.TimeSeriesForestClassifier),\n",
       " ('WEASEL', sktime.classification.dictionary_based._weasel.WEASEL)]"
      ]
     },
     "execution_count": 54,
     "metadata": {},
     "output_type": "execute_result"
    }
   ],
   "source": [
    "from sktime.utils import all_estimators\n",
    "\n",
    "all_estimators(estimator_types=\"classifier\")"
   ]
  },
  {
   "cell_type": "code",
   "execution_count": null,
   "metadata": {},
   "outputs": [],
   "source": []
  }
 ],
 "metadata": {
  "kernelspec": {
   "display_name": "Python 3",
   "language": "python",
   "name": "python3"
  },
  "language_info": {
   "codemirror_mode": {
    "name": "ipython",
    "version": 3
   },
   "file_extension": ".py",
   "mimetype": "text/x-python",
   "name": "python",
   "nbconvert_exporter": "python",
   "pygments_lexer": "ipython3",
   "version": "3.8.3"
  },
  "latex_envs": {
   "LaTeX_envs_menu_present": true,
   "autoclose": false,
   "autocomplete": true,
   "bibliofile": "biblio.bib",
   "cite_by": "apalike",
   "current_citInitial": 1,
   "eqLabelWithNumbers": true,
   "eqNumInitial": 1,
   "hotkeys": {
    "equation": "Ctrl-E",
    "itemize": "Ctrl-I"
   },
   "labels_anchors": false,
   "latex_user_defs": false,
   "report_style_numbering": false,
   "user_envs_cfg": false
  }
 },
 "nbformat": 4,
 "nbformat_minor": 4
}
