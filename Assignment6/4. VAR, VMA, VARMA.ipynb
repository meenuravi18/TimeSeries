{
 "cells": [
  {
   "cell_type": "code",
   "execution_count": 11,
   "metadata": {
    "ExecuteTime": {
     "end_time": "2021-05-03T02:15:20.040612Z",
     "start_time": "2021-05-03T02:15:20.013687Z"
    }
   },
   "outputs": [],
   "source": [
    "%matplotlib inline\n",
    "\n",
    "import numpy as np\n",
    "import pandas as pd\n",
    "import statsmodels.api as sm\n",
    "import matplotlib.pyplot as plt\n",
    "from statsmodels.tsa.vector_ar.var_model import VAR\n",
    "from statsmodels.tsa.statespace.varmax import VARMAX\n",
    "from statsmodels.tsa.statespace.varmax import VARMAX\n",
    "from math import sqrt\n",
    "from sklearn.metrics import mean_absolute_error, mean_squared_error\n",
    "from sktime.performance_metrics.forecasting import smape_loss, mase_loss\n",
    "import pmdarima"
   ]
  },
  {
   "cell_type": "markdown",
   "metadata": {},
   "source": [
    "# Applications of VAR modeling on macroeconomic data\n",
    "\n",
    "Vector Autoregressive models are primarily used with econometric data. Therefore we will explore various applications of VAR models on the statsmodels dataset: United States Macroeconomic data\n",
    "source:https://www.statsmodels.org/0.6.1/datasets/generated/macrodata.html"
   ]
  },
  {
   "cell_type": "markdown",
   "metadata": {},
   "source": [
    "### Pull in the dataset"
   ]
  },
  {
   "cell_type": "code",
   "execution_count": 12,
   "metadata": {},
   "outputs": [
    {
     "data": {
      "text/html": [
       "<div>\n",
       "<style scoped>\n",
       "    .dataframe tbody tr th:only-of-type {\n",
       "        vertical-align: middle;\n",
       "    }\n",
       "\n",
       "    .dataframe tbody tr th {\n",
       "        vertical-align: top;\n",
       "    }\n",
       "\n",
       "    .dataframe thead th {\n",
       "        text-align: right;\n",
       "    }\n",
       "</style>\n",
       "<table border=\"1\" class=\"dataframe\">\n",
       "  <thead>\n",
       "    <tr style=\"text-align: right;\">\n",
       "      <th></th>\n",
       "      <th>year</th>\n",
       "      <th>quarter</th>\n",
       "      <th>realgdp</th>\n",
       "      <th>realcons</th>\n",
       "      <th>realinv</th>\n",
       "      <th>realgovt</th>\n",
       "      <th>realdpi</th>\n",
       "      <th>cpi</th>\n",
       "      <th>m1</th>\n",
       "      <th>tbilrate</th>\n",
       "      <th>unemp</th>\n",
       "      <th>pop</th>\n",
       "      <th>infl</th>\n",
       "      <th>realint</th>\n",
       "    </tr>\n",
       "  </thead>\n",
       "  <tbody>\n",
       "    <tr>\n",
       "      <th>1959Q1</th>\n",
       "      <td>1959.0</td>\n",
       "      <td>1.0</td>\n",
       "      <td>2710.349</td>\n",
       "      <td>1707.4</td>\n",
       "      <td>286.898</td>\n",
       "      <td>470.045</td>\n",
       "      <td>1886.9</td>\n",
       "      <td>28.98</td>\n",
       "      <td>139.7</td>\n",
       "      <td>2.82</td>\n",
       "      <td>5.8</td>\n",
       "      <td>177.146</td>\n",
       "      <td>0.00</td>\n",
       "      <td>0.00</td>\n",
       "    </tr>\n",
       "    <tr>\n",
       "      <th>1959Q2</th>\n",
       "      <td>1959.0</td>\n",
       "      <td>2.0</td>\n",
       "      <td>2778.801</td>\n",
       "      <td>1733.7</td>\n",
       "      <td>310.859</td>\n",
       "      <td>481.301</td>\n",
       "      <td>1919.7</td>\n",
       "      <td>29.15</td>\n",
       "      <td>141.7</td>\n",
       "      <td>3.08</td>\n",
       "      <td>5.1</td>\n",
       "      <td>177.830</td>\n",
       "      <td>2.34</td>\n",
       "      <td>0.74</td>\n",
       "    </tr>\n",
       "    <tr>\n",
       "      <th>1959Q3</th>\n",
       "      <td>1959.0</td>\n",
       "      <td>3.0</td>\n",
       "      <td>2775.488</td>\n",
       "      <td>1751.8</td>\n",
       "      <td>289.226</td>\n",
       "      <td>491.260</td>\n",
       "      <td>1916.4</td>\n",
       "      <td>29.35</td>\n",
       "      <td>140.5</td>\n",
       "      <td>3.82</td>\n",
       "      <td>5.3</td>\n",
       "      <td>178.657</td>\n",
       "      <td>2.74</td>\n",
       "      <td>1.09</td>\n",
       "    </tr>\n",
       "    <tr>\n",
       "      <th>1959Q4</th>\n",
       "      <td>1959.0</td>\n",
       "      <td>4.0</td>\n",
       "      <td>2785.204</td>\n",
       "      <td>1753.7</td>\n",
       "      <td>299.356</td>\n",
       "      <td>484.052</td>\n",
       "      <td>1931.3</td>\n",
       "      <td>29.37</td>\n",
       "      <td>140.0</td>\n",
       "      <td>4.33</td>\n",
       "      <td>5.6</td>\n",
       "      <td>179.386</td>\n",
       "      <td>0.27</td>\n",
       "      <td>4.06</td>\n",
       "    </tr>\n",
       "    <tr>\n",
       "      <th>1960Q1</th>\n",
       "      <td>1960.0</td>\n",
       "      <td>1.0</td>\n",
       "      <td>2847.699</td>\n",
       "      <td>1770.5</td>\n",
       "      <td>331.722</td>\n",
       "      <td>462.199</td>\n",
       "      <td>1955.5</td>\n",
       "      <td>29.54</td>\n",
       "      <td>139.6</td>\n",
       "      <td>3.50</td>\n",
       "      <td>5.2</td>\n",
       "      <td>180.007</td>\n",
       "      <td>2.31</td>\n",
       "      <td>1.19</td>\n",
       "    </tr>\n",
       "  </tbody>\n",
       "</table>\n",
       "</div>"
      ],
      "text/plain": [
       "          year  quarter   realgdp  realcons  realinv  realgovt  realdpi  \\\n",
       "1959Q1  1959.0      1.0  2710.349    1707.4  286.898   470.045   1886.9   \n",
       "1959Q2  1959.0      2.0  2778.801    1733.7  310.859   481.301   1919.7   \n",
       "1959Q3  1959.0      3.0  2775.488    1751.8  289.226   491.260   1916.4   \n",
       "1959Q4  1959.0      4.0  2785.204    1753.7  299.356   484.052   1931.3   \n",
       "1960Q1  1960.0      1.0  2847.699    1770.5  331.722   462.199   1955.5   \n",
       "\n",
       "          cpi     m1  tbilrate  unemp      pop  infl  realint  \n",
       "1959Q1  28.98  139.7      2.82    5.8  177.146  0.00     0.00  \n",
       "1959Q2  29.15  141.7      3.08    5.1  177.830  2.34     0.74  \n",
       "1959Q3  29.35  140.5      3.82    5.3  178.657  2.74     1.09  \n",
       "1959Q4  29.37  140.0      4.33    5.6  179.386  0.27     4.06  \n",
       "1960Q1  29.54  139.6      3.50    5.2  180.007  2.31     1.19  "
      ]
     },
     "execution_count": 12,
     "metadata": {},
     "output_type": "execute_result"
    }
   ],
   "source": [
    "macrodata = sm.datasets.macrodata.load_pandas().data\n",
    "macrodata.index = pd.period_range('1959Q1', '2009Q3', freq='Q')\n",
    "\n",
    "macrodata.head()"
   ]
  },
  {
   "cell_type": "markdown",
   "metadata": {},
   "source": [
    "### Consider only GDP (realgdp) and personal consumption expenditures (realcons)\n",
    "\n",
    "PCE is one of the major engines of growth and should influence GDP, we will see if this is reflected in the data"
   ]
  },
  {
   "cell_type": "code",
   "execution_count": 13,
   "metadata": {},
   "outputs": [],
   "source": [
    "df=macrodata[['realgdp','realcons']][:-12]"
   ]
  },
  {
   "cell_type": "code",
   "execution_count": 14,
   "metadata": {
    "ExecuteTime": {
     "end_time": "2021-05-03T02:20:35.144998Z",
     "start_time": "2021-05-03T02:20:34.867713Z"
    }
   },
   "outputs": [
    {
     "data": {
      "image/png": "[encoded data removed]",
      "text/plain": [
       "<Figure size 432x288 with 1 Axes>"
      ]
     },
     "metadata": {
      "needs_background": "light"
     },
     "output_type": "display_data"
    }
   ],
   "source": [
    "df.plot()\n",
    "plt.show()"
   ]
  },
  {
   "cell_type": "markdown",
   "metadata": {},
   "source": [
    "The time series are not stationary. Fitting a VAR model on non-stationary data is called VAR in differences. So first we must difference the data"
   ]
  },
  {
   "cell_type": "code",
   "execution_count": 15,
   "metadata": {},
   "outputs": [],
   "source": [
    "df_diff = df.diff(1).dropna()"
   ]
  },
  {
   "cell_type": "code",
   "execution_count": 16,
   "metadata": {},
   "outputs": [
    {
     "data": {
      "image/png": "[encoded data removed]",
      "text/plain": [
       "<Figure size 432x288 with 1 Axes>"
      ]
     },
     "metadata": {
      "needs_background": "light"
     },
     "output_type": "display_data"
    }
   ],
   "source": [
    "df_diff.plot()\n",
    "plt.show()"
   ]
  },
  {
   "cell_type": "code",
   "execution_count": 17,
   "metadata": {},
   "outputs": [],
   "source": [
    "# Split into train and test\n",
    "train = df_diff[:-12]\n",
    "test = df_diff[-12:]"
   ]
  },
  {
   "cell_type": "markdown",
   "metadata": {},
   "source": [
    "# VAR"
   ]
  },
  {
   "cell_type": "code",
   "execution_count": 18,
   "metadata": {
    "ExecuteTime": {
     "end_time": "2021-05-03T02:19:16.654170Z",
     "start_time": "2021-05-03T02:19:16.640207Z"
    }
   },
   "outputs": [
    {
     "name": "stdout",
     "output_type": "stream",
     "text": [
      "[[13052.67967128  9295.48115011]]\n"
     ]
    }
   ],
   "source": [
    "from statsmodels.tsa.vector_ar.var_model import VAR\n",
    "\n",
    "var_model = VAR(macrodata[['realgdp','realcons']]).fit()\n",
    "yhat = var_model.forecast(var_model.endog, steps=1)\n",
    "print(yhat)"
   ]
  },
  {
   "cell_type": "code",
   "execution_count": 19,
   "metadata": {},
   "outputs": [],
   "source": [
    "var_model=VAR(train)\n",
    "\n",
    "results_aic =[]\n",
    "for p in range(1,10):\n",
    "    results = var_model.fit(p)\n",
    "    results_aic.append(results.aic)"
   ]
  },
  {
   "cell_type": "code",
   "execution_count": 20,
   "metadata": {},
   "outputs": [
    {
     "data": {
      "image/png": "[encoded data removed]",
      "text/plain": [
       "<Figure size 432x288 with 1 Axes>"
      ]
     },
     "metadata": {},
     "output_type": "display_data"
    }
   ],
   "source": [
    "import seaborn as sns\n",
    "sns.set()\n",
    "plt.plot(list(np.arange(1,10,1)), results_aic)\n",
    "plt.xlabel(\"Order\")\n",
    "plt.ylabel(\"AIC\")\n",
    "plt.show()"
   ]
  },
  {
   "cell_type": "markdown",
   "metadata": {},
   "source": [
    "Here we can see that the lowest AIC score is achieved at order of 3. Then AIC increases afterwards. We should fit a VAR(3)model. When coding in R, can use the function VARselect().\n",
    "\n",
    "The textbook recommends that we use BIC to find the VAR order. Let's try that to see if there is a difference"
   ]
  },
  {
   "cell_type": "code",
   "execution_count": 21,
   "metadata": {},
   "outputs": [
    {
     "data": {
      "image/png": "[encoded data removed]",
      "text/plain": [
       "<Figure size 432x288 with 1 Axes>"
      ]
     },
     "metadata": {},
     "output_type": "display_data"
    }
   ],
   "source": [
    "results_bic =[]\n",
    "for p in range(1,10):\n",
    "    results = var_model.fit(p)\n",
    "    results_bic.append(results.bic)\n",
    "    \n",
    "\n",
    "plt.plot(list(np.arange(1,10,1)), results_bic)\n",
    "plt.xlabel(\"Order\")\n",
    "plt.ylabel(\"BIC\")\n",
    "plt.show()"
   ]
  },
  {
   "cell_type": "markdown",
   "metadata": {},
   "source": [
    "It is close. However, let's just go with the simpler model. We will fit a VAR(1) model since there are less parameters to estimate than by using AIC"
   ]
  },
  {
   "cell_type": "code",
   "execution_count": 22,
   "metadata": {},
   "outputs": [
    {
     "data": {
      "text/plain": [
       "  Summary of Regression Results   \n",
       "==================================\n",
       "Model:                         VAR\n",
       "Method:                        OLS\n",
       "Date:           Tue, 18, May, 2021\n",
       "Time:                     08:29:01\n",
       "--------------------------------------------------------------------\n",
       "No. of Equations:         2.00000    BIC:                    14.1445\n",
       "Nobs:                     177.000    HQIC:                   14.0805\n",
       "Log likelihood:          -1738.57    FPE:                1.24777e+06\n",
       "AIC:                      14.0369    Det(Omega_mle):     1.20653e+06\n",
       "--------------------------------------------------------------------\n",
       "Results for equation realgdp\n",
       "==============================================================================\n",
       "                 coefficient       std. error           t-stat            prob\n",
       "------------------------------------------------------------------------------\n",
       "const              18.038131         5.523659            3.266           0.001\n",
       "L1.realgdp         -0.025913         0.085298           -0.304           0.761\n",
       "L1.realcons         0.954927         0.147467            6.476           0.000\n",
       "==============================================================================\n",
       "\n",
       "Results for equation realcons\n",
       "==============================================================================\n",
       "                 coefficient       std. error           t-stat            prob\n",
       "------------------------------------------------------------------------------\n",
       "const              20.714861         3.378099            6.132           0.000\n",
       "L1.realgdp          0.069112         0.052166            1.325           0.185\n",
       "L1.realcons         0.352505         0.090186            3.909           0.000\n",
       "==============================================================================\n",
       "\n",
       "Correlation matrix of residuals\n",
       "             realgdp  realcons\n",
       "realgdp     1.000000  0.561403\n",
       "realcons    0.561403  1.000000\n",
       "\n"
      ]
     },
     "execution_count": 22,
     "metadata": {},
     "output_type": "execute_result"
    }
   ],
   "source": [
    "results = var_model.fit(1)\n",
    "results.summary()"
   ]
  },
  {
   "cell_type": "markdown",
   "metadata": {},
   "source": [
    "We see summary information, like our different Information Criteria\n",
    "- AIC Alkaike Information Criterion\n",
    "- BIC Bayesian Information Criterion\n",
    "- HQIC Hanna-Quinn Information Criterion  \n",
    "- FPE Final Prediction Error\n",
    "\n",
    "More information about order selection criteria: https://econwpa.ub.uni-muenchen.de/econ-wp/comp/papers/0404/0404001.pdf\n",
    "\n",
    "Also the coefficients with theri standard errors, t-statistics and p-values for both equations ( one for gdp and one for pce)\n",
    "\n",
    "Finally the correlation matrix of residuals"
   ]
  },
  {
   "cell_type": "markdown",
   "metadata": {},
   "source": [
    "### Forecasting using our VAR model"
   ]
  },
  {
   "cell_type": "code",
   "execution_count": 23,
   "metadata": {},
   "outputs": [],
   "source": [
    "yhat = results.forecast(var_model.endog, steps=12)"
   ]
  },
  {
   "cell_type": "code",
   "execution_count": 24,
   "metadata": {},
   "outputs": [
    {
     "data": {
      "text/plain": [
       "PeriodIndex(['2003Q4', '2004Q1', '2004Q2', '2004Q3', '2004Q4', '2005Q1',\n",
       "             '2005Q2', '2005Q3', '2005Q4', '2006Q1', '2006Q2', '2006Q3'],\n",
       "            dtype='period[Q-DEC]', freq='Q-DEC')"
      ]
     },
     "execution_count": 24,
     "metadata": {},
     "output_type": "execute_result"
    }
   ],
   "source": [
    "test.index"
   ]
  },
  {
   "cell_type": "code",
   "execution_count": 25,
   "metadata": {},
   "outputs": [],
   "source": [
    "# clean up yhat\n",
    "idx=test.index\n",
    "df_preds = pd.DataFrame(yhat).set_index(idx)\n",
    "df_preds.columns =[['realgdp_forecast', 'realcons_forecast']]"
   ]
  },
  {
   "cell_type": "code",
   "execution_count": 26,
   "metadata": {},
   "outputs": [
    {
     "data": {
      "text/html": [
       "<div>\n",
       "<style scoped>\n",
       "    .dataframe tbody tr th:only-of-type {\n",
       "        vertical-align: middle;\n",
       "    }\n",
       "\n",
       "    .dataframe tbody tr th {\n",
       "        vertical-align: top;\n",
       "    }\n",
       "\n",
       "    .dataframe thead tr th {\n",
       "        text-align: left;\n",
       "    }\n",
       "</style>\n",
       "<table border=\"1\" class=\"dataframe\">\n",
       "  <thead>\n",
       "    <tr>\n",
       "      <th></th>\n",
       "      <th>realgdp_forecast</th>\n",
       "      <th>realcons_forecast</th>\n",
       "    </tr>\n",
       "  </thead>\n",
       "  <tbody>\n",
       "    <tr>\n",
       "      <th>2003Q4</th>\n",
       "      <td>122.087861</td>\n",
       "      <td>74.604381</td>\n",
       "    </tr>\n",
       "    <tr>\n",
       "      <th>2004Q1</th>\n",
       "      <td>86.116261</td>\n",
       "      <td>55.451057</td>\n",
       "    </tr>\n",
       "    <tr>\n",
       "      <th>2004Q2</th>\n",
       "      <td>68.758351</td>\n",
       "      <td>46.213333</td>\n",
       "    </tr>\n",
       "    <tr>\n",
       "      <th>2004Q3</th>\n",
       "      <td>60.386788</td>\n",
       "      <td>41.757344</td>\n",
       "    </tr>\n",
       "    <tr>\n",
       "      <th>2004Q4</th>\n",
       "      <td>56.348572</td>\n",
       "      <td>39.608007</td>\n",
       "    </tr>\n",
       "    <tr>\n",
       "      <th>2005Q1</th>\n",
       "      <td>54.400753</td>\n",
       "      <td>38.571265</td>\n",
       "    </tr>\n",
       "    <tr>\n",
       "      <th>2005Q2</th>\n",
       "      <td>53.461213</td>\n",
       "      <td>38.071190</td>\n",
       "    </tr>\n",
       "    <tr>\n",
       "      <th>2005Q3</th>\n",
       "      <td>53.008024</td>\n",
       "      <td>37.829977</td>\n",
       "    </tr>\n",
       "    <tr>\n",
       "      <th>2005Q4</th>\n",
       "      <td>52.789426</td>\n",
       "      <td>37.713627</td>\n",
       "    </tr>\n",
       "    <tr>\n",
       "      <th>2006Q1</th>\n",
       "      <td>52.683985</td>\n",
       "      <td>37.657505</td>\n",
       "    </tr>\n",
       "    <tr>\n",
       "      <th>2006Q2</th>\n",
       "      <td>52.633125</td>\n",
       "      <td>37.630435</td>\n",
       "    </tr>\n",
       "    <tr>\n",
       "      <th>2006Q3</th>\n",
       "      <td>52.608593</td>\n",
       "      <td>37.617377</td>\n",
       "    </tr>\n",
       "  </tbody>\n",
       "</table>\n",
       "</div>"
      ],
      "text/plain": [
       "       realgdp_forecast realcons_forecast\n",
       "2003Q4       122.087861         74.604381\n",
       "2004Q1        86.116261         55.451057\n",
       "2004Q2        68.758351         46.213333\n",
       "2004Q3        60.386788         41.757344\n",
       "2004Q4        56.348572         39.608007\n",
       "2005Q1        54.400753         38.571265\n",
       "2005Q2        53.461213         38.071190\n",
       "2005Q3        53.008024         37.829977\n",
       "2005Q4        52.789426         37.713627\n",
       "2006Q1        52.683985         37.657505\n",
       "2006Q2        52.633125         37.630435\n",
       "2006Q3        52.608593         37.617377"
      ]
     },
     "execution_count": 26,
     "metadata": {},
     "output_type": "execute_result"
    }
   ],
   "source": [
    "df_preds"
   ]
  },
  {
   "cell_type": "code",
   "execution_count": 27,
   "metadata": {},
   "outputs": [
    {
     "data": {
      "text/plain": [
       "<AxesSubplot:>"
      ]
     },
     "execution_count": 27,
     "metadata": {},
     "output_type": "execute_result"
    },
    {
     "data": {
      "image/png": "[encoded data removed]",
      "text/plain": [
       "<Figure size 432x288 with 1 Axes>"
      ]
     },
     "metadata": {},
     "output_type": "display_data"
    }
   ],
   "source": [
    "df_results = pd.concat([test,df_preds], axis=1)\n",
    "df_results.plot()"
   ]
  },
  {
   "cell_type": "markdown",
   "metadata": {},
   "source": [
    "The units don't look right, we differenced our data, so we need to tranform back to the original units\n",
    "\n",
    "- Align column names\n",
    "- Add last row of train set(non-differenced) to the differenced predictions\n",
    "- run cumulative sum to add back the differences and arrive in the correct units\n",
    "- clean up (drop extra rows and adjust index to dates)"
   ]
  },
  {
   "cell_type": "code",
   "execution_count": 28,
   "metadata": {},
   "outputs": [],
   "source": [
    "df_preds.columns = df.columns\n",
    "# df_preds"
   ]
  },
  {
   "cell_type": "code",
   "execution_count": 10,
   "metadata": {},
   "outputs": [
    {
     "ename": "NameError",
     "evalue": "name 'df_preds' is not defined",
     "output_type": "error",
     "traceback": [
      "\u001b[1;31m---------------------------------------------------------------------------\u001b[0m",
      "\u001b[1;31mNameError\u001b[0m                                 Traceback (most recent call last)",
      "\u001b[1;32m<ipython-input-10-f161b8ef98ec>\u001b[0m in \u001b[0;36m<module>\u001b[1;34m\u001b[0m\n\u001b[1;32m----> 1\u001b[1;33m \u001b[0mpd\u001b[0m\u001b[1;33m.\u001b[0m\u001b[0mconcat\u001b[0m\u001b[1;33m(\u001b[0m\u001b[1;33m[\u001b[0m\u001b[0mdf\u001b[0m\u001b[1;33m[\u001b[0m\u001b[1;33m-\u001b[0m\u001b[1;36m13\u001b[0m\u001b[1;33m:\u001b[0m\u001b[1;33m-\u001b[0m\u001b[1;36m12\u001b[0m\u001b[1;33m]\u001b[0m\u001b[1;33m,\u001b[0m\u001b[0mdf_preds\u001b[0m\u001b[1;33m]\u001b[0m\u001b[1;33m,\u001b[0m \u001b[0maxis\u001b[0m\u001b[1;33m=\u001b[0m\u001b[1;36m0\u001b[0m\u001b[1;33m)\u001b[0m\u001b[1;33m\u001b[0m\u001b[1;33m\u001b[0m\u001b[0m\n\u001b[0m",
      "\u001b[1;31mNameError\u001b[0m: name 'df_preds' is not defined"
     ]
    }
   ],
   "source": [
    "pd.concat([df[-13:-12],df_preds], axis=0)"
   ]
  },
  {
   "cell_type": "code",
   "execution_count": 19,
   "metadata": {},
   "outputs": [],
   "source": [
    "forecast_results = pd.concat([df[-13:-12],df_preds], axis=0).reset_index(drop=True)\\\n",
    "                    .cumsum()\\\n",
    "                    .drop([0])\\\n",
    "                    .set_index(idx)\n",
    "forecast_results.columns=['gdp_forecast','cons_forecast']"
   ]
  },
  {
   "cell_type": "code",
   "execution_count": 20,
   "metadata": {},
   "outputs": [
    {
     "data": {
      "text/html": [
       "<div>\n",
       "<style scoped>\n",
       "    .dataframe tbody tr th:only-of-type {\n",
       "        vertical-align: middle;\n",
       "    }\n",
       "\n",
       "    .dataframe tbody tr th {\n",
       "        vertical-align: top;\n",
       "    }\n",
       "\n",
       "    .dataframe thead th {\n",
       "        text-align: right;\n",
       "    }\n",
       "</style>\n",
       "<table border=\"1\" class=\"dataframe\">\n",
       "  <thead>\n",
       "    <tr style=\"text-align: right;\">\n",
       "      <th></th>\n",
       "      <th>gdp_forecast</th>\n",
       "      <th>cons_forecast</th>\n",
       "    </tr>\n",
       "  </thead>\n",
       "  <tbody>\n",
       "    <tr>\n",
       "      <th>2003Q4</th>\n",
       "      <td>12057.548861</td>\n",
       "      <td>8386.704381</td>\n",
       "    </tr>\n",
       "    <tr>\n",
       "      <th>2004Q1</th>\n",
       "      <td>12143.665122</td>\n",
       "      <td>8442.155438</td>\n",
       "    </tr>\n",
       "    <tr>\n",
       "      <th>2004Q2</th>\n",
       "      <td>12212.423473</td>\n",
       "      <td>8488.368771</td>\n",
       "    </tr>\n",
       "    <tr>\n",
       "      <th>2004Q3</th>\n",
       "      <td>12272.810262</td>\n",
       "      <td>8530.126115</td>\n",
       "    </tr>\n",
       "    <tr>\n",
       "      <th>2004Q4</th>\n",
       "      <td>12329.158834</td>\n",
       "      <td>8569.734122</td>\n",
       "    </tr>\n",
       "    <tr>\n",
       "      <th>2005Q1</th>\n",
       "      <td>12383.559587</td>\n",
       "      <td>8608.305387</td>\n",
       "    </tr>\n",
       "    <tr>\n",
       "      <th>2005Q2</th>\n",
       "      <td>12437.020800</td>\n",
       "      <td>8646.376577</td>\n",
       "    </tr>\n",
       "    <tr>\n",
       "      <th>2005Q3</th>\n",
       "      <td>12490.028824</td>\n",
       "      <td>8684.206553</td>\n",
       "    </tr>\n",
       "    <tr>\n",
       "      <th>2005Q4</th>\n",
       "      <td>12542.818250</td>\n",
       "      <td>8721.920180</td>\n",
       "    </tr>\n",
       "    <tr>\n",
       "      <th>2006Q1</th>\n",
       "      <td>12595.502235</td>\n",
       "      <td>8759.577686</td>\n",
       "    </tr>\n",
       "    <tr>\n",
       "      <th>2006Q2</th>\n",
       "      <td>12648.135360</td>\n",
       "      <td>8797.208121</td>\n",
       "    </tr>\n",
       "    <tr>\n",
       "      <th>2006Q3</th>\n",
       "      <td>12700.743953</td>\n",
       "      <td>8834.825498</td>\n",
       "    </tr>\n",
       "  </tbody>\n",
       "</table>\n",
       "</div>"
      ],
      "text/plain": [
       "        gdp_forecast  cons_forecast\n",
       "2003Q4  12057.548861    8386.704381\n",
       "2004Q1  12143.665122    8442.155438\n",
       "2004Q2  12212.423473    8488.368771\n",
       "2004Q3  12272.810262    8530.126115\n",
       "2004Q4  12329.158834    8569.734122\n",
       "2005Q1  12383.559587    8608.305387\n",
       "2005Q2  12437.020800    8646.376577\n",
       "2005Q3  12490.028824    8684.206553\n",
       "2005Q4  12542.818250    8721.920180\n",
       "2006Q1  12595.502235    8759.577686\n",
       "2006Q2  12648.135360    8797.208121\n",
       "2006Q3  12700.743953    8834.825498"
      ]
     },
     "execution_count": 20,
     "metadata": {},
     "output_type": "execute_result"
    }
   ],
   "source": [
    "forecast_results"
   ]
  },
  {
   "cell_type": "code",
   "execution_count": 48,
   "metadata": {},
   "outputs": [
    {
     "data": {
      "text/plain": [
       "2003Q3    11935.461000\n",
       "2003Q4      122.087861\n",
       "2004Q1       86.116261\n",
       "2004Q2       68.758351\n",
       "2004Q3       60.386788\n",
       "2004Q4       56.348572\n",
       "2005Q1       54.400753\n",
       "2005Q2       53.461213\n",
       "2005Q3       53.008024\n",
       "2005Q4       52.789426\n",
       "2006Q1       52.683985\n",
       "2006Q2       52.633125\n",
       "2006Q3       52.608593\n",
       "Freq: Q-DEC, Name: realgdp, dtype: float64"
      ]
     },
     "execution_count": 48,
     "metadata": {},
     "output_type": "execute_result"
    }
   ],
   "source": [
    "pd.concat([df.realgdp[-13:-12],df_preds.realgdp], axis=0)"
   ]
  },
  {
   "cell_type": "code",
   "execution_count": 45,
   "metadata": {},
   "outputs": [
    {
     "data": {
      "text/plain": [
       "2003Q3    11935.461000\n",
       "2003Q4    12057.548861\n",
       "2004Q1    12143.665122\n",
       "2004Q2    12212.423473\n",
       "2004Q3    12272.810262\n",
       "2004Q4    12329.158834\n",
       "2005Q1    12383.559587\n",
       "2005Q2    12437.020800\n",
       "2005Q3    12490.028824\n",
       "2005Q4    12542.818250\n",
       "2006Q1    12595.502235\n",
       "2006Q2    12648.135360\n",
       "2006Q3    12700.743953\n",
       "Freq: Q-DEC, Name: realgdp, dtype: float64"
      ]
     },
     "execution_count": 45,
     "metadata": {},
     "output_type": "execute_result"
    }
   ],
   "source": [
    "fr = pd.concat([df.realgdp[-13:-12],df_preds.realgdp], axis=0).cumsum()\n",
    "fr.columns=['gdp_forecast']\n",
    "fr"
   ]
  },
  {
   "cell_type": "code",
   "execution_count": null,
   "metadata": {},
   "outputs": [],
   "source": []
  },
  {
   "cell_type": "code",
   "execution_count": null,
   "metadata": {},
   "outputs": [],
   "source": []
  },
  {
   "cell_type": "code",
   "execution_count": null,
   "metadata": {},
   "outputs": [],
   "source": []
  },
  {
   "cell_type": "code",
   "execution_count": null,
   "metadata": {},
   "outputs": [],
   "source": []
  },
  {
   "cell_type": "code",
   "execution_count": 18,
   "metadata": {},
   "outputs": [
    {
     "data": {
      "image/png": "[encoded data removed]",
      "text/plain": [
       "<Figure size 432x288 with 1 Axes>"
      ]
     },
     "metadata": {},
     "output_type": "display_data"
    }
   ],
   "source": [
    "final_results = pd.concat([df[-12:],forecast_results], axis=1)\n",
    "final_results.plot()\n",
    "plt.show()"
   ]
  },
  {
   "cell_type": "code",
   "execution_count": 19,
   "metadata": {},
   "outputs": [
    {
     "name": "stdout",
     "output_type": "stream",
     "text": [
      "VAR real GDP RMSE: 183.66690701472223\n",
      "VAR real PCE RMSE: 152.65052972273153\n"
     ]
    }
   ],
   "source": [
    "print('VAR real GDP RMSE: ' + str(sqrt(mean_squared_error(final_results['realgdp'],final_results['gdp_forecast']))))\n",
    "print('VAR real PCE RMSE: ' + str(sqrt(mean_squared_error(final_results['realcons'],final_results['cons_forecast']))))"
   ]
  },
  {
   "cell_type": "markdown",
   "metadata": {},
   "source": [
    "# VMA"
   ]
  },
  {
   "cell_type": "markdown",
   "metadata": {},
   "source": [
    "Lets fit with a Vector moving average model. Examine BIC results to determine order of best fit"
   ]
  },
  {
   "cell_type": "code",
   "execution_count": 20,
   "metadata": {},
   "outputs": [
    {
     "name": "stderr",
     "output_type": "stream",
     "text": [
      "C:\\ProgramData\\Anaconda3\\lib\\site-packages\\statsmodels\\base\\model.py:566: ConvergenceWarning: Maximum Likelihood optimization failed to converge. Check mle_retvals\n",
      "  warnings.warn(\"Maximum Likelihood optimization failed to \"\n",
      "C:\\ProgramData\\Anaconda3\\lib\\site-packages\\statsmodels\\base\\model.py:566: ConvergenceWarning: Maximum Likelihood optimization failed to converge. Check mle_retvals\n",
      "  warnings.warn(\"Maximum Likelihood optimization failed to \"\n",
      "C:\\ProgramData\\Anaconda3\\lib\\site-packages\\statsmodels\\base\\model.py:566: ConvergenceWarning: Maximum Likelihood optimization failed to converge. Check mle_retvals\n",
      "  warnings.warn(\"Maximum Likelihood optimization failed to \"\n",
      "C:\\ProgramData\\Anaconda3\\lib\\site-packages\\statsmodels\\base\\model.py:566: ConvergenceWarning: Maximum Likelihood optimization failed to converge. Check mle_retvals\n",
      "  warnings.warn(\"Maximum Likelihood optimization failed to \"\n",
      "C:\\ProgramData\\Anaconda3\\lib\\site-packages\\statsmodels\\base\\model.py:566: ConvergenceWarning: Maximum Likelihood optimization failed to converge. Check mle_retvals\n",
      "  warnings.warn(\"Maximum Likelihood optimization failed to \"\n"
     ]
    },
    {
     "data": {
      "image/png": "[encoded data removed]",
      "text/plain": [
       "<Figure size 432x288 with 1 Axes>"
      ]
     },
     "metadata": {},
     "output_type": "display_data"
    }
   ],
   "source": [
    "results_bic =[]\n",
    "for q in range(1,10):\n",
    "    model = VARMAX(df_diff[['realgdp','realcons']], order= (0,q))\n",
    "    results = model.fit(maxiter=200, disp=False)\n",
    "    results_bic.append(results.bic)\n",
    "    \n",
    "\n",
    "plt.plot(list(np.arange(1,10,1)), results_bic)\n",
    "plt.xlabel(\"Order\")\n",
    "plt.ylabel(\"BIC\")\n",
    "plt.show()"
   ]
  },
  {
   "cell_type": "code",
   "execution_count": 21,
   "metadata": {},
   "outputs": [],
   "source": [
    "vma_model = VARMAX(df_diff[['realgdp','realcons']], order= (0,3))\n",
    "results = vma_model.fit(maxiter=1000, disp=False)"
   ]
  },
  {
   "cell_type": "code",
   "execution_count": 22,
   "metadata": {
    "scrolled": true
   },
   "outputs": [
    {
     "data": {
      "text/html": [
       "<table class=\"simpletable\">\n",
       "<caption>Statespace Model Results</caption>\n",
       "<tr>\n",
       "  <th>Dep. Variable:</th>   <td>['realgdp', 'realcons']</td> <th>  No. Observations:  </th>    <td>190</td>   \n",
       "</tr>\n",
       "<tr>\n",
       "  <th>Model:</th>                   <td>VMA(3)</td>          <th>  Log Likelihood     </th> <td>-1853.080</td>\n",
       "</tr>\n",
       "<tr>\n",
       "  <th></th>                       <td>+ intercept</td>       <th>  AIC                </th> <td>3740.160</td> \n",
       "</tr>\n",
       "<tr>\n",
       "  <th>Date:</th>               <td>Wed, 05 May 2021</td>     <th>  BIC                </th> <td>3795.360</td> \n",
       "</tr>\n",
       "<tr>\n",
       "  <th>Time:</th>                   <td>08:43:08</td>         <th>  HQIC               </th> <td>3762.521</td> \n",
       "</tr>\n",
       "<tr>\n",
       "  <th>Sample:</th>                <td>06-30-1959</td>        <th>                     </th>     <td> </td>    \n",
       "</tr>\n",
       "<tr>\n",
       "  <th></th>                      <td>- 09-30-2006</td>       <th>                     </th>     <td> </td>    \n",
       "</tr>\n",
       "<tr>\n",
       "  <th>Covariance Type:</th>           <td>opg</td>           <th>                     </th>     <td> </td>    \n",
       "</tr>\n",
       "</table>\n",
       "<table class=\"simpletable\">\n",
       "<tr>\n",
       "  <th>Ljung-Box (L1) (Q):</th>     <td>0.00, 0.04</td> <th>  Jarque-Bera (JB):  </th> <td>5.58, 14.02</td>\n",
       "</tr>\n",
       "<tr>\n",
       "  <th>Prob(Q):</th>                <td>0.98, 0.85</td> <th>  Prob(JB):          </th> <td>0.06, 0.00</td> \n",
       "</tr>\n",
       "<tr>\n",
       "  <th>Heteroskedasticity (H):</th> <td>1.65, 2.43</td> <th>  Skew:              </th> <td>0.16, 0.39</td> \n",
       "</tr>\n",
       "<tr>\n",
       "  <th>Prob(H) (two-sided):</th>    <td>0.05, 0.00</td> <th>  Kurtosis:          </th> <td>3.78, 4.08</td> \n",
       "</tr>\n",
       "</table>\n",
       "<table class=\"simpletable\">\n",
       "<caption>Results for equation realgdp</caption>\n",
       "<tr>\n",
       "         <td></td>           <th>coef</th>     <th>std err</th>      <th>z</th>      <th>P>|z|</th>  <th>[0.025</th>    <th>0.975]</th>  \n",
       "</tr>\n",
       "<tr>\n",
       "  <th>intercept</th>      <td>   54.0747</td> <td>    5.862</td> <td>    9.225</td> <td> 0.000</td> <td>   42.586</td> <td>   65.563</td>\n",
       "</tr>\n",
       "<tr>\n",
       "  <th>L1.e(realgdp)</th>  <td>   -0.1332</td> <td>    0.092</td> <td>   -1.447</td> <td> 0.148</td> <td>   -0.314</td> <td>    0.047</td>\n",
       "</tr>\n",
       "<tr>\n",
       "  <th>L1.e(realcons)</th> <td>    0.9222</td> <td>    0.148</td> <td>    6.216</td> <td> 0.000</td> <td>    0.631</td> <td>    1.213</td>\n",
       "</tr>\n",
       "<tr>\n",
       "  <th>L2.e(realgdp)</th>  <td>    0.0209</td> <td>    0.098</td> <td>    0.213</td> <td> 0.832</td> <td>   -0.171</td> <td>    0.213</td>\n",
       "</tr>\n",
       "<tr>\n",
       "  <th>L2.e(realcons)</th> <td>    0.5396</td> <td>    0.163</td> <td>    3.308</td> <td> 0.001</td> <td>    0.220</td> <td>    0.859</td>\n",
       "</tr>\n",
       "<tr>\n",
       "  <th>L3.e(realgdp)</th>  <td>   -0.1257</td> <td>    0.105</td> <td>   -1.193</td> <td> 0.233</td> <td>   -0.332</td> <td>    0.081</td>\n",
       "</tr>\n",
       "<tr>\n",
       "  <th>L3.e(realcons)</th> <td>    0.3939</td> <td>    0.184</td> <td>    2.143</td> <td> 0.032</td> <td>    0.034</td> <td>    0.754</td>\n",
       "</tr>\n",
       "</table>\n",
       "<table class=\"simpletable\">\n",
       "<caption>Results for equation realcons</caption>\n",
       "<tr>\n",
       "         <td></td>           <th>coef</th>     <th>std err</th>      <th>z</th>      <th>P>|z|</th>  <th>[0.025</th>    <th>0.975]</th>  \n",
       "</tr>\n",
       "<tr>\n",
       "  <th>intercept</th>      <td>   38.8930</td> <td>    3.913</td> <td>    9.939</td> <td> 0.000</td> <td>   31.223</td> <td>   46.563</td>\n",
       "</tr>\n",
       "<tr>\n",
       "  <th>L1.e(realgdp)</th>  <td>   -0.0183</td> <td>    0.052</td> <td>   -0.356</td> <td> 0.722</td> <td>   -0.119</td> <td>    0.083</td>\n",
       "</tr>\n",
       "<tr>\n",
       "  <th>L1.e(realcons)</th> <td>    0.2876</td> <td>    0.086</td> <td>    3.352</td> <td> 0.001</td> <td>    0.119</td> <td>    0.456</td>\n",
       "</tr>\n",
       "<tr>\n",
       "  <th>L2.e(realgdp)</th>  <td>   -0.0179</td> <td>    0.066</td> <td>   -0.273</td> <td> 0.785</td> <td>   -0.147</td> <td>    0.111</td>\n",
       "</tr>\n",
       "<tr>\n",
       "  <th>L2.e(realcons)</th> <td>    0.2797</td> <td>    0.089</td> <td>    3.154</td> <td> 0.002</td> <td>    0.106</td> <td>    0.453</td>\n",
       "</tr>\n",
       "<tr>\n",
       "  <th>L3.e(realgdp)</th>  <td>   -0.1089</td> <td>    0.054</td> <td>   -2.010</td> <td> 0.044</td> <td>   -0.215</td> <td>   -0.003</td>\n",
       "</tr>\n",
       "<tr>\n",
       "  <th>L3.e(realcons)</th> <td>    0.3764</td> <td>    0.089</td> <td>    4.233</td> <td> 0.000</td> <td>    0.202</td> <td>    0.551</td>\n",
       "</tr>\n",
       "</table>\n",
       "<table class=\"simpletable\">\n",
       "<caption>Error covariance matrix</caption>\n",
       "<tr>\n",
       "              <td></td>                 <th>coef</th>     <th>std err</th>      <th>z</th>      <th>P>|z|</th>  <th>[0.025</th>    <th>0.975]</th>  \n",
       "</tr>\n",
       "<tr>\n",
       "  <th>sqrt.var.realgdp</th>          <td>   45.0498</td> <td>    2.431</td> <td>   18.531</td> <td> 0.000</td> <td>   40.285</td> <td>   49.814</td>\n",
       "</tr>\n",
       "<tr>\n",
       "  <th>sqrt.cov.realgdp.realcons</th> <td>   14.7302</td> <td>    1.676</td> <td>    8.787</td> <td> 0.000</td> <td>   11.445</td> <td>   18.016</td>\n",
       "</tr>\n",
       "<tr>\n",
       "  <th>sqrt.var.realcons</th>         <td>   22.3289</td> <td>    1.162</td> <td>   19.209</td> <td> 0.000</td> <td>   20.051</td> <td>   24.607</td>\n",
       "</tr>\n",
       "</table><br/><br/>Warnings:<br/>[1] Covariance matrix calculated using the outer product of gradients (complex-step)."
      ],
      "text/plain": [
       "<class 'statsmodels.iolib.summary.Summary'>\n",
       "\"\"\"\n",
       "                              Statespace Model Results                             \n",
       "===================================================================================\n",
       "Dep. Variable:     ['realgdp', 'realcons']   No. Observations:                  190\n",
       "Model:                              VMA(3)   Log Likelihood               -1853.080\n",
       "                               + intercept   AIC                           3740.160\n",
       "Date:                     Wed, 05 May 2021   BIC                           3795.360\n",
       "Time:                             08:43:08   HQIC                          3762.521\n",
       "Sample:                         06-30-1959                                         \n",
       "                              - 09-30-2006                                         \n",
       "Covariance Type:                       opg                                         \n",
       "===================================================================================\n",
       "Ljung-Box (L1) (Q):             0.00, 0.04   Jarque-Bera (JB):          5.58, 14.02\n",
       "Prob(Q):                        0.98, 0.85   Prob(JB):                   0.06, 0.00\n",
       "Heteroskedasticity (H):         1.65, 2.43   Skew:                       0.16, 0.39\n",
       "Prob(H) (two-sided):            0.05, 0.00   Kurtosis:                   3.78, 4.08\n",
       "                           Results for equation realgdp                           \n",
       "==================================================================================\n",
       "                     coef    std err          z      P>|z|      [0.025      0.975]\n",
       "----------------------------------------------------------------------------------\n",
       "intercept         54.0747      5.862      9.225      0.000      42.586      65.563\n",
       "L1.e(realgdp)     -0.1332      0.092     -1.447      0.148      -0.314       0.047\n",
       "L1.e(realcons)     0.9222      0.148      6.216      0.000       0.631       1.213\n",
       "L2.e(realgdp)      0.0209      0.098      0.213      0.832      -0.171       0.213\n",
       "L2.e(realcons)     0.5396      0.163      3.308      0.001       0.220       0.859\n",
       "L3.e(realgdp)     -0.1257      0.105     -1.193      0.233      -0.332       0.081\n",
       "L3.e(realcons)     0.3939      0.184      2.143      0.032       0.034       0.754\n",
       "                          Results for equation realcons                           \n",
       "==================================================================================\n",
       "                     coef    std err          z      P>|z|      [0.025      0.975]\n",
       "----------------------------------------------------------------------------------\n",
       "intercept         38.8930      3.913      9.939      0.000      31.223      46.563\n",
       "L1.e(realgdp)     -0.0183      0.052     -0.356      0.722      -0.119       0.083\n",
       "L1.e(realcons)     0.2876      0.086      3.352      0.001       0.119       0.456\n",
       "L2.e(realgdp)     -0.0179      0.066     -0.273      0.785      -0.147       0.111\n",
       "L2.e(realcons)     0.2797      0.089      3.154      0.002       0.106       0.453\n",
       "L3.e(realgdp)     -0.1089      0.054     -2.010      0.044      -0.215      -0.003\n",
       "L3.e(realcons)     0.3764      0.089      4.233      0.000       0.202       0.551\n",
       "                                   Error covariance matrix                                   \n",
       "=============================================================================================\n",
       "                                coef    std err          z      P>|z|      [0.025      0.975]\n",
       "---------------------------------------------------------------------------------------------\n",
       "sqrt.var.realgdp             45.0498      2.431     18.531      0.000      40.285      49.814\n",
       "sqrt.cov.realgdp.realcons    14.7302      1.676      8.787      0.000      11.445      18.016\n",
       "sqrt.var.realcons            22.3289      1.162     19.209      0.000      20.051      24.607\n",
       "=============================================================================================\n",
       "\n",
       "Warnings:\n",
       "[1] Covariance matrix calculated using the outer product of gradients (complex-step).\n",
       "\"\"\""
      ]
     },
     "execution_count": 22,
     "metadata": {},
     "output_type": "execute_result"
    }
   ],
   "source": [
    "results.summary()"
   ]
  },
  {
   "cell_type": "markdown",
   "metadata": {},
   "source": [
    "### Forecasting using our VMA model\n",
    "\n"
   ]
  },
  {
   "cell_type": "code",
   "execution_count": 23,
   "metadata": {},
   "outputs": [],
   "source": [
    "yhat = results.forecast(steps=12)"
   ]
  },
  {
   "cell_type": "code",
   "execution_count": 24,
   "metadata": {},
   "outputs": [],
   "source": [
    "# clean up yhat\n",
    "idx=test.index\n",
    "df_preds = pd.DataFrame(yhat).set_index(idx)\n",
    "df_preds.columns =[['realgdp_forecast', 'realcons_forecast']]"
   ]
  },
  {
   "cell_type": "code",
   "execution_count": 25,
   "metadata": {},
   "outputs": [],
   "source": [
    "df_preds.columns = df.columns"
   ]
  },
  {
   "cell_type": "code",
   "execution_count": 26,
   "metadata": {},
   "outputs": [],
   "source": [
    "forecast_results = pd.concat([df[-13:-12],df_preds], axis=0).reset_index(drop=True)\\\n",
    "                    .cumsum()\\\n",
    "                    .drop([0])\\\n",
    "                    .set_index(idx)\n",
    "forecast_results.columns=['gdp_forecast','cons_forecast']"
   ]
  },
  {
   "cell_type": "code",
   "execution_count": 27,
   "metadata": {},
   "outputs": [
    {
     "data": {
      "image/png": "[encoded data removed]",
      "text/plain": [
       "<Figure size 432x288 with 1 Axes>"
      ]
     },
     "metadata": {},
     "output_type": "display_data"
    }
   ],
   "source": [
    "final_results = pd.concat([df[-12:],forecast_results], axis=1)\n",
    "final_results.plot()\n",
    "plt.show()"
   ]
  },
  {
   "cell_type": "code",
   "execution_count": 28,
   "metadata": {},
   "outputs": [
    {
     "name": "stdout",
     "output_type": "stream",
     "text": [
      "VMA real GDP RMSE: 239.53472984616914\n",
      "VMA real PCE RMSE: 172.5786950786537\n"
     ]
    }
   ],
   "source": [
    "print('VMA real GDP RMSE: ' + str(sqrt(mean_squared_error(final_results['realgdp'],final_results['gdp_forecast']))))\n",
    "print('VMA real PCE RMSE: ' + str(sqrt(mean_squared_error(final_results['realcons'],final_results['cons_forecast']))))"
   ]
  },
  {
   "cell_type": "markdown",
   "metadata": {},
   "source": [
    "# VARMA"
   ]
  },
  {
   "cell_type": "code",
   "execution_count": 29,
   "metadata": {
    "ExecuteTime": {
     "end_time": "2021-05-03T02:20:06.215042Z",
     "start_time": "2021-05-03T02:20:01.541101Z"
    }
   },
   "outputs": [
    {
     "name": "stderr",
     "output_type": "stream",
     "text": [
      "C:\\ProgramData\\Anaconda3\\lib\\site-packages\\statsmodels\\tsa\\statespace\\varmax.py:161: EstimationWarning: Estimation of VARMA(p,q) models is not generically robust, due especially to identification issues.\n",
      "  warn('Estimation of VARMA(p,q) models is not generically robust,'\n"
     ]
    },
    {
     "name": "stdout",
     "output_type": "stream",
     "text": [
      "          realgdp   realcons\n",
      "2006Q4  82.874462  52.344728\n"
     ]
    },
    {
     "name": "stderr",
     "output_type": "stream",
     "text": [
      "C:\\ProgramData\\Anaconda3\\lib\\site-packages\\statsmodels\\base\\model.py:566: ConvergenceWarning: Maximum Likelihood optimization failed to converge. Check mle_retvals\n",
      "  warnings.warn(\"Maximum Likelihood optimization failed to \"\n"
     ]
    }
   ],
   "source": [
    "from statsmodels.tsa.statespace.varmax import VARMAX\n",
    "\n",
    "varma_model = VARMAX(df_diff[['realgdp','realcons']], order=(1, 1)).fit(disp=False)\n",
    "yhat = varma_model.forecast(steps=1)\n",
    "print(yhat)"
   ]
  },
  {
   "cell_type": "code",
   "execution_count": 30,
   "metadata": {},
   "outputs": [
    {
     "data": {
      "text/html": [
       "<table class=\"simpletable\">\n",
       "<caption>Statespace Model Results</caption>\n",
       "<tr>\n",
       "  <th>Dep. Variable:</th>   <td>['realgdp', 'realcons']</td> <th>  No. Observations:  </th>    <td>190</td>   \n",
       "</tr>\n",
       "<tr>\n",
       "  <th>Model:</th>                 <td>VARMA(1,1)</td>        <th>  Log Likelihood     </th> <td>-1852.108</td>\n",
       "</tr>\n",
       "<tr>\n",
       "  <th></th>                       <td>+ intercept</td>       <th>  AIC                </th> <td>3730.215</td> \n",
       "</tr>\n",
       "<tr>\n",
       "  <th>Date:</th>               <td>Wed, 05 May 2021</td>     <th>  BIC                </th> <td>3772.427</td> \n",
       "</tr>\n",
       "<tr>\n",
       "  <th>Time:</th>                   <td>08:43:09</td>         <th>  HQIC               </th> <td>3747.314</td> \n",
       "</tr>\n",
       "<tr>\n",
       "  <th>Sample:</th>                <td>06-30-1959</td>        <th>                     </th>     <td> </td>    \n",
       "</tr>\n",
       "<tr>\n",
       "  <th></th>                      <td>- 09-30-2006</td>       <th>                     </th>     <td> </td>    \n",
       "</tr>\n",
       "<tr>\n",
       "  <th>Covariance Type:</th>           <td>opg</td>           <th>                     </th>     <td> </td>    \n",
       "</tr>\n",
       "</table>\n",
       "<table class=\"simpletable\">\n",
       "<tr>\n",
       "  <th>Ljung-Box (L1) (Q):</th>     <td>0.01, 0.22</td> <th>  Jarque-Bera (JB):  </th> <td>8.15, 18.02</td>\n",
       "</tr>\n",
       "<tr>\n",
       "  <th>Prob(Q):</th>                <td>0.90, 0.64</td> <th>  Prob(JB):          </th> <td>0.02, 0.00</td> \n",
       "</tr>\n",
       "<tr>\n",
       "  <th>Heteroskedasticity (H):</th> <td>2.05, 2.27</td> <th>  Skew:              </th> <td>0.05, 0.41</td> \n",
       "</tr>\n",
       "<tr>\n",
       "  <th>Prob(H) (two-sided):</th>    <td>0.01, 0.00</td> <th>  Kurtosis:          </th> <td>4.01, 4.27</td> \n",
       "</tr>\n",
       "</table>\n",
       "<table class=\"simpletable\">\n",
       "<caption>Results for equation realgdp</caption>\n",
       "<tr>\n",
       "         <td></td>           <th>coef</th>     <th>std err</th>      <th>z</th>      <th>P>|z|</th>  <th>[0.025</th>    <th>0.975]</th>  \n",
       "</tr>\n",
       "<tr>\n",
       "  <th>intercept</th>      <td>   20.7383</td> <td>   13.360</td> <td>    1.552</td> <td> 0.121</td> <td>   -5.447</td> <td>   46.923</td>\n",
       "</tr>\n",
       "<tr>\n",
       "  <th>L1.realgdp</th>     <td>    1.1652</td> <td>    0.574</td> <td>    2.029</td> <td> 0.042</td> <td>    0.040</td> <td>    2.291</td>\n",
       "</tr>\n",
       "<tr>\n",
       "  <th>L1.realcons</th>    <td>   -0.7339</td> <td>    1.074</td> <td>   -0.683</td> <td> 0.495</td> <td>   -2.840</td> <td>    1.372</td>\n",
       "</tr>\n",
       "<tr>\n",
       "  <th>L1.e(realgdp)</th>  <td>   -1.2733</td> <td>    0.567</td> <td>   -2.248</td> <td> 0.025</td> <td>   -2.384</td> <td>   -0.163</td>\n",
       "</tr>\n",
       "<tr>\n",
       "  <th>L1.e(realcons)</th> <td>    1.4590</td> <td>    1.021</td> <td>    1.429</td> <td> 0.153</td> <td>   -0.542</td> <td>    3.459</td>\n",
       "</tr>\n",
       "</table>\n",
       "<table class=\"simpletable\">\n",
       "<caption>Results for equation realcons</caption>\n",
       "<tr>\n",
       "         <td></td>           <th>coef</th>     <th>std err</th>      <th>z</th>      <th>P>|z|</th>  <th>[0.025</th>    <th>0.975]</th>  \n",
       "</tr>\n",
       "<tr>\n",
       "  <th>intercept</th>      <td>   16.9818</td> <td>    9.096</td> <td>    1.867</td> <td> 0.062</td> <td>   -0.845</td> <td>   34.809</td>\n",
       "</tr>\n",
       "<tr>\n",
       "  <th>L1.realgdp</th>     <td>    0.5843</td> <td>    0.307</td> <td>    1.906</td> <td> 0.057</td> <td>   -0.016</td> <td>    1.185</td>\n",
       "</tr>\n",
       "<tr>\n",
       "  <th>L1.realcons</th>    <td>   -0.2182</td> <td>    0.592</td> <td>   -0.368</td> <td> 0.713</td> <td>   -1.379</td> <td>    0.943</td>\n",
       "</tr>\n",
       "<tr>\n",
       "  <th>L1.e(realgdp)</th>  <td>   -0.6033</td> <td>    0.315</td> <td>   -1.918</td> <td> 0.055</td> <td>   -1.220</td> <td>    0.013</td>\n",
       "</tr>\n",
       "<tr>\n",
       "  <th>L1.e(realcons)</th> <td>    0.4283</td> <td>    0.609</td> <td>    0.703</td> <td> 0.482</td> <td>   -0.766</td> <td>    1.623</td>\n",
       "</tr>\n",
       "</table>\n",
       "<table class=\"simpletable\">\n",
       "<caption>Error covariance matrix</caption>\n",
       "<tr>\n",
       "              <td></td>                 <th>coef</th>     <th>std err</th>      <th>z</th>      <th>P>|z|</th>  <th>[0.025</th>    <th>0.975]</th>  \n",
       "</tr>\n",
       "<tr>\n",
       "  <th>sqrt.var.realgdp</th>          <td>   45.1898</td> <td>    2.127</td> <td>   21.247</td> <td> 0.000</td> <td>   41.021</td> <td>   49.358</td>\n",
       "</tr>\n",
       "<tr>\n",
       "  <th>sqrt.cov.realgdp.realcons</th> <td>   13.6647</td> <td>    1.581</td> <td>    8.641</td> <td> 0.000</td> <td>   10.565</td> <td>   16.764</td>\n",
       "</tr>\n",
       "<tr>\n",
       "  <th>sqrt.var.realcons</th>         <td>   22.8617</td> <td>    1.077</td> <td>   21.230</td> <td> 0.000</td> <td>   20.751</td> <td>   24.972</td>\n",
       "</tr>\n",
       "</table><br/><br/>Warnings:<br/>[1] Covariance matrix calculated using the outer product of gradients (complex-step)."
      ],
      "text/plain": [
       "<class 'statsmodels.iolib.summary.Summary'>\n",
       "\"\"\"\n",
       "                              Statespace Model Results                             \n",
       "===================================================================================\n",
       "Dep. Variable:     ['realgdp', 'realcons']   No. Observations:                  190\n",
       "Model:                          VARMA(1,1)   Log Likelihood               -1852.108\n",
       "                               + intercept   AIC                           3730.215\n",
       "Date:                     Wed, 05 May 2021   BIC                           3772.427\n",
       "Time:                             08:43:09   HQIC                          3747.314\n",
       "Sample:                         06-30-1959                                         \n",
       "                              - 09-30-2006                                         \n",
       "Covariance Type:                       opg                                         \n",
       "===================================================================================\n",
       "Ljung-Box (L1) (Q):             0.01, 0.22   Jarque-Bera (JB):          8.15, 18.02\n",
       "Prob(Q):                        0.90, 0.64   Prob(JB):                   0.02, 0.00\n",
       "Heteroskedasticity (H):         2.05, 2.27   Skew:                       0.05, 0.41\n",
       "Prob(H) (two-sided):            0.01, 0.00   Kurtosis:                   4.01, 4.27\n",
       "                           Results for equation realgdp                           \n",
       "==================================================================================\n",
       "                     coef    std err          z      P>|z|      [0.025      0.975]\n",
       "----------------------------------------------------------------------------------\n",
       "intercept         20.7383     13.360      1.552      0.121      -5.447      46.923\n",
       "L1.realgdp         1.1652      0.574      2.029      0.042       0.040       2.291\n",
       "L1.realcons       -0.7339      1.074     -0.683      0.495      -2.840       1.372\n",
       "L1.e(realgdp)     -1.2733      0.567     -2.248      0.025      -2.384      -0.163\n",
       "L1.e(realcons)     1.4590      1.021      1.429      0.153      -0.542       3.459\n",
       "                          Results for equation realcons                           \n",
       "==================================================================================\n",
       "                     coef    std err          z      P>|z|      [0.025      0.975]\n",
       "----------------------------------------------------------------------------------\n",
       "intercept         16.9818      9.096      1.867      0.062      -0.845      34.809\n",
       "L1.realgdp         0.5843      0.307      1.906      0.057      -0.016       1.185\n",
       "L1.realcons       -0.2182      0.592     -0.368      0.713      -1.379       0.943\n",
       "L1.e(realgdp)     -0.6033      0.315     -1.918      0.055      -1.220       0.013\n",
       "L1.e(realcons)     0.4283      0.609      0.703      0.482      -0.766       1.623\n",
       "                                   Error covariance matrix                                   \n",
       "=============================================================================================\n",
       "                                coef    std err          z      P>|z|      [0.025      0.975]\n",
       "---------------------------------------------------------------------------------------------\n",
       "sqrt.var.realgdp             45.1898      2.127     21.247      0.000      41.021      49.358\n",
       "sqrt.cov.realgdp.realcons    13.6647      1.581      8.641      0.000      10.565      16.764\n",
       "sqrt.var.realcons            22.8617      1.077     21.230      0.000      20.751      24.972\n",
       "=============================================================================================\n",
       "\n",
       "Warnings:\n",
       "[1] Covariance matrix calculated using the outer product of gradients (complex-step).\n",
       "\"\"\""
      ]
     },
     "execution_count": 30,
     "metadata": {},
     "output_type": "execute_result"
    }
   ],
   "source": [
    "varma_model.summary()"
   ]
  },
  {
   "cell_type": "code",
   "execution_count": 31,
   "metadata": {},
   "outputs": [],
   "source": [
    "yhat = varma_model.forecast(steps=12)"
   ]
  },
  {
   "cell_type": "code",
   "execution_count": 33,
   "metadata": {},
   "outputs": [],
   "source": [
    "# clean up yhat\n",
    "idx=test.index\n",
    "df_preds = pd.DataFrame(yhat).set_index(idx)\n",
    "df_preds.columns =[['realgdp_forecast', 'realcons_forecast']]"
   ]
  },
  {
   "cell_type": "code",
   "execution_count": 34,
   "metadata": {},
   "outputs": [],
   "source": [
    "df_preds.columns = df.columns"
   ]
  },
  {
   "cell_type": "code",
   "execution_count": 35,
   "metadata": {},
   "outputs": [],
   "source": [
    "forecast_results = pd.concat([df[-13:-12],df_preds], axis=0).reset_index(drop=True)\\\n",
    "                    .cumsum()\\\n",
    "                    .drop([0])\\\n",
    "                    .set_index(idx)\n",
    "forecast_results.columns=['gdp_forecast','cons_forecast']"
   ]
  },
  {
   "cell_type": "code",
   "execution_count": 36,
   "metadata": {},
   "outputs": [
    {
     "data": {
      "image/png": "[encoded data removed]",
      "text/plain": [
       "<Figure size 432x288 with 1 Axes>"
      ]
     },
     "metadata": {},
     "output_type": "display_data"
    }
   ],
   "source": [
    "final_results = pd.concat([df[-12:],forecast_results], axis=1)\n",
    "final_results.plot()\n",
    "plt.show()"
   ]
  },
  {
   "cell_type": "code",
   "execution_count": 37,
   "metadata": {},
   "outputs": [
    {
     "name": "stdout",
     "output_type": "stream",
     "text": [
      "VMA real GDP RMSE: 185.24513904211065\n",
      "VMA real PCE RMSE: 140.71233793102726\n"
     ]
    }
   ],
   "source": [
    "print('VMA real GDP RMSE: ' + str(sqrt(mean_squared_error(final_results['realgdp'],final_results['gdp_forecast']))))\n",
    "print('VMA real PCE RMSE: ' + str(sqrt(mean_squared_error(final_results['realcons'],final_results['cons_forecast']))))"
   ]
  }
 ],
 "metadata": {
  "kernelspec": {
   "display_name": "Python 3",
   "language": "python",
   "name": "python3"
  },
  "language_info": {
   "codemirror_mode": {
    "name": "ipython",
    "version": 3
   },
   "file_extension": ".py",
   "mimetype": "text/x-python",
   "name": "python",
   "nbconvert_exporter": "python",
   "pygments_lexer": "ipython3",
   "version": "3.7.10"
  },
  "latex_envs": {
   "LaTeX_envs_menu_present": true,
   "autoclose": false,
   "autocomplete": true,
   "bibliofile": "biblio.bib",
   "cite_by": "apalike",
   "current_citInitial": 1,
   "eqLabelWithNumbers": true,
   "eqNumInitial": 1,
   "hotkeys": {
    "equation": "Ctrl-E",
    "itemize": "Ctrl-I"
   },
   "labels_anchors": false,
   "latex_user_defs": false,
   "report_style_numbering": false,
   "user_envs_cfg": false
  }
 },
 "nbformat": 4,
 "nbformat_minor": 2
}
