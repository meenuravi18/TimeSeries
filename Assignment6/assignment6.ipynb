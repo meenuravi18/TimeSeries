{
 "cells": [
  {
   "cell_type": "markdown",
   "id": "ab89ecd4",
   "metadata": {},
   "source": [
    "## Assignment 6\n",
    "### Meenu Ravi\n",
    "### May 12 2021\n"
   ]
  },
  {
   "cell_type": "markdown",
   "id": "8ffc010d",
   "metadata": {},
   "source": [
    "### Part 1 – 20 pts Exploratory Data Analysis\n",
    "\n"
   ]
  },
  {
   "cell_type": "code",
   "execution_count": 85,
   "id": "d7f5d741",
   "metadata": {},
   "outputs": [],
   "source": [
    "import pandas as pd\n",
    "import numpy as np\n",
    "import seaborn as sns\n",
    "import matplotlib.pyplot as plt\n",
    "from statsmodels.graphics.tsaplots import plot_acf, plot_pacf\n",
    "from sktime.forecasting.all import temporal_train_test_split\n",
    "from statsmodels.tsa.stattools import kpss, adfuller\n",
    "import warnings\n",
    "import math\n",
    "warnings.filterwarnings('ignore')"
   ]
  },
  {
   "cell_type": "markdown",
   "id": "8499d482",
   "metadata": {},
   "source": [
    "#### A. 10 pts Perform quantitative and qualitative EDA\n"
   ]
  },
  {
   "cell_type": "code",
   "execution_count": 86,
   "id": "f135d3fd",
   "metadata": {},
   "outputs": [
    {
     "data": {
      "text/html": [
       "<div>\n",
       "<style scoped>\n",
       "    .dataframe tbody tr th:only-of-type {\n",
       "        vertical-align: middle;\n",
       "    }\n",
       "\n",
       "    .dataframe tbody tr th {\n",
       "        vertical-align: top;\n",
       "    }\n",
       "\n",
       "    .dataframe thead th {\n",
       "        text-align: right;\n",
       "    }\n",
       "</style>\n",
       "<table border=\"1\" class=\"dataframe\">\n",
       "  <thead>\n",
       "    <tr style=\"text-align: right;\">\n",
       "      <th></th>\n",
       "      <th>Unnamed: 0</th>\n",
       "      <th>PCE</th>\n",
       "      <th>AHE</th>\n",
       "      <th>PCEPI</th>\n",
       "    </tr>\n",
       "  </thead>\n",
       "  <tbody>\n",
       "    <tr>\n",
       "      <th>0</th>\n",
       "      <td>3/1/2006</td>\n",
       "      <td>9122.1</td>\n",
       "      <td>20.04</td>\n",
       "      <td>88.473</td>\n",
       "    </tr>\n",
       "    <tr>\n",
       "      <th>1</th>\n",
       "      <td>4/1/2006</td>\n",
       "      <td>9174.8</td>\n",
       "      <td>20.17</td>\n",
       "      <td>88.850</td>\n",
       "    </tr>\n",
       "    <tr>\n",
       "      <th>2</th>\n",
       "      <td>5/1/2006</td>\n",
       "      <td>9215.1</td>\n",
       "      <td>20.13</td>\n",
       "      <td>89.070</td>\n",
       "    </tr>\n",
       "    <tr>\n",
       "      <th>3</th>\n",
       "      <td>6/1/2006</td>\n",
       "      <td>9240.8</td>\n",
       "      <td>20.22</td>\n",
       "      <td>89.285</td>\n",
       "    </tr>\n",
       "    <tr>\n",
       "      <th>4</th>\n",
       "      <td>7/1/2006</td>\n",
       "      <td>9322.6</td>\n",
       "      <td>20.30</td>\n",
       "      <td>89.601</td>\n",
       "    </tr>\n",
       "    <tr>\n",
       "      <th>...</th>\n",
       "      <td>...</td>\n",
       "      <td>...</td>\n",
       "      <td>...</td>\n",
       "      <td>...</td>\n",
       "    </tr>\n",
       "    <tr>\n",
       "      <th>161</th>\n",
       "      <td>8/1/2019</td>\n",
       "      <td>14650.9</td>\n",
       "      <td>28.16</td>\n",
       "      <td>110.115</td>\n",
       "    </tr>\n",
       "    <tr>\n",
       "      <th>162</th>\n",
       "      <td>9/1/2019</td>\n",
       "      <td>14673.2</td>\n",
       "      <td>28.15</td>\n",
       "      <td>110.167</td>\n",
       "    </tr>\n",
       "    <tr>\n",
       "      <th>163</th>\n",
       "      <td>10/1/2019</td>\n",
       "      <td>14728.5</td>\n",
       "      <td>28.24</td>\n",
       "      <td>110.377</td>\n",
       "    </tr>\n",
       "    <tr>\n",
       "      <th>164</th>\n",
       "      <td>11/1/2019</td>\n",
       "      <td>14752.8</td>\n",
       "      <td>28.33</td>\n",
       "      <td>110.461</td>\n",
       "    </tr>\n",
       "    <tr>\n",
       "      <th>165</th>\n",
       "      <td>12/1/2019</td>\n",
       "      <td>14796.3</td>\n",
       "      <td>28.36</td>\n",
       "      <td>110.750</td>\n",
       "    </tr>\n",
       "  </tbody>\n",
       "</table>\n",
       "<p>166 rows × 4 columns</p>\n",
       "</div>"
      ],
      "text/plain": [
       "    Unnamed: 0      PCE    AHE    PCEPI\n",
       "0     3/1/2006   9122.1  20.04   88.473\n",
       "1     4/1/2006   9174.8  20.17   88.850\n",
       "2     5/1/2006   9215.1  20.13   89.070\n",
       "3     6/1/2006   9240.8  20.22   89.285\n",
       "4     7/1/2006   9322.6  20.30   89.601\n",
       "..         ...      ...    ...      ...\n",
       "161   8/1/2019  14650.9  28.16  110.115\n",
       "162   9/1/2019  14673.2  28.15  110.167\n",
       "163  10/1/2019  14728.5  28.24  110.377\n",
       "164  11/1/2019  14752.8  28.33  110.461\n",
       "165  12/1/2019  14796.3  28.36  110.750\n",
       "\n",
       "[166 rows x 4 columns]"
      ]
     },
     "execution_count": 86,
     "metadata": {},
     "output_type": "execute_result"
    }
   ],
   "source": [
    "data=pd.read_csv('hw6_data_var.csv')\n",
    "data"
   ]
  },
  {
   "cell_type": "code",
   "execution_count": 87,
   "id": "45f8eba0",
   "metadata": {},
   "outputs": [
    {
     "data": {
      "text/html": [
       "<div>\n",
       "<style scoped>\n",
       "    .dataframe tbody tr th:only-of-type {\n",
       "        vertical-align: middle;\n",
       "    }\n",
       "\n",
       "    .dataframe tbody tr th {\n",
       "        vertical-align: top;\n",
       "    }\n",
       "\n",
       "    .dataframe thead th {\n",
       "        text-align: right;\n",
       "    }\n",
       "</style>\n",
       "<table border=\"1\" class=\"dataframe\">\n",
       "  <thead>\n",
       "    <tr style=\"text-align: right;\">\n",
       "      <th></th>\n",
       "      <th>ds</th>\n",
       "      <th>PCE</th>\n",
       "      <th>AHE</th>\n",
       "      <th>PCEPI</th>\n",
       "    </tr>\n",
       "  </thead>\n",
       "  <tbody>\n",
       "    <tr>\n",
       "      <th>0</th>\n",
       "      <td>3/1/2006</td>\n",
       "      <td>9122.1</td>\n",
       "      <td>20.04</td>\n",
       "      <td>88.473</td>\n",
       "    </tr>\n",
       "    <tr>\n",
       "      <th>1</th>\n",
       "      <td>4/1/2006</td>\n",
       "      <td>9174.8</td>\n",
       "      <td>20.17</td>\n",
       "      <td>88.850</td>\n",
       "    </tr>\n",
       "    <tr>\n",
       "      <th>2</th>\n",
       "      <td>5/1/2006</td>\n",
       "      <td>9215.1</td>\n",
       "      <td>20.13</td>\n",
       "      <td>89.070</td>\n",
       "    </tr>\n",
       "    <tr>\n",
       "      <th>3</th>\n",
       "      <td>6/1/2006</td>\n",
       "      <td>9240.8</td>\n",
       "      <td>20.22</td>\n",
       "      <td>89.285</td>\n",
       "    </tr>\n",
       "    <tr>\n",
       "      <th>4</th>\n",
       "      <td>7/1/2006</td>\n",
       "      <td>9322.6</td>\n",
       "      <td>20.30</td>\n",
       "      <td>89.601</td>\n",
       "    </tr>\n",
       "    <tr>\n",
       "      <th>...</th>\n",
       "      <td>...</td>\n",
       "      <td>...</td>\n",
       "      <td>...</td>\n",
       "      <td>...</td>\n",
       "    </tr>\n",
       "    <tr>\n",
       "      <th>161</th>\n",
       "      <td>8/1/2019</td>\n",
       "      <td>14650.9</td>\n",
       "      <td>28.16</td>\n",
       "      <td>110.115</td>\n",
       "    </tr>\n",
       "    <tr>\n",
       "      <th>162</th>\n",
       "      <td>9/1/2019</td>\n",
       "      <td>14673.2</td>\n",
       "      <td>28.15</td>\n",
       "      <td>110.167</td>\n",
       "    </tr>\n",
       "    <tr>\n",
       "      <th>163</th>\n",
       "      <td>10/1/2019</td>\n",
       "      <td>14728.5</td>\n",
       "      <td>28.24</td>\n",
       "      <td>110.377</td>\n",
       "    </tr>\n",
       "    <tr>\n",
       "      <th>164</th>\n",
       "      <td>11/1/2019</td>\n",
       "      <td>14752.8</td>\n",
       "      <td>28.33</td>\n",
       "      <td>110.461</td>\n",
       "    </tr>\n",
       "    <tr>\n",
       "      <th>165</th>\n",
       "      <td>12/1/2019</td>\n",
       "      <td>14796.3</td>\n",
       "      <td>28.36</td>\n",
       "      <td>110.750</td>\n",
       "    </tr>\n",
       "  </tbody>\n",
       "</table>\n",
       "<p>166 rows × 4 columns</p>\n",
       "</div>"
      ],
      "text/plain": [
       "            ds      PCE    AHE    PCEPI\n",
       "0     3/1/2006   9122.1  20.04   88.473\n",
       "1     4/1/2006   9174.8  20.17   88.850\n",
       "2     5/1/2006   9215.1  20.13   89.070\n",
       "3     6/1/2006   9240.8  20.22   89.285\n",
       "4     7/1/2006   9322.6  20.30   89.601\n",
       "..         ...      ...    ...      ...\n",
       "161   8/1/2019  14650.9  28.16  110.115\n",
       "162   9/1/2019  14673.2  28.15  110.167\n",
       "163  10/1/2019  14728.5  28.24  110.377\n",
       "164  11/1/2019  14752.8  28.33  110.461\n",
       "165  12/1/2019  14796.3  28.36  110.750\n",
       "\n",
       "[166 rows x 4 columns]"
      ]
     },
     "execution_count": 87,
     "metadata": {},
     "output_type": "execute_result"
    }
   ],
   "source": [
    "data = data.rename(columns={'Unnamed: 0': 'ds'})\n",
    "data"
   ]
  },
  {
   "cell_type": "code",
   "execution_count": 88,
   "id": "c3f45084",
   "metadata": {},
   "outputs": [
    {
     "data": {
      "text/plain": [
       "(166, 4)"
      ]
     },
     "execution_count": 88,
     "metadata": {},
     "output_type": "execute_result"
    }
   ],
   "source": [
    "data.shape"
   ]
  },
  {
   "cell_type": "code",
   "execution_count": 89,
   "id": "afd7325d",
   "metadata": {},
   "outputs": [
    {
     "data": {
      "text/plain": [
       "ds       0.0\n",
       "PCE      0.0\n",
       "AHE      0.0\n",
       "PCEPI    0.0\n",
       "dtype: float64"
      ]
     },
     "execution_count": 89,
     "metadata": {},
     "output_type": "execute_result"
    }
   ],
   "source": [
    "missing_values=data.isna().sum()\n",
    "full=len(data)\n",
    "percent=(missing_values/full)*100\n",
    "percent"
   ]
  },
  {
   "cell_type": "code",
   "execution_count": 90,
   "id": "52921e1a",
   "metadata": {},
   "outputs": [
    {
     "data": {
      "text/html": [
       "<div>\n",
       "<style scoped>\n",
       "    .dataframe tbody tr th:only-of-type {\n",
       "        vertical-align: middle;\n",
       "    }\n",
       "\n",
       "    .dataframe tbody tr th {\n",
       "        vertical-align: top;\n",
       "    }\n",
       "\n",
       "    .dataframe thead th {\n",
       "        text-align: right;\n",
       "    }\n",
       "</style>\n",
       "<table border=\"1\" class=\"dataframe\">\n",
       "  <thead>\n",
       "    <tr style=\"text-align: right;\">\n",
       "      <th></th>\n",
       "      <th>PCE</th>\n",
       "      <th>AHE</th>\n",
       "      <th>PCEPI</th>\n",
       "    </tr>\n",
       "  </thead>\n",
       "  <tbody>\n",
       "    <tr>\n",
       "      <th>count</th>\n",
       "      <td>166.000000</td>\n",
       "      <td>166.000000</td>\n",
       "      <td>166.000000</td>\n",
       "    </tr>\n",
       "    <tr>\n",
       "      <th>mean</th>\n",
       "      <td>11507.872289</td>\n",
       "      <td>23.938193</td>\n",
       "      <td>100.006169</td>\n",
       "    </tr>\n",
       "    <tr>\n",
       "      <th>std</th>\n",
       "      <td>1630.579647</td>\n",
       "      <td>2.235573</td>\n",
       "      <td>6.028324</td>\n",
       "    </tr>\n",
       "    <tr>\n",
       "      <th>min</th>\n",
       "      <td>9122.100000</td>\n",
       "      <td>20.040000</td>\n",
       "      <td>88.473000</td>\n",
       "    </tr>\n",
       "    <tr>\n",
       "      <th>25%</th>\n",
       "      <td>10009.000000</td>\n",
       "      <td>22.237500</td>\n",
       "      <td>95.145000</td>\n",
       "    </tr>\n",
       "    <tr>\n",
       "      <th>50%</th>\n",
       "      <td>11204.100000</td>\n",
       "      <td>23.765000</td>\n",
       "      <td>100.861000</td>\n",
       "    </tr>\n",
       "    <tr>\n",
       "      <th>75%</th>\n",
       "      <td>12789.900000</td>\n",
       "      <td>25.675000</td>\n",
       "      <td>104.186250</td>\n",
       "    </tr>\n",
       "    <tr>\n",
       "      <th>max</th>\n",
       "      <td>14796.300000</td>\n",
       "      <td>28.360000</td>\n",
       "      <td>110.750000</td>\n",
       "    </tr>\n",
       "  </tbody>\n",
       "</table>\n",
       "</div>"
      ],
      "text/plain": [
       "                PCE         AHE       PCEPI\n",
       "count    166.000000  166.000000  166.000000\n",
       "mean   11507.872289   23.938193  100.006169\n",
       "std     1630.579647    2.235573    6.028324\n",
       "min     9122.100000   20.040000   88.473000\n",
       "25%    10009.000000   22.237500   95.145000\n",
       "50%    11204.100000   23.765000  100.861000\n",
       "75%    12789.900000   25.675000  104.186250\n",
       "max    14796.300000   28.360000  110.750000"
      ]
     },
     "execution_count": 90,
     "metadata": {},
     "output_type": "execute_result"
    }
   ],
   "source": [
    "data.describe()"
   ]
  },
  {
   "cell_type": "code",
   "execution_count": 91,
   "id": "68d895ba",
   "metadata": {},
   "outputs": [
    {
     "data": {
      "text/plain": [
       "ds        object\n",
       "PCE      float64\n",
       "AHE      float64\n",
       "PCEPI    float64\n",
       "dtype: object"
      ]
     },
     "execution_count": 91,
     "metadata": {},
     "output_type": "execute_result"
    }
   ],
   "source": [
    "data.dtypes"
   ]
  },
  {
   "cell_type": "code",
   "execution_count": 92,
   "id": "053eb2d7",
   "metadata": {},
   "outputs": [
    {
     "name": "stdout",
     "output_type": "stream",
     "text": [
      "Duplicate rows:  (0, 4)\n"
     ]
    }
   ],
   "source": [
    "duplicate_rows = data[data.duplicated()]\n",
    "print(\"Duplicate rows: \", duplicate_rows.shape)"
   ]
  },
  {
   "cell_type": "code",
   "execution_count": 93,
   "id": "b432122b",
   "metadata": {},
   "outputs": [
    {
     "data": {
      "text/plain": [
       "'ds'"
      ]
     },
     "execution_count": 93,
     "metadata": {},
     "output_type": "execute_result"
    }
   ],
   "source": [
    "data.columns[0]"
   ]
  },
  {
   "cell_type": "code",
   "execution_count": 94,
   "id": "0b116ffd",
   "metadata": {},
   "outputs": [
    {
     "name": "stdout",
     "output_type": "stream",
     "text": [
      "(array([], dtype=int64),)\n"
     ]
    },
    {
     "data": {
      "image/png": "[encoded data removed]",
      "text/plain": [
       "<Figure size 432x288 with 1 Axes>"
      ]
     },
     "metadata": {},
     "output_type": "display_data"
    }
   ],
   "source": [
    "sns.boxplot(x=data['PCE'])\n",
    "print(np.where(data['PCE']>data['PCE'].quantile(0.75) + (1.5 * (data['PCE'].quantile(0.75)-\n",
    "                                                                  data['PCE'].quantile(0.25)))))\n",
    "\n"
   ]
  },
  {
   "cell_type": "code",
   "execution_count": 95,
   "id": "3f4e53a8",
   "metadata": {},
   "outputs": [
    {
     "name": "stdout",
     "output_type": "stream",
     "text": [
      "(array([], dtype=int64),)\n"
     ]
    },
    {
     "data": {
      "image/png": "[encoded data removed]",
      "text/plain": [
       "<Figure size 432x288 with 1 Axes>"
      ]
     },
     "metadata": {},
     "output_type": "display_data"
    }
   ],
   "source": [
    "sns.boxplot(x=data['AHE'])\n",
    "print(np.where(data['AHE']>data['AHE'].quantile(0.75) + (1.5 * (data['AHE'].quantile(0.75)-\n",
    "                                                                  data['AHE'].quantile(0.25)))))\n",
    "\n"
   ]
  },
  {
   "cell_type": "code",
   "execution_count": 96,
   "id": "1d5e646c",
   "metadata": {},
   "outputs": [
    {
     "name": "stdout",
     "output_type": "stream",
     "text": [
      "(array([], dtype=int64),)\n"
     ]
    },
    {
     "data": {
      "image/png": "[encoded data removed]",
      "text/plain": [
       "<Figure size 432x288 with 1 Axes>"
      ]
     },
     "metadata": {},
     "output_type": "display_data"
    }
   ],
   "source": [
    "sns.boxplot(x=data['PCEPI'])\n",
    "print(np.where(data['PCEPI']>data['PCEPI'].quantile(0.75) + (1.5 * (data['PCEPI'].quantile(0.75)-\n",
    "                                                                  data['PCEPI'].quantile(0.25)))))"
   ]
  },
  {
   "cell_type": "code",
   "execution_count": 97,
   "id": "6dcffd79",
   "metadata": {},
   "outputs": [
    {
     "data": {
      "text/plain": [
       "<AxesSubplot:>"
      ]
     },
     "execution_count": 97,
     "metadata": {},
     "output_type": "execute_result"
    },
    {
     "data": {
      "image/png": "[encoded data removed]",
      "text/plain": [
       "<Figure size 432x288 with 1 Axes>"
      ]
     },
     "metadata": {},
     "output_type": "display_data"
    }
   ],
   "source": [
    "data['PCE'].hist()"
   ]
  },
  {
   "cell_type": "code",
   "execution_count": 98,
   "id": "f7303379",
   "metadata": {},
   "outputs": [
    {
     "data": {
      "text/plain": [
       "<AxesSubplot:>"
      ]
     },
     "execution_count": 98,
     "metadata": {},
     "output_type": "execute_result"
    },
    {
     "data": {
      "image/png": "[encoded data removed]",
      "text/plain": [
       "<Figure size 432x288 with 1 Axes>"
      ]
     },
     "metadata": {},
     "output_type": "display_data"
    }
   ],
   "source": [
    "data['AHE'].hist()"
   ]
  },
  {
   "cell_type": "code",
   "execution_count": 99,
   "id": "87960a39",
   "metadata": {},
   "outputs": [
    {
     "data": {
      "text/plain": [
       "<AxesSubplot:>"
      ]
     },
     "execution_count": 99,
     "metadata": {},
     "output_type": "execute_result"
    },
    {
     "data": {
      "image/png": "[encoded data removed]",
      "text/plain": [
       "<Figure size 432x288 with 1 Axes>"
      ]
     },
     "metadata": {},
     "output_type": "display_data"
    }
   ],
   "source": [
    "data['PCEPI'].hist()"
   ]
  },
  {
   "cell_type": "code",
   "execution_count": 100,
   "id": "a745add8",
   "metadata": {},
   "outputs": [
    {
     "data": {
      "text/plain": [
       "<AxesSubplot:>"
      ]
     },
     "execution_count": 100,
     "metadata": {},
     "output_type": "execute_result"
    },
    {
     "data": {
      "image/png": "[encoded data removed]",
      "text/plain": [
       "<Figure size 432x288 with 1 Axes>"
      ]
     },
     "metadata": {},
     "output_type": "display_data"
    }
   ],
   "source": [
    "data['PCE'].plot()\n"
   ]
  },
  {
   "cell_type": "code",
   "execution_count": 101,
   "id": "8f3a196f",
   "metadata": {},
   "outputs": [
    {
     "data": {
      "text/plain": [
       "<AxesSubplot:>"
      ]
     },
     "execution_count": 101,
     "metadata": {},
     "output_type": "execute_result"
    },
    {
     "data": {
      "image/png": "[encoded data removed]",
      "text/plain": [
       "<Figure size 432x288 with 1 Axes>"
      ]
     },
     "metadata": {},
     "output_type": "display_data"
    }
   ],
   "source": [
    "data['AHE'].plot()\n"
   ]
  },
  {
   "cell_type": "code",
   "execution_count": 102,
   "id": "5f16a2b4",
   "metadata": {},
   "outputs": [
    {
     "data": {
      "text/plain": [
       "<AxesSubplot:>"
      ]
     },
     "execution_count": 102,
     "metadata": {},
     "output_type": "execute_result"
    },
    {
     "data": {
      "image/png": "[encoded data removed]",
      "text/plain": [
       "<Figure size 432x288 with 1 Axes>"
      ]
     },
     "metadata": {},
     "output_type": "display_data"
    }
   ],
   "source": [
    "data['PCEPI'].plot()"
   ]
  },
  {
   "cell_type": "code",
   "execution_count": 103,
   "id": "7500d611",
   "metadata": {},
   "outputs": [
    {
     "data": {
      "text/plain": [
       "<AxesSubplot:>"
      ]
     },
     "execution_count": 103,
     "metadata": {},
     "output_type": "execute_result"
    },
    {
     "data": {
      "image/png": "[encoded data removed]",
      "text/plain": [
       "<Figure size 432x288 with 1 Axes>"
      ]
     },
     "metadata": {},
     "output_type": "display_data"
    }
   ],
   "source": [
    "data['PCE'].plot(legend=True)\n",
    "data['AHE'].plot(legend=True)\n",
    "data['PCEPI'].plot(legend=True)"
   ]
  },
  {
   "cell_type": "code",
   "execution_count": 104,
   "id": "291c4197",
   "metadata": {},
   "outputs": [
    {
     "data": {
      "image/png": "[encoded data removed]",
      "text/plain": [
       "<Figure size 432x288 with 1 Axes>"
      ]
     },
     "metadata": {},
     "output_type": "display_data"
    },
    {
     "data": {
      "image/png": "[encoded data removed]",
      "text/plain": [
       "<Figure size 432x288 with 1 Axes>"
      ]
     },
     "metadata": {},
     "output_type": "display_data"
    }
   ],
   "source": [
    "p=plot_acf(data['PCE'], lags=40,title='Autocorrelation Plot')\n",
    "p = plot_pacf(data['PCE'],lags=50,  title='Partial Autocorrelation Plot')"
   ]
  },
  {
   "cell_type": "code",
   "execution_count": 105,
   "id": "6fb09915",
   "metadata": {},
   "outputs": [
    {
     "data": {
      "image/png": "[encoded data removed]",
      "text/plain": [
       "<Figure size 432x288 with 1 Axes>"
      ]
     },
     "metadata": {},
     "output_type": "display_data"
    },
    {
     "data": {
      "image/png": "[encoded data removed]",
      "text/plain": [
       "<Figure size 432x288 with 1 Axes>"
      ]
     },
     "metadata": {},
     "output_type": "display_data"
    }
   ],
   "source": [
    "p=plot_acf(data['AHE'], lags=40,title='Autocorrelation Plot')\n",
    "p = plot_pacf(data['AHE'],lags=50,  title='Partial Autocorrelation Plot')"
   ]
  },
  {
   "cell_type": "code",
   "execution_count": 106,
   "id": "0697cf52",
   "metadata": {},
   "outputs": [
    {
     "data": {
      "image/png": "[encoded data removed]",
      "text/plain": [
       "<Figure size 432x288 with 1 Axes>"
      ]
     },
     "metadata": {},
     "output_type": "display_data"
    },
    {
     "data": {
      "image/png": "[encoded data removed]",
      "text/plain": [
       "<Figure size 432x288 with 1 Axes>"
      ]
     },
     "metadata": {},
     "output_type": "display_data"
    }
   ],
   "source": [
    "p=plot_acf(data['PCEPI'], lags=40,title='Autocorrelation Plot')\n",
    "p = plot_pacf(data['PCEPI'],lags=50,  title='Partial Autocorrelation Plot')"
   ]
  },
  {
   "cell_type": "code",
   "execution_count": 107,
   "id": "193463d0",
   "metadata": {},
   "outputs": [],
   "source": [
    "def adf_kpss_test(timeseries,trend='c'):\n",
    "    #Perform Dickey-Fuller test:\n",
    "    df_results=[]\n",
    "    kpss_results=[]\n",
    "    print ('Results of Dickey-Fuller Test:')\n",
    "    dftest = adfuller(timeseries, autolag='AIC')\n",
    "    dfoutput = pd.Series(dftest[0:4], index=['Test Statistic','p-value','#Lags Used','Number of Observations Used'])\n",
    "    for key,value in dftest[4].items():\n",
    "       dfoutput['Critical Value (%s)'%key] = value\n",
    "    print (dfoutput)\n",
    "    print(\"---------------\")\n",
    "    print ('Results of KPSS Test:')\n",
    "    kpsstest = kpss(timeseries, regression=trend)\n",
    "    kpss_output = pd.Series(kpsstest[0:3], index=['Test Statistic','p-value','Lags Used'])\n",
    "    for key,value in kpsstest[3].items():\n",
    "        kpss_output['Critical Value (%s)'%key] = value\n",
    "    print (kpss_output)\n",
    "    for i in dfoutput:\n",
    "        i=round(i,6)\n",
    "        df_results.append(i)\n",
    "    for i in kpss_output:\n",
    "        i=round(i,6)\n",
    "        kpss_results.append(i)\n",
    "    return (df_results,kpss_results)"
   ]
  },
  {
   "cell_type": "code",
   "execution_count": 108,
   "id": "f8af2ffd",
   "metadata": {},
   "outputs": [
    {
     "name": "stdout",
     "output_type": "stream",
     "text": [
      "Results of Dickey-Fuller Test:\n",
      "Test Statistic                   2.189889\n",
      "p-value                          0.998874\n",
      "#Lags Used                       2.000000\n",
      "Number of Observations Used    163.000000\n",
      "Critical Value (1%)             -3.471119\n",
      "Critical Value (5%)             -2.879441\n",
      "Critical Value (10%)            -2.576314\n",
      "dtype: float64\n",
      "---------------\n",
      "Results of KPSS Test:\n",
      "Test Statistic            1.190019\n",
      "p-value                   0.010000\n",
      "Lags Used                14.000000\n",
      "Critical Value (10%)      0.347000\n",
      "Critical Value (5%)       0.463000\n",
      "Critical Value (2.5%)     0.574000\n",
      "Critical Value (1%)       0.739000\n",
      "dtype: float64\n",
      "stationarity from ad_fuller test: False\n",
      "stationarity from KPSS test: False\n"
     ]
    }
   ],
   "source": [
    "alpha = 0.05\n",
    "ad_fuller_results,kpss_test_results = adf_kpss_test(data['PCE'], trend='c')\n",
    "ad_fuller_results\n",
    "ad_fuller_pval = ad_fuller_results[1]\n",
    "ad_fuller_bool = ad_fuller_pval <= alpha\n",
    "\n",
    "print(f'stationarity from ad_fuller test: {ad_fuller_bool}')\n",
    "\n",
    "kpss_pval = kpss_test_results[1]\n",
    "kpss_test_bool = kpss_pval >= alpha\n",
    "\n",
    "print(f'stationarity from KPSS test: {kpss_test_bool}')"
   ]
  },
  {
   "cell_type": "code",
   "execution_count": 109,
   "id": "b475ca40",
   "metadata": {},
   "outputs": [
    {
     "name": "stdout",
     "output_type": "stream",
     "text": [
      "Results of Dickey-Fuller Test:\n",
      "Test Statistic                   1.680032\n",
      "p-value                          0.998079\n",
      "#Lags Used                       9.000000\n",
      "Number of Observations Used    156.000000\n",
      "Critical Value (1%)             -3.472979\n",
      "Critical Value (5%)             -2.880252\n",
      "Critical Value (10%)            -2.576747\n",
      "dtype: float64\n",
      "---------------\n",
      "Results of KPSS Test:\n",
      "Test Statistic            1.207634\n",
      "p-value                   0.010000\n",
      "Lags Used                14.000000\n",
      "Critical Value (10%)      0.347000\n",
      "Critical Value (5%)       0.463000\n",
      "Critical Value (2.5%)     0.574000\n",
      "Critical Value (1%)       0.739000\n",
      "dtype: float64\n",
      "stationarity from ad_fuller test: False\n",
      "stationarity from KPSS test: False\n"
     ]
    }
   ],
   "source": [
    "alpha = 0.05\n",
    "ad_fuller_results,kpss_test_results = adf_kpss_test(data['AHE'], trend='c')\n",
    "ad_fuller_results\n",
    "ad_fuller_pval = ad_fuller_results[1]\n",
    "ad_fuller_bool = ad_fuller_pval <= alpha\n",
    "\n",
    "print(f'stationarity from ad_fuller test: {ad_fuller_bool}')\n",
    "\n",
    "kpss_pval = kpss_test_results[1]\n",
    "kpss_test_bool = kpss_pval >= alpha\n",
    "\n",
    "print(f'stationarity from KPSS test: {kpss_test_bool}')"
   ]
  },
  {
   "cell_type": "code",
   "execution_count": 110,
   "id": "3ca9a80f",
   "metadata": {},
   "outputs": [
    {
     "name": "stdout",
     "output_type": "stream",
     "text": [
      "Results of Dickey-Fuller Test:\n",
      "Test Statistic                  -0.434152\n",
      "p-value                          0.904239\n",
      "#Lags Used                       1.000000\n",
      "Number of Observations Used    164.000000\n",
      "Critical Value (1%)             -3.470866\n",
      "Critical Value (5%)             -2.879330\n",
      "Critical Value (10%)            -2.576255\n",
      "dtype: float64\n",
      "---------------\n",
      "Results of KPSS Test:\n",
      "Test Statistic            1.206769\n",
      "p-value                   0.010000\n",
      "Lags Used                14.000000\n",
      "Critical Value (10%)      0.347000\n",
      "Critical Value (5%)       0.463000\n",
      "Critical Value (2.5%)     0.574000\n",
      "Critical Value (1%)       0.739000\n",
      "dtype: float64\n",
      "stationarity from ad_fuller test: False\n",
      "stationarity from KPSS test: False\n"
     ]
    }
   ],
   "source": [
    "alpha = 0.05\n",
    "ad_fuller_results,kpss_test_results = adf_kpss_test(data['PCEPI'], trend='c')\n",
    "ad_fuller_results\n",
    "ad_fuller_pval = ad_fuller_results[1]\n",
    "ad_fuller_bool = ad_fuller_pval <= alpha\n",
    "\n",
    "print(f'stationarity from ad_fuller test: {ad_fuller_bool}')\n",
    "\n",
    "kpss_pval = kpss_test_results[1]\n",
    "kpss_test_bool = kpss_pval >= alpha\n",
    "\n",
    "print(f'stationarity from KPSS test: {kpss_test_bool}')"
   ]
  },
  {
   "cell_type": "markdown",
   "id": "fb5dec3b",
   "metadata": {},
   "source": [
    "#### B. 10 pts Give a summary of your findings"
   ]
  },
  {
   "cell_type": "markdown",
   "id": "3faacd27",
   "metadata": {},
   "source": [
    "In order to explore the data, I started by first reading in the data and looking at the first few and last few rows.I saw that there were 4 rows: the date, the PCE, AHE, and PCEPI. The date column went by months. I also renamed the date column to ds to easily be able to use it in any functions and analysis in the future.\n"
   ]
  },
  {
   "cell_type": "markdown",
   "id": "735a6925",
   "metadata": {},
   "source": [
    "By looking at the shape of the data set, I found that there are 166 rows in this dataset and 4 columns.. Next, I checked for any possible missing values in the dataset. I found that there were no missing values. I then checked the statistics for the dataset. I saw that the PCE clumn values ranged from 9122.8 to 14796.3, with the median being 11204.1. For the AHE column the values range from 20.04 to 28.36, with the median being 23.7. Lastly, the PCEPI column ranged from 88.47 to 110.75, with the median being 100.86. Next, I wanted to see what the data types were stored as so that if needed, I can do any conversion so that it is easier for future analysis. I found that since the datae column was stored as an object and the other three columns (PCE,AHE, and PCEPI) were stored as flot64 (integers), I did not need to do any type conversions for now. Next, I wanted to see if there were any duplicate rows. If there were, we would need to remove the duplicates. I found that there were no duplicate rows. Then, I proceeded to check for any outliers in the three data columns. I found that all three columns had no outliers. Then, I looked at the histograms for the three data columns so that I could easily visualize the spread of data. The PCE values were mostly concentrated around 10000 and the data looked pretty evenly spread. The AHE column also seemed somewhat evenly spread, but with the majority of values concentrated around 22-24. The PCEPI column has less of an even spread compared with the other two columns. Its values are concentrated around 103. Then, I plotted the three columns to better visualize them. I saw that the PCE column had a steady upward trend. There was a slight trench in the graph at 25 where there was a decrease. The AHE column had a steady upward trend too. The PCEPI column looks similar to the PCE column  where there a slight trench at 25. When I plotted them on the same graph, the AHE and PCEPI seemed to lay over each other. Next, I plotted the ACF and PACF plots. For PCE, The ACF is decays and in the PACF, the is just one large lag that is very significant (almost 1) at lag 1. For AHE, the ACF plot is decaying while the PACF plot again shows a large significance at lag 1. The PCEPI plot for ACF is decaying and the PACF plot shows a large spike at lag 1. Lastly, I could tell from the plots that there was no stationarity in the tree data columns since the mean was not stable and the variance was not stable.  I still checked the stationarity using ADF and KPSS test. They both confirmed my original hypothesis that there was an absence of stationarity in the data columns."
   ]
  },
  {
   "cell_type": "markdown",
   "id": "ead24ff5",
   "metadata": {},
   "source": [
    "### Part 2 – 40 pts Granger Causality"
   ]
  },
  {
   "cell_type": "markdown",
   "id": "c40ae668",
   "metadata": {},
   "source": [
    "#### A. 8 pts Consider PCE and AHE, give an intuitive description of the relationship between the two economic measures. This is your opinion, looking for logic and understanding not right or wrong"
   ]
  },
  {
   "cell_type": "markdown",
   "id": "3f51b78f",
   "metadata": {},
   "source": [
    "One gets income through working, which can be used to purchase goods and services. PCE is Personal consumptions expenditures. It is the primary measure of consumer spending on goods and services in the US economy. AHE is  Average hourly earnings in dollars per hours. If individuals earn more money ie. their salary or wage rate is higher, then then can use a specific amount of money for the necessities- food, clothing, utilities and still have a portions remaining for leisure spending. This leisure spending will increase if the ages goes up because people have a higher proportion of money to spend on activities, toys etc.\n",
    "\n",
    "Consumers choose their current comsumption level based on their purchasing power. Therefore, I believe as AHE increases, PCE will increase. However, I think that both will increase at a similar rate because if more people start to purchase goods, then the price of these goods will increase and less people will consume goods. "
   ]
  },
  {
   "cell_type": "markdown",
   "id": "21f7c8d1",
   "metadata": {},
   "source": [
    "#### B. 8 pts Difference the two variables"
   ]
  },
  {
   "cell_type": "code",
   "execution_count": 111,
   "id": "7d5b5528",
   "metadata": {},
   "outputs": [
    {
     "data": {
      "text/html": [
       "<div>\n",
       "<style scoped>\n",
       "    .dataframe tbody tr th:only-of-type {\n",
       "        vertical-align: middle;\n",
       "    }\n",
       "\n",
       "    .dataframe tbody tr th {\n",
       "        vertical-align: top;\n",
       "    }\n",
       "\n",
       "    .dataframe thead th {\n",
       "        text-align: right;\n",
       "    }\n",
       "</style>\n",
       "<table border=\"1\" class=\"dataframe\">\n",
       "  <thead>\n",
       "    <tr style=\"text-align: right;\">\n",
       "      <th></th>\n",
       "      <th>ds</th>\n",
       "      <th>PCE</th>\n",
       "      <th>AHE</th>\n",
       "      <th>PCEPI</th>\n",
       "    </tr>\n",
       "  </thead>\n",
       "  <tbody>\n",
       "    <tr>\n",
       "      <th>0</th>\n",
       "      <td>3/1/2006</td>\n",
       "      <td>9122.1</td>\n",
       "      <td>20.04</td>\n",
       "      <td>88.473</td>\n",
       "    </tr>\n",
       "    <tr>\n",
       "      <th>1</th>\n",
       "      <td>4/1/2006</td>\n",
       "      <td>9174.8</td>\n",
       "      <td>20.17</td>\n",
       "      <td>88.850</td>\n",
       "    </tr>\n",
       "    <tr>\n",
       "      <th>2</th>\n",
       "      <td>5/1/2006</td>\n",
       "      <td>9215.1</td>\n",
       "      <td>20.13</td>\n",
       "      <td>89.070</td>\n",
       "    </tr>\n",
       "    <tr>\n",
       "      <th>3</th>\n",
       "      <td>6/1/2006</td>\n",
       "      <td>9240.8</td>\n",
       "      <td>20.22</td>\n",
       "      <td>89.285</td>\n",
       "    </tr>\n",
       "    <tr>\n",
       "      <th>4</th>\n",
       "      <td>7/1/2006</td>\n",
       "      <td>9322.6</td>\n",
       "      <td>20.30</td>\n",
       "      <td>89.601</td>\n",
       "    </tr>\n",
       "    <tr>\n",
       "      <th>...</th>\n",
       "      <td>...</td>\n",
       "      <td>...</td>\n",
       "      <td>...</td>\n",
       "      <td>...</td>\n",
       "    </tr>\n",
       "    <tr>\n",
       "      <th>161</th>\n",
       "      <td>8/1/2019</td>\n",
       "      <td>14650.9</td>\n",
       "      <td>28.16</td>\n",
       "      <td>110.115</td>\n",
       "    </tr>\n",
       "    <tr>\n",
       "      <th>162</th>\n",
       "      <td>9/1/2019</td>\n",
       "      <td>14673.2</td>\n",
       "      <td>28.15</td>\n",
       "      <td>110.167</td>\n",
       "    </tr>\n",
       "    <tr>\n",
       "      <th>163</th>\n",
       "      <td>10/1/2019</td>\n",
       "      <td>14728.5</td>\n",
       "      <td>28.24</td>\n",
       "      <td>110.377</td>\n",
       "    </tr>\n",
       "    <tr>\n",
       "      <th>164</th>\n",
       "      <td>11/1/2019</td>\n",
       "      <td>14752.8</td>\n",
       "      <td>28.33</td>\n",
       "      <td>110.461</td>\n",
       "    </tr>\n",
       "    <tr>\n",
       "      <th>165</th>\n",
       "      <td>12/1/2019</td>\n",
       "      <td>14796.3</td>\n",
       "      <td>28.36</td>\n",
       "      <td>110.750</td>\n",
       "    </tr>\n",
       "  </tbody>\n",
       "</table>\n",
       "<p>166 rows × 4 columns</p>\n",
       "</div>"
      ],
      "text/plain": [
       "            ds      PCE    AHE    PCEPI\n",
       "0     3/1/2006   9122.1  20.04   88.473\n",
       "1     4/1/2006   9174.8  20.17   88.850\n",
       "2     5/1/2006   9215.1  20.13   89.070\n",
       "3     6/1/2006   9240.8  20.22   89.285\n",
       "4     7/1/2006   9322.6  20.30   89.601\n",
       "..         ...      ...    ...      ...\n",
       "161   8/1/2019  14650.9  28.16  110.115\n",
       "162   9/1/2019  14673.2  28.15  110.167\n",
       "163  10/1/2019  14728.5  28.24  110.377\n",
       "164  11/1/2019  14752.8  28.33  110.461\n",
       "165  12/1/2019  14796.3  28.36  110.750\n",
       "\n",
       "[166 rows x 4 columns]"
      ]
     },
     "execution_count": 111,
     "metadata": {},
     "output_type": "execute_result"
    }
   ],
   "source": [
    "data"
   ]
  },
  {
   "cell_type": "code",
   "execution_count": 112,
   "id": "8d70960d",
   "metadata": {},
   "outputs": [
    {
     "data": {
      "text/plain": [
       "2006-03    20.04\n",
       "2006-04    20.17\n",
       "2006-05    20.13\n",
       "2006-06    20.22\n",
       "2006-07    20.30\n",
       "           ...  \n",
       "2019-08    28.16\n",
       "2019-09    28.15\n",
       "2019-10    28.24\n",
       "2019-11    28.33\n",
       "2019-12    28.36\n",
       "Freq: M, Name: AHE, Length: 166, dtype: float64"
      ]
     },
     "execution_count": 112,
     "metadata": {},
     "output_type": "execute_result"
    }
   ],
   "source": [
    "data_series_AHE=data['AHE']\n",
    "data_series_AHE.index=pd.core.indexes.period.PeriodIndex(data['ds'].tolist(),freq='m')\n",
    "data_series_AHE"
   ]
  },
  {
   "cell_type": "code",
   "execution_count": 113,
   "id": "23ef0f66",
   "metadata": {},
   "outputs": [
    {
     "data": {
      "text/plain": [
       "2006-03     9122.1\n",
       "2006-04     9174.8\n",
       "2006-05     9215.1\n",
       "2006-06     9240.8\n",
       "2006-07     9322.6\n",
       "            ...   \n",
       "2019-08    14650.9\n",
       "2019-09    14673.2\n",
       "2019-10    14728.5\n",
       "2019-11    14752.8\n",
       "2019-12    14796.3\n",
       "Freq: M, Name: PCE, Length: 166, dtype: float64"
      ]
     },
     "execution_count": 113,
     "metadata": {},
     "output_type": "execute_result"
    }
   ],
   "source": [
    "data_series_PCE=data['PCE']\n",
    "data_series_PCE.index=pd.core.indexes.period.PeriodIndex(data['ds'].tolist(),freq='m')\n",
    "data_series_PCE"
   ]
  },
  {
   "cell_type": "markdown",
   "id": "00019ba7",
   "metadata": {},
   "source": [
    "Differencing AHE"
   ]
  },
  {
   "cell_type": "code",
   "execution_count": 114,
   "id": "9efc3cc1",
   "metadata": {},
   "outputs": [
    {
     "data": {
      "text/plain": [
       "<AxesSubplot:>"
      ]
     },
     "execution_count": 114,
     "metadata": {},
     "output_type": "execute_result"
    },
    {
     "data": {
      "image/png": "[encoded data removed]",
      "text/plain": [
       "<Figure size 432x288 with 1 Axes>"
      ]
     },
     "metadata": {},
     "output_type": "display_data"
    }
   ],
   "source": [
    "AHE_nonseas_diff = data_series_AHE.diff().dropna()\n",
    "AHE_nonseas_diff.plot()"
   ]
  },
  {
   "cell_type": "code",
   "execution_count": 115,
   "id": "e2cd3937",
   "metadata": {},
   "outputs": [
    {
     "name": "stdout",
     "output_type": "stream",
     "text": [
      "Results of Dickey-Fuller Test:\n",
      "Test Statistic                  -1.012276\n",
      "p-value                          0.748761\n",
      "#Lags Used                      14.000000\n",
      "Number of Observations Used    150.000000\n",
      "Critical Value (1%)             -3.474715\n",
      "Critical Value (5%)             -2.881009\n",
      "Critical Value (10%)            -2.577151\n",
      "dtype: float64\n",
      "---------------\n",
      "Results of KPSS Test:\n",
      "Test Statistic            0.456203\n",
      "p-value                   0.052930\n",
      "Lags Used                14.000000\n",
      "Critical Value (10%)      0.347000\n",
      "Critical Value (5%)       0.463000\n",
      "Critical Value (2.5%)     0.574000\n",
      "Critical Value (1%)       0.739000\n",
      "dtype: float64\n",
      "stationarity from ad_fuller test: False\n",
      "stationarity from KPSS test: True\n"
     ]
    }
   ],
   "source": [
    "alpha = 0.05\n",
    "ad_fuller_results,kpss_test_results = adf_kpss_test(AHE_nonseas_diff, trend='c')\n",
    "ad_fuller_results\n",
    "ad_fuller_pval = ad_fuller_results[1]\n",
    "ad_fuller_bool = ad_fuller_pval <= alpha\n",
    "\n",
    "print(f'stationarity from ad_fuller test: {ad_fuller_bool}')\n",
    "\n",
    "kpss_pval = kpss_test_results[1]\n",
    "kpss_test_bool = kpss_pval >= alpha\n",
    "\n",
    "print(f'stationarity from KPSS test: {kpss_test_bool}')"
   ]
  },
  {
   "cell_type": "code",
   "execution_count": 116,
   "id": "2f1ff12b",
   "metadata": {},
   "outputs": [
    {
     "name": "stdout",
     "output_type": "stream",
     "text": [
      "Results of Dickey-Fuller Test:\n",
      "Test Statistic                  -1.012276\n",
      "p-value                          0.748761\n",
      "#Lags Used                      14.000000\n",
      "Number of Observations Used    150.000000\n",
      "Critical Value (1%)             -3.474715\n",
      "Critical Value (5%)             -2.881009\n",
      "Critical Value (10%)            -2.577151\n",
      "dtype: float64\n",
      "---------------\n",
      "Results of KPSS Test:\n",
      "Test Statistic            0.456203\n",
      "p-value                   0.052930\n",
      "Lags Used                14.000000\n",
      "Critical Value (10%)      0.347000\n",
      "Critical Value (5%)       0.463000\n",
      "Critical Value (2.5%)     0.574000\n",
      "Critical Value (1%)       0.739000\n",
      "dtype: float64\n",
      "stationarity from ad_fuller test: False\n",
      "stationarity from KPSS test: True\n"
     ]
    }
   ],
   "source": [
    "alpha = 0.05\n",
    "ad_fuller_results,kpss_test_results = adf_kpss_test(AHE_nonseas_diff, trend='c')\n",
    "ad_fuller_results\n",
    "ad_fuller_pval = ad_fuller_results[1]\n",
    "ad_fuller_bool = ad_fuller_pval <= alpha\n",
    "\n",
    "print(f'stationarity from ad_fuller test: {ad_fuller_bool}')\n",
    "\n",
    "kpss_pval = kpss_test_results[1]\n",
    "kpss_test_bool = kpss_pval >= alpha\n",
    "\n",
    "print(f'stationarity from KPSS test: {kpss_test_bool}')"
   ]
  },
  {
   "cell_type": "markdown",
   "id": "6614c6e0",
   "metadata": {},
   "source": [
    "Differencing PCE"
   ]
  },
  {
   "cell_type": "code",
   "execution_count": 117,
   "id": "47e970fa",
   "metadata": {},
   "outputs": [
    {
     "data": {
      "text/plain": [
       "<AxesSubplot:>"
      ]
     },
     "execution_count": 117,
     "metadata": {},
     "output_type": "execute_result"
    },
    {
     "data": {
      "image/png": "[encoded data removed]",
      "text/plain": [
       "<Figure size 432x288 with 1 Axes>"
      ]
     },
     "metadata": {},
     "output_type": "display_data"
    }
   ],
   "source": [
    "PCE_nonseas_diff = data_series_PCE.diff().dropna()\n",
    "PCE_nonseas_diff.plot()"
   ]
  },
  {
   "cell_type": "code",
   "execution_count": 118,
   "id": "472565e6",
   "metadata": {},
   "outputs": [
    {
     "name": "stdout",
     "output_type": "stream",
     "text": [
      "Results of Dickey-Fuller Test:\n",
      "Test Statistic                -6.605709e+00\n",
      "p-value                        6.564988e-09\n",
      "#Lags Used                     1.000000e+00\n",
      "Number of Observations Used    1.630000e+02\n",
      "Critical Value (1%)           -3.471119e+00\n",
      "Critical Value (5%)           -2.879441e+00\n",
      "Critical Value (10%)          -2.576314e+00\n",
      "dtype: float64\n",
      "---------------\n",
      "Results of KPSS Test:\n",
      "Test Statistic            0.487339\n",
      "p-value                   0.044518\n",
      "Lags Used                14.000000\n",
      "Critical Value (10%)      0.347000\n",
      "Critical Value (5%)       0.463000\n",
      "Critical Value (2.5%)     0.574000\n",
      "Critical Value (1%)       0.739000\n",
      "dtype: float64\n",
      "stationarity from ad_fuller test: True\n",
      "stationarity from KPSS test: False\n"
     ]
    }
   ],
   "source": [
    "alpha = 0.05\n",
    "ad_fuller_results,kpss_test_results = adf_kpss_test(PCE_nonseas_diff, trend='c')\n",
    "ad_fuller_results\n",
    "ad_fuller_pval = ad_fuller_results[1]\n",
    "ad_fuller_bool = ad_fuller_pval <= alpha\n",
    "\n",
    "print(f'stationarity from ad_fuller test: {ad_fuller_bool}')\n",
    "\n",
    "kpss_pval = kpss_test_results[1]\n",
    "kpss_test_bool = kpss_pval >= alpha\n",
    "\n",
    "print(f'stationarity from KPSS test: {kpss_test_bool}')"
   ]
  },
  {
   "cell_type": "code",
   "execution_count": 119,
   "id": "1359b07e",
   "metadata": {},
   "outputs": [
    {
     "name": "stdout",
     "output_type": "stream",
     "text": [
      "Results of Dickey-Fuller Test:\n",
      "Test Statistic                -6.605709e+00\n",
      "p-value                        6.564988e-09\n",
      "#Lags Used                     1.000000e+00\n",
      "Number of Observations Used    1.630000e+02\n",
      "Critical Value (1%)           -3.471119e+00\n",
      "Critical Value (5%)           -2.879441e+00\n",
      "Critical Value (10%)          -2.576314e+00\n",
      "dtype: float64\n",
      "---------------\n",
      "Results of KPSS Test:\n",
      "Test Statistic            0.487339\n",
      "p-value                   0.044518\n",
      "Lags Used                14.000000\n",
      "Critical Value (10%)      0.347000\n",
      "Critical Value (5%)       0.463000\n",
      "Critical Value (2.5%)     0.574000\n",
      "Critical Value (1%)       0.739000\n",
      "dtype: float64\n",
      "stationarity from ad_fuller test: True\n",
      "stationarity from KPSS test: False\n"
     ]
    }
   ],
   "source": [
    "alpha = 0.05\n",
    "ad_fuller_results,kpss_test_results = adf_kpss_test(PCE_nonseas_diff, trend='c')\n",
    "ad_fuller_results\n",
    "ad_fuller_pval = ad_fuller_results[1]\n",
    "ad_fuller_bool = ad_fuller_pval <= alpha\n",
    "\n",
    "print(f'stationarity from ad_fuller test: {ad_fuller_bool}')\n",
    "\n",
    "kpss_pval = kpss_test_results[1]\n",
    "kpss_test_bool = kpss_pval >= alpha\n",
    "\n",
    "print(f'stationarity from KPSS test: {kpss_test_bool}')"
   ]
  },
  {
   "cell_type": "markdown",
   "id": "5be44b48",
   "metadata": {},
   "source": [
    "#### C. 8 pts Check Granger Causality for the direction you stated in 2A, return plot of results"
   ]
  },
  {
   "cell_type": "code",
   "execution_count": 120,
   "id": "ad658f92",
   "metadata": {},
   "outputs": [],
   "source": [
    "from statsmodels.tsa.stattools import grangercausalitytests, q_stat"
   ]
  },
  {
   "cell_type": "markdown",
   "id": "6563ce91",
   "metadata": {},
   "source": [
    "Does AHE Granger Cause PCE?"
   ]
  },
  {
   "cell_type": "code",
   "execution_count": 121,
   "id": "3e2f6b73",
   "metadata": {},
   "outputs": [
    {
     "data": {
      "text/html": [
       "<div>\n",
       "<style scoped>\n",
       "    .dataframe tbody tr th:only-of-type {\n",
       "        vertical-align: middle;\n",
       "    }\n",
       "\n",
       "    .dataframe tbody tr th {\n",
       "        vertical-align: top;\n",
       "    }\n",
       "\n",
       "    .dataframe thead th {\n",
       "        text-align: right;\n",
       "    }\n",
       "</style>\n",
       "<table border=\"1\" class=\"dataframe\">\n",
       "  <thead>\n",
       "    <tr style=\"text-align: right;\">\n",
       "      <th></th>\n",
       "      <th>PCE</th>\n",
       "      <th>AHE</th>\n",
       "    </tr>\n",
       "  </thead>\n",
       "  <tbody>\n",
       "    <tr>\n",
       "      <th>2006-04</th>\n",
       "      <td>52.7</td>\n",
       "      <td>0.13</td>\n",
       "    </tr>\n",
       "    <tr>\n",
       "      <th>2006-05</th>\n",
       "      <td>40.3</td>\n",
       "      <td>-0.04</td>\n",
       "    </tr>\n",
       "    <tr>\n",
       "      <th>2006-06</th>\n",
       "      <td>25.7</td>\n",
       "      <td>0.09</td>\n",
       "    </tr>\n",
       "    <tr>\n",
       "      <th>2006-07</th>\n",
       "      <td>81.8</td>\n",
       "      <td>0.08</td>\n",
       "    </tr>\n",
       "    <tr>\n",
       "      <th>2006-08</th>\n",
       "      <td>-0.8</td>\n",
       "      <td>0.02</td>\n",
       "    </tr>\n",
       "    <tr>\n",
       "      <th>...</th>\n",
       "      <td>...</td>\n",
       "      <td>...</td>\n",
       "    </tr>\n",
       "    <tr>\n",
       "      <th>2019-08</th>\n",
       "      <td>39.0</td>\n",
       "      <td>0.12</td>\n",
       "    </tr>\n",
       "    <tr>\n",
       "      <th>2019-09</th>\n",
       "      <td>22.3</td>\n",
       "      <td>-0.01</td>\n",
       "    </tr>\n",
       "    <tr>\n",
       "      <th>2019-10</th>\n",
       "      <td>55.3</td>\n",
       "      <td>0.09</td>\n",
       "    </tr>\n",
       "    <tr>\n",
       "      <th>2019-11</th>\n",
       "      <td>24.3</td>\n",
       "      <td>0.09</td>\n",
       "    </tr>\n",
       "    <tr>\n",
       "      <th>2019-12</th>\n",
       "      <td>43.5</td>\n",
       "      <td>0.03</td>\n",
       "    </tr>\n",
       "  </tbody>\n",
       "</table>\n",
       "<p>165 rows × 2 columns</p>\n",
       "</div>"
      ],
      "text/plain": [
       "          PCE   AHE\n",
       "2006-04  52.7  0.13\n",
       "2006-05  40.3 -0.04\n",
       "2006-06  25.7  0.09\n",
       "2006-07  81.8  0.08\n",
       "2006-08  -0.8  0.02\n",
       "...       ...   ...\n",
       "2019-08  39.0  0.12\n",
       "2019-09  22.3 -0.01\n",
       "2019-10  55.3  0.09\n",
       "2019-11  24.3  0.09\n",
       "2019-12  43.5  0.03\n",
       "\n",
       "[165 rows x 2 columns]"
      ]
     },
     "execution_count": 121,
     "metadata": {},
     "output_type": "execute_result"
    }
   ],
   "source": [
    "granger=pd.DataFrame()\n",
    "granger['PCE']=PCE_nonseas_diff\n",
    "granger['AHE']=AHE_nonseas_diff\n",
    "granger.index=PCE_nonseas_diff.index\n",
    "granger"
   ]
  },
  {
   "cell_type": "code",
   "execution_count": 122,
   "id": "6d95ed8e",
   "metadata": {},
   "outputs": [
    {
     "name": "stdout",
     "output_type": "stream",
     "text": [
      "\n",
      "Granger Causality\n",
      "number of lags (no zero) 1\n",
      "ssr based F test:         F=0.0285  , p=0.8662  , df_denom=161, df_num=1\n",
      "ssr based chi2 test:   chi2=0.0290  , p=0.8648  , df=1\n",
      "likelihood ratio test: chi2=0.0290  , p=0.8648  , df=1\n",
      "parameter F test:         F=0.0285  , p=0.8662  , df_denom=161, df_num=1\n",
      "\n",
      "Granger Causality\n",
      "number of lags (no zero) 2\n",
      "ssr based F test:         F=0.1227  , p=0.8846  , df_denom=158, df_num=2\n",
      "ssr based chi2 test:   chi2=0.2531  , p=0.8811  , df=2\n",
      "likelihood ratio test: chi2=0.2529  , p=0.8812  , df=2\n",
      "parameter F test:         F=0.1227  , p=0.8846  , df_denom=158, df_num=2\n",
      "\n",
      "Granger Causality\n",
      "number of lags (no zero) 3\n",
      "ssr based F test:         F=0.1740  , p=0.9138  , df_denom=155, df_num=3\n",
      "ssr based chi2 test:   chi2=0.5457  , p=0.9087  , df=3\n",
      "likelihood ratio test: chi2=0.5448  , p=0.9089  , df=3\n",
      "parameter F test:         F=0.1740  , p=0.9138  , df_denom=155, df_num=3\n",
      "\n",
      "Granger Causality\n",
      "number of lags (no zero) 4\n",
      "ssr based F test:         F=0.5205  , p=0.7208  , df_denom=152, df_num=4\n",
      "ssr based chi2 test:   chi2=2.2052  , p=0.6981  , df=4\n",
      "likelihood ratio test: chi2=2.1903  , p=0.7008  , df=4\n",
      "parameter F test:         F=0.5205  , p=0.7208  , df_denom=152, df_num=4\n",
      "\n",
      "Granger Causality\n",
      "number of lags (no zero) 5\n",
      "ssr based F test:         F=0.5312  , p=0.7524  , df_denom=149, df_num=5\n",
      "ssr based chi2 test:   chi2=2.8518  , p=0.7228  , df=5\n",
      "likelihood ratio test: chi2=2.8267  , p=0.7267  , df=5\n",
      "parameter F test:         F=0.5312  , p=0.7524  , df_denom=149, df_num=5\n",
      "\n",
      "Granger Causality\n",
      "number of lags (no zero) 6\n",
      "ssr based F test:         F=0.5335  , p=0.7821  , df_denom=146, df_num=6\n",
      "ssr based chi2 test:   chi2=3.4861  , p=0.7458  , df=6\n",
      "likelihood ratio test: chi2=3.4484  , p=0.7508  , df=6\n",
      "parameter F test:         F=0.5335  , p=0.7821  , df_denom=146, df_num=6\n",
      "\n",
      "Granger Causality\n",
      "number of lags (no zero) 7\n",
      "ssr based F test:         F=0.5116  , p=0.8247  , df_denom=143, df_num=7\n",
      "ssr based chi2 test:   chi2=3.9568  , p=0.7847  , df=7\n",
      "likelihood ratio test: chi2=3.9081  , p=0.7903  , df=7\n",
      "parameter F test:         F=0.5116  , p=0.8247  , df_denom=143, df_num=7\n",
      "\n",
      "Granger Causality\n",
      "number of lags (no zero) 8\n",
      "ssr based F test:         F=0.4807  , p=0.8683  , df_denom=140, df_num=8\n",
      "ssr based chi2 test:   chi2=4.3122  , p=0.8279  , df=8\n",
      "likelihood ratio test: chi2=4.2540  , p=0.8335  , df=8\n",
      "parameter F test:         F=0.4807  , p=0.8683  , df_denom=140, df_num=8\n",
      "\n",
      "Granger Causality\n",
      "number of lags (no zero) 9\n",
      "ssr based F test:         F=0.4320  , p=0.9159  , df_denom=137, df_num=9\n",
      "ssr based chi2 test:   chi2=4.4271  , p=0.8811  , df=9\n",
      "likelihood ratio test: chi2=4.3654  , p=0.8858  , df=9\n",
      "parameter F test:         F=0.4320  , p=0.9159  , df_denom=137, df_num=9\n",
      "\n",
      "Granger Causality\n",
      "number of lags (no zero) 10\n",
      "ssr based F test:         F=0.4233  , p=0.9333  , df_denom=134, df_num=10\n",
      "ssr based chi2 test:   chi2=4.8967  , p=0.8980  , df=10\n",
      "likelihood ratio test: chi2=4.8209  , p=0.9028  , df=10\n",
      "parameter F test:         F=0.4233  , p=0.9333  , df_denom=134, df_num=10\n",
      "\n",
      "Granger Causality\n",
      "number of lags (no zero) 11\n",
      "ssr based F test:         F=0.6223  , p=0.8072  , df_denom=131, df_num=11\n",
      "ssr based chi2 test:   chi2=8.0468  , p=0.7091  , df=11\n",
      "likelihood ratio test: chi2=7.8436  , p=0.7272  , df=11\n",
      "parameter F test:         F=0.6223  , p=0.8072  , df_denom=131, df_num=11\n",
      "\n",
      "Granger Causality\n",
      "number of lags (no zero) 12\n",
      "ssr based F test:         F=0.6031  , p=0.8363  , df_denom=128, df_num=12\n",
      "ssr based chi2 test:   chi2=8.6512  , p=0.7324  , df=12\n",
      "likelihood ratio test: chi2=8.4154  , p=0.7519  , df=12\n",
      "parameter F test:         F=0.6031  , p=0.8363  , df_denom=128, df_num=12\n",
      "\n",
      "Granger Causality\n",
      "number of lags (no zero) 13\n",
      "ssr based F test:         F=0.5829  , p=0.8640  , df_denom=125, df_num=13\n",
      "ssr based chi2 test:   chi2=9.2150  , p=0.7565  , df=13\n",
      "likelihood ratio test: chi2=8.9465  , p=0.7770  , df=13\n",
      "parameter F test:         F=0.5829  , p=0.8640  , df_denom=125, df_num=13\n",
      "\n",
      "Granger Causality\n",
      "number of lags (no zero) 14\n",
      "ssr based F test:         F=0.6559  , p=0.8126  , df_denom=122, df_num=14\n",
      "ssr based chi2 test:   chi2=11.3653 , p=0.6571  , df=14\n",
      "likelihood ratio test: chi2=10.9579 , p=0.6893  , df=14\n",
      "parameter F test:         F=0.6559  , p=0.8126  , df_denom=122, df_num=14\n",
      "\n",
      "Granger Causality\n",
      "number of lags (no zero) 15\n",
      "ssr based F test:         F=0.6633  , p=0.8155  , df_denom=119, df_num=15\n",
      "ssr based chi2 test:   chi2=12.5408 , p=0.6377  , df=15\n",
      "likelihood ratio test: chi2=12.0440 , p=0.6757  , df=15\n",
      "parameter F test:         F=0.6633  , p=0.8155  , df_denom=119, df_num=15\n",
      "\n",
      "Granger Causality\n",
      "number of lags (no zero) 16\n",
      "ssr based F test:         F=0.8073  , p=0.6749  , df_denom=116, df_num=16\n",
      "ssr based chi2 test:   chi2=16.5911 , p=0.4125  , df=16\n",
      "likelihood ratio test: chi2=15.7307 , p=0.4719  , df=16\n",
      "parameter F test:         F=0.8073  , p=0.6749  , df_denom=116, df_num=16\n",
      "\n",
      "Granger Causality\n",
      "number of lags (no zero) 17\n",
      "ssr based F test:         F=0.7541  , p=0.7408  , df_denom=113, df_num=17\n",
      "ssr based chi2 test:   chi2=16.7896 , p=0.4687  , df=17\n",
      "likelihood ratio test: chi2=15.9036 , p=0.5307  , df=17\n",
      "parameter F test:         F=0.7541  , p=0.7408  , df_denom=113, df_num=17\n",
      "\n",
      "Granger Causality\n",
      "number of lags (no zero) 18\n",
      "ssr based F test:         F=0.7805  , p=0.7187  , df_denom=110, df_num=18\n",
      "ssr based chi2 test:   chi2=18.7734 , p=0.4059  , df=18\n",
      "likelihood ratio test: chi2=17.6678 , p=0.4777  , df=18\n",
      "parameter F test:         F=0.7805  , p=0.7187  , df_denom=110, df_num=18\n",
      "\n",
      "Granger Causality\n",
      "number of lags (no zero) 19\n",
      "ssr based F test:         F=0.8475  , p=0.6466  , df_denom=107, df_num=19\n",
      "ssr based chi2 test:   chi2=21.9724 , p=0.2856  , df=19\n",
      "likelihood ratio test: chi2=20.4681 , p=0.3669  , df=19\n",
      "parameter F test:         F=0.8475  , p=0.6466  , df_denom=107, df_num=19\n",
      "\n",
      "Granger Causality\n",
      "number of lags (no zero) 20\n",
      "ssr based F test:         F=0.8000  , p=0.7083  , df_denom=104, df_num=20\n",
      "ssr based chi2 test:   chi2=22.3065 , p=0.3241  , df=20\n",
      "likelihood ratio test: chi2=20.7486 , p=0.4121  , df=20\n",
      "parameter F test:         F=0.8000  , p=0.7083  , df_denom=104, df_num=20\n"
     ]
    }
   ],
   "source": [
    "granger_results = grangercausalitytests(granger, maxlag=20, verbose=True)"
   ]
  },
  {
   "cell_type": "code",
   "execution_count": 123,
   "id": "0d2d3361",
   "metadata": {},
   "outputs": [
    {
     "data": {
      "image/png": "[encoded data removed]",
      "text/plain": [
       "<Figure size 432x288 with 1 Axes>"
      ]
     },
     "metadata": {},
     "output_type": "display_data"
    }
   ],
   "source": [
    "alpha=0.05\n",
    "res_list = []\n",
    "for lag, v in granger_results.items():\n",
    "    res = {}\n",
    "    res['Lag'] = lag\n",
    "    for test, stats in v[0].items():\n",
    "        res[test] = stats[1]\n",
    "\n",
    "    res_list.append(res)\n",
    "\n",
    "pvals = pd.DataFrame(res_list)\n",
    "pvals.set_index('Lag', inplace=True)\n",
    "pvals_graph = pvals['params_ftest']\n",
    "\n",
    "pvals_graph.plot(title='Granger Causality Test')\n",
    "alpha_ser = pd.Series([alpha]*len(pvals_graph), index=pvals_graph.index)\n",
    "alpha_ser.plot(color='red')\n",
    "plt.ylabel('p-value')\n",
    "# plt.legend()\n",
    "\n",
    "plt.show()"
   ]
  },
  {
   "cell_type": "markdown",
   "id": "d3f0c02d",
   "metadata": {},
   "source": [
    "AHE doesn't granger causes PCE"
   ]
  },
  {
   "cell_type": "markdown",
   "id": "72f900e6",
   "metadata": {},
   "source": [
    "#### D. 8 pts Check Granger Causality for the opposite direction you stated in 2A, return plot of results"
   ]
  },
  {
   "cell_type": "markdown",
   "id": "8167b385",
   "metadata": {},
   "source": [
    "Does PCE granger cause AHE"
   ]
  },
  {
   "cell_type": "code",
   "execution_count": 124,
   "id": "98e32b09",
   "metadata": {},
   "outputs": [
    {
     "data": {
      "text/html": [
       "<div>\n",
       "<style scoped>\n",
       "    .dataframe tbody tr th:only-of-type {\n",
       "        vertical-align: middle;\n",
       "    }\n",
       "\n",
       "    .dataframe tbody tr th {\n",
       "        vertical-align: top;\n",
       "    }\n",
       "\n",
       "    .dataframe thead th {\n",
       "        text-align: right;\n",
       "    }\n",
       "</style>\n",
       "<table border=\"1\" class=\"dataframe\">\n",
       "  <thead>\n",
       "    <tr style=\"text-align: right;\">\n",
       "      <th></th>\n",
       "      <th>AHE</th>\n",
       "      <th>PCE</th>\n",
       "    </tr>\n",
       "  </thead>\n",
       "  <tbody>\n",
       "    <tr>\n",
       "      <th>2006-04</th>\n",
       "      <td>0.13</td>\n",
       "      <td>52.7</td>\n",
       "    </tr>\n",
       "    <tr>\n",
       "      <th>2006-05</th>\n",
       "      <td>-0.04</td>\n",
       "      <td>40.3</td>\n",
       "    </tr>\n",
       "    <tr>\n",
       "      <th>2006-06</th>\n",
       "      <td>0.09</td>\n",
       "      <td>25.7</td>\n",
       "    </tr>\n",
       "    <tr>\n",
       "      <th>2006-07</th>\n",
       "      <td>0.08</td>\n",
       "      <td>81.8</td>\n",
       "    </tr>\n",
       "    <tr>\n",
       "      <th>2006-08</th>\n",
       "      <td>0.02</td>\n",
       "      <td>-0.8</td>\n",
       "    </tr>\n",
       "    <tr>\n",
       "      <th>...</th>\n",
       "      <td>...</td>\n",
       "      <td>...</td>\n",
       "    </tr>\n",
       "    <tr>\n",
       "      <th>2019-08</th>\n",
       "      <td>0.12</td>\n",
       "      <td>39.0</td>\n",
       "    </tr>\n",
       "    <tr>\n",
       "      <th>2019-09</th>\n",
       "      <td>-0.01</td>\n",
       "      <td>22.3</td>\n",
       "    </tr>\n",
       "    <tr>\n",
       "      <th>2019-10</th>\n",
       "      <td>0.09</td>\n",
       "      <td>55.3</td>\n",
       "    </tr>\n",
       "    <tr>\n",
       "      <th>2019-11</th>\n",
       "      <td>0.09</td>\n",
       "      <td>24.3</td>\n",
       "    </tr>\n",
       "    <tr>\n",
       "      <th>2019-12</th>\n",
       "      <td>0.03</td>\n",
       "      <td>43.5</td>\n",
       "    </tr>\n",
       "  </tbody>\n",
       "</table>\n",
       "<p>165 rows × 2 columns</p>\n",
       "</div>"
      ],
      "text/plain": [
       "          AHE   PCE\n",
       "2006-04  0.13  52.7\n",
       "2006-05 -0.04  40.3\n",
       "2006-06  0.09  25.7\n",
       "2006-07  0.08  81.8\n",
       "2006-08  0.02  -0.8\n",
       "...       ...   ...\n",
       "2019-08  0.12  39.0\n",
       "2019-09 -0.01  22.3\n",
       "2019-10  0.09  55.3\n",
       "2019-11  0.09  24.3\n",
       "2019-12  0.03  43.5\n",
       "\n",
       "[165 rows x 2 columns]"
      ]
     },
     "execution_count": 124,
     "metadata": {},
     "output_type": "execute_result"
    }
   ],
   "source": [
    "granger2=pd.DataFrame()\n",
    "granger2['AHE']=AHE_nonseas_diff\n",
    "granger2['PCE']=PCE_nonseas_diff\n",
    "granger2.index=PCE_nonseas_diff.index\n",
    "granger2"
   ]
  },
  {
   "cell_type": "code",
   "execution_count": 125,
   "id": "815b0eb8",
   "metadata": {},
   "outputs": [
    {
     "name": "stdout",
     "output_type": "stream",
     "text": [
      "\n",
      "Granger Causality\n",
      "number of lags (no zero) 1\n",
      "ssr based F test:         F=0.0186  , p=0.8917  , df_denom=161, df_num=1\n",
      "ssr based chi2 test:   chi2=0.0189  , p=0.8906  , df=1\n",
      "likelihood ratio test: chi2=0.0189  , p=0.8906  , df=1\n",
      "parameter F test:         F=0.0186  , p=0.8917  , df_denom=161, df_num=1\n",
      "\n",
      "Granger Causality\n",
      "number of lags (no zero) 2\n",
      "ssr based F test:         F=1.1373  , p=0.3233  , df_denom=158, df_num=2\n",
      "ssr based chi2 test:   chi2=2.3466  , p=0.3094  , df=2\n",
      "likelihood ratio test: chi2=2.3298  , p=0.3119  , df=2\n",
      "parameter F test:         F=1.1373  , p=0.3233  , df_denom=158, df_num=2\n",
      "\n",
      "Granger Causality\n",
      "number of lags (no zero) 3\n",
      "ssr based F test:         F=1.7396  , p=0.1612  , df_denom=155, df_num=3\n",
      "ssr based chi2 test:   chi2=5.4546  , p=0.1414  , df=3\n",
      "likelihood ratio test: chi2=5.3648  , p=0.1470  , df=3\n",
      "parameter F test:         F=1.7396  , p=0.1612  , df_denom=155, df_num=3\n",
      "\n",
      "Granger Causality\n",
      "number of lags (no zero) 4\n",
      "ssr based F test:         F=1.7223  , p=0.1479  , df_denom=152, df_num=4\n",
      "ssr based chi2 test:   chi2=7.2970  , p=0.1210  , df=4\n",
      "likelihood ratio test: chi2=7.1365  , p=0.1288  , df=4\n",
      "parameter F test:         F=1.7223  , p=0.1479  , df_denom=152, df_num=4\n",
      "\n",
      "Granger Causality\n",
      "number of lags (no zero) 5\n",
      "ssr based F test:         F=1.7941  , p=0.1174  , df_denom=149, df_num=5\n",
      "ssr based chi2 test:   chi2=9.6329  , p=0.0863  , df=5\n",
      "likelihood ratio test: chi2=9.3540  , p=0.0957  , df=5\n",
      "parameter F test:         F=1.7941  , p=0.1174  , df_denom=149, df_num=5\n",
      "\n",
      "Granger Causality\n",
      "number of lags (no zero) 6\n",
      "ssr based F test:         F=1.8099  , p=0.1010  , df_denom=146, df_num=6\n",
      "ssr based chi2 test:   chi2=11.8261 , p=0.0660  , df=6\n",
      "likelihood ratio test: chi2=11.4069 , p=0.0766  , df=6\n",
      "parameter F test:         F=1.8099  , p=0.1010  , df_denom=146, df_num=6\n",
      "\n",
      "Granger Causality\n",
      "number of lags (no zero) 7\n",
      "ssr based F test:         F=1.4748  , p=0.1808  , df_denom=143, df_num=7\n",
      "ssr based chi2 test:   chi2=11.4064 , p=0.1218  , df=7\n",
      "likelihood ratio test: chi2=11.0134 , p=0.1380  , df=7\n",
      "parameter F test:         F=1.4748  , p=0.1808  , df_denom=143, df_num=7\n",
      "\n",
      "Granger Causality\n",
      "number of lags (no zero) 8\n",
      "ssr based F test:         F=1.4762  , p=0.1711  , df_denom=140, df_num=8\n",
      "ssr based chi2 test:   chi2=13.2438 , p=0.1037  , df=8\n",
      "likelihood ratio test: chi2=12.7147 , p=0.1220  , df=8\n",
      "parameter F test:         F=1.4762  , p=0.1711  , df_denom=140, df_num=8\n",
      "\n",
      "Granger Causality\n",
      "number of lags (no zero) 9\n",
      "ssr based F test:         F=2.2035  , p=0.0253  , df_denom=137, df_num=9\n",
      "ssr based chi2 test:   chi2=22.5822 , p=0.0072  , df=9\n",
      "likelihood ratio test: chi2=21.0901 , p=0.0123  , df=9\n",
      "parameter F test:         F=2.2035  , p=0.0253  , df_denom=137, df_num=9\n",
      "\n",
      "Granger Causality\n",
      "number of lags (no zero) 10\n",
      "ssr based F test:         F=1.9624  , p=0.0422  , df_denom=134, df_num=10\n",
      "ssr based chi2 test:   chi2=22.6999 , p=0.0119  , df=10\n",
      "likelihood ratio test: chi2=21.1840 , p=0.0198  , df=10\n",
      "parameter F test:         F=1.9624  , p=0.0422  , df_denom=134, df_num=10\n",
      "\n",
      "Granger Causality\n",
      "number of lags (no zero) 11\n",
      "ssr based F test:         F=1.8815  , p=0.0473  , df_denom=131, df_num=11\n",
      "ssr based chi2 test:   chi2=24.3304 , p=0.0114  , df=11\n",
      "likelihood ratio test: chi2=22.5895 , p=0.0202  , df=11\n",
      "parameter F test:         F=1.8815  , p=0.0473  , df_denom=131, df_num=11\n",
      "\n",
      "Granger Causality\n",
      "number of lags (no zero) 12\n",
      "ssr based F test:         F=2.0756  , p=0.0229  , df_denom=128, df_num=12\n",
      "ssr based chi2 test:   chi2=29.7713 , p=0.0030  , df=12\n",
      "likelihood ratio test: chi2=27.2031 , p=0.0072  , df=12\n",
      "parameter F test:         F=2.0756  , p=0.0229  , df_denom=128, df_num=12\n",
      "\n",
      "Granger Causality\n",
      "number of lags (no zero) 13\n",
      "ssr based F test:         F=1.7715  , p=0.0547  , df_denom=125, df_num=13\n",
      "ssr based chi2 test:   chi2=28.0040 , p=0.0090  , df=13\n",
      "likelihood ratio test: chi2=25.7030 , p=0.0186  , df=13\n",
      "parameter F test:         F=1.7715  , p=0.0547  , df_denom=125, df_num=13\n",
      "\n",
      "Granger Causality\n",
      "number of lags (no zero) 14\n",
      "ssr based F test:         F=1.6251  , p=0.0815  , df_denom=122, df_num=14\n",
      "ssr based chi2 test:   chi2=28.1595 , p=0.0136  , df=14\n",
      "likelihood ratio test: chi2=25.8205 , p=0.0273  , df=14\n",
      "parameter F test:         F=1.6251  , p=0.0815  , df_denom=122, df_num=14\n",
      "\n",
      "Granger Causality\n",
      "number of lags (no zero) 15\n",
      "ssr based F test:         F=2.2203  , p=0.0090  , df_denom=119, df_num=15\n",
      "ssr based chi2 test:   chi2=41.9799 , p=0.0002  , df=15\n",
      "likelihood ratio test: chi2=37.0133 , p=0.0013  , df=15\n",
      "parameter F test:         F=2.2203  , p=0.0090  , df_denom=119, df_num=15\n",
      "\n",
      "Granger Causality\n",
      "number of lags (no zero) 16\n",
      "ssr based F test:         F=1.9660  , p=0.0210  , df_denom=116, df_num=16\n",
      "ssr based chi2 test:   chi2=40.4052 , p=0.0007  , df=16\n",
      "likelihood ratio test: chi2=35.7514 , p=0.0031  , df=16\n",
      "parameter F test:         F=1.9660  , p=0.0210  , df_denom=116, df_num=16\n",
      "\n",
      "Granger Causality\n",
      "number of lags (no zero) 17\n",
      "ssr based F test:         F=1.8324  , p=0.0320  , df_denom=113, df_num=17\n",
      "ssr based chi2 test:   chi2=40.8004 , p=0.0010  , df=17\n",
      "likelihood ratio test: chi2=36.0347 , p=0.0045  , df=17\n",
      "parameter F test:         F=1.8324  , p=0.0320  , df_denom=113, df_num=17\n",
      "\n",
      "Granger Causality\n",
      "number of lags (no zero) 18\n",
      "ssr based F test:         F=1.8718  , p=0.0255  , df_denom=110, df_num=18\n",
      "ssr based chi2 test:   chi2=45.0254 , p=0.0004  , df=18\n",
      "likelihood ratio test: chi2=39.2777 , p=0.0026  , df=18\n",
      "parameter F test:         F=1.8718  , p=0.0255  , df_denom=110, df_num=18\n",
      "\n",
      "Granger Causality\n",
      "number of lags (no zero) 19\n",
      "ssr based F test:         F=1.9595  , p=0.0165  , df_denom=107, df_num=19\n",
      "ssr based chi2 test:   chi2=50.8000 , p=0.0001  , df=19\n",
      "likelihood ratio test: chi2=43.5929 , p=0.0011  , df=19\n",
      "parameter F test:         F=1.9595  , p=0.0165  , df_denom=107, df_num=19\n",
      "\n",
      "Granger Causality\n",
      "number of lags (no zero) 20\n",
      "ssr based F test:         F=1.9282  , p=0.0175  , df_denom=104, df_num=20\n",
      "ssr based chi2 test:   chi2=53.7677 , p=0.0001  , df=20\n",
      "likelihood ratio test: chi2=45.7334 , p=0.0009  , df=20\n",
      "parameter F test:         F=1.9282  , p=0.0175  , df_denom=104, df_num=20\n"
     ]
    }
   ],
   "source": [
    "granger2_results = grangercausalitytests(granger2, maxlag=20, verbose=True)"
   ]
  },
  {
   "cell_type": "code",
   "execution_count": 126,
   "id": "62856c1f",
   "metadata": {},
   "outputs": [
    {
     "data": {
      "image/png": "[encoded data removed]",
      "text/plain": [
       "<Figure size 432x288 with 1 Axes>"
      ]
     },
     "metadata": {},
     "output_type": "display_data"
    }
   ],
   "source": [
    "alpha=0.05\n",
    "res_list = []\n",
    "for lag, v in granger2_results.items():\n",
    "    res = {}\n",
    "    res['Lag'] = lag\n",
    "    for test, stats in v[0].items():\n",
    "        res[test] = stats[1]\n",
    "\n",
    "    res_list.append(res)\n",
    "\n",
    "pvals = pd.DataFrame(res_list)\n",
    "pvals.set_index('Lag', inplace=True)\n",
    "pvals_graph = pvals['params_ftest']\n",
    "\n",
    "pvals_graph.plot(title='Granger Causality Test')\n",
    "alpha_ser = pd.Series([alpha]*len(pvals_graph), index=pvals_graph.index)\n",
    "alpha_ser.plot(color='red')\n",
    "plt.ylabel('p-value')\n",
    "# plt.legend()\n",
    "\n",
    "plt.show()"
   ]
  },
  {
   "cell_type": "markdown",
   "id": "4d6051e0",
   "metadata": {},
   "source": [
    "Evidence of PCE granger causing AHE"
   ]
  },
  {
   "cell_type": "markdown",
   "id": "da1885aa",
   "metadata": {},
   "source": [
    "#### E. 8 pts Summarize your findings. You must understand the underlying null hypothesis of test."
   ]
  },
  {
   "cell_type": "markdown",
   "id": "ef0f2a11",
   "metadata": {},
   "source": [
    "I first started by checking if AHE granger causes PCE. The null hypothesis is that the (second column) AHE does not granger cause the (first columns) PCE. If the p value is less than 0.05, my alpha value, I can reject the null hypothesis and say that AHE does granger cause the AHE. However, since my p values for the first 20 lags show the p value is large and well above the 0.05 threshold, which I have marked in a red line, I can accept the null hypothesis and conclude that based on the granger causality test, AHE does not granger cause PCE. Therefore, the average hourly earnings does not cause consumption based on this data. if people earning more amount of money per hour, that does not necessarily mean that consumption will go up down. \n",
    "Next I checked the opposite direction. So, I checked if PCE granger causes AHE. I swapped the order of the columns so that the PCE was the second column and AHE was the first column. \n",
    "\n",
    "Next, I checked for granger causality. Lastly, I plotted the p values at each of the first 20 lags. I saw that from lag 1 to lag 8 and then after lag 13 and before lag 14,  PCE does not granger cause AHE. Then, I saw that after lag 8 and before lag 13 and then after lag 14, PCE granger causes AHE. At lag 8-13 and after lag 14, I can say that the PCE granger causes AHE because the p value at these lags is less that 0.05 and we can reject the null hypothesis. But, before lag 8 and at that 13-14, I need to accept that null hypothesis because the p values at these lags is more than 0.05. Because that certain lags, there is evidence of granger causality, that PCE granger causes AHE, it means that as the consumption increases and people are starting to buy more goods, the business may go up in profit and be able to pay their employees more money per hours and the employees may also be working longer hours to help produce goods or handle the increased consumption. We start to see this but it seems to be lagged, which is why we are seeing the causality after some time."
   ]
  },
  {
   "cell_type": "markdown",
   "id": "0f6d70d9",
   "metadata": {},
   "source": [
    "### Part 3 – 40 pts VARMA modeling\n",
    "\n"
   ]
  },
  {
   "cell_type": "markdown",
   "id": "2afa7339",
   "metadata": {},
   "source": [
    "#### A. 8 pts Using differenced data, run a search to find the best fit order for AH, PCE, and PCEIP, return a plot\n"
   ]
  },
  {
   "cell_type": "code",
   "execution_count": 127,
   "id": "d9bc1902",
   "metadata": {},
   "outputs": [],
   "source": [
    "%matplotlib inline\n",
    "\n",
    "import numpy as np\n",
    "import pandas as pd\n",
    "import statsmodels.api as sm\n",
    "import matplotlib.pyplot as plt\n",
    "from statsmodels.tsa.vector_ar.var_model import VAR\n",
    "from statsmodels.tsa.statespace.varmax import VARMAX\n",
    "from statsmodels.tsa.statespace.varmax import VARMAX\n",
    "from math import sqrt\n",
    "from sklearn.metrics import mean_absolute_error, mean_squared_error\n",
    "from sktime.performance_metrics.forecasting import smape_loss, mase_loss"
   ]
  },
  {
   "cell_type": "code",
   "execution_count": 128,
   "id": "e603c3bb",
   "metadata": {},
   "outputs": [
    {
     "data": {
      "text/plain": [
       "2006-03     88.473\n",
       "2006-04     88.850\n",
       "2006-05     89.070\n",
       "2006-06     89.285\n",
       "2006-07     89.601\n",
       "            ...   \n",
       "2019-08    110.115\n",
       "2019-09    110.167\n",
       "2019-10    110.377\n",
       "2019-11    110.461\n",
       "2019-12    110.750\n",
       "Freq: M, Name: PCEPI, Length: 166, dtype: float64"
      ]
     },
     "execution_count": 128,
     "metadata": {},
     "output_type": "execute_result"
    }
   ],
   "source": [
    "data_series_PCEPI=data['PCEPI']\n",
    "data_series_PCEPI.index=pd.core.indexes.period.PeriodIndex(data['ds'].tolist(),freq='m')\n",
    "data_series_PCEPI"
   ]
  },
  {
   "cell_type": "code",
   "execution_count": 129,
   "id": "d12cc9d3",
   "metadata": {},
   "outputs": [
    {
     "data": {
      "text/plain": [
       "<AxesSubplot:>"
      ]
     },
     "execution_count": 129,
     "metadata": {},
     "output_type": "execute_result"
    },
    {
     "data": {
      "image/png": "[encoded data removed]",
      "text/plain": [
       "<Figure size 432x288 with 1 Axes>"
      ]
     },
     "metadata": {
      "needs_background": "light"
     },
     "output_type": "display_data"
    }
   ],
   "source": [
    "PCEPI_nonseas_diff = data_series_PCEPI.diff().dropna()\n",
    "PCEPI_nonseas_diff.plot()"
   ]
  },
  {
   "cell_type": "code",
   "execution_count": 130,
   "id": "1ab8f668",
   "metadata": {},
   "outputs": [
    {
     "name": "stdout",
     "output_type": "stream",
     "text": [
      "Results of Dickey-Fuller Test:\n",
      "Test Statistic                -7.507425e+00\n",
      "p-value                        4.099451e-11\n",
      "#Lags Used                     0.000000e+00\n",
      "Number of Observations Used    1.640000e+02\n",
      "Critical Value (1%)           -3.470866e+00\n",
      "Critical Value (5%)           -2.879330e+00\n",
      "Critical Value (10%)          -2.576255e+00\n",
      "dtype: float64\n",
      "---------------\n",
      "Results of KPSS Test:\n",
      "Test Statistic            0.094052\n",
      "p-value                   0.100000\n",
      "Lags Used                14.000000\n",
      "Critical Value (10%)      0.347000\n",
      "Critical Value (5%)       0.463000\n",
      "Critical Value (2.5%)     0.574000\n",
      "Critical Value (1%)       0.739000\n",
      "dtype: float64\n",
      "stationarity from ad_fuller test: True\n",
      "stationarity from KPSS test: True\n"
     ]
    }
   ],
   "source": [
    "alpha = 0.05\n",
    "ad_fuller_results,kpss_test_results = adf_kpss_test(PCEPI_nonseas_diff, trend='c')\n",
    "ad_fuller_results\n",
    "ad_fuller_pval = ad_fuller_results[1]\n",
    "ad_fuller_bool = ad_fuller_pval <= alpha\n",
    "\n",
    "print(f'stationarity from ad_fuller test: {ad_fuller_bool}')\n",
    "\n",
    "kpss_pval = kpss_test_results[1]\n",
    "kpss_test_bool = kpss_pval >= alpha\n",
    "\n",
    "print(f'stationarity from KPSS test: {kpss_test_bool}')"
   ]
  },
  {
   "cell_type": "code",
   "execution_count": 131,
   "id": "b5834819",
   "metadata": {},
   "outputs": [
    {
     "data": {
      "text/html": [
       "<div>\n",
       "<style scoped>\n",
       "    .dataframe tbody tr th:only-of-type {\n",
       "        vertical-align: middle;\n",
       "    }\n",
       "\n",
       "    .dataframe tbody tr th {\n",
       "        vertical-align: top;\n",
       "    }\n",
       "\n",
       "    .dataframe thead th {\n",
       "        text-align: right;\n",
       "    }\n",
       "</style>\n",
       "<table border=\"1\" class=\"dataframe\">\n",
       "  <thead>\n",
       "    <tr style=\"text-align: right;\">\n",
       "      <th></th>\n",
       "      <th>PCE</th>\n",
       "      <th>AHE</th>\n",
       "      <th>PCEPI</th>\n",
       "    </tr>\n",
       "  </thead>\n",
       "  <tbody>\n",
       "    <tr>\n",
       "      <th>2006-04</th>\n",
       "      <td>52.7</td>\n",
       "      <td>0.13</td>\n",
       "      <td>0.377</td>\n",
       "    </tr>\n",
       "    <tr>\n",
       "      <th>2006-05</th>\n",
       "      <td>40.3</td>\n",
       "      <td>-0.04</td>\n",
       "      <td>0.220</td>\n",
       "    </tr>\n",
       "    <tr>\n",
       "      <th>2006-06</th>\n",
       "      <td>25.7</td>\n",
       "      <td>0.09</td>\n",
       "      <td>0.215</td>\n",
       "    </tr>\n",
       "    <tr>\n",
       "      <th>2006-07</th>\n",
       "      <td>81.8</td>\n",
       "      <td>0.08</td>\n",
       "      <td>0.316</td>\n",
       "    </tr>\n",
       "    <tr>\n",
       "      <th>2006-08</th>\n",
       "      <td>-0.8</td>\n",
       "      <td>0.02</td>\n",
       "      <td>0.284</td>\n",
       "    </tr>\n",
       "    <tr>\n",
       "      <th>...</th>\n",
       "      <td>...</td>\n",
       "      <td>...</td>\n",
       "      <td>...</td>\n",
       "    </tr>\n",
       "    <tr>\n",
       "      <th>2019-08</th>\n",
       "      <td>39.0</td>\n",
       "      <td>0.12</td>\n",
       "      <td>0.073</td>\n",
       "    </tr>\n",
       "    <tr>\n",
       "      <th>2019-09</th>\n",
       "      <td>22.3</td>\n",
       "      <td>-0.01</td>\n",
       "      <td>0.052</td>\n",
       "    </tr>\n",
       "    <tr>\n",
       "      <th>2019-10</th>\n",
       "      <td>55.3</td>\n",
       "      <td>0.09</td>\n",
       "      <td>0.210</td>\n",
       "    </tr>\n",
       "    <tr>\n",
       "      <th>2019-11</th>\n",
       "      <td>24.3</td>\n",
       "      <td>0.09</td>\n",
       "      <td>0.084</td>\n",
       "    </tr>\n",
       "    <tr>\n",
       "      <th>2019-12</th>\n",
       "      <td>43.5</td>\n",
       "      <td>0.03</td>\n",
       "      <td>0.289</td>\n",
       "    </tr>\n",
       "  </tbody>\n",
       "</table>\n",
       "<p>165 rows × 3 columns</p>\n",
       "</div>"
      ],
      "text/plain": [
       "          PCE   AHE  PCEPI\n",
       "2006-04  52.7  0.13  0.377\n",
       "2006-05  40.3 -0.04  0.220\n",
       "2006-06  25.7  0.09  0.215\n",
       "2006-07  81.8  0.08  0.316\n",
       "2006-08  -0.8  0.02  0.284\n",
       "...       ...   ...    ...\n",
       "2019-08  39.0  0.12  0.073\n",
       "2019-09  22.3 -0.01  0.052\n",
       "2019-10  55.3  0.09  0.210\n",
       "2019-11  24.3  0.09  0.084\n",
       "2019-12  43.5  0.03  0.289\n",
       "\n",
       "[165 rows x 3 columns]"
      ]
     },
     "execution_count": 131,
     "metadata": {},
     "output_type": "execute_result"
    }
   ],
   "source": [
    "combined=pd.DataFrame()\n",
    "combined['PCE']=PCE_nonseas_diff\n",
    "combined['AHE']=AHE_nonseas_diff\n",
    "combined['PCEPI']=PCEPI_nonseas_diff\n",
    "combined.index=PCE_nonseas_diff.index\n",
    "combined"
   ]
  },
  {
   "cell_type": "code",
   "execution_count": 132,
   "id": "eaaeb875",
   "metadata": {},
   "outputs": [],
   "source": [
    "y_train = combined[:-12]\n",
    "y_test = combined[-12:]"
   ]
  },
  {
   "cell_type": "code",
   "execution_count": 133,
   "id": "58087e00",
   "metadata": {},
   "outputs": [
    {
     "data": {
      "text/html": [
       "<div>\n",
       "<style scoped>\n",
       "    .dataframe tbody tr th:only-of-type {\n",
       "        vertical-align: middle;\n",
       "    }\n",
       "\n",
       "    .dataframe tbody tr th {\n",
       "        vertical-align: top;\n",
       "    }\n",
       "\n",
       "    .dataframe thead th {\n",
       "        text-align: right;\n",
       "    }\n",
       "</style>\n",
       "<table border=\"1\" class=\"dataframe\">\n",
       "  <thead>\n",
       "    <tr style=\"text-align: right;\">\n",
       "      <th></th>\n",
       "      <th>PCE</th>\n",
       "      <th>AHE</th>\n",
       "      <th>PCEPI</th>\n",
       "    </tr>\n",
       "    <tr>\n",
       "      <th>ds</th>\n",
       "      <th></th>\n",
       "      <th></th>\n",
       "      <th></th>\n",
       "    </tr>\n",
       "  </thead>\n",
       "  <tbody>\n",
       "    <tr>\n",
       "      <th>3/1/2006</th>\n",
       "      <td>9122.1</td>\n",
       "      <td>20.04</td>\n",
       "      <td>88.473</td>\n",
       "    </tr>\n",
       "    <tr>\n",
       "      <th>4/1/2006</th>\n",
       "      <td>9174.8</td>\n",
       "      <td>20.17</td>\n",
       "      <td>88.850</td>\n",
       "    </tr>\n",
       "    <tr>\n",
       "      <th>5/1/2006</th>\n",
       "      <td>9215.1</td>\n",
       "      <td>20.13</td>\n",
       "      <td>89.070</td>\n",
       "    </tr>\n",
       "    <tr>\n",
       "      <th>6/1/2006</th>\n",
       "      <td>9240.8</td>\n",
       "      <td>20.22</td>\n",
       "      <td>89.285</td>\n",
       "    </tr>\n",
       "    <tr>\n",
       "      <th>7/1/2006</th>\n",
       "      <td>9322.6</td>\n",
       "      <td>20.30</td>\n",
       "      <td>89.601</td>\n",
       "    </tr>\n",
       "    <tr>\n",
       "      <th>...</th>\n",
       "      <td>...</td>\n",
       "      <td>...</td>\n",
       "      <td>...</td>\n",
       "    </tr>\n",
       "    <tr>\n",
       "      <th>8/1/2019</th>\n",
       "      <td>14650.9</td>\n",
       "      <td>28.16</td>\n",
       "      <td>110.115</td>\n",
       "    </tr>\n",
       "    <tr>\n",
       "      <th>9/1/2019</th>\n",
       "      <td>14673.2</td>\n",
       "      <td>28.15</td>\n",
       "      <td>110.167</td>\n",
       "    </tr>\n",
       "    <tr>\n",
       "      <th>10/1/2019</th>\n",
       "      <td>14728.5</td>\n",
       "      <td>28.24</td>\n",
       "      <td>110.377</td>\n",
       "    </tr>\n",
       "    <tr>\n",
       "      <th>11/1/2019</th>\n",
       "      <td>14752.8</td>\n",
       "      <td>28.33</td>\n",
       "      <td>110.461</td>\n",
       "    </tr>\n",
       "    <tr>\n",
       "      <th>12/1/2019</th>\n",
       "      <td>14796.3</td>\n",
       "      <td>28.36</td>\n",
       "      <td>110.750</td>\n",
       "    </tr>\n",
       "  </tbody>\n",
       "</table>\n",
       "<p>166 rows × 3 columns</p>\n",
       "</div>"
      ],
      "text/plain": [
       "               PCE    AHE    PCEPI\n",
       "ds                                \n",
       "3/1/2006    9122.1  20.04   88.473\n",
       "4/1/2006    9174.8  20.17   88.850\n",
       "5/1/2006    9215.1  20.13   89.070\n",
       "6/1/2006    9240.8  20.22   89.285\n",
       "7/1/2006    9322.6  20.30   89.601\n",
       "...            ...    ...      ...\n",
       "8/1/2019   14650.9  28.16  110.115\n",
       "9/1/2019   14673.2  28.15  110.167\n",
       "10/1/2019  14728.5  28.24  110.377\n",
       "11/1/2019  14752.8  28.33  110.461\n",
       "12/1/2019  14796.3  28.36  110.750\n",
       "\n",
       "[166 rows x 3 columns]"
      ]
     },
     "execution_count": 133,
     "metadata": {},
     "output_type": "execute_result"
    }
   ],
   "source": [
    "data.index=data.ds\n",
    "data=data.drop(columns=['ds'])\n",
    "data\n",
    "# y_train"
   ]
  },
  {
   "cell_type": "code",
   "execution_count": 134,
   "id": "b0411eee",
   "metadata": {},
   "outputs": [
    {
     "name": "stdout",
     "output_type": "stream",
     "text": [
      "[[14853.74403153    28.4270683    110.91210659]]\n"
     ]
    }
   ],
   "source": [
    "var_model = VAR(data).fit()\n",
    "yhat = var_model.forecast(var_model.endog, steps=1)\n",
    "print(yhat)"
   ]
  },
  {
   "cell_type": "code",
   "execution_count": 135,
   "id": "0b8d4e4c",
   "metadata": {},
   "outputs": [],
   "source": [
    "var_model=VAR(y_train)\n",
    "\n",
    "results_aic =[]\n",
    "for p in range(1,10):\n",
    "    results = var_model.fit(p)\n",
    "    results_aic.append(results.aic)"
   ]
  },
  {
   "cell_type": "code",
   "execution_count": 136,
   "id": "9ae3a3f3",
   "metadata": {},
   "outputs": [
    {
     "data": {
      "image/png": "[encoded data removed]",
      "text/plain": [
       "<Figure size 432x288 with 1 Axes>"
      ]
     },
     "metadata": {},
     "output_type": "display_data"
    },
    {
     "name": "stdout",
     "output_type": "stream",
     "text": [
      "[-3.3269890131054987, -3.2851892504352143, -3.4128603334589407, -3.383957548148084, -3.3880953966599336, -3.4158792526130353, -3.3967423931077416, -3.2775556620662947, -3.3201216146793873]\n"
     ]
    }
   ],
   "source": [
    "sns.set()\n",
    "plt.plot(list(np.arange(1,10,1)), results_aic)\n",
    "plt.xlabel(\"Order\")\n",
    "plt.ylabel(\"AIC\")\n",
    "plt.show()\n",
    "print(results_aic)"
   ]
  },
  {
   "cell_type": "markdown",
   "id": "3a901e2c",
   "metadata": {},
   "source": [
    "Here we can see that the lowest AIC score is achieved at order of 6. Then AIC increases afterwards. We should fit a VAR(6)model. \n",
    "\n",
    "The textbook recommends that we use BIC to find the VAR order. Let's try that to see if there is a difference"
   ]
  },
  {
   "cell_type": "code",
   "execution_count": 137,
   "id": "c1848d70",
   "metadata": {},
   "outputs": [
    {
     "data": {
      "image/png": "[encoded data removed]",
      "text/plain": [
       "<Figure size 432x288 with 1 Axes>"
      ]
     },
     "metadata": {},
     "output_type": "display_data"
    },
    {
     "name": "stdout",
     "output_type": "stream",
     "text": [
      "[-3.0882616035650035, -2.865567551275523, -2.8107332746396896, -2.597689723101957, -2.4160265511148156, -2.2563237597804644, -2.0479887148012335, -1.737865795297032, -1.5877305232600536]\n"
     ]
    }
   ],
   "source": [
    "results_bic =[]\n",
    "for p in range(1,10):\n",
    "    results = var_model.fit(p)\n",
    "    results_bic.append(results.bic)\n",
    "    \n",
    "\n",
    "plt.plot(list(np.arange(1,10,1)), results_bic)\n",
    "plt.xlabel(\"Order\")\n",
    "plt.ylabel(\"BIC\")\n",
    "plt.show()\n",
    "print(results_bic)"
   ]
  },
  {
   "cell_type": "markdown",
   "id": "f012c842",
   "metadata": {},
   "source": [
    "Since in this plot we see that order 1 has the lowest BIC score, we will fit a VAR(1) model since there are less parameters to estimate than by using AIC"
   ]
  },
  {
   "cell_type": "markdown",
   "id": "c2dc85bc",
   "metadata": {},
   "source": [
    "#### B. 8 pts Fit the VAR model with chosen order, return the model summary.\n"
   ]
  },
  {
   "cell_type": "code",
   "execution_count": 138,
   "id": "168b680b",
   "metadata": {},
   "outputs": [
    {
     "data": {
      "text/plain": [
       "  Summary of Regression Results   \n",
       "==================================\n",
       "Model:                         VAR\n",
       "Method:                        OLS\n",
       "Date:           Wed, 19, May, 2021\n",
       "Time:                     08:20:51\n",
       "--------------------------------------------------------------------\n",
       "No. of Equations:         3.00000    BIC:                   -3.08826\n",
       "Nobs:                     152.000    HQIC:                  -3.23001\n",
       "Log likelihood:          -382.185    FPE:                  0.0359023\n",
       "AIC:                     -3.32699    Det(Omega_mle):       0.0332108\n",
       "--------------------------------------------------------------------\n",
       "Results for equation PCE\n",
       "===========================================================================\n",
       "              coefficient       std. error           t-stat            prob\n",
       "---------------------------------------------------------------------------\n",
       "const           24.304900         6.082722            3.996           0.000\n",
       "L1.PCE           0.129418         0.100980            1.282           0.200\n",
       "L1.AHE         -29.771851        91.046781           -0.327           0.744\n",
       "L1.PCEPI        40.061851        18.397485            2.178           0.029\n",
       "===========================================================================\n",
       "\n",
       "Results for equation AHE\n",
       "===========================================================================\n",
       "              coefficient       std. error           t-stat            prob\n",
       "---------------------------------------------------------------------------\n",
       "const            0.064329         0.005231           12.297           0.000\n",
       "L1.PCE          -0.000004         0.000087           -0.041           0.968\n",
       "L1.AHE          -0.294400         0.078301           -3.760           0.000\n",
       "L1.PCEPI        -0.010006         0.015822           -0.632           0.527\n",
       "===========================================================================\n",
       "\n",
       "Results for equation PCEPI\n",
       "===========================================================================\n",
       "              coefficient       std. error           t-stat            prob\n",
       "---------------------------------------------------------------------------\n",
       "const            0.028639         0.028092            1.019           0.308\n",
       "L1.PCE           0.001159         0.000466            2.484           0.013\n",
       "L1.AHE           0.288404         0.420488            0.686           0.493\n",
       "L1.PCEPI         0.376213         0.084966            4.428           0.000\n",
       "===========================================================================\n",
       "\n",
       "Correlation matrix of residuals\n",
       "              PCE       AHE     PCEPI\n",
       "PCE      1.000000 -0.052437  0.487853\n",
       "AHE     -0.052437  1.000000 -0.049176\n",
       "PCEPI    0.487853 -0.049176  1.000000\n",
       "\n"
      ]
     },
     "execution_count": 138,
     "metadata": {},
     "output_type": "execute_result"
    }
   ],
   "source": [
    "results = var_model.fit(1)\n",
    "results.summary()"
   ]
  },
  {
   "cell_type": "markdown",
   "id": "5895d679",
   "metadata": {},
   "source": [
    "#### C. 8 pts Explain the values in the correlation matrix of residuals. What are the implications for the model fit?\n"
   ]
  },
  {
   "cell_type": "markdown",
   "id": "e8ce99ce",
   "metadata": {},
   "source": [
    "In the correlation matrix of the VAR model, the the diagonals are all 1. This means that the residuals of the variables PCE, AHE, and PCEPI are the perfectly correlated with themselves: PCE residuals is perfectly correlated with PCE, AHE residuals  is perfectly correlated with AHE and PCEPI residuals  is perfectly correlated with PCEPI. \n",
    "\n",
    "If we look the the correlation of AHE and PCE residuals, it is the same as the correlation of PCE and AHE residuals , which is -0.05. They are negatively correlated. The residual correlation matrix is the difference between the actual correlations and the modeled or fitted correlation. So for AHE and PCE, the the difference between actual and fitted is negative. The fitted value correlation between AHE and PCE is slightly larger than the actual correlation.\n",
    "\n",
    "When we look at the PCEPI and PCE, the correlation is 0.48. This is somewhat significant but still less that 50%. The correlation of the residuals of the PCE and PCEPI is positive. So, this means the difference between the actual correlation and fitted correlation is positive. Therefore, the fitted correlation is slightly less than the actual correlation. \n",
    "\n",
    "Lastly, when we look at the AHE and PCEPI relationship, we see that there is a negative relationship between the residuals. So, the actual correlation and the fitted correlations between AHE and PCEPI is slightly negative: -0.049. Therefore, the fitted correlation is slightly grater than the actual correlation of AHE and PCEPI. \n",
    "\n",
    "The three values we just saw are not very significantly. That are pretty close to 0. The implications of the model fit are that the model is pretty good. The correlation matrix implies that the model fit is pretty good because the values are pretty close to 0. This shows that the relationships between the variables are being maintained pretty well. One way to improve it would be to fit a model when the residual correlation between PCE and PCEPI is slightly smaller."
   ]
  },
  {
   "cell_type": "markdown",
   "id": "f558057d",
   "metadata": {},
   "source": [
    "#### D. 8 pts Create 12 periods of forecast for all three variables, return plots of predicted values against actual values, Return variable level RMSE (3 total)"
   ]
  },
  {
   "cell_type": "code",
   "execution_count": 139,
   "id": "c8fb345e",
   "metadata": {},
   "outputs": [
    {
     "data": {
      "text/plain": [
       "array([[ 7.94844226e+00,  2.87695343e-02, -5.00650232e-02],\n",
       "       [ 2.24713557e+01,  5.63321144e-02,  2.73112203e-02],\n",
       "       [ 2.66301354e+01,  4.73923092e-02,  8.11977128e-02],\n",
       "       [ 2.95933055e+01,  4.94703725e-02,  1.03710915e-01],\n",
       "       [ 3.08168472e+01,  4.86228908e-02,  1.16213355e-01],\n",
       "       [ 3.15012981e+01,  4.87429843e-02,  1.22090208e-01],\n",
       "       [ 3.18217409e+01,  4.86464156e-02,  1.25128850e-01],\n",
       "       [ 3.19878208e+01,  4.86433130e-02,  1.26615466e-01],\n",
       "       [ 3.20689635e+01,  4.86287668e-02,  1.27366288e-01],\n",
       "       [ 3.21099773e+01,  4.86252509e-02,  1.27738580e-01],\n",
       "       [ 3.21303046e+01,  4.86224164e-02,  1.27925149e-01],\n",
       "       [ 3.21404940e+01,  4.86213125e-02,  1.28018074e-01]])"
      ]
     },
     "execution_count": 139,
     "metadata": {},
     "output_type": "execute_result"
    }
   ],
   "source": [
    "yhat = results.forecast(var_model.endog, steps=12)\n",
    "yhat"
   ]
  },
  {
   "cell_type": "code",
   "execution_count": 140,
   "id": "0eeb4e92",
   "metadata": {},
   "outputs": [
    {
     "data": {
      "text/html": [
       "<div>\n",
       "<style scoped>\n",
       "    .dataframe tbody tr th:only-of-type {\n",
       "        vertical-align: middle;\n",
       "    }\n",
       "\n",
       "    .dataframe tbody tr th {\n",
       "        vertical-align: top;\n",
       "    }\n",
       "\n",
       "    .dataframe thead tr th {\n",
       "        text-align: left;\n",
       "    }\n",
       "</style>\n",
       "<table border=\"1\" class=\"dataframe\">\n",
       "  <thead>\n",
       "    <tr>\n",
       "      <th></th>\n",
       "      <th>pce_forecast</th>\n",
       "      <th>ahe_forecast</th>\n",
       "      <th>pcepi_forecast</th>\n",
       "    </tr>\n",
       "  </thead>\n",
       "  <tbody>\n",
       "    <tr>\n",
       "      <th>2019-01</th>\n",
       "      <td>7.948442</td>\n",
       "      <td>0.028770</td>\n",
       "      <td>-0.050065</td>\n",
       "    </tr>\n",
       "    <tr>\n",
       "      <th>2019-02</th>\n",
       "      <td>22.471356</td>\n",
       "      <td>0.056332</td>\n",
       "      <td>0.027311</td>\n",
       "    </tr>\n",
       "    <tr>\n",
       "      <th>2019-03</th>\n",
       "      <td>26.630135</td>\n",
       "      <td>0.047392</td>\n",
       "      <td>0.081198</td>\n",
       "    </tr>\n",
       "    <tr>\n",
       "      <th>2019-04</th>\n",
       "      <td>29.593306</td>\n",
       "      <td>0.049470</td>\n",
       "      <td>0.103711</td>\n",
       "    </tr>\n",
       "    <tr>\n",
       "      <th>2019-05</th>\n",
       "      <td>30.816847</td>\n",
       "      <td>0.048623</td>\n",
       "      <td>0.116213</td>\n",
       "    </tr>\n",
       "    <tr>\n",
       "      <th>2019-06</th>\n",
       "      <td>31.501298</td>\n",
       "      <td>0.048743</td>\n",
       "      <td>0.122090</td>\n",
       "    </tr>\n",
       "    <tr>\n",
       "      <th>2019-07</th>\n",
       "      <td>31.821741</td>\n",
       "      <td>0.048646</td>\n",
       "      <td>0.125129</td>\n",
       "    </tr>\n",
       "    <tr>\n",
       "      <th>2019-08</th>\n",
       "      <td>31.987821</td>\n",
       "      <td>0.048643</td>\n",
       "      <td>0.126615</td>\n",
       "    </tr>\n",
       "    <tr>\n",
       "      <th>2019-09</th>\n",
       "      <td>32.068963</td>\n",
       "      <td>0.048629</td>\n",
       "      <td>0.127366</td>\n",
       "    </tr>\n",
       "    <tr>\n",
       "      <th>2019-10</th>\n",
       "      <td>32.109977</td>\n",
       "      <td>0.048625</td>\n",
       "      <td>0.127739</td>\n",
       "    </tr>\n",
       "    <tr>\n",
       "      <th>2019-11</th>\n",
       "      <td>32.130305</td>\n",
       "      <td>0.048622</td>\n",
       "      <td>0.127925</td>\n",
       "    </tr>\n",
       "    <tr>\n",
       "      <th>2019-12</th>\n",
       "      <td>32.140494</td>\n",
       "      <td>0.048621</td>\n",
       "      <td>0.128018</td>\n",
       "    </tr>\n",
       "  </tbody>\n",
       "</table>\n",
       "</div>"
      ],
      "text/plain": [
       "        pce_forecast ahe_forecast pcepi_forecast\n",
       "2019-01     7.948442     0.028770      -0.050065\n",
       "2019-02    22.471356     0.056332       0.027311\n",
       "2019-03    26.630135     0.047392       0.081198\n",
       "2019-04    29.593306     0.049470       0.103711\n",
       "2019-05    30.816847     0.048623       0.116213\n",
       "2019-06    31.501298     0.048743       0.122090\n",
       "2019-07    31.821741     0.048646       0.125129\n",
       "2019-08    31.987821     0.048643       0.126615\n",
       "2019-09    32.068963     0.048629       0.127366\n",
       "2019-10    32.109977     0.048625       0.127739\n",
       "2019-11    32.130305     0.048622       0.127925\n",
       "2019-12    32.140494     0.048621       0.128018"
      ]
     },
     "execution_count": 140,
     "metadata": {},
     "output_type": "execute_result"
    }
   ],
   "source": [
    "# clean up yhat\n",
    "idx=y_test.index\n",
    "df_preds = pd.DataFrame(yhat).set_index(idx)\n",
    "df_preds.columns =[[ 'pce_forecast','ahe_forecast','pcepi_forecast']]\n",
    "df_preds"
   ]
  },
  {
   "cell_type": "code",
   "execution_count": 141,
   "id": "ccfe70b9",
   "metadata": {},
   "outputs": [],
   "source": [
    "data.index=pd.core.indexes.period.PeriodIndex(data.index.tolist(),freq='m')"
   ]
  },
  {
   "cell_type": "code",
   "execution_count": 142,
   "id": "adc38d7d",
   "metadata": {},
   "outputs": [],
   "source": [
    "df_preds.columns = data.columns\n",
    "forecast_results = pd.concat([data[-13:-12],df_preds], axis=0).reset_index(drop=True)\\\n",
    "                    .cumsum()\\\n",
    "                    .drop([0])\\\n",
    "                    .set_index(idx)\n",
    "forecast_results.columns=['pce_forecast','ahe_forecast','pcepi_forecast']"
   ]
  },
  {
   "cell_type": "code",
   "execution_count": 143,
   "id": "14c21e6c",
   "metadata": {},
   "outputs": [
    {
     "data": {
      "text/html": [
       "<div>\n",
       "<style scoped>\n",
       "    .dataframe tbody tr th:only-of-type {\n",
       "        vertical-align: middle;\n",
       "    }\n",
       "\n",
       "    .dataframe tbody tr th {\n",
       "        vertical-align: top;\n",
       "    }\n",
       "\n",
       "    .dataframe thead th {\n",
       "        text-align: right;\n",
       "    }\n",
       "</style>\n",
       "<table border=\"1\" class=\"dataframe\">\n",
       "  <thead>\n",
       "    <tr style=\"text-align: right;\">\n",
       "      <th></th>\n",
       "      <th>pce_forecast</th>\n",
       "      <th>ahe_forecast</th>\n",
       "      <th>pcepi_forecast</th>\n",
       "    </tr>\n",
       "  </thead>\n",
       "  <tbody>\n",
       "    <tr>\n",
       "      <th>2019-01</th>\n",
       "      <td>14138.748442</td>\n",
       "      <td>27.578770</td>\n",
       "      <td>108.907935</td>\n",
       "    </tr>\n",
       "    <tr>\n",
       "      <th>2019-02</th>\n",
       "      <td>14161.219798</td>\n",
       "      <td>27.635102</td>\n",
       "      <td>108.935246</td>\n",
       "    </tr>\n",
       "    <tr>\n",
       "      <th>2019-03</th>\n",
       "      <td>14187.849933</td>\n",
       "      <td>27.682494</td>\n",
       "      <td>109.016444</td>\n",
       "    </tr>\n",
       "    <tr>\n",
       "      <th>2019-04</th>\n",
       "      <td>14217.443239</td>\n",
       "      <td>27.731964</td>\n",
       "      <td>109.120155</td>\n",
       "    </tr>\n",
       "    <tr>\n",
       "      <th>2019-05</th>\n",
       "      <td>14248.260086</td>\n",
       "      <td>27.780587</td>\n",
       "      <td>109.236368</td>\n",
       "    </tr>\n",
       "    <tr>\n",
       "      <th>2019-06</th>\n",
       "      <td>14279.761384</td>\n",
       "      <td>27.829330</td>\n",
       "      <td>109.358458</td>\n",
       "    </tr>\n",
       "    <tr>\n",
       "      <th>2019-07</th>\n",
       "      <td>14311.583125</td>\n",
       "      <td>27.877977</td>\n",
       "      <td>109.483587</td>\n",
       "    </tr>\n",
       "    <tr>\n",
       "      <th>2019-08</th>\n",
       "      <td>14343.570946</td>\n",
       "      <td>27.926620</td>\n",
       "      <td>109.610203</td>\n",
       "    </tr>\n",
       "    <tr>\n",
       "      <th>2019-09</th>\n",
       "      <td>14375.639909</td>\n",
       "      <td>27.975249</td>\n",
       "      <td>109.737569</td>\n",
       "    </tr>\n",
       "    <tr>\n",
       "      <th>2019-10</th>\n",
       "      <td>14407.749887</td>\n",
       "      <td>28.023874</td>\n",
       "      <td>109.865308</td>\n",
       "    </tr>\n",
       "    <tr>\n",
       "      <th>2019-11</th>\n",
       "      <td>14439.880191</td>\n",
       "      <td>28.072496</td>\n",
       "      <td>109.993233</td>\n",
       "    </tr>\n",
       "    <tr>\n",
       "      <th>2019-12</th>\n",
       "      <td>14472.020685</td>\n",
       "      <td>28.121118</td>\n",
       "      <td>110.121251</td>\n",
       "    </tr>\n",
       "  </tbody>\n",
       "</table>\n",
       "</div>"
      ],
      "text/plain": [
       "         pce_forecast  ahe_forecast  pcepi_forecast\n",
       "2019-01  14138.748442     27.578770      108.907935\n",
       "2019-02  14161.219798     27.635102      108.935246\n",
       "2019-03  14187.849933     27.682494      109.016444\n",
       "2019-04  14217.443239     27.731964      109.120155\n",
       "2019-05  14248.260086     27.780587      109.236368\n",
       "2019-06  14279.761384     27.829330      109.358458\n",
       "2019-07  14311.583125     27.877977      109.483587\n",
       "2019-08  14343.570946     27.926620      109.610203\n",
       "2019-09  14375.639909     27.975249      109.737569\n",
       "2019-10  14407.749887     28.023874      109.865308\n",
       "2019-11  14439.880191     28.072496      109.993233\n",
       "2019-12  14472.020685     28.121118      110.121251"
      ]
     },
     "execution_count": 143,
     "metadata": {},
     "output_type": "execute_result"
    }
   ],
   "source": [
    "forecast_results"
   ]
  },
  {
   "cell_type": "code",
   "execution_count": 144,
   "id": "249aa7c7",
   "metadata": {},
   "outputs": [
    {
     "data": {
      "image/png": "[encoded data removed]",
      "text/plain": [
       "<Figure size 432x288 with 1 Axes>"
      ]
     },
     "metadata": {},
     "output_type": "display_data"
    }
   ],
   "source": [
    "final_results = pd.concat([data[-12:],forecast_results], axis=1)\n",
    "final_results.plot()\n",
    "plt.show()"
   ]
  },
  {
   "cell_type": "code",
   "execution_count": 145,
   "id": "8ee936fd",
   "metadata": {},
   "outputs": [
    {
     "data": {
      "image/png": "[encoded data removed]",
      "text/plain": [
       "<Figure size 432x288 with 1 Axes>"
      ]
     },
     "metadata": {},
     "output_type": "display_data"
    }
   ],
   "source": [
    "final_results1 = pd.concat([data['PCE'][-12:],forecast_results['pce_forecast']], axis=1)\n",
    "final_results1.plot()\n",
    "plt.show()"
   ]
  },
  {
   "cell_type": "code",
   "execution_count": 146,
   "id": "3ee8f9cc",
   "metadata": {},
   "outputs": [
    {
     "data": {
      "image/png": "[encoded data removed]",
      "text/plain": [
       "<Figure size 432x288 with 1 Axes>"
      ]
     },
     "metadata": {},
     "output_type": "display_data"
    }
   ],
   "source": [
    "final_results2 = pd.concat([data['AHE'][-12:],forecast_results['ahe_forecast']], axis=1)\n",
    "final_results2.plot()\n",
    "plt.show()"
   ]
  },
  {
   "cell_type": "code",
   "execution_count": 147,
   "id": "138da9b9",
   "metadata": {},
   "outputs": [
    {
     "data": {
      "image/png": "[encoded data removed]",
      "text/plain": [
       "<Figure size 432x288 with 1 Axes>"
      ]
     },
     "metadata": {},
     "output_type": "display_data"
    }
   ],
   "source": [
    "final_results3 = pd.concat([data['PCEPI'][-12:],forecast_results['pcepi_forecast']], axis=1)\n",
    "final_results3.plot()\n",
    "plt.show()"
   ]
  },
  {
   "cell_type": "code",
   "execution_count": 148,
   "id": "6877e5fb",
   "metadata": {},
   "outputs": [
    {
     "data": {
      "text/html": [
       "<div>\n",
       "<style scoped>\n",
       "    .dataframe tbody tr th:only-of-type {\n",
       "        vertical-align: middle;\n",
       "    }\n",
       "\n",
       "    .dataframe tbody tr th {\n",
       "        vertical-align: top;\n",
       "    }\n",
       "\n",
       "    .dataframe thead th {\n",
       "        text-align: right;\n",
       "    }\n",
       "</style>\n",
       "<table border=\"1\" class=\"dataframe\">\n",
       "  <thead>\n",
       "    <tr style=\"text-align: right;\">\n",
       "      <th></th>\n",
       "      <th>PCE</th>\n",
       "      <th>AHE</th>\n",
       "      <th>PCEPI</th>\n",
       "      <th>pce_forecast</th>\n",
       "      <th>ahe_forecast</th>\n",
       "      <th>pcepi_forecast</th>\n",
       "    </tr>\n",
       "  </thead>\n",
       "  <tbody>\n",
       "    <tr>\n",
       "      <th>2019-01</th>\n",
       "      <td>14223.7</td>\n",
       "      <td>27.59</td>\n",
       "      <td>108.872</td>\n",
       "      <td>14138.748442</td>\n",
       "      <td>27.578770</td>\n",
       "      <td>108.907935</td>\n",
       "    </tr>\n",
       "    <tr>\n",
       "      <th>2019-02</th>\n",
       "      <td>14236.1</td>\n",
       "      <td>27.68</td>\n",
       "      <td>109.003</td>\n",
       "      <td>14161.219798</td>\n",
       "      <td>27.635102</td>\n",
       "      <td>108.935246</td>\n",
       "    </tr>\n",
       "    <tr>\n",
       "      <th>2019-03</th>\n",
       "      <td>14370.0</td>\n",
       "      <td>27.76</td>\n",
       "      <td>109.252</td>\n",
       "      <td>14187.849933</td>\n",
       "      <td>27.682494</td>\n",
       "      <td>109.016444</td>\n",
       "    </tr>\n",
       "    <tr>\n",
       "      <th>2019-04</th>\n",
       "      <td>14443.2</td>\n",
       "      <td>27.80</td>\n",
       "      <td>109.609</td>\n",
       "      <td>14217.443239</td>\n",
       "      <td>27.731964</td>\n",
       "      <td>109.120155</td>\n",
       "    </tr>\n",
       "    <tr>\n",
       "      <th>2019-05</th>\n",
       "      <td>14493.0</td>\n",
       "      <td>27.88</td>\n",
       "      <td>109.720</td>\n",
       "      <td>14248.260086</td>\n",
       "      <td>27.780587</td>\n",
       "      <td>109.236368</td>\n",
       "    </tr>\n",
       "    <tr>\n",
       "      <th>2019-06</th>\n",
       "      <td>14555.8</td>\n",
       "      <td>27.96</td>\n",
       "      <td>109.849</td>\n",
       "      <td>14279.761384</td>\n",
       "      <td>27.829330</td>\n",
       "      <td>109.358458</td>\n",
       "    </tr>\n",
       "    <tr>\n",
       "      <th>2019-07</th>\n",
       "      <td>14611.9</td>\n",
       "      <td>28.04</td>\n",
       "      <td>110.042</td>\n",
       "      <td>14311.583125</td>\n",
       "      <td>27.877977</td>\n",
       "      <td>109.483587</td>\n",
       "    </tr>\n",
       "    <tr>\n",
       "      <th>2019-08</th>\n",
       "      <td>14650.9</td>\n",
       "      <td>28.16</td>\n",
       "      <td>110.115</td>\n",
       "      <td>14343.570946</td>\n",
       "      <td>27.926620</td>\n",
       "      <td>109.610203</td>\n",
       "    </tr>\n",
       "    <tr>\n",
       "      <th>2019-09</th>\n",
       "      <td>14673.2</td>\n",
       "      <td>28.15</td>\n",
       "      <td>110.167</td>\n",
       "      <td>14375.639909</td>\n",
       "      <td>27.975249</td>\n",
       "      <td>109.737569</td>\n",
       "    </tr>\n",
       "    <tr>\n",
       "      <th>2019-10</th>\n",
       "      <td>14728.5</td>\n",
       "      <td>28.24</td>\n",
       "      <td>110.377</td>\n",
       "      <td>14407.749887</td>\n",
       "      <td>28.023874</td>\n",
       "      <td>109.865308</td>\n",
       "    </tr>\n",
       "    <tr>\n",
       "      <th>2019-11</th>\n",
       "      <td>14752.8</td>\n",
       "      <td>28.33</td>\n",
       "      <td>110.461</td>\n",
       "      <td>14439.880191</td>\n",
       "      <td>28.072496</td>\n",
       "      <td>109.993233</td>\n",
       "    </tr>\n",
       "    <tr>\n",
       "      <th>2019-12</th>\n",
       "      <td>14796.3</td>\n",
       "      <td>28.36</td>\n",
       "      <td>110.750</td>\n",
       "      <td>14472.020685</td>\n",
       "      <td>28.121118</td>\n",
       "      <td>110.121251</td>\n",
       "    </tr>\n",
       "  </tbody>\n",
       "</table>\n",
       "</div>"
      ],
      "text/plain": [
       "             PCE    AHE    PCEPI  pce_forecast  ahe_forecast  pcepi_forecast\n",
       "2019-01  14223.7  27.59  108.872  14138.748442     27.578770      108.907935\n",
       "2019-02  14236.1  27.68  109.003  14161.219798     27.635102      108.935246\n",
       "2019-03  14370.0  27.76  109.252  14187.849933     27.682494      109.016444\n",
       "2019-04  14443.2  27.80  109.609  14217.443239     27.731964      109.120155\n",
       "2019-05  14493.0  27.88  109.720  14248.260086     27.780587      109.236368\n",
       "2019-06  14555.8  27.96  109.849  14279.761384     27.829330      109.358458\n",
       "2019-07  14611.9  28.04  110.042  14311.583125     27.877977      109.483587\n",
       "2019-08  14650.9  28.16  110.115  14343.570946     27.926620      109.610203\n",
       "2019-09  14673.2  28.15  110.167  14375.639909     27.975249      109.737569\n",
       "2019-10  14728.5  28.24  110.377  14407.749887     28.023874      109.865308\n",
       "2019-11  14752.8  28.33  110.461  14439.880191     28.072496      109.993233\n",
       "2019-12  14796.3  28.36  110.750  14472.020685     28.121118      110.121251"
      ]
     },
     "execution_count": 148,
     "metadata": {},
     "output_type": "execute_result"
    }
   ],
   "source": [
    "final_results"
   ]
  },
  {
   "cell_type": "code",
   "execution_count": 149,
   "id": "7df05dbf",
   "metadata": {},
   "outputs": [
    {
     "name": "stdout",
     "output_type": "stream",
     "text": [
      "VAR PCE RMSE: 260.1607535784575\n",
      "VAR AHE RMSE: 0.1635733061737487\n",
      "VAR PCEPI RMSE: 0.4473892816079645\n"
     ]
    }
   ],
   "source": [
    "print('VAR PCE RMSE: ' + str(sqrt(mean_squared_error(final_results['PCE'],final_results['pce_forecast']))))\n",
    "print('VAR AHE RMSE: ' + str(sqrt(mean_squared_error(final_results['AHE'],final_results['ahe_forecast']))))\n",
    "print('VAR PCEPI RMSE: ' + str(sqrt(mean_squared_error(final_results['PCEPI'],final_results['pcepi_forecast']))))"
   ]
  },
  {
   "cell_type": "markdown",
   "id": "36e3be03",
   "metadata": {},
   "source": [
    "#### E. 8 pts What is the advantage of this VAR model? What would ARIMA or prophet models on this dataset look like, if we were asked to forecast AHE?"
   ]
  },
  {
   "cell_type": "markdown",
   "id": "d9a85ba0",
   "metadata": {},
   "source": [
    "One limitation of the models we have used before like the ARIMA models for example is that they show a more unidirectional relationship where the forecast variable is influenced by the predictor variables, but we don't see the opposite relationship where the predictor variables is influenced by the forecast variable. When looking at data where we are not really sure of what the predictor and forecast variables are or should be, I think it is a good idea to see how all the variables affect each other. In this particular example where we look at price of goods, consumption and hourly wages, it is very important to see how the variables affect each other becuase they are all so interrelated. Seeing such feedback relationships, where one variable and affect another and vice versa, is a advantage of the vector autoregressive (VAR) model. In this model, all variables are treated symmetrically. They are all modelled as if they all influence each other equally. All variables are now treated as endogenous.Another advantage is that forecasts of the VAR model are generated in a recursive manner. The VAR generates forecasts for each variable included in the system. So, even with a large data, it require less manual steps or coding because the fit function can handle multiple variables."
   ]
  },
  {
   "cell_type": "markdown",
   "id": "f17fcf23",
   "metadata": {},
   "source": [
    "An ARIMA or prophet model of this dataset if we were asked to forecast AHE would include first handle the differencing making sure there is stationairty similar to what we hae done here. A difference is that AHE would be the forecast variable or the endogenous variable and the PCE and PCEPi would be external regressors- exogeneous variables. When we predict, we only predict AHE values. We would only see the forecasted values for AHE and not for PCE or PCEPI. Also, we would not be able to analyze the correlation or how one variable impacts another. It would be more unidirectional."
   ]
  }
 ],
 "metadata": {
  "kernelspec": {
   "display_name": "Python 3",
   "language": "python",
   "name": "python3"
  },
  "language_info": {
   "codemirror_mode": {
    "name": "ipython",
    "version": 3
   },
   "file_extension": ".py",
   "mimetype": "text/x-python",
   "name": "python",
   "nbconvert_exporter": "python",
   "pygments_lexer": "ipython3",
   "version": "3.7.10"
  }
 },
 "nbformat": 4,
 "nbformat_minor": 5
}
