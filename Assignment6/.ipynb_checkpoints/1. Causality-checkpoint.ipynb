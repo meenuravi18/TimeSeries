{
 "cells": [
  {
   "cell_type": "code",
   "execution_count": 1,
   "metadata": {
    "ExecuteTime": {
     "end_time": "2021-03-02T02:45:06.378685Z",
     "start_time": "2021-03-02T02:45:05.096692Z"
    }
   },
   "outputs": [],
   "source": [
    "import pandas as pd\n",
    "import matplotlib.pyplot as plt\n",
    "from statsmodels.datasets import copper\n",
    "from statsmodels.tsa.stattools import kpss, adfuller"
   ]
  },
  {
   "cell_type": "code",
   "execution_count": 2,
   "metadata": {
    "ExecuteTime": {
     "end_time": "2021-03-02T02:45:07.005072Z",
     "start_time": "2021-03-02T02:45:06.382674Z"
    }
   },
   "outputs": [],
   "source": [
    "from statsmodels.tsa.stattools import grangercausalitytests, q_stat"
   ]
  },
  {
   "cell_type": "code",
   "execution_count": 3,
   "metadata": {
    "ExecuteTime": {
     "end_time": "2021-03-02T02:45:07.028008Z",
     "start_time": "2021-03-02T02:45:07.009026Z"
    }
   },
   "outputs": [],
   "source": [
    "data = pd.DataFrame(copper.load().data)\n",
    "data.drop(['TIME'], axis=1, inplace=True)\n",
    "data = data[['COPPERPRICE', 'WORLDCONSUMPTION']]"
   ]
  },
  {
   "cell_type": "code",
   "execution_count": 4,
   "metadata": {
    "ExecuteTime": {
     "end_time": "2021-03-02T02:45:07.054901Z",
     "start_time": "2021-03-02T02:45:07.029969Z"
    }
   },
   "outputs": [
    {
     "data": {
      "text/html": [
       "<div>\n",
       "<style scoped>\n",
       "    .dataframe tbody tr th:only-of-type {\n",
       "        vertical-align: middle;\n",
       "    }\n",
       "\n",
       "    .dataframe tbody tr th {\n",
       "        vertical-align: top;\n",
       "    }\n",
       "\n",
       "    .dataframe thead th {\n",
       "        text-align: right;\n",
       "    }\n",
       "</style>\n",
       "<table border=\"1\" class=\"dataframe\">\n",
       "  <thead>\n",
       "    <tr style=\"text-align: right;\">\n",
       "      <th></th>\n",
       "      <th>COPPERPRICE</th>\n",
       "      <th>WORLDCONSUMPTION</th>\n",
       "    </tr>\n",
       "  </thead>\n",
       "  <tbody>\n",
       "    <tr>\n",
       "      <th>0</th>\n",
       "      <td>26.56</td>\n",
       "      <td>3173.0</td>\n",
       "    </tr>\n",
       "    <tr>\n",
       "      <th>1</th>\n",
       "      <td>27.31</td>\n",
       "      <td>3281.1</td>\n",
       "    </tr>\n",
       "    <tr>\n",
       "      <th>2</th>\n",
       "      <td>32.95</td>\n",
       "      <td>3135.7</td>\n",
       "    </tr>\n",
       "    <tr>\n",
       "      <th>3</th>\n",
       "      <td>33.90</td>\n",
       "      <td>3359.1</td>\n",
       "    </tr>\n",
       "    <tr>\n",
       "      <th>4</th>\n",
       "      <td>42.70</td>\n",
       "      <td>3755.1</td>\n",
       "    </tr>\n",
       "  </tbody>\n",
       "</table>\n",
       "</div>"
      ],
      "text/plain": [
       "   COPPERPRICE  WORLDCONSUMPTION\n",
       "0        26.56            3173.0\n",
       "1        27.31            3281.1\n",
       "2        32.95            3135.7\n",
       "3        33.90            3359.1\n",
       "4        42.70            3755.1"
      ]
     },
     "execution_count": 4,
     "metadata": {},
     "output_type": "execute_result"
    }
   ],
   "source": [
    "data.head()"
   ]
  },
  {
   "cell_type": "code",
   "execution_count": 5,
   "metadata": {},
   "outputs": [
    {
     "data": {
      "image/png": "[encoded data removed]",
      "text/plain": [
       "<Figure size 432x288 with 1 Axes>"
      ]
     },
     "metadata": {
      "needs_background": "light"
     },
     "output_type": "display_data"
    }
   ],
   "source": [
    "plt.plot(data.COPPERPRICE)\n",
    "plt.title('Copper price')\n",
    "plt.show()"
   ]
  },
  {
   "cell_type": "code",
   "execution_count": 6,
   "metadata": {},
   "outputs": [
    {
     "data": {
      "image/png": "[encoded data removed]",
      "text/plain": [
       "<Figure size 432x288 with 1 Axes>"
      ]
     },
     "metadata": {
      "needs_background": "light"
     },
     "output_type": "display_data"
    }
   ],
   "source": [
    "plt.plot(data.WORLDCONSUMPTION)\n",
    "plt.title('World consumption of copper')\n",
    "plt.show()"
   ]
  },
  {
   "cell_type": "markdown",
   "metadata": {},
   "source": [
    "# Does WORLDCONSUMPTION Granger Cause COPPERPRICE?"
   ]
  },
  {
   "cell_type": "code",
   "execution_count": 7,
   "metadata": {
    "ExecuteTime": {
     "end_time": "2021-03-02T02:45:07.061886Z",
     "start_time": "2021-03-02T02:45:07.057933Z"
    }
   },
   "outputs": [],
   "source": [
    "alpha=0.05"
   ]
  },
  {
   "cell_type": "markdown",
   "metadata": {},
   "source": [
    "We are using grangercausalitytests from statsmodels<br>\n",
    "Parameters:\n",
    "   - x: The data for the test, whether the **second** column Granger causes the time series in the **first** column.\n",
    "   - maxlag: Integer, computes the test for all lags up to maxlag\n",
    "   - addconstant: Include a constant in the model , default = True\n",
    "   - verbose: Prints results, default = True\n",
    "<br>\n",
    "\n",
    "Results are in a dictionary\n",
    "   - Keys: are the number of lags\n",
    "   - Values: contain teststatistic, pvalues, d.o.f.\n",
    "   \n",
    "<br>\n",
    "Null hypothesis is that the second column **DOES NOT** Granger cause the first column"
   ]
  },
  {
   "cell_type": "code",
   "execution_count": 8,
   "metadata": {
    "ExecuteTime": {
     "end_time": "2021-03-02T02:45:07.133723Z",
     "start_time": "2021-03-02T02:45:07.064874Z"
    }
   },
   "outputs": [
    {
     "name": "stdout",
     "output_type": "stream",
     "text": [
      "\n",
      "Granger Causality\n",
      "number of lags (no zero) 1\n",
      "ssr based F test:         F=1.5696  , p=0.2240  , df_denom=21, df_num=1\n",
      "ssr based chi2 test:   chi2=1.7939  , p=0.1805  , df=1\n",
      "likelihood ratio test: chi2=1.7300  , p=0.1884  , df=1\n",
      "parameter F test:         F=1.5696  , p=0.2240  , df_denom=21, df_num=1\n",
      "\n",
      "Granger Causality\n",
      "number of lags (no zero) 2\n",
      "ssr based F test:         F=3.8543  , p=0.0404  , df_denom=18, df_num=2\n",
      "ssr based chi2 test:   chi2=9.8499  , p=0.0073  , df=2\n",
      "likelihood ratio test: chi2=8.1984  , p=0.0166  , df=2\n",
      "parameter F test:         F=3.8543  , p=0.0404  , df_denom=18, df_num=2\n",
      "\n",
      "Granger Causality\n",
      "number of lags (no zero) 3\n",
      "ssr based F test:         F=3.9461  , p=0.0293  , df_denom=15, df_num=3\n",
      "ssr based chi2 test:   chi2=17.3629 , p=0.0006  , df=3\n",
      "likelihood ratio test: chi2=12.7992 , p=0.0051  , df=3\n",
      "parameter F test:         F=3.9461  , p=0.0293  , df_denom=15, df_num=3\n",
      "\n",
      "Granger Causality\n",
      "number of lags (no zero) 4\n",
      "ssr based F test:         F=5.9103  , p=0.0073  , df_denom=12, df_num=4\n",
      "ssr based chi2 test:   chi2=41.3722 , p=0.0000  , df=4\n",
      "likelihood ratio test: chi2=22.8606 , p=0.0001  , df=4\n",
      "parameter F test:         F=5.9103  , p=0.0073  , df_denom=12, df_num=4\n",
      "\n",
      "Granger Causality\n",
      "number of lags (no zero) 5\n",
      "ssr based F test:         F=5.6051  , p=0.0128  , df_denom=9, df_num=5\n",
      "ssr based chi2 test:   chi2=62.2784 , p=0.0000  , df=5\n",
      "likelihood ratio test: chi2=28.2875 , p=0.0000  , df=5\n",
      "parameter F test:         F=5.6051  , p=0.0128  , df_denom=9, df_num=5\n",
      "\n",
      "Granger Causality\n",
      "number of lags (no zero) 6\n",
      "ssr based F test:         F=13.2862 , p=0.0031  , df_denom=6, df_num=6\n",
      "ssr based chi2 test:   chi2=252.4381, p=0.0000  , df=6\n",
      "likelihood ratio test: chi2=50.5266 , p=0.0000  , df=6\n",
      "parameter F test:         F=13.2862 , p=0.0031  , df_denom=6, df_num=6\n"
     ]
    }
   ],
   "source": [
    "granger_results = grangercausalitytests(data, maxlag=6, verbose=True)"
   ]
  },
  {
   "cell_type": "code",
   "execution_count": 9,
   "metadata": {
    "ExecuteTime": {
     "end_time": "2021-03-02T02:45:07.417768Z",
     "start_time": "2021-03-02T02:45:07.139704Z"
    }
   },
   "outputs": [
    {
     "data": {
      "image/png": "[encoded data removed]",
      "text/plain": [
       "<Figure size 432x288 with 1 Axes>"
      ]
     },
     "metadata": {
      "needs_background": "light"
     },
     "output_type": "display_data"
    }
   ],
   "source": [
    "res_list = []\n",
    "for lag, v in granger_results.items():\n",
    "    res = {}\n",
    "    res['Lag'] = lag\n",
    "    for test, stats in v[0].items():\n",
    "        res[test] = stats[1]\n",
    "\n",
    "    res_list.append(res)\n",
    "\n",
    "pvals = pd.DataFrame(res_list)\n",
    "pvals.set_index('Lag', inplace=True)\n",
    "pvals_graph = pvals['params_ftest']\n",
    "\n",
    "pvals_graph.plot(title='Granger Causality Test')\n",
    "alpha_ser = pd.Series([alpha]*len(pvals_graph), index=pvals_graph.index)\n",
    "alpha_ser.plot(color='red')\n",
    "plt.ylabel('p-value')\n",
    "plt.show()"
   ]
  },
  {
   "cell_type": "code",
   "execution_count": 10,
   "metadata": {},
   "outputs": [
    {
     "data": {
      "text/html": [
       "<div>\n",
       "<style scoped>\n",
       "    .dataframe tbody tr th:only-of-type {\n",
       "        vertical-align: middle;\n",
       "    }\n",
       "\n",
       "    .dataframe tbody tr th {\n",
       "        vertical-align: top;\n",
       "    }\n",
       "\n",
       "    .dataframe thead th {\n",
       "        text-align: right;\n",
       "    }\n",
       "</style>\n",
       "<table border=\"1\" class=\"dataframe\">\n",
       "  <thead>\n",
       "    <tr style=\"text-align: right;\">\n",
       "      <th></th>\n",
       "      <th>WORLDCONSUMPTION</th>\n",
       "      <th>COPPERPRICE</th>\n",
       "    </tr>\n",
       "  </thead>\n",
       "  <tbody>\n",
       "    <tr>\n",
       "      <th>0</th>\n",
       "      <td>3173.0</td>\n",
       "      <td>26.56</td>\n",
       "    </tr>\n",
       "    <tr>\n",
       "      <th>1</th>\n",
       "      <td>3281.1</td>\n",
       "      <td>27.31</td>\n",
       "    </tr>\n",
       "    <tr>\n",
       "      <th>2</th>\n",
       "      <td>3135.7</td>\n",
       "      <td>32.95</td>\n",
       "    </tr>\n",
       "    <tr>\n",
       "      <th>3</th>\n",
       "      <td>3359.1</td>\n",
       "      <td>33.90</td>\n",
       "    </tr>\n",
       "    <tr>\n",
       "      <th>4</th>\n",
       "      <td>3755.1</td>\n",
       "      <td>42.70</td>\n",
       "    </tr>\n",
       "  </tbody>\n",
       "</table>\n",
       "</div>"
      ],
      "text/plain": [
       "   WORLDCONSUMPTION  COPPERPRICE\n",
       "0            3173.0        26.56\n",
       "1            3281.1        27.31\n",
       "2            3135.7        32.95\n",
       "3            3359.1        33.90\n",
       "4            3755.1        42.70"
      ]
     },
     "execution_count": 10,
     "metadata": {},
     "output_type": "execute_result"
    }
   ],
   "source": [
    "data2 = data[['WORLDCONSUMPTION', 'COPPERPRICE']]\n",
    "data2.head()"
   ]
  },
  {
   "cell_type": "code",
   "execution_count": 11,
   "metadata": {},
   "outputs": [],
   "source": [
    "granger_results = grangercausalitytests(data2, maxlag=6, verbose=False)"
   ]
  },
  {
   "cell_type": "code",
   "execution_count": 12,
   "metadata": {},
   "outputs": [
    {
     "data": {
      "image/png": "[encoded data removed]",
      "text/plain": [
       "<Figure size 432x288 with 1 Axes>"
      ]
     },
     "metadata": {
      "needs_background": "light"
     },
     "output_type": "display_data"
    }
   ],
   "source": [
    "res_list = []\n",
    "for lag, v in granger_results.items():\n",
    "    res = {}\n",
    "    res['Lag'] = lag\n",
    "    for test, stats in v[0].items():\n",
    "        res[test] = stats[1]\n",
    "\n",
    "    res_list.append(res)\n",
    "\n",
    "pvals = pd.DataFrame(res_list)\n",
    "pvals.set_index('Lag', inplace=True)\n",
    "pvals_graph = pvals['params_ftest']\n",
    "\n",
    "pvals_graph.plot(title='Granger Causality Test')\n",
    "alpha_ser = pd.Series([alpha]*len(pvals_graph), index=pvals_graph.index)\n",
    "alpha_ser.plot(color='red')\n",
    "plt.ylabel('p-value')\n",
    "plt.show()"
   ]
  },
  {
   "cell_type": "markdown",
   "metadata": {},
   "source": [
    "### What can we conclude from these two Granger Causality tests?"
   ]
  },
  {
   "cell_type": "code",
   "execution_count": null,
   "metadata": {},
   "outputs": [],
   "source": []
  },
  {
   "cell_type": "code",
   "execution_count": 13,
   "metadata": {},
   "outputs": [],
   "source": [
    "def adf_test(timeseries):\n",
    "    #Perform Dickey-Fuller test:\n",
    "    print ('Results of Dickey-Fuller Test:')\n",
    "    dftest = adfuller(timeseries, autolag='AIC')\n",
    "    dfoutput = pd.Series(dftest[0:4], index=['Test Statistic','p-value','#Lags Used','Number of Observations Used'])\n",
    "    for key,value in dftest[4].items():\n",
    "       dfoutput['Critical Value (%s)'%key] = value\n",
    "    print (dfoutput)"
   ]
  },
  {
   "cell_type": "code",
   "execution_count": 14,
   "metadata": {
    "scrolled": true
   },
   "outputs": [
    {
     "name": "stdout",
     "output_type": "stream",
     "text": [
      "Results of Dickey-Fuller Test:\n",
      "Test Statistic                 -2.379919\n",
      "p-value                         0.147485\n",
      "#Lags Used                      0.000000\n",
      "Number of Observations Used    24.000000\n",
      "Critical Value (1%)            -3.737709\n",
      "Critical Value (5%)            -2.992216\n",
      "Critical Value (10%)           -2.635747\n",
      "dtype: float64\n"
     ]
    }
   ],
   "source": [
    "adf_test(data.COPPERPRICE)"
   ]
  },
  {
   "cell_type": "code",
   "execution_count": 15,
   "metadata": {},
   "outputs": [
    {
     "name": "stdout",
     "output_type": "stream",
     "text": [
      "stationarity from ad_fuller test: False\n"
     ]
    }
   ],
   "source": [
    "ad_fuller_results = adfuller(data.COPPERPRICE)\n",
    "ad_fuller_pval = ad_fuller_results[1]\n",
    "ad_fuller_bool = ad_fuller_pval <= alpha\n",
    "\n",
    "print(f'stationarity from ad_fuller test: {ad_fuller_bool}')"
   ]
  },
  {
   "cell_type": "code",
   "execution_count": 16,
   "metadata": {},
   "outputs": [
    {
     "name": "stdout",
     "output_type": "stream",
     "text": [
      "Results of Dickey-Fuller Test:\n",
      "Test Statistic                 -1.727237\n",
      "p-value                         0.417137\n",
      "#Lags Used                      9.000000\n",
      "Number of Observations Used    15.000000\n",
      "Critical Value (1%)            -3.964443\n",
      "Critical Value (5%)            -3.084908\n",
      "Critical Value (10%)           -2.681814\n",
      "dtype: float64\n"
     ]
    }
   ],
   "source": [
    "adf_test(data.WORLDCONSUMPTION)"
   ]
  },
  {
   "cell_type": "code",
   "execution_count": 17,
   "metadata": {},
   "outputs": [
    {
     "name": "stdout",
     "output_type": "stream",
     "text": [
      "stationarity from ad_fuller test: False\n"
     ]
    }
   ],
   "source": [
    "ad_fuller_results = adfuller(data.WORLDCONSUMPTION)\n",
    "ad_fuller_pval = ad_fuller_results[1]\n",
    "ad_fuller_bool = ad_fuller_pval <= alpha\n",
    "\n",
    "print(f'stationarity from ad_fuller test: {ad_fuller_bool}')"
   ]
  },
  {
   "cell_type": "code",
   "execution_count": 18,
   "metadata": {},
   "outputs": [],
   "source": [
    "price_diff = data.COPPERPRICE.diff().dropna()\n",
    "consum_diff = data.WORLDCONSUMPTION.diff().dropna()"
   ]
  },
  {
   "cell_type": "code",
   "execution_count": 19,
   "metadata": {},
   "outputs": [
    {
     "name": "stdout",
     "output_type": "stream",
     "text": [
      "Results of Dickey-Fuller Test:\n",
      "Test Statistic                 -4.075807\n",
      "p-value                         0.001062\n",
      "#Lags Used                      0.000000\n",
      "Number of Observations Used    23.000000\n",
      "Critical Value (1%)            -3.752928\n",
      "Critical Value (5%)            -2.998500\n",
      "Critical Value (10%)           -2.638967\n",
      "dtype: float64\n"
     ]
    }
   ],
   "source": [
    "adf_test(price_diff)"
   ]
  },
  {
   "cell_type": "code",
   "execution_count": 20,
   "metadata": {},
   "outputs": [
    {
     "name": "stdout",
     "output_type": "stream",
     "text": [
      "Results of Dickey-Fuller Test:\n",
      "Test Statistic                -5.997780e+00\n",
      "p-value                        1.685428e-07\n",
      "#Lags Used                     1.000000e+00\n",
      "Number of Observations Used    2.200000e+01\n",
      "Critical Value (1%)           -3.769733e+00\n",
      "Critical Value (5%)           -3.005426e+00\n",
      "Critical Value (10%)          -2.642501e+00\n",
      "dtype: float64\n"
     ]
    }
   ],
   "source": [
    "adf_test(consum_diff)"
   ]
  },
  {
   "cell_type": "code",
   "execution_count": 21,
   "metadata": {},
   "outputs": [
    {
     "data": {
      "text/html": [
       "<div>\n",
       "<style scoped>\n",
       "    .dataframe tbody tr th:only-of-type {\n",
       "        vertical-align: middle;\n",
       "    }\n",
       "\n",
       "    .dataframe tbody tr th {\n",
       "        vertical-align: top;\n",
       "    }\n",
       "\n",
       "    .dataframe thead th {\n",
       "        text-align: right;\n",
       "    }\n",
       "</style>\n",
       "<table border=\"1\" class=\"dataframe\">\n",
       "  <thead>\n",
       "    <tr style=\"text-align: right;\">\n",
       "      <th></th>\n",
       "      <th>COPPERPRICE</th>\n",
       "      <th>WORLDCONSUMPTION</th>\n",
       "    </tr>\n",
       "  </thead>\n",
       "  <tbody>\n",
       "    <tr>\n",
       "      <th>0</th>\n",
       "      <td>0.75</td>\n",
       "      <td>108.1</td>\n",
       "    </tr>\n",
       "    <tr>\n",
       "      <th>1</th>\n",
       "      <td>5.64</td>\n",
       "      <td>-145.4</td>\n",
       "    </tr>\n",
       "    <tr>\n",
       "      <th>2</th>\n",
       "      <td>0.95</td>\n",
       "      <td>223.4</td>\n",
       "    </tr>\n",
       "    <tr>\n",
       "      <th>3</th>\n",
       "      <td>8.80</td>\n",
       "      <td>396.0</td>\n",
       "    </tr>\n",
       "    <tr>\n",
       "      <th>4</th>\n",
       "      <td>3.41</td>\n",
       "      <td>120.8</td>\n",
       "    </tr>\n",
       "  </tbody>\n",
       "</table>\n",
       "</div>"
      ],
      "text/plain": [
       "   COPPERPRICE  WORLDCONSUMPTION\n",
       "0         0.75             108.1\n",
       "1         5.64            -145.4\n",
       "2         0.95             223.4\n",
       "3         8.80             396.0\n",
       "4         3.41             120.8"
      ]
     },
     "execution_count": 21,
     "metadata": {},
     "output_type": "execute_result"
    }
   ],
   "source": [
    "data3 = pd.concat([price_diff, consum_diff], axis=1).reset_index(drop=True)\n",
    "data3.head()"
   ]
  },
  {
   "cell_type": "code",
   "execution_count": 22,
   "metadata": {},
   "outputs": [],
   "source": [
    "granger_results = grangercausalitytests(data3, maxlag=6, verbose=False)"
   ]
  },
  {
   "cell_type": "code",
   "execution_count": 23,
   "metadata": {},
   "outputs": [
    {
     "data": {
      "image/png": "[encoded data removed]",
      "text/plain": [
       "<Figure size 432x288 with 1 Axes>"
      ]
     },
     "metadata": {
      "needs_background": "light"
     },
     "output_type": "display_data"
    }
   ],
   "source": [
    "res_list = []\n",
    "for lag, v in granger_results.items():\n",
    "    res = {}\n",
    "    res['Lag'] = lag\n",
    "    for test, stats in v[0].items():\n",
    "        res[test] = stats[1]\n",
    "\n",
    "    res_list.append(res)\n",
    "\n",
    "pvals = pd.DataFrame(res_list)\n",
    "pvals.set_index('Lag', inplace=True)\n",
    "pvals_graph = pvals['params_ftest']\n",
    "\n",
    "pvals_graph.plot(title='Granger Causality Test')\n",
    "alpha_ser = pd.Series([alpha]*len(pvals_graph), index=pvals_graph.index)\n",
    "alpha_ser.plot(color='red')\n",
    "plt.ylabel('p-value')\n",
    "plt.show()"
   ]
  },
  {
   "cell_type": "code",
   "execution_count": 24,
   "metadata": {},
   "outputs": [
    {
     "data": {
      "text/html": [
       "<div>\n",
       "<style scoped>\n",
       "    .dataframe tbody tr th:only-of-type {\n",
       "        vertical-align: middle;\n",
       "    }\n",
       "\n",
       "    .dataframe tbody tr th {\n",
       "        vertical-align: top;\n",
       "    }\n",
       "\n",
       "    .dataframe thead th {\n",
       "        text-align: right;\n",
       "    }\n",
       "</style>\n",
       "<table border=\"1\" class=\"dataframe\">\n",
       "  <thead>\n",
       "    <tr style=\"text-align: right;\">\n",
       "      <th></th>\n",
       "      <th>WORLDCONSUMPTION</th>\n",
       "      <th>COPPERPRICE</th>\n",
       "    </tr>\n",
       "  </thead>\n",
       "  <tbody>\n",
       "    <tr>\n",
       "      <th>0</th>\n",
       "      <td>108.1</td>\n",
       "      <td>0.75</td>\n",
       "    </tr>\n",
       "    <tr>\n",
       "      <th>1</th>\n",
       "      <td>-145.4</td>\n",
       "      <td>5.64</td>\n",
       "    </tr>\n",
       "    <tr>\n",
       "      <th>2</th>\n",
       "      <td>223.4</td>\n",
       "      <td>0.95</td>\n",
       "    </tr>\n",
       "    <tr>\n",
       "      <th>3</th>\n",
       "      <td>396.0</td>\n",
       "      <td>8.80</td>\n",
       "    </tr>\n",
       "    <tr>\n",
       "      <th>4</th>\n",
       "      <td>120.8</td>\n",
       "      <td>3.41</td>\n",
       "    </tr>\n",
       "  </tbody>\n",
       "</table>\n",
       "</div>"
      ],
      "text/plain": [
       "   WORLDCONSUMPTION  COPPERPRICE\n",
       "0             108.1         0.75\n",
       "1            -145.4         5.64\n",
       "2             223.4         0.95\n",
       "3             396.0         8.80\n",
       "4             120.8         3.41"
      ]
     },
     "execution_count": 24,
     "metadata": {},
     "output_type": "execute_result"
    }
   ],
   "source": [
    "data4 = data3[['WORLDCONSUMPTION', 'COPPERPRICE']]\n",
    "data4.head()"
   ]
  },
  {
   "cell_type": "code",
   "execution_count": 25,
   "metadata": {},
   "outputs": [],
   "source": [
    "granger_results = grangercausalitytests(data4, maxlag=6, verbose=False)"
   ]
  },
  {
   "cell_type": "code",
   "execution_count": 26,
   "metadata": {},
   "outputs": [
    {
     "data": {
      "image/png": "[encoded data removed]",
      "text/plain": [
       "<Figure size 432x288 with 1 Axes>"
      ]
     },
     "metadata": {
      "needs_background": "light"
     },
     "output_type": "display_data"
    }
   ],
   "source": [
    "res_list = []\n",
    "for lag, v in granger_results.items():\n",
    "    res = {}\n",
    "    res['Lag'] = lag\n",
    "    for test, stats in v[0].items():\n",
    "        res[test] = stats[1]\n",
    "\n",
    "    res_list.append(res)\n",
    "\n",
    "pvals = pd.DataFrame(res_list)\n",
    "pvals.set_index('Lag', inplace=True)\n",
    "pvals_graph = pvals['params_ftest']\n",
    "\n",
    "pvals_graph.plot(title='Granger Causality Test')\n",
    "alpha_ser = pd.Series([alpha]*len(pvals_graph), index=pvals_graph.index)\n",
    "alpha_ser.plot(color='red')\n",
    "plt.ylabel('p-value')\n",
    "plt.show()"
   ]
  },
  {
   "cell_type": "markdown",
   "metadata": {},
   "source": [
    "#### E. What can we say about the results when we difference the data?"
   ]
  },
  {
   "cell_type": "markdown",
   "metadata": {},
   "source": []
  },
  {
   "cell_type": "code",
   "execution_count": null,
   "metadata": {},
   "outputs": [],
   "source": []
  }
 ],
 "metadata": {
  "kernelspec": {
   "display_name": "Python 3",
   "language": "python",
   "name": "python3"
  },
  "language_info": {
   "codemirror_mode": {
    "name": "ipython",
    "version": 3
   },
   "file_extension": ".py",
   "mimetype": "text/x-python",
   "name": "python",
   "nbconvert_exporter": "python",
   "pygments_lexer": "ipython3",
   "version": "3.7.10"
  },
  "latex_envs": {
   "LaTeX_envs_menu_present": true,
   "autoclose": false,
   "autocomplete": true,
   "bibliofile": "biblio.bib",
   "cite_by": "apalike",
   "current_citInitial": 1,
   "eqLabelWithNumbers": true,
   "eqNumInitial": 1,
   "hotkeys": {
    "equation": "Ctrl-E",
    "itemize": "Ctrl-I"
   },
   "labels_anchors": false,
   "latex_user_defs": false,
   "report_style_numbering": false,
   "user_envs_cfg": false
  }
 },
 "nbformat": 4,
 "nbformat_minor": 2
}
