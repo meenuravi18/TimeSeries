{
 "cells": [
  {
   "cell_type": "markdown",
   "id": "contrary-stamp",
   "metadata": {},
   "source": [
    "### Assignment 1\n",
    "#### Meenu Ravi\n",
    "#### April 7 2021\n"
   ]
  },
  {
   "cell_type": "markdown",
   "id": "completed-broadcast",
   "metadata": {},
   "source": [
    "#### Stationarity"
   ]
  },
  {
   "cell_type": "markdown",
   "id": "silent-physiology",
   "metadata": {},
   "source": [
    "#### A) 10 pts Task: Perform EDA on the dataset. Include both quantitative and qualitative descriptions. Check for missing data and correlations."
   ]
  },
  {
   "cell_type": "code",
   "execution_count": 1,
   "id": "religious-preliminary",
   "metadata": {},
   "outputs": [],
   "source": [
    "# Import statements\n",
    "import warnings\n",
    "warnings.filterwarnings('ignore')\n",
    "import pandas as pd\n",
    "import seaborn as sns\n",
    "from statsmodels.tsa.stattools import kpss, adfuller\n",
    "from statsmodels.graphics.tsaplots import plot_acf, plot_pacf\n",
    "from copy import deepcopy\n",
    "from pandas.plotting import autocorrelation_plot\n",
    "import matplotlib.pyplot as plt\n",
    "import random\n",
    "import numpy as np"
   ]
  },
  {
   "cell_type": "code",
   "execution_count": 2,
   "id": "isolated-drinking",
   "metadata": {},
   "outputs": [
    {
     "data": {
      "text/html": [
       "<div>\n",
       "<style scoped>\n",
       "    .dataframe tbody tr th:only-of-type {\n",
       "        vertical-align: middle;\n",
       "    }\n",
       "\n",
       "    .dataframe tbody tr th {\n",
       "        vertical-align: top;\n",
       "    }\n",
       "\n",
       "    .dataframe thead th {\n",
       "        text-align: right;\n",
       "    }\n",
       "</style>\n",
       "<table border=\"1\" class=\"dataframe\">\n",
       "  <thead>\n",
       "    <tr style=\"text-align: right;\">\n",
       "      <th></th>\n",
       "      <th>Date</th>\n",
       "      <th>IWM</th>\n",
       "      <th>QQQ</th>\n",
       "      <th>SPY</th>\n",
       "    </tr>\n",
       "  </thead>\n",
       "  <tbody>\n",
       "    <tr>\n",
       "      <th>0</th>\n",
       "      <td>2000-05-26</td>\n",
       "      <td>34.800865</td>\n",
       "      <td>67.670738</td>\n",
       "      <td>93.363678</td>\n",
       "    </tr>\n",
       "    <tr>\n",
       "      <th>1</th>\n",
       "      <td>2000-05-30</td>\n",
       "      <td>36.085365</td>\n",
       "      <td>74.470436</td>\n",
       "      <td>96.408173</td>\n",
       "    </tr>\n",
       "    <tr>\n",
       "      <th>2</th>\n",
       "      <td>2000-05-31</td>\n",
       "      <td>36.216213</td>\n",
       "      <td>72.348938</td>\n",
       "      <td>96.619591</td>\n",
       "    </tr>\n",
       "    <tr>\n",
       "      <th>3</th>\n",
       "      <td>2000-06-01</td>\n",
       "      <td>37.036850</td>\n",
       "      <td>76.048004</td>\n",
       "      <td>98.310966</td>\n",
       "    </tr>\n",
       "    <tr>\n",
       "      <th>4</th>\n",
       "      <td>2000-06-02</td>\n",
       "      <td>38.963646</td>\n",
       "      <td>81.487755</td>\n",
       "      <td>100.023491</td>\n",
       "    </tr>\n",
       "    <tr>\n",
       "      <th>5</th>\n",
       "      <td>2000-06-05</td>\n",
       "      <td>38.820915</td>\n",
       "      <td>81.691734</td>\n",
       "      <td>99.537231</td>\n",
       "    </tr>\n",
       "    <tr>\n",
       "      <th>6</th>\n",
       "      <td>2000-06-06</td>\n",
       "      <td>39.201530</td>\n",
       "      <td>79.420624</td>\n",
       "      <td>99.093246</td>\n",
       "    </tr>\n",
       "    <tr>\n",
       "      <th>7</th>\n",
       "      <td>2000-06-07</td>\n",
       "      <td>39.249096</td>\n",
       "      <td>81.542145</td>\n",
       "      <td>99.780373</td>\n",
       "    </tr>\n",
       "    <tr>\n",
       "      <th>8</th>\n",
       "      <td>2000-06-08</td>\n",
       "      <td>39.153946</td>\n",
       "      <td>81.161362</td>\n",
       "      <td>99.389206</td>\n",
       "    </tr>\n",
       "    <tr>\n",
       "      <th>9</th>\n",
       "      <td>2000-06-09</td>\n",
       "      <td>39.843784</td>\n",
       "      <td>81.596519</td>\n",
       "      <td>99.177795</td>\n",
       "    </tr>\n",
       "    <tr>\n",
       "      <th>10</th>\n",
       "      <td>2000-06-12</td>\n",
       "      <td>38.660358</td>\n",
       "      <td>78.985451</td>\n",
       "      <td>98.014984</td>\n",
       "    </tr>\n",
       "    <tr>\n",
       "      <th>11</th>\n",
       "      <td>2000-06-13</td>\n",
       "      <td>39.153946</td>\n",
       "      <td>82.031723</td>\n",
       "      <td>99.854324</td>\n",
       "    </tr>\n",
       "    <tr>\n",
       "      <th>12</th>\n",
       "      <td>2000-06-14</td>\n",
       "      <td>38.963646</td>\n",
       "      <td>80.182213</td>\n",
       "      <td>100.023491</td>\n",
       "    </tr>\n",
       "    <tr>\n",
       "      <th>13</th>\n",
       "      <td>2000-06-15</td>\n",
       "      <td>39.011204</td>\n",
       "      <td>81.596519</td>\n",
       "      <td>100.234894</td>\n",
       "    </tr>\n",
       "    <tr>\n",
       "      <th>14</th>\n",
       "      <td>2000-06-16</td>\n",
       "      <td>38.797134</td>\n",
       "      <td>82.031723</td>\n",
       "      <td>99.411293</td>\n",
       "    </tr>\n",
       "    <tr>\n",
       "      <th>15</th>\n",
       "      <td>2000-06-19</td>\n",
       "      <td>39.772411</td>\n",
       "      <td>85.295525</td>\n",
       "      <td>100.682793</td>\n",
       "    </tr>\n",
       "    <tr>\n",
       "      <th>16</th>\n",
       "      <td>2000-06-20</td>\n",
       "      <td>40.034065</td>\n",
       "      <td>84.969200</td>\n",
       "      <td>100.322563</td>\n",
       "    </tr>\n",
       "    <tr>\n",
       "      <th>17</th>\n",
       "      <td>2000-06-21</td>\n",
       "      <td>40.247330</td>\n",
       "      <td>86.057144</td>\n",
       "      <td>100.280174</td>\n",
       "    </tr>\n",
       "    <tr>\n",
       "      <th>18</th>\n",
       "      <td>2000-06-22</td>\n",
       "      <td>39.033470</td>\n",
       "      <td>82.902061</td>\n",
       "      <td>98.754364</td>\n",
       "    </tr>\n",
       "    <tr>\n",
       "      <th>19</th>\n",
       "      <td>2000-06-23</td>\n",
       "      <td>38.771679</td>\n",
       "      <td>79.638229</td>\n",
       "      <td>97.906693</td>\n",
       "    </tr>\n",
       "  </tbody>\n",
       "</table>\n",
       "</div>"
      ],
      "text/plain": [
       "          Date        IWM        QQQ         SPY\n",
       "0   2000-05-26  34.800865  67.670738   93.363678\n",
       "1   2000-05-30  36.085365  74.470436   96.408173\n",
       "2   2000-05-31  36.216213  72.348938   96.619591\n",
       "3   2000-06-01  37.036850  76.048004   98.310966\n",
       "4   2000-06-02  38.963646  81.487755  100.023491\n",
       "5   2000-06-05  38.820915  81.691734   99.537231\n",
       "6   2000-06-06  39.201530  79.420624   99.093246\n",
       "7   2000-06-07  39.249096  81.542145   99.780373\n",
       "8   2000-06-08  39.153946  81.161362   99.389206\n",
       "9   2000-06-09  39.843784  81.596519   99.177795\n",
       "10  2000-06-12  38.660358  78.985451   98.014984\n",
       "11  2000-06-13  39.153946  82.031723   99.854324\n",
       "12  2000-06-14  38.963646  80.182213  100.023491\n",
       "13  2000-06-15  39.011204  81.596519  100.234894\n",
       "14  2000-06-16  38.797134  82.031723   99.411293\n",
       "15  2000-06-19  39.772411  85.295525  100.682793\n",
       "16  2000-06-20  40.034065  84.969200  100.322563\n",
       "17  2000-06-21  40.247330  86.057144  100.280174\n",
       "18  2000-06-22  39.033470  82.902061   98.754364\n",
       "19  2000-06-23  38.771679  79.638229   97.906693"
      ]
     },
     "execution_count": 2,
     "metadata": {},
     "output_type": "execute_result"
    }
   ],
   "source": [
    "data= pd.read_csv(\"hw1_data.csv\")\n",
    "data.head(20)"
   ]
  },
  {
   "cell_type": "code",
   "execution_count": 3,
   "id": "pretty-chicken",
   "metadata": {},
   "outputs": [
    {
     "data": {
      "text/plain": [
       "(4972, 4)"
      ]
     },
     "execution_count": 3,
     "metadata": {},
     "output_type": "execute_result"
    }
   ],
   "source": [
    "# Looking at the dimension\n",
    "data.shape"
   ]
  },
  {
   "cell_type": "code",
   "execution_count": 4,
   "id": "sixth-madison",
   "metadata": {},
   "outputs": [
    {
     "data": {
      "text/plain": [
       "0"
      ]
     },
     "execution_count": 4,
     "metadata": {},
     "output_type": "execute_result"
    }
   ],
   "source": [
    "# checking how many null values are in each column\n",
    "data['Date'].isnull().sum()"
   ]
  },
  {
   "cell_type": "code",
   "execution_count": 5,
   "id": "middle-board",
   "metadata": {},
   "outputs": [
    {
     "data": {
      "text/plain": [
       "0"
      ]
     },
     "execution_count": 5,
     "metadata": {},
     "output_type": "execute_result"
    }
   ],
   "source": [
    "data['IWM'].isnull().sum()"
   ]
  },
  {
   "cell_type": "code",
   "execution_count": 6,
   "id": "lyric-crisis",
   "metadata": {},
   "outputs": [
    {
     "data": {
      "text/plain": [
       "0"
      ]
     },
     "execution_count": 6,
     "metadata": {},
     "output_type": "execute_result"
    }
   ],
   "source": [
    "data['QQQ'].isnull().sum()"
   ]
  },
  {
   "cell_type": "code",
   "execution_count": 7,
   "id": "thrown-anchor",
   "metadata": {},
   "outputs": [
    {
     "data": {
      "text/plain": [
       "0"
      ]
     },
     "execution_count": 7,
     "metadata": {},
     "output_type": "execute_result"
    }
   ],
   "source": [
    "data['SPY'].isnull().sum()"
   ]
  },
  {
   "cell_type": "code",
   "execution_count": 8,
   "id": "smoking-tribute",
   "metadata": {},
   "outputs": [
    {
     "data": {
      "text/plain": [
       "Date     object\n",
       "IWM     float64\n",
       "QQQ     float64\n",
       "SPY     float64\n",
       "dtype: object"
      ]
     },
     "execution_count": 8,
     "metadata": {},
     "output_type": "execute_result"
    }
   ],
   "source": [
    "# Looking at the data types\n",
    "data.dtypes"
   ]
  },
  {
   "cell_type": "code",
   "execution_count": 9,
   "id": "opposite-eagle",
   "metadata": {},
   "outputs": [
    {
     "name": "stdout",
     "output_type": "stream",
     "text": [
      "# Duplicate Rows: (0, 4)\n"
     ]
    }
   ],
   "source": [
    "#Looking at the number of duplicate rows\n",
    "duplicateRows = data[data.duplicated()]\n",
    "print(\"# Duplicate Rows:\", duplicateRows.shape)"
   ]
  },
  {
   "cell_type": "code",
   "execution_count": 10,
   "id": "adjustable-tomorrow",
   "metadata": {},
   "outputs": [
    {
     "data": {
      "text/plain": [
       "(4972, 4)"
      ]
     },
     "execution_count": 10,
     "metadata": {},
     "output_type": "execute_result"
    },
    {
     "data": {
      "image/png": "[encoded data removed]",
      "text/plain": [
       "<Figure size 432x288 with 1 Axes>"
      ]
     },
     "metadata": {
      "needs_background": "light"
     },
     "output_type": "display_data"
    }
   ],
   "source": [
    "#Looking at outliers\n",
    "sns.boxplot(x=data['IWM'])\n",
    "Q1 = data['IWM'].quantile(0.25)\n",
    "Q3 = data['IWM'].quantile(0.75)\n",
    "IQR = Q3 - Q1   \n",
    "\n",
    "filter = (data['IWM'] >= Q1 - 1.5 * IQR) & (data['IWM'] <= Q3 + 1.5 *IQR)\n",
    "newdata=data.loc[filter] \n",
    "newdata.shape"
   ]
  },
  {
   "cell_type": "code",
   "execution_count": 11,
   "id": "ongoing-progress",
   "metadata": {},
   "outputs": [
    {
     "data": {
      "text/plain": [
       "(4889, 4)"
      ]
     },
     "execution_count": 11,
     "metadata": {},
     "output_type": "execute_result"
    },
    {
     "data": {
      "image/png": "[encoded data removed]",
      "text/plain": [
       "<Figure size 432x288 with 1 Axes>"
      ]
     },
     "metadata": {
      "needs_background": "light"
     },
     "output_type": "display_data"
    }
   ],
   "source": [
    "sns.boxplot(x=data['QQQ'])\n",
    "Q1 = data['QQQ'].quantile(0.25)\n",
    "Q3 = data['QQQ'].quantile(0.75)\n",
    "IQR = Q3 - Q1   \n",
    "\n",
    "filter = (data['QQQ'] >= Q1 - 1.5 * IQR) & (data['QQQ'] <= Q3 + 1.5 *IQR)\n",
    "newdata=data.loc[filter] \n",
    "newdata.shape"
   ]
  },
  {
   "cell_type": "code",
   "execution_count": 12,
   "id": "transparent-wilderness",
   "metadata": {},
   "outputs": [
    {
     "data": {
      "text/plain": [
       "(4953, 4)"
      ]
     },
     "execution_count": 12,
     "metadata": {},
     "output_type": "execute_result"
    },
    {
     "data": {
      "image/png": "[encoded data removed]",
      "text/plain": [
       "<Figure size 432x288 with 1 Axes>"
      ]
     },
     "metadata": {
      "needs_background": "light"
     },
     "output_type": "display_data"
    }
   ],
   "source": [
    "sns.boxplot(x=data['SPY'])\n",
    "Q1 = data['SPY'].quantile(0.25)\n",
    "Q3 = data['SPY'].quantile(0.75)\n",
    "IQR = Q3 - Q1   \n",
    "\n",
    "filter = (data['SPY'] >= Q1 - 1.5 * IQR) & (data['SPY'] <= Q3 + 1.5 *IQR)\n",
    "newdata=data.loc[filter] \n",
    "newdata.shape"
   ]
  },
  {
   "cell_type": "code",
   "execution_count": 13,
   "id": "compressed-amateur",
   "metadata": {},
   "outputs": [
    {
     "data": {
      "text/html": [
       "<div>\n",
       "<style scoped>\n",
       "    .dataframe tbody tr th:only-of-type {\n",
       "        vertical-align: middle;\n",
       "    }\n",
       "\n",
       "    .dataframe tbody tr th {\n",
       "        vertical-align: top;\n",
       "    }\n",
       "\n",
       "    .dataframe thead th {\n",
       "        text-align: right;\n",
       "    }\n",
       "</style>\n",
       "<table border=\"1\" class=\"dataframe\">\n",
       "  <thead>\n",
       "    <tr style=\"text-align: right;\">\n",
       "      <th></th>\n",
       "      <th>IWM</th>\n",
       "      <th>QQQ</th>\n",
       "      <th>SPY</th>\n",
       "    </tr>\n",
       "  </thead>\n",
       "  <tbody>\n",
       "    <tr>\n",
       "      <th>IWM</th>\n",
       "      <td>1.000000</td>\n",
       "      <td>0.950877</td>\n",
       "      <td>0.982987</td>\n",
       "    </tr>\n",
       "    <tr>\n",
       "      <th>QQQ</th>\n",
       "      <td>0.950877</td>\n",
       "      <td>1.000000</td>\n",
       "      <td>0.986423</td>\n",
       "    </tr>\n",
       "    <tr>\n",
       "      <th>SPY</th>\n",
       "      <td>0.982987</td>\n",
       "      <td>0.986423</td>\n",
       "      <td>1.000000</td>\n",
       "    </tr>\n",
       "  </tbody>\n",
       "</table>\n",
       "</div>"
      ],
      "text/plain": [
       "          IWM       QQQ       SPY\n",
       "IWM  1.000000  0.950877  0.982987\n",
       "QQQ  0.950877  1.000000  0.986423\n",
       "SPY  0.982987  0.986423  1.000000"
      ]
     },
     "execution_count": 13,
     "metadata": {},
     "output_type": "execute_result"
    },
    {
     "data": {
      "image/png": "[encoded data removed]",
      "text/plain": [
       "<Figure size 1440x720 with 2 Axes>"
      ]
     },
     "metadata": {
      "needs_background": "light"
     },
     "output_type": "display_data"
    }
   ],
   "source": [
    "#looking at correlation\n",
    "plt.figure(figsize=(20,10))\n",
    "correlation= data.corr()\n",
    "sns.heatmap(correlation,annot=True)\n",
    "correlation"
   ]
  },
  {
   "cell_type": "code",
   "execution_count": 14,
   "id": "signal-paste",
   "metadata": {},
   "outputs": [
    {
     "data": {
      "text/plain": [
       "<AxesSubplot:>"
      ]
     },
     "execution_count": 14,
     "metadata": {},
     "output_type": "execute_result"
    },
    {
     "data": {
      "image/png": "[encoded data removed]",
      "text/plain": [
       "<Figure size 432x288 with 1 Axes>"
      ]
     },
     "metadata": {
      "needs_background": "light"
     },
     "output_type": "display_data"
    }
   ],
   "source": [
    "#Looking at plots\n",
    "data['IWM'].plot()"
   ]
  },
  {
   "cell_type": "code",
   "execution_count": 15,
   "id": "reverse-defense",
   "metadata": {},
   "outputs": [
    {
     "data": {
      "text/plain": [
       "<AxesSubplot:>"
      ]
     },
     "execution_count": 15,
     "metadata": {},
     "output_type": "execute_result"
    },
    {
     "data": {
      "image/png": "[encoded data removed]",
      "text/plain": [
       "<Figure size 432x288 with 1 Axes>"
      ]
     },
     "metadata": {
      "needs_background": "light"
     },
     "output_type": "display_data"
    }
   ],
   "source": [
    "data['QQQ'].plot()"
   ]
  },
  {
   "cell_type": "code",
   "execution_count": 16,
   "id": "raised-given",
   "metadata": {},
   "outputs": [
    {
     "data": {
      "text/plain": [
       "<AxesSubplot:>"
      ]
     },
     "execution_count": 16,
     "metadata": {},
     "output_type": "execute_result"
    },
    {
     "data": {
      "image/png": "[encoded data removed]",
      "text/plain": [
       "<Figure size 432x288 with 1 Axes>"
      ]
     },
     "metadata": {
      "needs_background": "light"
     },
     "output_type": "display_data"
    }
   ],
   "source": [
    "data['SPY'].plot()"
   ]
  },
  {
   "cell_type": "code",
   "execution_count": 17,
   "id": "painful-coach",
   "metadata": {},
   "outputs": [
    {
     "data": {
      "image/png": "[encoded data removed]",
      "text/plain": [
       "<Figure size 432x288 with 1 Axes>"
      ]
     },
     "metadata": {
      "needs_background": "light"
     },
     "output_type": "display_data"
    }
   ],
   "source": [
    "#looking at ACF\n",
    "p=plot_acf(data['IWM'], lags=40,title='Autocorrelation Plot')"
   ]
  },
  {
   "cell_type": "code",
   "execution_count": 18,
   "id": "sound-moldova",
   "metadata": {},
   "outputs": [
    {
     "data": {
      "image/png": "[encoded data removed]",
      "text/plain": [
       "<Figure size 432x288 with 1 Axes>"
      ]
     },
     "metadata": {
      "needs_background": "light"
     },
     "output_type": "display_data"
    }
   ],
   "source": [
    "p=plot_acf(data['QQQ'], lags=40,title='Autocorrelation Plot')"
   ]
  },
  {
   "cell_type": "code",
   "execution_count": 19,
   "id": "traditional-picking",
   "metadata": {},
   "outputs": [
    {
     "data": {
      "image/png": "[encoded data removed]",
      "text/plain": [
       "<Figure size 432x288 with 1 Axes>"
      ]
     },
     "metadata": {
      "needs_background": "light"
     },
     "output_type": "display_data"
    }
   ],
   "source": [
    "p=plot_acf(data['SPY'], lags=40,title='Autocorrelation Plot')"
   ]
  },
  {
   "cell_type": "code",
   "execution_count": 20,
   "id": "turned-imaging",
   "metadata": {},
   "outputs": [
    {
     "data": {
      "image/png": "[encoded data removed]",
      "text/plain": [
       "<Figure size 720x432 with 1 Axes>"
      ]
     },
     "metadata": {
      "needs_background": "light"
     },
     "output_type": "display_data"
    }
   ],
   "source": [
    "#Plotting each pair of variables\n",
    "fig, ax = plt.subplots(figsize=(10,6))\n",
    "ax.scatter(data['IWM'], data['QQQ'])\n",
    "ax.set_xlabel('IWM')\n",
    "ax.set_ylabel('QQQ')\n",
    "plt.show()"
   ]
  },
  {
   "cell_type": "code",
   "execution_count": 21,
   "id": "metric-update",
   "metadata": {},
   "outputs": [
    {
     "data": {
      "image/png": "[encoded data removed]",
      "text/plain": [
       "<Figure size 720x432 with 1 Axes>"
      ]
     },
     "metadata": {
      "needs_background": "light"
     },
     "output_type": "display_data"
    }
   ],
   "source": [
    "fig, ax = plt.subplots(figsize=(10,6))\n",
    "ax.scatter(data['IWM'], data['SPY'])\n",
    "ax.set_xlabel('IWM')\n",
    "ax.set_ylabel('SPY')\n",
    "plt.show()"
   ]
  },
  {
   "cell_type": "code",
   "execution_count": 22,
   "id": "hired-resident",
   "metadata": {},
   "outputs": [
    {
     "data": {
      "image/png": "[encoded data removed]",
      "text/plain": [
       "<Figure size 720x432 with 1 Axes>"
      ]
     },
     "metadata": {
      "needs_background": "light"
     },
     "output_type": "display_data"
    }
   ],
   "source": [
    "fig, ax = plt.subplots(figsize=(10,6))\n",
    "ax.scatter(data['SPY'], data['QQQ'])\n",
    "ax.set_xlabel('SPY')\n",
    "ax.set_ylabel('QQQ')\n",
    "plt.show()"
   ]
  },
  {
   "cell_type": "markdown",
   "id": "minimal-burst",
   "metadata": {},
   "source": [
    "This dataset has 4972 rows and 4 columns. There are no missing or null values in any of the 4 columns. Also, there are no duplicate rows. IWM has no outliers. QQQ has 83 outliers and SPY has 19 outliers. All the three variable positively correlate with each other well."
   ]
  },
  {
   "cell_type": "markdown",
   "id": "accomplished-bruce",
   "metadata": {},
   "source": [
    "#### B) 5 pts Concept: Describe the data. Do you expect this data to be stationary? Do you expect this data to be a random walk?"
   ]
  },
  {
   "cell_type": "markdown",
   "id": "personal-immigration",
   "metadata": {},
   "source": [
    "This dataset has 4972 rows and 4 columns. There are no missing or null values in any of the 4 columns. Also, there are no duplicate rows. IWM has no outliers. QQQ has 83 outliers and SPY has 19 outliers. All the three variable positively correlate with each other well. So, as one variable increase, as does the other.\n",
    "I do not expect this data to be not stationary. From the plots above, I see for the variables, the plot increases over time. There isn't some sort of seasonality. "
   ]
  },
  {
   "cell_type": "markdown",
   "id": "accessible-rehabilitation",
   "metadata": {},
   "source": [
    "#### C) 10 pts Task: Create a function that returns the stationarity test results from both ADF and KPSS tests"
   ]
  },
  {
   "cell_type": "code",
   "execution_count": 23,
   "id": "usual-tuesday",
   "metadata": {},
   "outputs": [],
   "source": [
    "def adf_kpss_test(timeseries,trend='c'):\n",
    "    #Perform Dickey-Fuller test:\n",
    "    df_results=[]\n",
    "    kpss_results=[]\n",
    "    print ('Results of Dickey-Fuller Test:')\n",
    "    dftest = adfuller(timeseries, autolag='AIC')\n",
    "    dfoutput = pd.Series(dftest[0:4], index=['Test Statistic','p-value','#Lags Used','Number of Observations Used'])\n",
    "    for key,value in dftest[4].items():\n",
    "       dfoutput['Critical Value (%s)'%key] = value\n",
    "    print (dfoutput)\n",
    "    print(\"---------------\")\n",
    "    print ('Results of KPSS Test:')\n",
    "    kpsstest = kpss(timeseries, regression=trend)\n",
    "    kpss_output = pd.Series(kpsstest[0:3], index=['Test Statistic','p-value','Lags Used'])\n",
    "    for key,value in kpsstest[3].items():\n",
    "        kpss_output['Critical Value (%s)'%key] = value\n",
    "    print (kpss_output)\n",
    "    for i in dfoutput:\n",
    "        i=round(i,6)\n",
    "        df_results.append(i)\n",
    "    for i in kpss_output:\n",
    "        i=round(i,6)\n",
    "        kpss_results.append(i)\n",
    "    return (df_results,kpss_results)\n"
   ]
  },
  {
   "cell_type": "markdown",
   "id": "abstract-swaziland",
   "metadata": {},
   "source": [
    "#### D) 5 pts Task: Use the function to test if each series is stationary. Return results from both ADF and KPSS tests for all three time series"
   ]
  },
  {
   "cell_type": "code",
   "execution_count": 24,
   "id": "wrong-genealogy",
   "metadata": {},
   "outputs": [
    {
     "name": "stdout",
     "output_type": "stream",
     "text": [
      "Results of Dickey-Fuller Test:\n",
      "Test Statistic                   -0.148096\n",
      "p-value                           0.944432\n",
      "#Lags Used                       17.000000\n",
      "Number of Observations Used    4954.000000\n",
      "Critical Value (1%)              -3.431671\n",
      "Critical Value (5%)              -2.862124\n",
      "Critical Value (10%)             -2.567081\n",
      "dtype: float64\n",
      "---------------\n",
      "Results of KPSS Test:\n",
      "Test Statistic            2.610149\n",
      "p-value                   0.010000\n",
      "Lags Used                32.000000\n",
      "Critical Value (10%)      0.119000\n",
      "Critical Value (5%)       0.146000\n",
      "Critical Value (2.5%)     0.176000\n",
      "Critical Value (1%)       0.216000\n",
      "dtype: float64\n",
      "stationarity from ad_fuller test: False\n",
      "stationarity from KPSS test: False\n"
     ]
    },
    {
     "name": "stderr",
     "output_type": "stream",
     "text": [
      "c:\\users\\meenu\\appdata\\local\\programs\\python\\python39\\lib\\site-packages\\statsmodels\\tsa\\stattools.py:1906: InterpolationWarning: The test statistic is outside of the range of p-values available in the\n",
      "look-up table. The actual p-value is smaller than the p-value returned.\n",
      "\n",
      "  warnings.warn(\n"
     ]
    }
   ],
   "source": [
    "alpha = 0.05\n",
    "ad_fuller_results,kpss_test_results = adf_kpss_test(data['IWM'], trend='ct')\n",
    "ad_fuller_results\n",
    "ad_fuller_pval = ad_fuller_results[1]\n",
    "ad_fuller_bool = ad_fuller_pval <= alpha\n",
    "\n",
    "print(f'stationarity from ad_fuller test: {ad_fuller_bool}')\n",
    "\n",
    "kpss_pval = kpss_test_results[1]\n",
    "kpss_test_bool = kpss_pval >= alpha\n",
    "\n",
    "print(f'stationarity from KPSS test: {kpss_test_bool}')"
   ]
  },
  {
   "cell_type": "code",
   "execution_count": 25,
   "id": "matched-translator",
   "metadata": {},
   "outputs": [
    {
     "name": "stdout",
     "output_type": "stream",
     "text": [
      "Results of Dickey-Fuller Test:\n",
      "Test Statistic                    2.525983\n",
      "p-value                           0.999058\n",
      "#Lags Used                       31.000000\n",
      "Number of Observations Used    4940.000000\n",
      "Critical Value (1%)              -3.431674\n",
      "Critical Value (5%)              -2.862125\n",
      "Critical Value (10%)             -2.567082\n",
      "dtype: float64\n",
      "---------------\n",
      "Results of KPSS Test:\n",
      "Test Statistic            3.103066\n",
      "p-value                   0.010000\n",
      "Lags Used                32.000000\n",
      "Critical Value (10%)      0.119000\n",
      "Critical Value (5%)       0.146000\n",
      "Critical Value (2.5%)     0.176000\n",
      "Critical Value (1%)       0.216000\n",
      "dtype: float64\n",
      "stationarity from ad_fuller test: False\n",
      "stationarity from KPSS test: False\n"
     ]
    },
    {
     "name": "stderr",
     "output_type": "stream",
     "text": [
      "c:\\users\\meenu\\appdata\\local\\programs\\python\\python39\\lib\\site-packages\\statsmodels\\tsa\\stattools.py:1906: InterpolationWarning: The test statistic is outside of the range of p-values available in the\n",
      "look-up table. The actual p-value is smaller than the p-value returned.\n",
      "\n",
      "  warnings.warn(\n"
     ]
    }
   ],
   "source": [
    "alpha = 0.05\n",
    "ad_fuller_results,kpss_test_results = adf_kpss_test(data['QQQ'], trend='ct')\n",
    "ad_fuller_results\n",
    "ad_fuller_pval = ad_fuller_results[1]\n",
    "ad_fuller_bool = ad_fuller_pval <= alpha\n",
    "\n",
    "print(f'stationarity from ad_fuller test: {ad_fuller_bool}')\n",
    "\n",
    "kpss_pval = kpss_test_results[1]\n",
    "kpss_test_bool = kpss_pval >= alpha\n",
    "\n",
    "print(f'stationarity from KPSS test: {kpss_test_bool}')"
   ]
  },
  {
   "cell_type": "code",
   "execution_count": 26,
   "id": "controversial-slave",
   "metadata": {},
   "outputs": [
    {
     "name": "stdout",
     "output_type": "stream",
     "text": [
      "Results of Dickey-Fuller Test:\n",
      "Test Statistic                    1.575206\n",
      "p-value                           0.997781\n",
      "#Lags Used                       17.000000\n",
      "Number of Observations Used    4954.000000\n",
      "Critical Value (1%)              -3.431671\n",
      "Critical Value (5%)              -2.862124\n",
      "Critical Value (10%)             -2.567081\n",
      "dtype: float64\n",
      "---------------\n",
      "Results of KPSS Test:\n",
      "Test Statistic            3.121065\n",
      "p-value                   0.010000\n",
      "Lags Used                32.000000\n",
      "Critical Value (10%)      0.119000\n",
      "Critical Value (5%)       0.146000\n",
      "Critical Value (2.5%)     0.176000\n",
      "Critical Value (1%)       0.216000\n",
      "dtype: float64\n",
      "stationarity from ad_fuller test: False\n",
      "stationarity from KPSS test: False\n"
     ]
    },
    {
     "name": "stderr",
     "output_type": "stream",
     "text": [
      "c:\\users\\meenu\\appdata\\local\\programs\\python\\python39\\lib\\site-packages\\statsmodels\\tsa\\stattools.py:1906: InterpolationWarning: The test statistic is outside of the range of p-values available in the\n",
      "look-up table. The actual p-value is smaller than the p-value returned.\n",
      "\n",
      "  warnings.warn(\n"
     ]
    }
   ],
   "source": [
    "alpha = 0.05\n",
    "ad_fuller_results,kpss_test_results = adf_kpss_test(data['SPY'], trend='ct')\n",
    "ad_fuller_results\n",
    "ad_fuller_pval = ad_fuller_results[1]\n",
    "ad_fuller_bool = ad_fuller_pval <= alpha\n",
    "\n",
    "print(f'stationarity from ad_fuller test: {ad_fuller_bool}')\n",
    "\n",
    "kpss_pval = kpss_test_results[1]\n",
    "kpss_test_bool = kpss_pval >= alpha\n",
    "\n",
    "print(f'stationarity from KPSS test: {kpss_test_bool}')"
   ]
  },
  {
   "cell_type": "markdown",
   "id": "welsh-chassis",
   "metadata": {},
   "source": [
    "#### E) 5 pts Task: Difference the three time series and return stationarity results from both ADF and KPSS tests"
   ]
  },
  {
   "cell_type": "code",
   "execution_count": 42,
   "id": "noted-visitor",
   "metadata": {},
   "outputs": [
    {
     "data": {
      "text/plain": [
       "1        3.044495\n",
       "2        0.211418\n",
       "3        1.691376\n",
       "4        1.712524\n",
       "5       -0.486259\n",
       "          ...    \n",
       "4967    -1.128876\n",
       "4968   -13.733521\n",
       "4969    -1.227112\n",
       "4970    12.594757\n",
       "4971    -8.687714\n",
       "Name: SPY, Length: 4971, dtype: float64"
      ]
     },
     "execution_count": 42,
     "metadata": {},
     "output_type": "execute_result"
    }
   ],
   "source": [
    "difference_IWM=(data['IWM']-data['IWM'].shift()).iloc[1:]\n",
    "difference_QQQ=(data['QQQ']-data['QQQ'].shift()).iloc[1:]\n",
    "difference_SPY=(data['SPY']-data['SPY'].shift()).iloc[1:]\n"
   ]
  },
  {
   "cell_type": "code",
   "execution_count": 28,
   "id": "sacred-scotland",
   "metadata": {},
   "outputs": [
    {
     "name": "stdout",
     "output_type": "stream",
     "text": [
      "Results of Dickey-Fuller Test:\n",
      "Test Statistic                -1.691899e+01\n",
      "p-value                        9.973516e-30\n",
      "#Lags Used                     1.600000e+01\n",
      "Number of Observations Used    4.954000e+03\n",
      "Critical Value (1%)           -3.431671e+00\n",
      "Critical Value (5%)           -2.862124e+00\n",
      "Critical Value (10%)          -2.567081e+00\n",
      "dtype: float64\n",
      "---------------\n",
      "Results of KPSS Test:\n",
      "Test Statistic            0.033087\n",
      "p-value                   0.100000\n",
      "Lags Used                32.000000\n",
      "Critical Value (10%)      0.119000\n",
      "Critical Value (5%)       0.146000\n",
      "Critical Value (2.5%)     0.176000\n",
      "Critical Value (1%)       0.216000\n",
      "dtype: float64\n",
      "stationarity from ad_fuller test: True\n",
      "stationarity from KPSS test: True\n"
     ]
    },
    {
     "name": "stderr",
     "output_type": "stream",
     "text": [
      "c:\\users\\meenu\\appdata\\local\\programs\\python\\python39\\lib\\site-packages\\statsmodels\\tsa\\stattools.py:1910: InterpolationWarning: The test statistic is outside of the range of p-values available in the\n",
      "look-up table. The actual p-value is greater than the p-value returned.\n",
      "\n",
      "  warnings.warn(\n"
     ]
    }
   ],
   "source": [
    "alpha = 0.05\n",
    "ad_fuller_results,kpss_test_results = adf_kpss_test(difference_IWM, trend='ct')\n",
    "ad_fuller_results\n",
    "ad_fuller_pval = ad_fuller_results[1]\n",
    "ad_fuller_bool = ad_fuller_pval <= alpha\n",
    "\n",
    "print(f'stationarity from ad_fuller test: {ad_fuller_bool}')\n",
    "\n",
    "kpss_pval = kpss_test_results[1]\n",
    "kpss_test_bool = kpss_pval >= alpha\n",
    "\n",
    "print(f'stationarity from KPSS test: {kpss_test_bool}')"
   ]
  },
  {
   "cell_type": "code",
   "execution_count": 29,
   "id": "premium-michael",
   "metadata": {},
   "outputs": [
    {
     "name": "stdout",
     "output_type": "stream",
     "text": [
      "Results of Dickey-Fuller Test:\n",
      "Test Statistic                -1.263776e+01\n",
      "p-value                        1.457323e-23\n",
      "#Lags Used                     3.000000e+01\n",
      "Number of Observations Used    4.940000e+03\n",
      "Critical Value (1%)           -3.431674e+00\n",
      "Critical Value (5%)           -2.862125e+00\n",
      "Critical Value (10%)          -2.567082e+00\n",
      "dtype: float64\n",
      "---------------\n",
      "Results of KPSS Test:\n",
      "Test Statistic            0.025442\n",
      "p-value                   0.100000\n",
      "Lags Used                32.000000\n",
      "Critical Value (10%)      0.119000\n",
      "Critical Value (5%)       0.146000\n",
      "Critical Value (2.5%)     0.176000\n",
      "Critical Value (1%)       0.216000\n",
      "dtype: float64\n",
      "stationarity from ad_fuller test: True\n",
      "stationarity from KPSS test: True\n"
     ]
    },
    {
     "name": "stderr",
     "output_type": "stream",
     "text": [
      "c:\\users\\meenu\\appdata\\local\\programs\\python\\python39\\lib\\site-packages\\statsmodels\\tsa\\stattools.py:1910: InterpolationWarning: The test statistic is outside of the range of p-values available in the\n",
      "look-up table. The actual p-value is greater than the p-value returned.\n",
      "\n",
      "  warnings.warn(\n"
     ]
    }
   ],
   "source": [
    "alpha = 0.05\n",
    "ad_fuller_results,kpss_test_results = adf_kpss_test(difference_QQQ, trend='ct')\n",
    "ad_fuller_results\n",
    "ad_fuller_pval = ad_fuller_results[1]\n",
    "ad_fuller_bool = ad_fuller_pval <= alpha\n",
    "\n",
    "print(f'stationarity from ad_fuller test: {ad_fuller_bool}')\n",
    "\n",
    "kpss_pval = kpss_test_results[1]\n",
    "kpss_test_bool = kpss_pval >= alpha\n",
    "\n",
    "print(f'stationarity from KPSS test: {kpss_test_bool}')"
   ]
  },
  {
   "cell_type": "code",
   "execution_count": 30,
   "id": "musical-vacuum",
   "metadata": {},
   "outputs": [
    {
     "name": "stdout",
     "output_type": "stream",
     "text": [
      "Results of Dickey-Fuller Test:\n",
      "Test Statistic                -1.683886e+01\n",
      "p-value                        1.142343e-29\n",
      "#Lags Used                     1.600000e+01\n",
      "Number of Observations Used    4.954000e+03\n",
      "Critical Value (1%)           -3.431671e+00\n",
      "Critical Value (5%)           -2.862124e+00\n",
      "Critical Value (10%)          -2.567081e+00\n",
      "dtype: float64\n",
      "---------------\n",
      "Results of KPSS Test:\n",
      "Test Statistic            0.027663\n",
      "p-value                   0.100000\n",
      "Lags Used                32.000000\n",
      "Critical Value (10%)      0.119000\n",
      "Critical Value (5%)       0.146000\n",
      "Critical Value (2.5%)     0.176000\n",
      "Critical Value (1%)       0.216000\n",
      "dtype: float64\n",
      "stationarity from ad_fuller test: True\n",
      "stationarity from KPSS test: True\n"
     ]
    },
    {
     "name": "stderr",
     "output_type": "stream",
     "text": [
      "c:\\users\\meenu\\appdata\\local\\programs\\python\\python39\\lib\\site-packages\\statsmodels\\tsa\\stattools.py:1910: InterpolationWarning: The test statistic is outside of the range of p-values available in the\n",
      "look-up table. The actual p-value is greater than the p-value returned.\n",
      "\n",
      "  warnings.warn(\n"
     ]
    }
   ],
   "source": [
    "alpha = 0.05\n",
    "ad_fuller_results,kpss_test_results = adf_kpss_test(difference_SPY, trend='ct')\n",
    "ad_fuller_results\n",
    "ad_fuller_pval = ad_fuller_results[1]\n",
    "ad_fuller_bool = ad_fuller_pval <= alpha\n",
    "\n",
    "print(f'stationarity from ad_fuller test: {ad_fuller_bool}')\n",
    "\n",
    "kpss_pval = kpss_test_results[1]\n",
    "kpss_test_bool = kpss_pval >= alpha\n",
    "\n",
    "print(f'stationarity from KPSS test: {kpss_test_bool}')"
   ]
  },
  {
   "cell_type": "markdown",
   "id": "olive-clothing",
   "metadata": {},
   "source": [
    "#### F) 10 pts Concept: Explain how you can get different stationarity results from the two tests."
   ]
  },
  {
   "cell_type": "markdown",
   "id": "northern-colombia",
   "metadata": {},
   "source": [
    "In the KPSS test, if p-value is < alpha value (for example 0.05), then the series is non-stationary. Whereas in ADF test, it would mean the tested series is stationary. So if the p value is 0.03 for both tests, KPSS would say non stationary and the ADF test would say stationary. This is one way you could get different stationarity results from the two tests.\n",
    "If the KPSS test indicates stationarity and the ADF indicated non-stationarity, the series is trend stationary. The trend needs to be removed to make the series stationary. The detrended series is checked for stationarity. If the KPSS indicates non stationarity and the ADF indicates stationarity, the series is difference stationary. Differencing is used to make the series stationary. The differenced series is checked for stationarity"
   ]
  },
  {
   "cell_type": "markdown",
   "id": "sunset-bibliography",
   "metadata": {},
   "source": [
    "#### G) 5 pts Concept: What does trend stationary mean?"
   ]
  },
  {
   "cell_type": "markdown",
   "id": "ranking-enough",
   "metadata": {},
   "source": [
    "A stationary time series is one that has statistical properties such as mean, variance, and autocorrelation that are all constant over time. A lot of time series are far from stationary when the data is extracted using the original time measurement. Even after seasonal adjustment, they will typically still exhibit trendsor cycles. If the series has a stable long-run trend and tends to revert to the trend line following a shock or disturbance, then the series will converge again towards the trend, and also, the series can be de trended by removing the underlying trend and leaves a stationary trend, this series is said to be trend stationary."
   ]
  },
  {
   "cell_type": "markdown",
   "id": "danish-graphic",
   "metadata": {},
   "source": [
    "#### Random Walk"
   ]
  },
  {
   "cell_type": "markdown",
   "id": "annual-taste",
   "metadata": {},
   "source": [
    "#### A) 5 pts Task: Using random.sample create a sample with length 1000 of 1 if >=0.5 and -1 if less than 0.5"
   ]
  },
  {
   "cell_type": "code",
   "execution_count": 31,
   "id": "useful-luxembourg",
   "metadata": {},
   "outputs": [
    {
     "name": "stdout",
     "output_type": "stream",
     "text": [
      "[0.73025383 0.13032356 0.01402309 0.96153141 0.63421938 0.0042383\n",
      " 0.08749444 0.94319919 0.86580702 0.94670566]\n",
      "[1, -1, -1, 1, 1, -1, -1, 1, 1, 1]\n",
      "1000\n"
     ]
    }
   ],
   "source": [
    "randomSample=np.random.random_sample((1000,))\n",
    "adjustedSample=[]\n",
    "for i in randomSample:\n",
    "    if i>=0.5:\n",
    "        adjustedSample.append(1)\n",
    "    else:\n",
    "        adjustedSample.append(-1)\n",
    "print(randomSample[:10])\n",
    "print(adjustedSample[:10])\n",
    "print(len(adjustedSample))\n",
    "adjustedSample= np.array(adjustedSample)"
   ]
  },
  {
   "cell_type": "markdown",
   "id": "sufficient-hobby",
   "metadata": {},
   "source": [
    "#### B) 5 pts Task: Use cumulative sum to create movement"
   ]
  },
  {
   "cell_type": "code",
   "execution_count": 32,
   "id": "banner-emphasis",
   "metadata": {},
   "outputs": [
    {
     "data": {
      "text/plain": [
       "array([ 1,  0, -1,  0,  1,  0, -1,  0,  1,  2], dtype=int32)"
      ]
     },
     "execution_count": 32,
     "metadata": {},
     "output_type": "execute_result"
    }
   ],
   "source": [
    "cumSum=np.cumsum(adjustedSample)\n",
    "cumSum[:10]"
   ]
  },
  {
   "cell_type": "markdown",
   "id": "fiscal-aggregate",
   "metadata": {},
   "source": [
    "#### C) 5 pts Concept: Describe which of the two series created in 2a and 2b is a random walk, why? What is the other series?"
   ]
  },
  {
   "cell_type": "code",
   "execution_count": 33,
   "id": "specialized-clerk",
   "metadata": {},
   "outputs": [],
   "source": [
    "sampleSeries = pd.Series(adjustedSample) \n",
    "cumSumSeries=pd.Series(cumSum) "
   ]
  },
  {
   "cell_type": "code",
   "execution_count": 34,
   "id": "operating-miniature",
   "metadata": {},
   "outputs": [
    {
     "data": {
      "text/plain": [
       "<AxesSubplot:>"
      ]
     },
     "execution_count": 34,
     "metadata": {},
     "output_type": "execute_result"
    },
    {
     "data": {
      "image/png": "[encoded data removed]",
      "text/plain": [
       "<Figure size 432x288 with 1 Axes>"
      ]
     },
     "metadata": {
      "needs_background": "light"
     },
     "output_type": "display_data"
    }
   ],
   "source": [
    "sampleSeries.plot()"
   ]
  },
  {
   "cell_type": "code",
   "execution_count": 35,
   "id": "parliamentary-semester",
   "metadata": {},
   "outputs": [
    {
     "data": {
      "text/plain": [
       "<AxesSubplot:>"
      ]
     },
     "execution_count": 35,
     "metadata": {},
     "output_type": "execute_result"
    },
    {
     "data": {
      "image/png": "[encoded data removed]",
      "text/plain": [
       "<Figure size 432x288 with 1 Axes>"
      ]
     },
     "metadata": {
      "needs_background": "light"
     },
     "output_type": "display_data"
    }
   ],
   "source": [
    "cumSumSeries.plot()"
   ]
  },
  {
   "cell_type": "markdown",
   "id": "false-drinking",
   "metadata": {},
   "source": [
    "2b is a random walk because in each time period, going from left to right, the value of the variable takes an independent random step up or down. An up or down movements is equally likely at each step and has that zig zag shape. Also, you can see a somewhat shape to the plot. 2b indicates a random walk because the succeeding values in the sequence is from a modification of the preceeding value in the sequence. I have shown the plots above. 2a is not random walk because it is just a sequence of random values."
   ]
  },
  {
   "cell_type": "markdown",
   "id": "three-devon",
   "metadata": {},
   "source": [
    "#### D) 5 pts Task: Create two plots of the random walk time series, use .plot() and use autocorrelation_plot()"
   ]
  },
  {
   "cell_type": "code",
   "execution_count": 36,
   "id": "acute-moment",
   "metadata": {},
   "outputs": [
    {
     "data": {
      "text/plain": [
       "<AxesSubplot:>"
      ]
     },
     "execution_count": 36,
     "metadata": {},
     "output_type": "execute_result"
    },
    {
     "data": {
      "image/png": "[encoded data removed]",
      "text/plain": [
       "<Figure size 432x288 with 1 Axes>"
      ]
     },
     "metadata": {
      "needs_background": "light"
     },
     "output_type": "display_data"
    }
   ],
   "source": [
    "cumSumSeries.plot()"
   ]
  },
  {
   "cell_type": "code",
   "execution_count": 37,
   "id": "addressed-pierce",
   "metadata": {},
   "outputs": [
    {
     "data": {
      "text/plain": [
       "<AxesSubplot:xlabel='Lag', ylabel='Autocorrelation'>"
      ]
     },
     "execution_count": 37,
     "metadata": {},
     "output_type": "execute_result"
    },
    {
     "data": {
      "image/png": "[encoded data removed]",
      "text/plain": [
       "<Figure size 432x288 with 1 Axes>"
      ]
     },
     "metadata": {
      "needs_background": "light"
     },
     "output_type": "display_data"
    }
   ],
   "source": [
    " autocorrelation_plot(cumSumSeries)"
   ]
  },
  {
   "cell_type": "markdown",
   "id": "stone-cylinder",
   "metadata": {},
   "source": [
    "#### E) 10 pts Concept: Is the random walk stationary? Defend using quantitative tests."
   ]
  },
  {
   "cell_type": "markdown",
   "id": "appointed-seminar",
   "metadata": {},
   "source": [
    "This random walk is not stationary. This is because the current observation is a random step from the previous observation.  Below, I use the quantitative test ADF and KPSS to validate."
   ]
  },
  {
   "cell_type": "code",
   "execution_count": 38,
   "id": "handmade-creativity",
   "metadata": {},
   "outputs": [
    {
     "name": "stdout",
     "output_type": "stream",
     "text": [
      "Results of Dickey-Fuller Test:\n",
      "Test Statistic                  -0.798537\n",
      "p-value                          0.819551\n",
      "#Lags Used                       0.000000\n",
      "Number of Observations Used    999.000000\n",
      "Critical Value (1%)             -3.436913\n",
      "Critical Value (5%)             -2.864437\n",
      "Critical Value (10%)            -2.568313\n",
      "dtype: float64\n",
      "---------------\n",
      "Results of KPSS Test:\n",
      "Test Statistic            0.954534\n",
      "p-value                   0.010000\n",
      "Lags Used                22.000000\n",
      "Critical Value (10%)      0.119000\n",
      "Critical Value (5%)       0.146000\n",
      "Critical Value (2.5%)     0.176000\n",
      "Critical Value (1%)       0.216000\n",
      "dtype: float64\n",
      "stationarity from ad_fuller test: False\n",
      "stationarity from KPSS test: False\n"
     ]
    },
    {
     "name": "stderr",
     "output_type": "stream",
     "text": [
      "c:\\users\\meenu\\appdata\\local\\programs\\python\\python39\\lib\\site-packages\\statsmodels\\tsa\\stattools.py:1906: InterpolationWarning: The test statistic is outside of the range of p-values available in the\n",
      "look-up table. The actual p-value is smaller than the p-value returned.\n",
      "\n",
      "  warnings.warn(\n"
     ]
    }
   ],
   "source": [
    "alpha = 0.05\n",
    "ad_fuller_results,kpss_test_results = adf_kpss_test(cumSumSeries, trend='ct')\n",
    "ad_fuller_results\n",
    "ad_fuller_pval = ad_fuller_results[1]\n",
    "ad_fuller_bool = ad_fuller_pval <= alpha\n",
    "\n",
    "print(f'stationarity from ad_fuller test: {ad_fuller_bool}')\n",
    "\n",
    "kpss_pval = kpss_test_results[1]\n",
    "kpss_test_bool = kpss_pval >= alpha\n",
    "\n",
    "print(f'stationarity from KPSS test: {kpss_test_bool}')"
   ]
  },
  {
   "cell_type": "markdown",
   "id": "corresponding-brunswick",
   "metadata": {},
   "source": [
    "#### F) 5 pts Task: Difference the data and show the autocorrelation plot"
   ]
  },
  {
   "cell_type": "code",
   "execution_count": 39,
   "id": "homeless-lotus",
   "metadata": {},
   "outputs": [
    {
     "data": {
      "text/plain": [
       "1    -1.0\n",
       "2    -1.0\n",
       "3     1.0\n",
       "4     1.0\n",
       "5    -1.0\n",
       "6    -1.0\n",
       "7     1.0\n",
       "8     1.0\n",
       "9     1.0\n",
       "10    1.0\n",
       "dtype: float64"
      ]
     },
     "execution_count": 39,
     "metadata": {},
     "output_type": "execute_result"
    }
   ],
   "source": [
    "difference_data=(cumSumSeries-cumSumSeries.shift()).iloc[1:]\n",
    "difference_data.head(10)"
   ]
  },
  {
   "cell_type": "code",
   "execution_count": 40,
   "id": "suffering-feeding",
   "metadata": {},
   "outputs": [
    {
     "data": {
      "text/plain": [
       "<AxesSubplot:xlabel='Lag', ylabel='Autocorrelation'>"
      ]
     },
     "execution_count": 40,
     "metadata": {},
     "output_type": "execute_result"
    },
    {
     "data": {
      "image/png": "[encoded data removed]",
      "text/plain": [
       "<Figure size 432x288 with 1 Axes>"
      ]
     },
     "metadata": {
      "needs_background": "light"
     },
     "output_type": "display_data"
    }
   ],
   "source": [
    " autocorrelation_plot(difference_data)"
   ]
  },
  {
   "cell_type": "code",
   "execution_count": 41,
   "id": "manual-singing",
   "metadata": {},
   "outputs": [
    {
     "data": {
      "image/png": "[encoded data removed]",
      "text/plain": [
       "<Figure size 432x288 with 1 Axes>"
      ]
     },
     "metadata": {
      "needs_background": "light"
     },
     "output_type": "display_data"
    }
   ],
   "source": [
    "p =plot_acf(difference_data, lags=40,title='Autocorrelation Plot')"
   ]
  },
  {
   "cell_type": "markdown",
   "id": "composite-discretion",
   "metadata": {},
   "source": [
    "#### G) 10 pts Concept: What is the significance of this correlation plot?"
   ]
  },
  {
   "cell_type": "markdown",
   "id": "polished-essence",
   "metadata": {},
   "source": [
    "The autocorrelation plot for this random sample shows that most of the spikes are not statistically significant. The mean is somewhat constant over time. All the correlation are very small. There is no significant relationship between the lagged observations,"
   ]
  },
  {
   "cell_type": "markdown",
   "id": "fallen-storage",
   "metadata": {},
   "source": [
    "#### H) 5 pts Concept: Can a random walk be predicted? Why or why not?"
   ]
  },
  {
   "cell_type": "markdown",
   "id": "strange-hydrogen",
   "metadata": {},
   "source": [
    "Although a random walk can be forecasted naively, a random walk cannot be sufficiently predicted. A random walk is formed by using the previous observation at the previous time step and say what with happen the next day. Sp, to say what will happen tomrrow, you are using today's observation, yesterday's oberservatio, and the previous day's observation etc. along with a randomness. We can do this because we know that the next time day will be a function of the prior day. Because you are taking into account this randomness, you cannot reasonably predict but you can form a naive prediction.\n"
   ]
  }
 ],
 "metadata": {
  "kernelspec": {
   "display_name": "Python 3",
   "language": "python",
   "name": "python3"
  },
  "language_info": {
   "codemirror_mode": {
    "name": "ipython",
    "version": 3
   },
   "file_extension": ".py",
   "mimetype": "text/x-python",
   "name": "python",
   "nbconvert_exporter": "python",
   "pygments_lexer": "ipython3",
   "version": "3.7.10"
  }
 },
 "nbformat": 4,
 "nbformat_minor": 5
}
